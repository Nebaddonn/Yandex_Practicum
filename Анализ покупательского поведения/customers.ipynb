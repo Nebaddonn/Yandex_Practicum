{
 "cells": [
  {
   "cell_type": "markdown",
   "metadata": {},
   "source": [
    "# Введение"
   ]
  },
  {
   "cell_type": "markdown",
   "metadata": {},
   "source": [
    "Перед нами, как перед аналитиком стартапа по продаже продуктов питания, поставлена задача изучить поведение покупателей на протяжении всего процесса покупки и найти возможные слабые места. Для этого нужно будет изучить весь процесс, разделить его на стадии, посмотреть, в каких точках перехода могут возникать проблемы.\n",
    "\n",
    "Будет необходимо изучить результаты А/А/В теста, связанного с изменением восприятия новых текстовых шрифтов на сайте, для чего сначала необходимо провести А/А тест для сравнения контрольных групп, и только затем прнимать решение о дальнейшем эксперименте.\n",
    "\n",
    "Затем нужно будет систематизировать данные и изложить выводы."
   ]
  },
  {
   "cell_type": "markdown",
   "metadata": {},
   "source": [
    "# Подготовка данных"
   ]
  },
  {
   "cell_type": "code",
   "execution_count": 1,
   "metadata": {},
   "outputs": [],
   "source": [
    "# импортируем рабочие модули\n",
    "import pandas as pd\n",
    "import numpy as np\n",
    "import datetime as dt\n",
    "import matplotlib.pyplot as plt\n",
    "import scipy.stats as st\n",
    "import seaborn as sns"
   ]
  },
  {
   "cell_type": "code",
   "execution_count": 2,
   "metadata": {},
   "outputs": [],
   "source": [
    "# зададим единый размер для всех графиков\n",
    "plt.rcParams['figure.figsize'] = [20, 8]"
   ]
  },
  {
   "cell_type": "code",
   "execution_count": 3,
   "metadata": {},
   "outputs": [],
   "source": [
    "# импорт датасетов в рабочие фреймы, деление на столбцы\n",
    "data = pd.read_csv('/datasets/logs_exp.csv', sep=\"\\s+\", engine='python')"
   ]
  },
  {
   "cell_type": "code",
   "execution_count": 4,
   "metadata": {},
   "outputs": [
    {
     "data": {
      "text/html": [
       "<div>\n",
       "<style scoped>\n",
       "    .dataframe tbody tr th:only-of-type {\n",
       "        vertical-align: middle;\n",
       "    }\n",
       "\n",
       "    .dataframe tbody tr th {\n",
       "        vertical-align: top;\n",
       "    }\n",
       "\n",
       "    .dataframe thead th {\n",
       "        text-align: right;\n",
       "    }\n",
       "</style>\n",
       "<table border=\"1\" class=\"dataframe\">\n",
       "  <thead>\n",
       "    <tr style=\"text-align: right;\">\n",
       "      <th></th>\n",
       "      <th>EventName</th>\n",
       "      <th>DeviceIDHash</th>\n",
       "      <th>EventTimestamp</th>\n",
       "      <th>ExpId</th>\n",
       "    </tr>\n",
       "  </thead>\n",
       "  <tbody>\n",
       "    <tr>\n",
       "      <th>0</th>\n",
       "      <td>MainScreenAppear</td>\n",
       "      <td>4575588528974610257</td>\n",
       "      <td>1564029816</td>\n",
       "      <td>246</td>\n",
       "    </tr>\n",
       "    <tr>\n",
       "      <th>1</th>\n",
       "      <td>MainScreenAppear</td>\n",
       "      <td>7416695313311560658</td>\n",
       "      <td>1564053102</td>\n",
       "      <td>246</td>\n",
       "    </tr>\n",
       "    <tr>\n",
       "      <th>2</th>\n",
       "      <td>PaymentScreenSuccessful</td>\n",
       "      <td>3518123091307005509</td>\n",
       "      <td>1564054127</td>\n",
       "      <td>248</td>\n",
       "    </tr>\n",
       "  </tbody>\n",
       "</table>\n",
       "</div>"
      ],
      "text/plain": [
       "                 EventName         DeviceIDHash  EventTimestamp  ExpId\n",
       "0         MainScreenAppear  4575588528974610257      1564029816    246\n",
       "1         MainScreenAppear  7416695313311560658      1564053102    246\n",
       "2  PaymentScreenSuccessful  3518123091307005509      1564054127    248"
      ]
     },
     "metadata": {},
     "output_type": "display_data"
    },
    {
     "name": "stdout",
     "output_type": "stream",
     "text": [
      "<class 'pandas.core.frame.DataFrame'>\n",
      "RangeIndex: 244126 entries, 0 to 244125\n",
      "Data columns (total 4 columns):\n",
      " #   Column          Non-Null Count   Dtype \n",
      "---  ------          --------------   ----- \n",
      " 0   EventName       244126 non-null  object\n",
      " 1   DeviceIDHash    244126 non-null  int64 \n",
      " 2   EventTimestamp  244126 non-null  int64 \n",
      " 3   ExpId           244126 non-null  int64 \n",
      "dtypes: int64(3), object(1)\n",
      "memory usage: 7.5+ MB\n"
     ]
    },
    {
     "data": {
      "text/plain": [
       "None"
      ]
     },
     "metadata": {},
     "output_type": "display_data"
    },
    {
     "name": "stdout",
     "output_type": "stream",
     "text": [
      "413 EventName         0\n",
      "DeviceIDHash      0\n",
      "EventTimestamp    0\n",
      "ExpId             0\n",
      "dtype: int64\n"
     ]
    }
   ],
   "source": [
    "# просмотр информации о таблицах, проверка на наличие дубликатов и пустот\n",
    "for i in [data]:\n",
    "    display(i.head(3))\n",
    "    display(i.info())\n",
    "    print(i.duplicated().sum(), i.isnull().sum())"
   ]
  },
  {
   "cell_type": "markdown",
   "metadata": {},
   "source": [
    "4 столбца, 244 тыс. строк, 413 дубликатов.\n",
    "\n",
    "Названия столбцов согласно описанию:\n",
    "\n",
    "- EventName — название события;\n",
    "- DeviceIDHash — уникальный идентификатор пользователя;\n",
    "- EventTimestamp — время события;\n",
    "- ExpId — номер эксперимента: 246 и 247 — контрольные группы, а 248 — экспериментальная."
   ]
  },
  {
   "cell_type": "code",
   "execution_count": 5,
   "metadata": {},
   "outputs": [],
   "source": [
    "# переименование столбцов и привод к единому стилю\n",
    "df = data.rename(columns={'EventName': 'event', 'DeviceIDHash': 'uid', 'EventTimestamp': 'ets', 'ExpId': 'group'})"
   ]
  },
  {
   "cell_type": "code",
   "execution_count": 6,
   "metadata": {},
   "outputs": [
    {
     "data": {
      "text/plain": [
       "0"
      ]
     },
     "execution_count": 6,
     "metadata": {},
     "output_type": "execute_result"
    }
   ],
   "source": [
    "# т.к. удельный вес дубликатов составляет меньше 0,01%, их можно невозбранно удалить\n",
    "df = df.drop_duplicates().reset_index(drop=True)\n",
    "df.duplicated().sum()"
   ]
  },
  {
   "cell_type": "code",
   "execution_count": 7,
   "metadata": {},
   "outputs": [
    {
     "data": {
      "text/html": [
       "<div>\n",
       "<style scoped>\n",
       "    .dataframe tbody tr th:only-of-type {\n",
       "        vertical-align: middle;\n",
       "    }\n",
       "\n",
       "    .dataframe tbody tr th {\n",
       "        vertical-align: top;\n",
       "    }\n",
       "\n",
       "    .dataframe thead th {\n",
       "        text-align: right;\n",
       "    }\n",
       "</style>\n",
       "<table border=\"1\" class=\"dataframe\">\n",
       "  <thead>\n",
       "    <tr style=\"text-align: right;\">\n",
       "      <th></th>\n",
       "      <th>event</th>\n",
       "      <th>uid</th>\n",
       "      <th>ets</th>\n",
       "      <th>group</th>\n",
       "      <th>datetime</th>\n",
       "      <th>date</th>\n",
       "    </tr>\n",
       "  </thead>\n",
       "  <tbody>\n",
       "    <tr>\n",
       "      <th>0</th>\n",
       "      <td>MainScreenAppear</td>\n",
       "      <td>4575588528974610257</td>\n",
       "      <td>1564029816</td>\n",
       "      <td>246</td>\n",
       "      <td>0</td>\n",
       "      <td>0</td>\n",
       "    </tr>\n",
       "    <tr>\n",
       "      <th>1</th>\n",
       "      <td>MainScreenAppear</td>\n",
       "      <td>7416695313311560658</td>\n",
       "      <td>1564053102</td>\n",
       "      <td>246</td>\n",
       "      <td>0</td>\n",
       "      <td>0</td>\n",
       "    </tr>\n",
       "    <tr>\n",
       "      <th>2</th>\n",
       "      <td>PaymentScreenSuccessful</td>\n",
       "      <td>3518123091307005509</td>\n",
       "      <td>1564054127</td>\n",
       "      <td>248</td>\n",
       "      <td>0</td>\n",
       "      <td>0</td>\n",
       "    </tr>\n",
       "  </tbody>\n",
       "</table>\n",
       "</div>"
      ],
      "text/plain": [
       "                     event                  uid         ets  group  datetime  \\\n",
       "0         MainScreenAppear  4575588528974610257  1564029816    246         0   \n",
       "1         MainScreenAppear  7416695313311560658  1564053102    246         0   \n",
       "2  PaymentScreenSuccessful  3518123091307005509  1564054127    248         0   \n",
       "\n",
       "   date  \n",
       "0     0  \n",
       "1     0  \n",
       "2     0  "
      ]
     },
     "execution_count": 7,
     "metadata": {},
     "output_type": "execute_result"
    }
   ],
   "source": [
    "# добавление новых столбцов - столбец даты и времени, а также отдельный столбец дат\n",
    "df.insert(4, \"datetime\", 0)\n",
    "df.insert(5, \"date\", 0)\n",
    "df.head(3)"
   ]
  },
  {
   "cell_type": "markdown",
   "metadata": {},
   "source": [
    "# Изучение и проверка данных"
   ]
  },
  {
   "cell_type": "markdown",
   "metadata": {},
   "source": [
    "## Количество событий в логе"
   ]
  },
  {
   "cell_type": "code",
   "execution_count": 8,
   "metadata": {},
   "outputs": [
    {
     "data": {
      "text/plain": [
       "243713"
      ]
     },
     "execution_count": 8,
     "metadata": {},
     "output_type": "execute_result"
    }
   ],
   "source": [
    "# подсчитаетм количество строк\n",
    "df['uid'].count()"
   ]
  },
  {
   "cell_type": "markdown",
   "metadata": {},
   "source": [
    "Во фрейме насчитывается 243713 строк."
   ]
  },
  {
   "cell_type": "markdown",
   "metadata": {},
   "source": [
    "## Количество пользователей в логе"
   ]
  },
  {
   "cell_type": "code",
   "execution_count": 9,
   "metadata": {},
   "outputs": [
    {
     "data": {
      "text/plain": [
       "7551"
      ]
     },
     "execution_count": 9,
     "metadata": {},
     "output_type": "execute_result"
    }
   ],
   "source": [
    "# подчитаем количество пользователей\n",
    "df['uid'].nunique()"
   ]
  },
  {
   "cell_type": "markdown",
   "metadata": {},
   "source": [
    "Итого 7551 уникальный пользователь."
   ]
  },
  {
   "cell_type": "markdown",
   "metadata": {},
   "source": [
    "## Количество событий в среднем на пользователя"
   ]
  },
  {
   "cell_type": "code",
   "execution_count": 10,
   "metadata": {},
   "outputs": [
    {
     "name": "stdout",
     "output_type": "stream",
     "text": [
      "В среднем на одного пользователя приходится 32 события.\n"
     ]
    }
   ],
   "source": [
    "# вычисляем среднее количество событий на одного человека\n",
    "print(f'В среднем на одного пользователя приходится {int(len(df) / len(df.uid.unique()))} события.')"
   ]
  },
  {
   "cell_type": "markdown",
   "metadata": {},
   "source": [
    "## Временные рамки событий"
   ]
  },
  {
   "cell_type": "code",
   "execution_count": 11,
   "metadata": {},
   "outputs": [
    {
     "data": {
      "text/plain": [
       "0   2019-07-25 04:43:36\n",
       "1   2019-07-25 11:11:42\n",
       "2   2019-07-25 11:28:47\n",
       "Name: datetime, dtype: datetime64[ns]"
      ]
     },
     "execution_count": 11,
     "metadata": {},
     "output_type": "execute_result"
    }
   ],
   "source": [
    "# судя по содержанию столбца, это т.н. epoch-time, и его сначала надо будет сконвертировать\n",
    "df['datetime'] = pd.to_datetime(df['ets'], unit='s')\n",
    "df['datetime'].head(3)"
   ]
  },
  {
   "cell_type": "code",
   "execution_count": 12,
   "metadata": {},
   "outputs": [
    {
     "data": {
      "text/plain": [
       "0        2019-07-25 04:43:36\n",
       "1        2019-07-25 11:11:42\n",
       "2        2019-07-25 11:28:47\n",
       "3        2019-07-25 11:28:47\n",
       "4        2019-07-25 11:48:42\n",
       "                 ...        \n",
       "243708   2019-08-07 21:12:25\n",
       "243709   2019-08-07 21:13:59\n",
       "243710   2019-08-07 21:14:43\n",
       "243711   2019-08-07 21:14:58\n",
       "243712   2019-08-07 21:15:17\n",
       "Name: datetime, Length: 243713, dtype: datetime64[ns]"
      ]
     },
     "execution_count": 12,
     "metadata": {},
     "output_type": "execute_result"
    }
   ],
   "source": [
    "df['datetime']"
   ]
  },
  {
   "cell_type": "code",
   "execution_count": 13,
   "metadata": {},
   "outputs": [],
   "source": [
    "# столбец dates отдельно заполним датами по дням\n",
    "df['date'] = df.datetime.dt.date"
   ]
  },
  {
   "cell_type": "code",
   "execution_count": 14,
   "metadata": {},
   "outputs": [
    {
     "data": {
      "text/plain": [
       "(datetime.date(2019, 7, 25), datetime.date(2019, 8, 7))"
      ]
     },
     "execution_count": 14,
     "metadata": {},
     "output_type": "execute_result"
    }
   ],
   "source": [
    "# теперь найдём максимальную и минимальную дату, вычислим промежуток событий\n",
    "df['date'].min(), df['date'].max()"
   ]
  },
  {
   "cell_type": "code",
   "execution_count": 15,
   "metadata": {},
   "outputs": [
    {
     "data": {
      "text/plain": [
       "Timedelta('13 days 16:31:41')"
      ]
     },
     "execution_count": 15,
     "metadata": {},
     "output_type": "execute_result"
    }
   ],
   "source": [
    "df['datetime'].max() - df['datetime'].min()"
   ]
  },
  {
   "cell_type": "markdown",
   "metadata": {},
   "source": [
    "Самое раннее событие датируется 25 июля 2019 года, самое позднее - 7 августа того же года, временной промежуток составляет 14  дней."
   ]
  },
  {
   "cell_type": "code",
   "execution_count": 16,
   "metadata": {},
   "outputs": [
    {
     "data": {
      "image/png": "[encoded data removed]",
      "text/plain": [
       "<Figure size 1440x576 with 1 Axes>"
      ]
     },
     "metadata": {
      "needs_background": "light"
     },
     "output_type": "display_data"
    }
   ],
   "source": [
    "# Изучите, как меняется количество данных: постройте столбчатую диаграмму, которая отобразит количество событий \n",
    "# в зависимости от времени в разрезе групп\n",
    "srs = df.groupby('date')[['event']].count().reset_index()\n",
    "\n",
    "ax = sns.barplot(x='date', y='event', data=srs)\n",
    "for i, v in srs.iterrows():\n",
    "       ax.text(i, v[1]+300, str(v[1]), ha='center')\n",
    "plt.title('Распределение событий по времени')\n",
    "plt.xlabel('Дата')\n",
    "plt.ylabel('Количество событий')\n",
    "plt.show()"
   ]
  },
  {
   "cell_type": "markdown",
   "metadata": {},
   "source": [
    "Как видно из графика, до 31 июля количество событий околонулевое, и только с 1 августа они начинают расти до ощутимых значений.\n",
    "Можно предположить, что магазин работал в тестовом режиме и/или не была проведена рекламная кампания. Для ясности лучше отфильтровать малозначимые данные."
   ]
  },
  {
   "cell_type": "code",
   "execution_count": 17,
   "metadata": {},
   "outputs": [
    {
     "data": {
      "image/png": "[encoded data removed]",
      "text/plain": [
       "<Figure size 1440x576 with 1 Axes>"
      ]
     },
     "metadata": {
      "needs_background": "light"
     },
     "output_type": "display_data"
    }
   ],
   "source": [
    "ax = sns.countplot(x='date', data=df, hue = 'group')\n",
    "plt.title('Распределение событий по времени в разрезе групп')\n",
    "plt.xlabel('Дата наступления событий')\n",
    "plt.ylabel('Количество событий')\n",
    "plt.show()"
   ]
  },
  {
   "cell_type": "markdown",
   "metadata": {},
   "source": [
    "Групповое распределение показывает такую же картину, стабильного и нарастающего преимущества нет ни у одной из групп, обычные флуктуации."
   ]
  },
  {
   "cell_type": "code",
   "execution_count": 18,
   "metadata": {},
   "outputs": [],
   "source": [
    "# отфильтруем фрейм по дате с 1 по 7 августа\n",
    "df_filt = df.query('date >= datetime(2019, 8, 1).date()')\n",
    "# посчитаем события до и после фильтрации\n",
    "events_stock = len(df['event'])\n",
    "events_filt = len(df_filt['event'])\n",
    "# и количество пользователей\n",
    "users_stock = df['uid'].nunique()\n",
    "users_filt = df_filt['uid'].nunique()"
   ]
  },
  {
   "cell_type": "code",
   "execution_count": 19,
   "metadata": {},
   "outputs": [
    {
     "name": "stdout",
     "output_type": "stream",
     "text": [
      "Потеряно событий: до - 243713, после - 240887. Разница составляет: 2826 случаев или 1.16%\n",
      "Потеряно пользователей: до - 7551, после - 7534. Разница составляет: 17 человек или 0.23%\n"
     ]
    }
   ],
   "source": [
    "# вывод абсолютной и относительной разницы по событиям и пользователям\n",
    "print('Потеряно событий: до - {}, после - {}. Разница составляет: {} случаев или {}%'.format(events_stock, events_filt,\n",
    "                                                                        events_stock - events_filt,\n",
    "                                                                        round(100-events_filt/events_stock*100, 2)))\n",
    "print('Потеряно пользователей: до - {}, после - {}. Разница составляет: {} человек или {}%'.format(users_stock, users_filt,\n",
    "                                                                        users_stock - users_filt,\n",
    "                                                                        round(100-users_filt/users_stock*100, 2)))\n"
   ]
  },
  {
   "cell_type": "markdown",
   "metadata": {},
   "source": [
    "Соотвественно, за первую неделю отсеялось чуть больше 1% данных, и ими можно спокойно пренебречь, соотношение численности групп также не показывает значимых перекосов."
   ]
  },
  {
   "cell_type": "markdown",
   "metadata": {},
   "source": [
    "# Изучение воронки событий"
   ]
  },
  {
   "cell_type": "markdown",
   "metadata": {},
   "source": [
    "## Посмотрим, какие события есть в логах, как часто они встречаются, отсортируем события по частоте"
   ]
  },
  {
   "cell_type": "code",
   "execution_count": 20,
   "metadata": {},
   "outputs": [
    {
     "name": "stdout",
     "output_type": "stream",
     "text": [
      "['Tutorial' 'MainScreenAppear' 'OffersScreenAppear' 'CartScreenAppear'\n",
      " 'PaymentScreenSuccessful']\n"
     ]
    }
   ],
   "source": [
    "# просмотр событий\n",
    "print(df_filt['event'].unique())"
   ]
  },
  {
   "cell_type": "markdown",
   "metadata": {},
   "source": [
    "В категории событий есть 5 записей:\n",
    "\n",
    "- Tutorial - введение, обучение\n",
    "- MainScreenAppear - просмотр главной страницы\n",
    "- OffersScreenAppear - просмотр страницы предложений\n",
    "- CartScreenAppear - просмотр корзины\n",
    "- PaymentScreenSuccessful - подтверждение успешной оплаты\n",
    "\n",
    "Все события после введения выстроены в единую последовательность для совершения покупок, введение может быть как обязательным, так и пропускаемым - из характеристик таблицы это сказать нельзя."
   ]
  },
  {
   "cell_type": "markdown",
   "metadata": {},
   "source": [
    "## Посчитаем, сколько пользователей совершали каждое из этих событий. Отсортируем события по числу пользователей. Посчитаем долю пользователей, которые хоть раз совершали событие"
   ]
  },
  {
   "cell_type": "code",
   "execution_count": 21,
   "metadata": {},
   "outputs": [
    {
     "data": {
      "text/html": [
       "<div>\n",
       "<style scoped>\n",
       "    .dataframe tbody tr th:only-of-type {\n",
       "        vertical-align: middle;\n",
       "    }\n",
       "\n",
       "    .dataframe tbody tr th {\n",
       "        vertical-align: top;\n",
       "    }\n",
       "\n",
       "    .dataframe thead th {\n",
       "        text-align: right;\n",
       "    }\n",
       "</style>\n",
       "<table border=\"1\" class=\"dataframe\">\n",
       "  <thead>\n",
       "    <tr style=\"text-align: right;\">\n",
       "      <th></th>\n",
       "      <th>event</th>\n",
       "      <th>users_count</th>\n",
       "      <th>%</th>\n",
       "      <th>funnel</th>\n",
       "    </tr>\n",
       "  </thead>\n",
       "  <tbody>\n",
       "    <tr>\n",
       "      <th>0</th>\n",
       "      <td>MainScreenAppear</td>\n",
       "      <td>7419</td>\n",
       "      <td>0.984736</td>\n",
       "      <td>1.000000</td>\n",
       "    </tr>\n",
       "    <tr>\n",
       "      <th>1</th>\n",
       "      <td>OffersScreenAppear</td>\n",
       "      <td>4593</td>\n",
       "      <td>0.609636</td>\n",
       "      <td>0.619086</td>\n",
       "    </tr>\n",
       "    <tr>\n",
       "      <th>2</th>\n",
       "      <td>CartScreenAppear</td>\n",
       "      <td>3734</td>\n",
       "      <td>0.495620</td>\n",
       "      <td>0.812976</td>\n",
       "    </tr>\n",
       "    <tr>\n",
       "      <th>3</th>\n",
       "      <td>PaymentScreenSuccessful</td>\n",
       "      <td>3539</td>\n",
       "      <td>0.469737</td>\n",
       "      <td>0.947777</td>\n",
       "    </tr>\n",
       "    <tr>\n",
       "      <th>4</th>\n",
       "      <td>Tutorial</td>\n",
       "      <td>840</td>\n",
       "      <td>0.111495</td>\n",
       "      <td>1.000000</td>\n",
       "    </tr>\n",
       "  </tbody>\n",
       "</table>\n",
       "</div>"
      ],
      "text/plain": [
       "                     event  users_count         %    funnel\n",
       "0         MainScreenAppear         7419  0.984736  1.000000\n",
       "1       OffersScreenAppear         4593  0.609636  0.619086\n",
       "2         CartScreenAppear         3734  0.495620  0.812976\n",
       "3  PaymentScreenSuccessful         3539  0.469737  0.947777\n",
       "4                 Tutorial          840  0.111495  1.000000"
      ]
     },
     "execution_count": 21,
     "metadata": {},
     "output_type": "execute_result"
    }
   ],
   "source": [
    "# сгруппируем уникальных пользователей по событиям\n",
    "event_users = df_filt.groupby('event').agg({'uid':'nunique'}).reset_index()\n",
    "event_users.set_axis(['event', 'users_count'], axis='columns', inplace=True)\n",
    "\n",
    "# укажем долю уникальных пользователей по событиям\n",
    "event_users['%'] = event_users.users_count / df_filt['uid'].nunique()\n",
    "event_users = event_users.sort_values('users_count', ascending=False).reset_index(drop=True)\n",
    "\n",
    "# построим воронку продаж\n",
    "event_users['funnel'] = 1\n",
    "for i in range(1, 4):\n",
    "    event_users.loc[i, 'funnel'] = event_users.loc[i, 'users_count'] /  (event_users.loc[i-1, 'users_count'])\n",
    "    \n",
    "event_users    "
   ]
  },
  {
   "cell_type": "code",
   "execution_count": 22,
   "metadata": {},
   "outputs": [
    {
     "data": {
      "image/png": "[encoded data removed]",
      "text/plain": [
       "<Figure size 1440x576 with 1 Axes>"
      ]
     },
     "metadata": {
      "needs_background": "light"
     },
     "output_type": "display_data"
    }
   ],
   "source": [
    "sns.barplot(data=event_users.loc[0:3], x='event', y='users_count')\n",
    "plt.title('Проход пользователей по стадиям покупки')\n",
    "plt.xlabel('Стадии покупки')\n",
    "plt.ylabel('Количество пользователей')\n",
    "plt.show()"
   ]
  },
  {
   "cell_type": "markdown",
   "metadata": {},
   "source": [
    "События распределены нормально и последовательно, до страницы оплаты доходит примерно половина всех посетителей. Исходя из доли \"Tutorial\" теперь можно сказать, что оно является необязательным, а его небольшая доля в количестве запросов показывает, что дизайн магазина с точки зрения \"user-friendly\" положителен.\n",
    "\n",
    "На главную страницу зашли 7419 пользователей, в каталог - 4593, в корзину - 3734, оплатили - 3539, обучение же закончили всего 840 пользователей.\n",
    "\n",
    "Наибольшая часть пользователей отсеивается на стадии перехода с главной страницы в каталог - отпадает примерно 39%.\n",
    "\n",
    "От входа до оплаты доходит примерно 47% пользователей."
   ]
  },
  {
   "cell_type": "markdown",
   "metadata": {},
   "source": [
    "# Результаты эксперимента"
   ]
  },
  {
   "cell_type": "code",
   "execution_count": 23,
   "metadata": {},
   "outputs": [
    {
     "name": "stdout",
     "output_type": "stream",
     "text": [
      "group\n",
      "246    2484\n",
      "247    2513\n",
      "248    2537\n",
      "Name: uid, dtype: int64\n"
     ]
    }
   ],
   "source": [
    "# рассмотрим количество пользователей в каждой экспериментальной группе\n",
    "print(df_filt.groupby('group')['uid'].nunique())"
   ]
  },
  {
   "cell_type": "markdown",
   "metadata": {},
   "source": [
    "В контрольной группе \"А1\" 2484 пользователя, в \"А2\" - 2513, в тестовой \"В\" - 2537."
   ]
  },
  {
   "cell_type": "markdown",
   "metadata": {},
   "source": [
    "Критерии успешного A/A теста:\n",
    "- Разброс количества пользователей в группах различается не более чем на 1%;\n",
    "- Для всех групп фиксируют и отправляют в системы аналитики данные об одном и том же объекте подсчёта;\n",
    "- Различие ключевых метрик по группам не превышает 1% и не имеет статистической значимости;\n",
    "- Попавший в одну из групп пользователь остаётся в этой группе до конца теста."
   ]
  },
  {
   "cell_type": "code",
   "execution_count": 24,
   "metadata": {},
   "outputs": [
    {
     "name": "stdout",
     "output_type": "stream",
     "text": [
      "Разница между группой 246 и 247 составляет 1.15%\n",
      "Разница между группой 247 и 248 составляет 0.95%\n",
      "Разница между группой 248 и 246 составляет -2.13%\n"
     ]
    }
   ],
   "source": [
    "# есть 2 контрольные группы, проверим их на значимую разницу\n",
    "for i in range(0, 3):\n",
    "    test_groups = [246, 247, 248, 246]\n",
    "    print(f'Разница между группой {test_groups[i]} и {test_groups[i+1]} составляет {1 - df_filt.query(\"group == @test_groups[@i]\")[\"uid\"].nunique() / df_filt.query(\"group == @test_groups[@i+1]\")[\"uid\"].nunique():.2%}')"
   ]
  },
  {
   "cell_type": "markdown",
   "metadata": {},
   "source": [
    "Разница между контрольными группами \"А1\" и \"А2\" составляет более 1%, точнее - 1,15% что немного превышает стапогрешность.\n",
    "Разница между \"А1\" и \"В\" составляет 2,13%, что также превышает статпогрешность.\n",
    "Разница между \"А2\" и \"В\" составляет 0,95%, что не превышает статпогрешности."
   ]
  },
  {
   "cell_type": "code",
   "execution_count": 25,
   "metadata": {},
   "outputs": [
    {
     "data": {
      "text/plain": [
       "0"
      ]
     },
     "execution_count": 25,
     "metadata": {},
     "output_type": "execute_result"
    }
   ],
   "source": [
    "# поиск uid, попавших одновременно в разные группы\n",
    "len(df_filt.groupby('uid')['group'].nunique().reset_index().query('group > 1'))"
   ]
  },
  {
   "cell_type": "markdown",
   "metadata": {},
   "source": [
    "Среди пользователей нет попавших сразу в разные группы."
   ]
  },
  {
   "cell_type": "markdown",
   "metadata": {},
   "source": [
    "Теперь необходимо проверить различие ключевых метрик. Для каждого события нужно подсчитать, какая доля пользователей в каждой группе его совершила, и проверить, является ли отличие между группами статистически достоверным."
   ]
  },
  {
   "cell_type": "code",
   "execution_count": 26,
   "metadata": {},
   "outputs": [
    {
     "data": {
      "text/html": [
       "<div>\n",
       "<style scoped>\n",
       "    .dataframe tbody tr th:only-of-type {\n",
       "        vertical-align: middle;\n",
       "    }\n",
       "\n",
       "    .dataframe tbody tr th {\n",
       "        vertical-align: top;\n",
       "    }\n",
       "\n",
       "    .dataframe thead th {\n",
       "        text-align: right;\n",
       "    }\n",
       "</style>\n",
       "<table border=\"1\" class=\"dataframe\">\n",
       "  <thead>\n",
       "    <tr style=\"text-align: right;\">\n",
       "      <th>group</th>\n",
       "      <th>event</th>\n",
       "      <th>246</th>\n",
       "      <th>247</th>\n",
       "      <th>248</th>\n",
       "      <th>All</th>\n",
       "    </tr>\n",
       "  </thead>\n",
       "  <tbody>\n",
       "    <tr>\n",
       "      <th>0</th>\n",
       "      <td>MainScreenAppear</td>\n",
       "      <td>2450</td>\n",
       "      <td>2476</td>\n",
       "      <td>2493</td>\n",
       "      <td>7419</td>\n",
       "    </tr>\n",
       "    <tr>\n",
       "      <th>1</th>\n",
       "      <td>OffersScreenAppear</td>\n",
       "      <td>1542</td>\n",
       "      <td>1520</td>\n",
       "      <td>1531</td>\n",
       "      <td>4593</td>\n",
       "    </tr>\n",
       "    <tr>\n",
       "      <th>2</th>\n",
       "      <td>CartScreenAppear</td>\n",
       "      <td>1266</td>\n",
       "      <td>1238</td>\n",
       "      <td>1230</td>\n",
       "      <td>3734</td>\n",
       "    </tr>\n",
       "    <tr>\n",
       "      <th>3</th>\n",
       "      <td>PaymentScreenSuccessful</td>\n",
       "      <td>1200</td>\n",
       "      <td>1158</td>\n",
       "      <td>1181</td>\n",
       "      <td>3539</td>\n",
       "    </tr>\n",
       "    <tr>\n",
       "      <th>4</th>\n",
       "      <td>Tutorial</td>\n",
       "      <td>278</td>\n",
       "      <td>283</td>\n",
       "      <td>279</td>\n",
       "      <td>840</td>\n",
       "    </tr>\n",
       "    <tr>\n",
       "      <th>5</th>\n",
       "      <td>All</td>\n",
       "      <td>2484</td>\n",
       "      <td>2513</td>\n",
       "      <td>2537</td>\n",
       "      <td>7534</td>\n",
       "    </tr>\n",
       "  </tbody>\n",
       "</table>\n",
       "</div>"
      ],
      "text/plain": [
       "group                    event   246   247   248   All\n",
       "0             MainScreenAppear  2450  2476  2493  7419\n",
       "1           OffersScreenAppear  1542  1520  1531  4593\n",
       "2             CartScreenAppear  1266  1238  1230  3734\n",
       "3      PaymentScreenSuccessful  1200  1158  1181  3539\n",
       "4                     Tutorial   278   283   279   840\n",
       "5                          All  2484  2513  2537  7534"
      ]
     },
     "execution_count": 26,
     "metadata": {},
     "output_type": "execute_result"
    }
   ],
   "source": [
    "events_groups = df_filt.pivot_table(index='event', columns='group', values='uid', aggfunc='nunique', margins=True).reset_index().sort_values('All', ascending=False).reset_index(drop=True)\n",
    "events_groups = events_groups.reindex([1, 2, 3, 4, 5, 0]).reset_index(drop=True)\n",
    "events_groups"
   ]
  },
  {
   "cell_type": "code",
   "execution_count": 27,
   "metadata": {},
   "outputs": [],
   "source": [
    "def diff(positive1, positive2, test1, test2):\n",
    "    # соотношение успехов в первой группе:\n",
    "    p1 = positive1/test1\n",
    "    # соотношение успехов во второй группе:\n",
    "    p2 = positive2/test2\n",
    "    # соотношение успехов в комбинированном датасете:\n",
    "    p_combined = (positive1 + positive2) / (test1 + test2)\n",
    "    # разница пропорций в датасетах\n",
    "    difference = p1 - p2 \n",
    "    # считаем статистику в ст.отклонениях стандартного нормального распределения\n",
    "    z_value = difference / (p_combined * (1 - p_combined) * (1/test1 + 1/test2)) ** 0.5\n",
    "    # задаем стандартное нормальное распределение (среднее 0, ст.отклонение 1)\n",
    "    distr = st.norm(0, 1)  \n",
    "    p_value = (1 - distr.cdf(abs(z_value))) * 2\n",
    "    return p_value"
   ]
  },
  {
   "cell_type": "code",
   "execution_count": 28,
   "metadata": {},
   "outputs": [
    {
     "data": {
      "text/html": [
       "<style  type=\"text/css\" >\n",
       "#T_df735_row3_col1{\n",
       "            background-color:  yellow;\n",
       "        }</style><table id=\"T_df735_\" ><thead>    <tr>        <th class=\"blank level0\" ></th>        <th class=\"col_heading level0 col0\" >events</th>        <th class=\"col_heading level0 col1\" >246-247</th>    </tr></thead><tbody>\n",
       "                <tr>\n",
       "                        <th id=\"T_df735_level0_row0\" class=\"row_heading level0 row0\" >0</th>\n",
       "                        <td id=\"T_df735_row0_col0\" class=\"data row0 col0\" >MainScreenAppear</td>\n",
       "                        <td id=\"T_df735_row0_col1\" class=\"data row0 col1\" >0.757060</td>\n",
       "            </tr>\n",
       "            <tr>\n",
       "                        <th id=\"T_df735_level0_row1\" class=\"row_heading level0 row1\" >1</th>\n",
       "                        <td id=\"T_df735_row1_col0\" class=\"data row1 col0\" >OffersScreenAppear</td>\n",
       "                        <td id=\"T_df735_row1_col1\" class=\"data row1 col1\" >0.248095</td>\n",
       "            </tr>\n",
       "            <tr>\n",
       "                        <th id=\"T_df735_level0_row2\" class=\"row_heading level0 row2\" >2</th>\n",
       "                        <td id=\"T_df735_row2_col0\" class=\"data row2 col0\" >CartScreenAppear</td>\n",
       "                        <td id=\"T_df735_row2_col1\" class=\"data row2 col1\" >0.228834</td>\n",
       "            </tr>\n",
       "            <tr>\n",
       "                        <th id=\"T_df735_level0_row3\" class=\"row_heading level0 row3\" >3</th>\n",
       "                        <td id=\"T_df735_row3_col0\" class=\"data row3 col0\" >PaymentScreenSuccessful</td>\n",
       "                        <td id=\"T_df735_row3_col1\" class=\"data row3 col1\" >0.114567</td>\n",
       "            </tr>\n",
       "            <tr>\n",
       "                        <th id=\"T_df735_level0_row4\" class=\"row_heading level0 row4\" >4</th>\n",
       "                        <td id=\"T_df735_row4_col0\" class=\"data row4 col0\" >Tutorial</td>\n",
       "                        <td id=\"T_df735_row4_col1\" class=\"data row4 col1\" >0.937700</td>\n",
       "            </tr>\n",
       "    </tbody></table>"
      ],
      "text/plain": [
       "<pandas.io.formats.style.Styler at 0x7fb6af783a90>"
      ]
     },
     "execution_count": 28,
     "metadata": {},
     "output_type": "execute_result"
    }
   ],
   "source": [
    "#  для записи результатов\n",
    "groups_stats = pd.DataFrame({'events' : ['MainScreenAppear', 'OffersScreenAppear', 'CartScreenAppear', 'PaymentScreenSuccessful', 'Tutorial'],\n",
    "                             '246-247' : [0, 0, 0, 0, 0],\n",
    "                             '247-248' : [0, 0, 0, 0, 0],\n",
    "                             '248-246' : [0, 0, 0, 0, 0]})\n",
    "\n",
    "# цикл по всем событиям и комбинациям\n",
    "# для каждой пары групп и для каждого события посчитаем вероятности получения таких различий\n",
    "for i in range(0, 5):\n",
    "    for j in range(1, 4):\n",
    "        # для группы 248 парной должна побывать и 246\n",
    "        k = j + 1 if j < 3 else 1\n",
    "        # общее количество пользователей в группе в пятой строке All\n",
    "        groups_stats.iloc[i, j] = diff(events_groups.iloc[i, j], \n",
    "                                              events_groups.iloc[i, k], \n",
    "                                              events_groups.iloc[5, j], \n",
    "                                              events_groups.iloc[5, k])\n",
    "\n",
    "# итог c подсветкой самого низкого результата\n",
    "groups_stats.iloc[:, [0, 1]].style.highlight_min(color='yellow', axis=None)"
   ]
  },
  {
   "cell_type": "markdown",
   "metadata": {},
   "source": [
    "Для всех событий разница в пропорциях недостаточна, чтобы говорить о статистически значимом различии, т.е. между группами 246 и 247 разницы нет, несмотря на исходную разницу в численности."
   ]
  },
  {
   "cell_type": "markdown",
   "metadata": {},
   "source": [
    "## Проведение А/B теста"
   ]
  },
  {
   "cell_type": "markdown",
   "metadata": {},
   "source": [
    "Принимая во внимание ранее рассчитаные данные для групп А1, А2 и В, необходимо теперь посчитать из различие попарно. Выдвинем соответствующие гипотезы:\n",
    "\n",
    "Гипотеза H0: между долями групп нет значимой разницы; \n",
    "Гипотеза H1: между долями групп есть значимая разница."
   ]
  },
  {
   "cell_type": "code",
   "execution_count": 29,
   "metadata": {},
   "outputs": [
    {
     "data": {
      "text/html": [
       "<style  type=\"text/css\" >\n",
       "#T_c6dff_row0_col1,#T_c6dff_row2_col2{\n",
       "            background-color:  yellow;\n",
       "        }</style><table id=\"T_c6dff_\" ><thead>    <tr>        <th class=\"blank level0\" ></th>        <th class=\"col_heading level0 col0\" >events</th>        <th class=\"col_heading level0 col1\" >247-248</th>        <th class=\"col_heading level0 col2\" >248-246</th>    </tr></thead><tbody>\n",
       "                <tr>\n",
       "                        <th id=\"T_c6dff_level0_row0\" class=\"row_heading level0 row0\" >0</th>\n",
       "                        <td id=\"T_c6dff_row0_col0\" class=\"data row0 col0\" >MainScreenAppear</td>\n",
       "                        <td id=\"T_c6dff_row0_col1\" class=\"data row0 col1\" >0.458705</td>\n",
       "                        <td id=\"T_c6dff_row0_col2\" class=\"data row0 col2\" >0.294972</td>\n",
       "            </tr>\n",
       "            <tr>\n",
       "                        <th id=\"T_c6dff_level0_row1\" class=\"row_heading level0 row1\" >1</th>\n",
       "                        <td id=\"T_c6dff_row1_col0\" class=\"data row1 col0\" >OffersScreenAppear</td>\n",
       "                        <td id=\"T_c6dff_row1_col1\" class=\"data row1 col1\" >0.919782</td>\n",
       "                        <td id=\"T_c6dff_row1_col2\" class=\"data row1 col2\" >0.208362</td>\n",
       "            </tr>\n",
       "            <tr>\n",
       "                        <th id=\"T_c6dff_level0_row2\" class=\"row_heading level0 row2\" >2</th>\n",
       "                        <td id=\"T_c6dff_row2_col0\" class=\"data row2 col0\" >CartScreenAppear</td>\n",
       "                        <td id=\"T_c6dff_row2_col1\" class=\"data row2 col1\" >0.578620</td>\n",
       "                        <td id=\"T_c6dff_row2_col2\" class=\"data row2 col2\" >0.078429</td>\n",
       "            </tr>\n",
       "            <tr>\n",
       "                        <th id=\"T_c6dff_level0_row3\" class=\"row_heading level0 row3\" >3</th>\n",
       "                        <td id=\"T_c6dff_row3_col0\" class=\"data row3 col0\" >PaymentScreenSuccessful</td>\n",
       "                        <td id=\"T_c6dff_row3_col1\" class=\"data row3 col1\" >0.737342</td>\n",
       "                        <td id=\"T_c6dff_row3_col2\" class=\"data row3 col2\" >0.212255</td>\n",
       "            </tr>\n",
       "            <tr>\n",
       "                        <th id=\"T_c6dff_level0_row4\" class=\"row_heading level0 row4\" >4</th>\n",
       "                        <td id=\"T_c6dff_row4_col0\" class=\"data row4 col0\" >Tutorial</td>\n",
       "                        <td id=\"T_c6dff_row4_col1\" class=\"data row4 col1\" >0.765324</td>\n",
       "                        <td id=\"T_c6dff_row4_col2\" class=\"data row4 col2\" >0.826429</td>\n",
       "            </tr>\n",
       "    </tbody></table>"
      ],
      "text/plain": [
       "<pandas.io.formats.style.Styler at 0x7fb6af783a00>"
      ]
     },
     "execution_count": 29,
     "metadata": {},
     "output_type": "execute_result"
    }
   ],
   "source": [
    " groups_stats.iloc[:, [0, 2, 3]].style.highlight_min(color='yellow', axis=0)"
   ]
  },
  {
   "cell_type": "markdown",
   "metadata": {},
   "source": [
    "Добавим в таблицу events_group столбец для объединенной группы 246+247 и сравним ее с группой 248."
   ]
  },
  {
   "cell_type": "code",
   "execution_count": 30,
   "metadata": {},
   "outputs": [
    {
     "data": {
      "text/html": [
       "<div>\n",
       "<style scoped>\n",
       "    .dataframe tbody tr th:only-of-type {\n",
       "        vertical-align: middle;\n",
       "    }\n",
       "\n",
       "    .dataframe tbody tr th {\n",
       "        vertical-align: top;\n",
       "    }\n",
       "\n",
       "    .dataframe thead th {\n",
       "        text-align: right;\n",
       "    }\n",
       "</style>\n",
       "<table border=\"1\" class=\"dataframe\">\n",
       "  <thead>\n",
       "    <tr style=\"text-align: right;\">\n",
       "      <th>group</th>\n",
       "      <th>event</th>\n",
       "      <th>246</th>\n",
       "      <th>247</th>\n",
       "      <th>248</th>\n",
       "      <th>All</th>\n",
       "      <th>246+247</th>\n",
       "    </tr>\n",
       "  </thead>\n",
       "  <tbody>\n",
       "    <tr>\n",
       "      <th>0</th>\n",
       "      <td>MainScreenAppear</td>\n",
       "      <td>2450</td>\n",
       "      <td>2476</td>\n",
       "      <td>2493</td>\n",
       "      <td>7419</td>\n",
       "      <td>4926</td>\n",
       "    </tr>\n",
       "    <tr>\n",
       "      <th>1</th>\n",
       "      <td>OffersScreenAppear</td>\n",
       "      <td>1542</td>\n",
       "      <td>1520</td>\n",
       "      <td>1531</td>\n",
       "      <td>4593</td>\n",
       "      <td>3062</td>\n",
       "    </tr>\n",
       "    <tr>\n",
       "      <th>2</th>\n",
       "      <td>CartScreenAppear</td>\n",
       "      <td>1266</td>\n",
       "      <td>1238</td>\n",
       "      <td>1230</td>\n",
       "      <td>3734</td>\n",
       "      <td>2504</td>\n",
       "    </tr>\n",
       "    <tr>\n",
       "      <th>3</th>\n",
       "      <td>PaymentScreenSuccessful</td>\n",
       "      <td>1200</td>\n",
       "      <td>1158</td>\n",
       "      <td>1181</td>\n",
       "      <td>3539</td>\n",
       "      <td>2358</td>\n",
       "    </tr>\n",
       "    <tr>\n",
       "      <th>4</th>\n",
       "      <td>Tutorial</td>\n",
       "      <td>278</td>\n",
       "      <td>283</td>\n",
       "      <td>279</td>\n",
       "      <td>840</td>\n",
       "      <td>561</td>\n",
       "    </tr>\n",
       "    <tr>\n",
       "      <th>5</th>\n",
       "      <td>All</td>\n",
       "      <td>2484</td>\n",
       "      <td>2513</td>\n",
       "      <td>2537</td>\n",
       "      <td>7534</td>\n",
       "      <td>4997</td>\n",
       "    </tr>\n",
       "  </tbody>\n",
       "</table>\n",
       "</div>"
      ],
      "text/plain": [
       "group                    event   246   247   248   All  246+247\n",
       "0             MainScreenAppear  2450  2476  2493  7419     4926\n",
       "1           OffersScreenAppear  1542  1520  1531  4593     3062\n",
       "2             CartScreenAppear  1266  1238  1230  3734     2504\n",
       "3      PaymentScreenSuccessful  1200  1158  1181  3539     2358\n",
       "4                     Tutorial   278   283   279   840      561\n",
       "5                          All  2484  2513  2537  7534     4997"
      ]
     },
     "execution_count": 30,
     "metadata": {},
     "output_type": "execute_result"
    }
   ],
   "source": [
    "events_groups['246+247'] = events_groups[246] + events_groups[247]\n",
    "events_groups"
   ]
  },
  {
   "cell_type": "code",
   "execution_count": 31,
   "metadata": {},
   "outputs": [],
   "source": [
    "# создаем столбец со статистическими показателяим\n",
    "groups_stats['246+247-248'] = 1\n",
    "\n",
    "for i in range(0, 5):\n",
    "    groups_stats.iloc[i, 4] = diff(events_groups.iloc[i, 3], \n",
    "                                        events_groups.iloc[i, 5], \n",
    "                                        events_groups.iloc[5, 3], \n",
    "                                        events_groups.iloc[5, 5])"
   ]
  },
  {
   "cell_type": "code",
   "execution_count": 32,
   "metadata": {},
   "outputs": [
    {
     "data": {
      "text/html": [
       "<style  type=\"text/css\" >\n",
       "#T_009a9_row0_col2,#T_009a9_row2_col3,#T_009a9_row2_col4,#T_009a9_row3_col1{\n",
       "            background-color:  yellow;\n",
       "        }</style><table id=\"T_009a9_\" ><thead>    <tr>        <th class=\"blank level0\" ></th>        <th class=\"col_heading level0 col0\" >events</th>        <th class=\"col_heading level0 col1\" >246-247</th>        <th class=\"col_heading level0 col2\" >247-248</th>        <th class=\"col_heading level0 col3\" >248-246</th>        <th class=\"col_heading level0 col4\" >246+247-248</th>    </tr></thead><tbody>\n",
       "                <tr>\n",
       "                        <th id=\"T_009a9_level0_row0\" class=\"row_heading level0 row0\" >0</th>\n",
       "                        <td id=\"T_009a9_row0_col0\" class=\"data row0 col0\" >MainScreenAppear</td>\n",
       "                        <td id=\"T_009a9_row0_col1\" class=\"data row0 col1\" >0.757060</td>\n",
       "                        <td id=\"T_009a9_row0_col2\" class=\"data row0 col2\" >0.458705</td>\n",
       "                        <td id=\"T_009a9_row0_col3\" class=\"data row0 col3\" >0.294972</td>\n",
       "                        <td id=\"T_009a9_row0_col4\" class=\"data row0 col4\" >0.294245</td>\n",
       "            </tr>\n",
       "            <tr>\n",
       "                        <th id=\"T_009a9_level0_row1\" class=\"row_heading level0 row1\" >1</th>\n",
       "                        <td id=\"T_009a9_row1_col0\" class=\"data row1 col0\" >OffersScreenAppear</td>\n",
       "                        <td id=\"T_009a9_row1_col1\" class=\"data row1 col1\" >0.248095</td>\n",
       "                        <td id=\"T_009a9_row1_col2\" class=\"data row1 col2\" >0.919782</td>\n",
       "                        <td id=\"T_009a9_row1_col3\" class=\"data row1 col3\" >0.208362</td>\n",
       "                        <td id=\"T_009a9_row1_col4\" class=\"data row1 col4\" >0.434255</td>\n",
       "            </tr>\n",
       "            <tr>\n",
       "                        <th id=\"T_009a9_level0_row2\" class=\"row_heading level0 row2\" >2</th>\n",
       "                        <td id=\"T_009a9_row2_col0\" class=\"data row2 col0\" >CartScreenAppear</td>\n",
       "                        <td id=\"T_009a9_row2_col1\" class=\"data row2 col1\" >0.228834</td>\n",
       "                        <td id=\"T_009a9_row2_col2\" class=\"data row2 col2\" >0.578620</td>\n",
       "                        <td id=\"T_009a9_row2_col3\" class=\"data row2 col3\" >0.078429</td>\n",
       "                        <td id=\"T_009a9_row2_col4\" class=\"data row2 col4\" >0.181759</td>\n",
       "            </tr>\n",
       "            <tr>\n",
       "                        <th id=\"T_009a9_level0_row3\" class=\"row_heading level0 row3\" >3</th>\n",
       "                        <td id=\"T_009a9_row3_col0\" class=\"data row3 col0\" >PaymentScreenSuccessful</td>\n",
       "                        <td id=\"T_009a9_row3_col1\" class=\"data row3 col1\" >0.114567</td>\n",
       "                        <td id=\"T_009a9_row3_col2\" class=\"data row3 col2\" >0.737342</td>\n",
       "                        <td id=\"T_009a9_row3_col3\" class=\"data row3 col3\" >0.212255</td>\n",
       "                        <td id=\"T_009a9_row3_col4\" class=\"data row3 col4\" >0.600429</td>\n",
       "            </tr>\n",
       "            <tr>\n",
       "                        <th id=\"T_009a9_level0_row4\" class=\"row_heading level0 row4\" >4</th>\n",
       "                        <td id=\"T_009a9_row4_col0\" class=\"data row4 col0\" >Tutorial</td>\n",
       "                        <td id=\"T_009a9_row4_col1\" class=\"data row4 col1\" >0.937700</td>\n",
       "                        <td id=\"T_009a9_row4_col2\" class=\"data row4 col2\" >0.765324</td>\n",
       "                        <td id=\"T_009a9_row4_col3\" class=\"data row4 col3\" >0.826429</td>\n",
       "                        <td id=\"T_009a9_row4_col4\" class=\"data row4 col4\" >0.764862</td>\n",
       "            </tr>\n",
       "    </tbody></table>"
      ],
      "text/plain": [
       "<pandas.io.formats.style.Styler at 0x7fb6af7832e0>"
      ]
     },
     "execution_count": 32,
     "metadata": {},
     "output_type": "execute_result"
    }
   ],
   "source": [
    "groups_stats.style.highlight_min(color='yellow', axis=0)"
   ]
  },
  {
   "cell_type": "markdown",
   "metadata": {},
   "source": [
    "Как видно из таблицы, для всех событий и всех пар групп p-value значительно больше 0.05 - самое низкое значение 0,078.\n",
    "Следовательно, нулевую гипотезу не удалось отвергнуть, и шрифт не влияет на взаимодействие пользователя с приложением.\n",
    "Было проверено 16 гипотез, т.е. группы 246, 247, 248 перекрёстно плюс совмещённая контрольная группа (246+247) с тестовой."
   ]
  },
  {
   "cell_type": "markdown",
   "metadata": {},
   "source": [
    "При коррекции уровня значимости по методу Бонферрони до оптимального он составит 0.05/16 или 0.03, что также меньше любого p-value из таблицы результатов."
   ]
  },
  {
   "cell_type": "markdown",
   "metadata": {},
   "source": [
    "# Выводы"
   ]
  },
  {
   "cell_type": "markdown",
   "metadata": {},
   "source": [
    "В ходе исследования были проверены данные о работе стартапа - магазина по продаже продуктов питания. Данные были получены \n",
    "в ходе проведения эксперимента. Нулевой гипотезой было предположение, что выбранный дизайнерами шрифт не влияет \n",
    "на взаимодействие пользователей с приложением. Отвергнуть эту гипотезу не удалось, по-видимому, шрифт действительно не влияет \n",
    "на пользователей, либо новый шрифт так же удобен и читаем, как старый. \n",
    "Наибольший скачок в воронке наблюдается между начальной страницей приложения и каталогом - этот этап не проходят примерно \n",
    "39% пользователей. Предположительно, здесь может быть или неправильная компоновка страницы - трудно найти иконку каталога, \n",
    "или неактивна внешняя ссылка для перехода, или по какой-то поведенческой причине пользователь меняет своём мнение - или\n",
    "обнаруживает, что характер сайта не соотвествует его желаниям (вместо фермерских продуктов обычные, например), или выскакивает\n",
    "баннер на всю страницу с предложением пройти тот самый туториал, или что-то подобное."
   ]
  }
 ],
 "metadata": {
  "ExecuteTimeLog": [
   {
    "duration": 1239,
    "start_time": "2024-12-23T12:00:34.649Z"
   },
   {
    "duration": 3,
    "start_time": "2024-12-23T12:00:35.889Z"
   },
   {
    "duration": 873,
    "start_time": "2024-12-23T12:00:42.047Z"
   },
   {
    "duration": 269,
    "start_time": "2024-12-23T12:00:51.120Z"
   },
   {
    "duration": 17,
    "start_time": "2024-12-23T12:00:53.963Z"
   },
   {
    "duration": 80,
    "start_time": "2024-12-23T12:01:11.687Z"
   },
   {
    "duration": 8,
    "start_time": "2024-12-23T12:01:16.399Z"
   },
   {
    "duration": 278,
    "start_time": "2024-12-23T12:01:48.970Z"
   },
   {
    "duration": 7,
    "start_time": "2024-12-23T12:01:50.866Z"
   },
   {
    "duration": 106,
    "start_time": "2024-12-23T12:01:57.887Z"
   },
   {
    "duration": 532,
    "start_time": "2024-12-23T12:03:10.549Z"
   },
   {
    "duration": 82,
    "start_time": "2024-12-23T12:04:13.500Z"
   },
   {
    "duration": 600,
    "start_time": "2024-12-23T12:04:52.924Z"
   },
   {
    "duration": 511,
    "start_time": "2024-12-23T12:05:11.205Z"
   },
   {
    "duration": 568,
    "start_time": "2024-12-23T12:05:34.220Z"
   },
   {
    "duration": 7,
    "start_time": "2024-12-23T12:05:36.644Z"
   },
   {
    "duration": 77,
    "start_time": "2024-12-23T12:05:41.972Z"
   },
   {
    "duration": 72,
    "start_time": "2024-12-23T12:05:53.323Z"
   },
   {
    "duration": 601,
    "start_time": "2024-12-23T12:06:02.604Z"
   },
   {
    "duration": 9,
    "start_time": "2024-12-23T12:06:05.476Z"
   },
   {
    "duration": 7,
    "start_time": "2024-12-23T12:09:04.833Z"
   },
   {
    "duration": 76,
    "start_time": "2024-12-23T12:11:40.336Z"
   },
   {
    "duration": 95,
    "start_time": "2024-12-23T12:11:49.512Z"
   },
   {
    "duration": 12,
    "start_time": "2024-12-23T12:12:03.864Z"
   },
   {
    "duration": 1040,
    "start_time": "2024-12-23T12:15:06.837Z"
   },
   {
    "duration": 538,
    "start_time": "2024-12-23T12:18:19.324Z"
   },
   {
    "duration": 6,
    "start_time": "2024-12-23T12:18:22.248Z"
   },
   {
    "duration": 649,
    "start_time": "2024-12-23T12:18:46.778Z"
   },
   {
    "duration": 7,
    "start_time": "2024-12-23T12:18:50.528Z"
   },
   {
    "duration": 69,
    "start_time": "2024-12-23T12:19:10.823Z"
   },
   {
    "duration": 1404,
    "start_time": "2024-12-23T12:19:35.264Z"
   },
   {
    "duration": 5,
    "start_time": "2024-12-23T12:20:03.858Z"
   },
   {
    "duration": 1334,
    "start_time": "2024-12-23T12:21:29.881Z"
   },
   {
    "duration": 86,
    "start_time": "2024-12-23T12:21:43.358Z"
   },
   {
    "duration": 66,
    "start_time": "2024-12-23T12:25:00.415Z"
   },
   {
    "duration": 78,
    "start_time": "2024-12-23T12:25:11.054Z"
   },
   {
    "duration": 1419,
    "start_time": "2024-12-23T12:28:21.065Z"
   },
   {
    "duration": 1337,
    "start_time": "2024-12-23T12:28:26.940Z"
   },
   {
    "duration": 80,
    "start_time": "2024-12-23T12:28:31.604Z"
   },
   {
    "duration": 117,
    "start_time": "2024-12-23T12:29:09.996Z"
   },
   {
    "duration": 12,
    "start_time": "2024-12-23T12:35:49.097Z"
   },
   {
    "duration": 929,
    "start_time": "2024-12-23T12:36:05.550Z"
   },
   {
    "duration": 7,
    "start_time": "2024-12-23T12:39:21.533Z"
   },
   {
    "duration": 1203,
    "start_time": "2024-12-23T12:39:34.220Z"
   },
   {
    "duration": 982,
    "start_time": "2024-12-23T12:39:43.220Z"
   },
   {
    "duration": 4,
    "start_time": "2024-12-23T12:41:36.746Z"
   },
   {
    "duration": 10,
    "start_time": "2024-12-23T12:43:20.078Z"
   },
   {
    "duration": 9,
    "start_time": "2024-12-23T12:43:32.642Z"
   },
   {
    "duration": 15,
    "start_time": "2024-12-23T12:43:47.130Z"
   },
   {
    "duration": 1444,
    "start_time": "2024-12-23T12:44:02.834Z"
   },
   {
    "duration": 103,
    "start_time": "2024-12-23T12:44:08.033Z"
   },
   {
    "duration": 9,
    "start_time": "2024-12-23T12:44:10.986Z"
   },
   {
    "duration": 4,
    "start_time": "2024-12-23T12:44:16.169Z"
   },
   {
    "duration": 10,
    "start_time": "2024-12-23T12:44:21.209Z"
   },
   {
    "duration": 10,
    "start_time": "2024-12-23T12:44:53.626Z"
   },
   {
    "duration": 10,
    "start_time": "2024-12-23T12:44:56.425Z"
   },
   {
    "duration": 1419,
    "start_time": "2024-12-23T12:45:04.552Z"
   },
   {
    "duration": 94,
    "start_time": "2024-12-23T12:45:07.537Z"
   },
   {
    "duration": 4,
    "start_time": "2024-12-23T12:45:10.192Z"
   },
   {
    "duration": 11,
    "start_time": "2024-12-23T12:45:14.441Z"
   },
   {
    "duration": 3,
    "start_time": "2024-12-23T12:45:27.980Z"
   },
   {
    "duration": 3,
    "start_time": "2024-12-23T12:45:28.007Z"
   },
   {
    "duration": 1326,
    "start_time": "2024-12-23T12:45:28.011Z"
   },
   {
    "duration": 91,
    "start_time": "2024-12-23T12:45:29.338Z"
   },
   {
    "duration": 104,
    "start_time": "2024-12-23T12:45:29.431Z"
   },
   {
    "duration": 16,
    "start_time": "2024-12-23T12:45:29.537Z"
   },
   {
    "duration": 2,
    "start_time": "2024-12-23T12:45:46.921Z"
   },
   {
    "duration": 5,
    "start_time": "2024-12-23T12:45:46.925Z"
   },
   {
    "duration": 1383,
    "start_time": "2024-12-23T12:45:46.948Z"
   },
   {
    "duration": 85,
    "start_time": "2024-12-23T12:45:48.333Z"
   },
   {
    "duration": 101,
    "start_time": "2024-12-23T12:45:48.420Z"
   },
   {
    "duration": 4,
    "start_time": "2024-12-23T12:45:48.522Z"
   },
   {
    "duration": 10,
    "start_time": "2024-12-23T12:45:51.560Z"
   },
   {
    "duration": 15,
    "start_time": "2024-12-23T12:54:39.722Z"
   },
   {
    "duration": 7,
    "start_time": "2024-12-23T12:56:53.480Z"
   },
   {
    "duration": 3,
    "start_time": "2024-12-23T13:02:46.117Z"
   },
   {
    "duration": 16,
    "start_time": "2024-12-23T13:02:46.122Z"
   },
   {
    "duration": 1343,
    "start_time": "2024-12-23T13:02:46.139Z"
   },
   {
    "duration": 89,
    "start_time": "2024-12-23T13:02:47.484Z"
   },
   {
    "duration": 62,
    "start_time": "2024-12-23T13:02:47.574Z"
   },
   {
    "duration": 5,
    "start_time": "2024-12-23T13:03:29.044Z"
   },
   {
    "duration": 11,
    "start_time": "2024-12-23T13:03:31.812Z"
   },
   {
    "duration": 3,
    "start_time": "2024-12-23T13:05:15.683Z"
   },
   {
    "duration": 3,
    "start_time": "2024-12-23T13:06:52.770Z"
   },
   {
    "duration": 7,
    "start_time": "2024-12-23T13:07:08.969Z"
   },
   {
    "duration": 4,
    "start_time": "2024-12-23T13:07:53.857Z"
   },
   {
    "duration": 926,
    "start_time": "2024-12-23T14:05:50.955Z"
   },
   {
    "duration": 7,
    "start_time": "2024-12-23T14:06:01.267Z"
   },
   {
    "duration": 6,
    "start_time": "2024-12-23T14:06:14.122Z"
   },
   {
    "duration": 12,
    "start_time": "2024-12-23T14:06:21.123Z"
   },
   {
    "duration": 6,
    "start_time": "2024-12-23T14:23:01.760Z"
   },
   {
    "duration": 9,
    "start_time": "2024-12-23T14:24:01.363Z"
   },
   {
    "duration": 19,
    "start_time": "2024-12-23T14:24:13.047Z"
   },
   {
    "duration": 64,
    "start_time": "2024-12-23T14:32:38.049Z"
   },
   {
    "duration": 64,
    "start_time": "2024-12-23T14:32:56.977Z"
   },
   {
    "duration": 5,
    "start_time": "2024-12-23T14:33:48.404Z"
   },
   {
    "duration": 6,
    "start_time": "2024-12-23T14:35:04.750Z"
   },
   {
    "duration": 6,
    "start_time": "2024-12-23T14:35:41.615Z"
   },
   {
    "duration": 90,
    "start_time": "2024-12-23T14:39:05.533Z"
   },
   {
    "duration": 7,
    "start_time": "2024-12-23T14:41:00.116Z"
   },
   {
    "duration": 7,
    "start_time": "2024-12-23T14:41:14.651Z"
   },
   {
    "duration": 6,
    "start_time": "2024-12-23T14:42:02.859Z"
   },
   {
    "duration": 251,
    "start_time": "2024-12-23T19:14:50.831Z"
   },
   {
    "duration": 274,
    "start_time": "2024-12-23T19:22:24.850Z"
   },
   {
    "duration": 226,
    "start_time": "2024-12-23T19:22:40.632Z"
   },
   {
    "duration": 262,
    "start_time": "2024-12-23T19:22:47.457Z"
   },
   {
    "duration": 274,
    "start_time": "2024-12-24T07:18:23.934Z"
   },
   {
    "duration": 274,
    "start_time": "2024-12-24T07:23:38.579Z"
   },
   {
    "duration": 296,
    "start_time": "2024-12-24T07:25:20.018Z"
   },
   {
    "duration": 344,
    "start_time": "2024-12-24T07:26:00.433Z"
   },
   {
    "duration": 272,
    "start_time": "2024-12-24T07:26:24.593Z"
   },
   {
    "duration": 8,
    "start_time": "2024-12-24T07:30:02.294Z"
   },
   {
    "duration": 189,
    "start_time": "2024-12-24T07:30:14.590Z"
   },
   {
    "duration": 178,
    "start_time": "2024-12-24T07:30:29.270Z"
   },
   {
    "duration": 214,
    "start_time": "2024-12-24T07:31:59.126Z"
   },
   {
    "duration": 117,
    "start_time": "2024-12-24T07:33:15.462Z"
   },
   {
    "duration": 194,
    "start_time": "2024-12-24T07:33:20.973Z"
   },
   {
    "duration": 515,
    "start_time": "2024-12-24T07:36:47.218Z"
   },
   {
    "duration": 18,
    "start_time": "2024-12-24T07:37:19.210Z"
   },
   {
    "duration": 18,
    "start_time": "2024-12-24T07:37:24.963Z"
   },
   {
    "duration": 614,
    "start_time": "2024-12-24T07:38:03.563Z"
   },
   {
    "duration": 577,
    "start_time": "2024-12-24T07:38:22.441Z"
   },
   {
    "duration": 217,
    "start_time": "2024-12-24T07:39:45.120Z"
   },
   {
    "duration": 236,
    "start_time": "2024-12-24T07:39:53.688Z"
   },
   {
    "duration": 213,
    "start_time": "2024-12-24T07:40:57.991Z"
   },
   {
    "duration": 220,
    "start_time": "2024-12-24T07:42:15.982Z"
   },
   {
    "duration": 218,
    "start_time": "2024-12-24T07:46:44.274Z"
   },
   {
    "duration": 200,
    "start_time": "2024-12-24T07:46:53.186Z"
   },
   {
    "duration": 210,
    "start_time": "2024-12-24T07:47:29.970Z"
   },
   {
    "duration": 9,
    "start_time": "2024-12-24T07:53:12.197Z"
   },
   {
    "duration": 10,
    "start_time": "2024-12-24T07:54:50.493Z"
   },
   {
    "duration": 68,
    "start_time": "2024-12-24T07:59:32.777Z"
   },
   {
    "duration": 15,
    "start_time": "2024-12-24T08:03:16.334Z"
   },
   {
    "duration": 1103,
    "start_time": "2024-12-24T08:03:40.483Z"
   },
   {
    "duration": 2,
    "start_time": "2024-12-24T08:03:41.588Z"
   },
   {
    "duration": 1374,
    "start_time": "2024-12-24T08:03:41.592Z"
   },
   {
    "duration": 113,
    "start_time": "2024-12-24T08:03:42.968Z"
   },
   {
    "duration": 101,
    "start_time": "2024-12-24T08:03:43.084Z"
   },
   {
    "duration": 0,
    "start_time": "2024-12-24T08:03:43.186Z"
   },
   {
    "duration": 0,
    "start_time": "2024-12-24T08:03:43.187Z"
   },
   {
    "duration": 0,
    "start_time": "2024-12-24T08:03:43.188Z"
   },
   {
    "duration": 0,
    "start_time": "2024-12-24T08:03:43.189Z"
   },
   {
    "duration": 0,
    "start_time": "2024-12-24T08:03:43.190Z"
   },
   {
    "duration": 0,
    "start_time": "2024-12-24T08:03:43.191Z"
   },
   {
    "duration": 1455,
    "start_time": "2024-12-24T08:04:03.137Z"
   },
   {
    "duration": 97,
    "start_time": "2024-12-24T08:04:06.193Z"
   },
   {
    "duration": 8,
    "start_time": "2024-12-24T08:04:09.408Z"
   },
   {
    "duration": 115,
    "start_time": "2024-12-24T08:04:11.880Z"
   },
   {
    "duration": 8,
    "start_time": "2024-12-24T08:04:13.752Z"
   },
   {
    "duration": 2,
    "start_time": "2024-12-24T08:04:24.962Z"
   },
   {
    "duration": 17,
    "start_time": "2024-12-24T08:04:24.966Z"
   },
   {
    "duration": 1317,
    "start_time": "2024-12-24T08:04:24.984Z"
   },
   {
    "duration": 106,
    "start_time": "2024-12-24T08:04:26.303Z"
   },
   {
    "duration": 7,
    "start_time": "2024-12-24T08:04:26.411Z"
   },
   {
    "duration": 123,
    "start_time": "2024-12-24T08:04:26.419Z"
   },
   {
    "duration": 10,
    "start_time": "2024-12-24T08:04:26.543Z"
   },
   {
    "duration": 14,
    "start_time": "2024-12-24T08:04:26.555Z"
   },
   {
    "duration": 1014,
    "start_time": "2024-12-24T08:04:26.571Z"
   },
   {
    "duration": 0,
    "start_time": "2024-12-24T08:04:27.586Z"
   },
   {
    "duration": 0,
    "start_time": "2024-12-24T08:04:27.587Z"
   },
   {
    "duration": 1109,
    "start_time": "2024-12-24T08:05:13.527Z"
   },
   {
    "duration": 3,
    "start_time": "2024-12-24T08:05:14.638Z"
   },
   {
    "duration": 1304,
    "start_time": "2024-12-24T08:05:14.642Z"
   },
   {
    "duration": 94,
    "start_time": "2024-12-24T08:05:15.948Z"
   },
   {
    "duration": 0,
    "start_time": "2024-12-24T08:05:16.044Z"
   },
   {
    "duration": 0,
    "start_time": "2024-12-24T08:05:16.052Z"
   },
   {
    "duration": 0,
    "start_time": "2024-12-24T08:05:16.053Z"
   },
   {
    "duration": 0,
    "start_time": "2024-12-24T08:05:16.054Z"
   },
   {
    "duration": 106,
    "start_time": "2024-12-24T08:05:30.213Z"
   },
   {
    "duration": 4,
    "start_time": "2024-12-24T08:05:34.277Z"
   },
   {
    "duration": 1040,
    "start_time": "2024-12-24T08:07:45.260Z"
   },
   {
    "duration": 3,
    "start_time": "2024-12-24T08:07:46.302Z"
   },
   {
    "duration": 1280,
    "start_time": "2024-12-24T08:07:46.306Z"
   },
   {
    "duration": 101,
    "start_time": "2024-12-24T08:07:47.587Z"
   },
   {
    "duration": 4,
    "start_time": "2024-12-24T08:07:47.689Z"
   },
   {
    "duration": 126,
    "start_time": "2024-12-24T08:07:47.695Z"
   },
   {
    "duration": 9,
    "start_time": "2024-12-24T08:07:55.186Z"
   },
   {
    "duration": 15,
    "start_time": "2024-12-24T08:08:02.298Z"
   },
   {
    "duration": 8,
    "start_time": "2024-12-24T08:08:05.762Z"
   },
   {
    "duration": 3,
    "start_time": "2024-12-24T08:08:08.418Z"
   },
   {
    "duration": 8,
    "start_time": "2024-12-24T08:08:11.100Z"
   },
   {
    "duration": 99,
    "start_time": "2024-12-24T08:08:19.979Z"
   },
   {
    "duration": 257,
    "start_time": "2024-12-24T08:08:37.265Z"
   },
   {
    "duration": 14,
    "start_time": "2024-12-24T08:08:48.914Z"
   },
   {
    "duration": 5,
    "start_time": "2024-12-24T08:09:04.058Z"
   },
   {
    "duration": 54,
    "start_time": "2024-12-24T08:09:23.193Z"
   },
   {
    "duration": 1008,
    "start_time": "2024-12-24T08:09:57.642Z"
   },
   {
    "duration": 325,
    "start_time": "2024-12-24T08:47:30.017Z"
   },
   {
    "duration": 288,
    "start_time": "2024-12-24T08:47:51.969Z"
   },
   {
    "duration": 23,
    "start_time": "2024-12-24T08:49:30.231Z"
   },
   {
    "duration": 20,
    "start_time": "2024-12-24T08:50:54.126Z"
   },
   {
    "duration": 59,
    "start_time": "2024-12-24T08:54:20.804Z"
   },
   {
    "duration": 26,
    "start_time": "2024-12-24T08:54:32.299Z"
   },
   {
    "duration": 26,
    "start_time": "2024-12-24T08:54:39.995Z"
   },
   {
    "duration": 6,
    "start_time": "2024-12-24T08:54:49.571Z"
   },
   {
    "duration": 494,
    "start_time": "2024-12-24T08:55:14.131Z"
   },
   {
    "duration": 235,
    "start_time": "2024-12-24T08:56:00.338Z"
   },
   {
    "duration": 438,
    "start_time": "2024-12-24T08:56:14.083Z"
   },
   {
    "duration": 424,
    "start_time": "2024-12-24T08:56:40.882Z"
   },
   {
    "duration": 424,
    "start_time": "2024-12-24T08:56:54.369Z"
   },
   {
    "duration": 188,
    "start_time": "2024-12-24T08:57:23.297Z"
   },
   {
    "duration": 408,
    "start_time": "2024-12-24T09:01:03.870Z"
   },
   {
    "duration": 1311,
    "start_time": "2024-12-24T09:01:21.014Z"
   },
   {
    "duration": 3,
    "start_time": "2024-12-24T09:01:34.224Z"
   },
   {
    "duration": 34,
    "start_time": "2024-12-24T09:01:34.229Z"
   },
   {
    "duration": 1436,
    "start_time": "2024-12-24T09:01:34.264Z"
   },
   {
    "duration": 89,
    "start_time": "2024-12-24T09:01:35.702Z"
   },
   {
    "duration": 6,
    "start_time": "2024-12-24T09:01:35.793Z"
   },
   {
    "duration": 144,
    "start_time": "2024-12-24T09:01:35.801Z"
   },
   {
    "duration": 13,
    "start_time": "2024-12-24T09:01:35.946Z"
   },
   {
    "duration": 91,
    "start_time": "2024-12-24T09:01:35.960Z"
   },
   {
    "duration": 84,
    "start_time": "2024-12-24T09:01:36.053Z"
   },
   {
    "duration": 24,
    "start_time": "2024-12-24T09:01:36.138Z"
   },
   {
    "duration": 39,
    "start_time": "2024-12-24T09:01:36.163Z"
   },
   {
    "duration": 65,
    "start_time": "2024-12-24T09:01:36.204Z"
   },
   {
    "duration": 107,
    "start_time": "2024-12-24T09:01:36.270Z"
   },
   {
    "duration": 40,
    "start_time": "2024-12-24T09:01:36.379Z"
   },
   {
    "duration": 36,
    "start_time": "2024-12-24T09:01:36.420Z"
   },
   {
    "duration": 84,
    "start_time": "2024-12-24T09:01:36.457Z"
   },
   {
    "duration": 469,
    "start_time": "2024-12-24T09:01:39.374Z"
   },
   {
    "duration": 379,
    "start_time": "2024-12-24T09:02:20.341Z"
   },
   {
    "duration": 1311,
    "start_time": "2024-12-24T09:02:28.974Z"
   },
   {
    "duration": 268,
    "start_time": "2024-12-24T09:02:34.741Z"
   },
   {
    "duration": 114,
    "start_time": "2024-12-24T09:11:57.903Z"
   },
   {
    "duration": 39,
    "start_time": "2024-12-24T09:12:05.295Z"
   },
   {
    "duration": 248,
    "start_time": "2024-12-24T09:12:16.215Z"
   },
   {
    "duration": 273,
    "start_time": "2024-12-24T09:12:27.758Z"
   },
   {
    "duration": 268,
    "start_time": "2024-12-24T09:12:45.870Z"
   },
   {
    "duration": 47,
    "start_time": "2024-12-24T09:15:39.836Z"
   },
   {
    "duration": 54,
    "start_time": "2024-12-24T09:15:51.596Z"
   },
   {
    "duration": 963,
    "start_time": "2024-12-24T09:20:09.361Z"
   },
   {
    "duration": 38,
    "start_time": "2024-12-24T09:20:23.449Z"
   },
   {
    "duration": 19,
    "start_time": "2024-12-24T09:20:33.064Z"
   },
   {
    "duration": 56,
    "start_time": "2024-12-24T09:27:48.251Z"
   },
   {
    "duration": 1132,
    "start_time": "2024-12-24T09:28:51.965Z"
   },
   {
    "duration": 3,
    "start_time": "2024-12-24T09:28:53.099Z"
   },
   {
    "duration": 1370,
    "start_time": "2024-12-24T09:28:53.103Z"
   },
   {
    "duration": 102,
    "start_time": "2024-12-24T09:28:54.475Z"
   },
   {
    "duration": 5,
    "start_time": "2024-12-24T09:28:54.579Z"
   },
   {
    "duration": 125,
    "start_time": "2024-12-24T09:28:54.586Z"
   },
   {
    "duration": 9,
    "start_time": "2024-12-24T09:28:54.712Z"
   },
   {
    "duration": 30,
    "start_time": "2024-12-24T09:28:54.722Z"
   },
   {
    "duration": 12,
    "start_time": "2024-12-24T09:28:54.753Z"
   },
   {
    "duration": 4,
    "start_time": "2024-12-24T09:28:54.766Z"
   },
   {
    "duration": 11,
    "start_time": "2024-12-24T09:28:54.771Z"
   },
   {
    "duration": 5,
    "start_time": "2024-12-24T09:28:54.784Z"
   },
   {
    "duration": 78,
    "start_time": "2024-12-24T09:28:54.791Z"
   },
   {
    "duration": 40,
    "start_time": "2024-12-24T09:28:54.872Z"
   },
   {
    "duration": 9,
    "start_time": "2024-12-24T09:28:54.914Z"
   },
   {
    "duration": 296,
    "start_time": "2024-12-24T09:28:54.924Z"
   },
   {
    "duration": 62,
    "start_time": "2024-12-24T09:28:55.221Z"
   },
   {
    "duration": 17,
    "start_time": "2024-12-24T09:28:55.285Z"
   },
   {
    "duration": 105,
    "start_time": "2024-12-24T09:28:55.304Z"
   },
   {
    "duration": 62,
    "start_time": "2024-12-24T09:29:19.965Z"
   },
   {
    "duration": 106,
    "start_time": "2024-12-24T09:36:22.993Z"
   },
   {
    "duration": 167,
    "start_time": "2024-12-24T09:36:32.728Z"
   },
   {
    "duration": 4,
    "start_time": "2024-12-24T09:47:54.936Z"
   },
   {
    "duration": 7,
    "start_time": "2024-12-24T09:48:05.785Z"
   },
   {
    "duration": 59,
    "start_time": "2024-12-24T09:49:38.567Z"
   },
   {
    "duration": 27,
    "start_time": "2024-12-24T09:49:52.335Z"
   },
   {
    "duration": 97,
    "start_time": "2024-12-24T09:56:25.627Z"
   },
   {
    "duration": 49,
    "start_time": "2024-12-25T10:08:17.831Z"
   },
   {
    "duration": 1278,
    "start_time": "2024-12-25T10:08:28.062Z"
   },
   {
    "duration": 3,
    "start_time": "2024-12-25T10:08:29.345Z"
   },
   {
    "duration": 1618,
    "start_time": "2024-12-25T10:08:29.349Z"
   },
   {
    "duration": 90,
    "start_time": "2024-12-25T10:08:30.969Z"
   },
   {
    "duration": 4,
    "start_time": "2024-12-25T10:08:31.061Z"
   },
   {
    "duration": 230,
    "start_time": "2024-12-25T10:08:31.066Z"
   },
   {
    "duration": 9,
    "start_time": "2024-12-25T10:08:31.297Z"
   },
   {
    "duration": 17,
    "start_time": "2024-12-25T10:08:31.307Z"
   },
   {
    "duration": 19,
    "start_time": "2024-12-25T10:08:31.325Z"
   },
   {
    "duration": 7,
    "start_time": "2024-12-25T10:08:31.346Z"
   },
   {
    "duration": 13,
    "start_time": "2024-12-25T10:08:31.355Z"
   },
   {
    "duration": 12,
    "start_time": "2024-12-25T10:08:31.370Z"
   },
   {
    "duration": 70,
    "start_time": "2024-12-25T10:08:31.384Z"
   },
   {
    "duration": 27,
    "start_time": "2024-12-25T10:08:31.458Z"
   },
   {
    "duration": 6,
    "start_time": "2024-12-25T10:08:31.487Z"
   },
   {
    "duration": 340,
    "start_time": "2024-12-25T10:08:31.495Z"
   },
   {
    "duration": 56,
    "start_time": "2024-12-25T10:08:31.845Z"
   },
   {
    "duration": 18,
    "start_time": "2024-12-25T10:08:31.902Z"
   },
   {
    "duration": 125,
    "start_time": "2024-12-25T10:08:31.921Z"
   },
   {
    "duration": 178,
    "start_time": "2024-12-25T10:08:32.047Z"
   },
   {
    "duration": 77,
    "start_time": "2024-12-25T10:08:32.227Z"
   },
   {
    "duration": 0,
    "start_time": "2024-12-25T10:08:32.305Z"
   },
   {
    "duration": 0,
    "start_time": "2024-12-25T10:08:32.307Z"
   },
   {
    "duration": 0,
    "start_time": "2024-12-25T10:08:32.308Z"
   },
   {
    "duration": 28,
    "start_time": "2024-12-25T10:08:43.436Z"
   },
   {
    "duration": 165,
    "start_time": "2024-12-25T10:08:46.187Z"
   },
   {
    "duration": 40,
    "start_time": "2024-12-25T10:08:49.435Z"
   },
   {
    "duration": 199,
    "start_time": "2024-12-25T10:12:33.336Z"
   },
   {
    "duration": 4,
    "start_time": "2024-12-25T10:16:08.798Z"
   },
   {
    "duration": 12,
    "start_time": "2024-12-25T10:17:21.549Z"
   },
   {
    "duration": 14,
    "start_time": "2024-12-25T10:17:59.093Z"
   },
   {
    "duration": 14,
    "start_time": "2024-12-25T10:19:10.003Z"
   },
   {
    "duration": 3,
    "start_time": "2024-12-25T10:19:15.623Z"
   },
   {
    "duration": 35,
    "start_time": "2024-12-25T10:19:15.627Z"
   },
   {
    "duration": 1335,
    "start_time": "2024-12-25T10:19:15.663Z"
   },
   {
    "duration": 104,
    "start_time": "2024-12-25T10:19:16.999Z"
   },
   {
    "duration": 6,
    "start_time": "2024-12-25T10:19:17.105Z"
   },
   {
    "duration": 154,
    "start_time": "2024-12-25T10:19:17.113Z"
   },
   {
    "duration": 11,
    "start_time": "2024-12-25T10:19:17.269Z"
   },
   {
    "duration": 15,
    "start_time": "2024-12-25T10:19:17.281Z"
   },
   {
    "duration": 7,
    "start_time": "2024-12-25T10:19:17.297Z"
   },
   {
    "duration": 3,
    "start_time": "2024-12-25T10:19:17.306Z"
   },
   {
    "duration": 12,
    "start_time": "2024-12-25T10:19:17.310Z"
   },
   {
    "duration": 24,
    "start_time": "2024-12-25T10:19:17.323Z"
   },
   {
    "duration": 57,
    "start_time": "2024-12-25T10:19:17.349Z"
   },
   {
    "duration": 42,
    "start_time": "2024-12-25T10:19:17.409Z"
   },
   {
    "duration": 5,
    "start_time": "2024-12-25T10:19:17.453Z"
   },
   {
    "duration": 313,
    "start_time": "2024-12-25T10:19:17.459Z"
   },
   {
    "duration": 57,
    "start_time": "2024-12-25T10:19:17.773Z"
   },
   {
    "duration": 30,
    "start_time": "2024-12-25T10:19:17.831Z"
   },
   {
    "duration": 60,
    "start_time": "2024-12-25T10:19:17.863Z"
   },
   {
    "duration": 190,
    "start_time": "2024-12-25T10:19:17.925Z"
   },
   {
    "duration": 36,
    "start_time": "2024-12-25T10:19:18.116Z"
   },
   {
    "duration": 100,
    "start_time": "2024-12-25T10:19:18.154Z"
   },
   {
    "duration": 40,
    "start_time": "2024-12-25T10:19:18.256Z"
   },
   {
    "duration": 206,
    "start_time": "2024-12-25T10:19:18.297Z"
   },
   {
    "duration": 3,
    "start_time": "2024-12-25T10:19:18.505Z"
   },
   {
    "duration": 64,
    "start_time": "2024-12-25T10:19:21.764Z"
   },
   {
    "duration": 10,
    "start_time": "2024-12-25T10:25:09.993Z"
   },
   {
    "duration": 10,
    "start_time": "2024-12-25T10:27:21.662Z"
   },
   {
    "duration": 14,
    "start_time": "2024-12-25T10:28:08.006Z"
   },
   {
    "duration": 11,
    "start_time": "2024-12-25T10:28:27.398Z"
   },
   {
    "duration": 1041,
    "start_time": "2024-12-25T10:40:20.890Z"
   },
   {
    "duration": 2,
    "start_time": "2024-12-25T10:40:21.933Z"
   },
   {
    "duration": 1375,
    "start_time": "2024-12-25T10:40:21.938Z"
   },
   {
    "duration": 95,
    "start_time": "2024-12-25T10:40:23.314Z"
   },
   {
    "duration": 4,
    "start_time": "2024-12-25T10:40:23.411Z"
   },
   {
    "duration": 130,
    "start_time": "2024-12-25T10:40:23.416Z"
   },
   {
    "duration": 8,
    "start_time": "2024-12-25T10:40:23.548Z"
   },
   {
    "duration": 14,
    "start_time": "2024-12-25T10:40:23.558Z"
   },
   {
    "duration": 11,
    "start_time": "2024-12-25T10:40:23.573Z"
   },
   {
    "duration": 3,
    "start_time": "2024-12-25T10:40:23.586Z"
   },
   {
    "duration": 13,
    "start_time": "2024-12-25T10:40:23.590Z"
   },
   {
    "duration": 8,
    "start_time": "2024-12-25T10:40:23.605Z"
   },
   {
    "duration": 81,
    "start_time": "2024-12-25T10:40:23.615Z"
   },
   {
    "duration": 24,
    "start_time": "2024-12-25T10:40:23.699Z"
   },
   {
    "duration": 5,
    "start_time": "2024-12-25T10:40:23.725Z"
   },
   {
    "duration": 370,
    "start_time": "2024-12-25T10:40:23.731Z"
   },
   {
    "duration": 63,
    "start_time": "2024-12-25T10:40:24.103Z"
   },
   {
    "duration": 17,
    "start_time": "2024-12-25T10:40:24.167Z"
   },
   {
    "duration": 118,
    "start_time": "2024-12-25T10:40:24.186Z"
   },
   {
    "duration": 179,
    "start_time": "2024-12-25T10:40:24.306Z"
   },
   {
    "duration": 30,
    "start_time": "2024-12-25T10:40:24.486Z"
   },
   {
    "duration": 206,
    "start_time": "2024-12-25T10:40:24.518Z"
   },
   {
    "duration": 56,
    "start_time": "2024-12-25T10:40:24.725Z"
   },
   {
    "duration": 184,
    "start_time": "2024-12-25T10:40:24.783Z"
   },
   {
    "duration": 4,
    "start_time": "2024-12-25T10:40:24.969Z"
   },
   {
    "duration": 81,
    "start_time": "2024-12-25T10:40:24.974Z"
   },
   {
    "duration": 9,
    "start_time": "2024-12-25T10:40:25.057Z"
   },
   {
    "duration": 40,
    "start_time": "2024-12-25T10:40:25.068Z"
   },
   {
    "duration": 14,
    "start_time": "2024-12-25T10:40:25.110Z"
   },
   {
    "duration": 19,
    "start_time": "2024-12-25T10:40:25.125Z"
   },
   {
    "duration": 75,
    "start_time": "2024-12-25T10:40:25.145Z"
   },
   {
    "duration": 1111,
    "start_time": "2024-12-25T10:40:38.024Z"
   },
   {
    "duration": 3,
    "start_time": "2024-12-25T10:40:39.137Z"
   },
   {
    "duration": 1309,
    "start_time": "2024-12-25T10:40:39.145Z"
   },
   {
    "duration": 101,
    "start_time": "2024-12-25T10:40:40.455Z"
   },
   {
    "duration": 4,
    "start_time": "2024-12-25T10:40:40.558Z"
   },
   {
    "duration": 150,
    "start_time": "2024-12-25T10:40:40.563Z"
   },
   {
    "duration": 8,
    "start_time": "2024-12-25T10:40:40.714Z"
   },
   {
    "duration": 22,
    "start_time": "2024-12-25T10:40:40.724Z"
   },
   {
    "duration": 6,
    "start_time": "2024-12-25T10:40:40.748Z"
   },
   {
    "duration": 3,
    "start_time": "2024-12-25T10:40:40.755Z"
   },
   {
    "duration": 10,
    "start_time": "2024-12-25T10:40:40.760Z"
   },
   {
    "duration": 6,
    "start_time": "2024-12-25T10:40:40.772Z"
   },
   {
    "duration": 82,
    "start_time": "2024-12-25T10:40:40.780Z"
   },
   {
    "duration": 25,
    "start_time": "2024-12-25T10:40:40.866Z"
   },
   {
    "duration": 6,
    "start_time": "2024-12-25T10:40:40.893Z"
   },
   {
    "duration": 325,
    "start_time": "2024-12-25T10:40:40.901Z"
   },
   {
    "duration": 68,
    "start_time": "2024-12-25T10:40:41.228Z"
   },
   {
    "duration": 18,
    "start_time": "2024-12-25T10:40:41.298Z"
   },
   {
    "duration": 129,
    "start_time": "2024-12-25T10:40:41.318Z"
   },
   {
    "duration": 176,
    "start_time": "2024-12-25T10:40:41.448Z"
   },
   {
    "duration": 38,
    "start_time": "2024-12-25T10:40:41.626Z"
   },
   {
    "duration": 203,
    "start_time": "2024-12-25T10:40:41.665Z"
   },
   {
    "duration": 40,
    "start_time": "2024-12-25T10:40:41.870Z"
   },
   {
    "duration": 215,
    "start_time": "2024-12-25T10:40:41.912Z"
   },
   {
    "duration": 4,
    "start_time": "2024-12-25T10:40:42.128Z"
   },
   {
    "duration": 74,
    "start_time": "2024-12-25T10:40:42.134Z"
   },
   {
    "duration": 10,
    "start_time": "2024-12-25T10:40:42.210Z"
   },
   {
    "duration": 25,
    "start_time": "2024-12-25T10:40:42.222Z"
   },
   {
    "duration": 10,
    "start_time": "2024-12-25T10:40:42.248Z"
   },
   {
    "duration": 23,
    "start_time": "2024-12-25T10:40:42.259Z"
   },
   {
    "duration": 1317,
    "start_time": "2024-12-25T11:14:24.807Z"
   },
   {
    "duration": 2,
    "start_time": "2024-12-25T11:14:26.126Z"
   },
   {
    "duration": 1391,
    "start_time": "2024-12-25T11:14:26.130Z"
   },
   {
    "duration": 100,
    "start_time": "2024-12-25T11:14:27.522Z"
   },
   {
    "duration": 4,
    "start_time": "2024-12-25T11:14:27.624Z"
   },
   {
    "duration": 120,
    "start_time": "2024-12-25T11:14:27.630Z"
   },
   {
    "duration": 9,
    "start_time": "2024-12-25T11:14:27.751Z"
   },
   {
    "duration": 39,
    "start_time": "2024-12-25T11:14:27.762Z"
   },
   {
    "duration": 6,
    "start_time": "2024-12-25T11:14:27.803Z"
   },
   {
    "duration": 11,
    "start_time": "2024-12-25T11:14:27.810Z"
   },
   {
    "duration": 22,
    "start_time": "2024-12-25T11:14:27.823Z"
   },
   {
    "duration": 8,
    "start_time": "2024-12-25T11:14:27.847Z"
   },
   {
    "duration": 103,
    "start_time": "2024-12-25T11:14:27.857Z"
   },
   {
    "duration": 32,
    "start_time": "2024-12-25T11:14:27.963Z"
   },
   {
    "duration": 5,
    "start_time": "2024-12-25T11:14:27.997Z"
   },
   {
    "duration": 341,
    "start_time": "2024-12-25T11:14:28.003Z"
   },
   {
    "duration": 59,
    "start_time": "2024-12-25T11:14:28.345Z"
   },
   {
    "duration": 17,
    "start_time": "2024-12-25T11:14:28.421Z"
   },
   {
    "duration": 131,
    "start_time": "2024-12-25T11:14:28.439Z"
   },
   {
    "duration": 175,
    "start_time": "2024-12-25T11:14:28.572Z"
   },
   {
    "duration": 28,
    "start_time": "2024-12-25T11:14:28.749Z"
   },
   {
    "duration": 211,
    "start_time": "2024-12-25T11:14:28.779Z"
   },
   {
    "duration": 45,
    "start_time": "2024-12-25T11:14:28.992Z"
   },
   {
    "duration": 188,
    "start_time": "2024-12-25T11:14:29.038Z"
   },
   {
    "duration": 4,
    "start_time": "2024-12-25T11:14:29.227Z"
   },
   {
    "duration": 90,
    "start_time": "2024-12-25T11:14:29.232Z"
   },
   {
    "duration": 10,
    "start_time": "2024-12-25T11:14:29.323Z"
   },
   {
    "duration": 27,
    "start_time": "2024-12-25T11:14:29.334Z"
   },
   {
    "duration": 11,
    "start_time": "2024-12-25T11:14:29.362Z"
   },
   {
    "duration": 39,
    "start_time": "2024-12-25T11:14:29.375Z"
   },
   {
    "duration": 164,
    "start_time": "2024-12-25T11:24:11.821Z"
   },
   {
    "duration": 21,
    "start_time": "2024-12-25T11:29:47.340Z"
   },
   {
    "duration": 1094,
    "start_time": "2024-12-25T11:30:05.127Z"
   },
   {
    "duration": 3,
    "start_time": "2024-12-25T11:30:06.223Z"
   },
   {
    "duration": 1353,
    "start_time": "2024-12-25T11:30:06.227Z"
   },
   {
    "duration": 89,
    "start_time": "2024-12-25T11:30:07.582Z"
   },
   {
    "duration": 5,
    "start_time": "2024-12-25T11:30:07.672Z"
   },
   {
    "duration": 159,
    "start_time": "2024-12-25T11:30:07.678Z"
   },
   {
    "duration": 8,
    "start_time": "2024-12-25T11:30:07.838Z"
   },
   {
    "duration": 26,
    "start_time": "2024-12-25T11:30:07.847Z"
   },
   {
    "duration": 10,
    "start_time": "2024-12-25T11:30:07.875Z"
   },
   {
    "duration": 13,
    "start_time": "2024-12-25T11:30:07.886Z"
   },
   {
    "duration": 24,
    "start_time": "2024-12-25T11:30:07.901Z"
   },
   {
    "duration": 5,
    "start_time": "2024-12-25T11:30:07.927Z"
   },
   {
    "duration": 98,
    "start_time": "2024-12-25T11:30:07.934Z"
   },
   {
    "duration": 48,
    "start_time": "2024-12-25T11:30:08.034Z"
   },
   {
    "duration": 5,
    "start_time": "2024-12-25T11:30:08.084Z"
   },
   {
    "duration": 355,
    "start_time": "2024-12-25T11:30:08.090Z"
   },
   {
    "duration": 58,
    "start_time": "2024-12-25T11:30:08.446Z"
   },
   {
    "duration": 28,
    "start_time": "2024-12-25T11:30:08.506Z"
   },
   {
    "duration": 126,
    "start_time": "2024-12-25T11:30:08.536Z"
   },
   {
    "duration": 172,
    "start_time": "2024-12-25T11:30:08.664Z"
   },
   {
    "duration": 29,
    "start_time": "2024-12-25T11:30:08.838Z"
   },
   {
    "duration": 258,
    "start_time": "2024-12-25T11:30:08.868Z"
   },
   {
    "duration": 36,
    "start_time": "2024-12-25T11:30:09.128Z"
   },
   {
    "duration": 190,
    "start_time": "2024-12-25T11:30:09.165Z"
   },
   {
    "duration": 4,
    "start_time": "2024-12-25T11:30:09.356Z"
   },
   {
    "duration": 79,
    "start_time": "2024-12-25T11:30:09.361Z"
   },
   {
    "duration": 8,
    "start_time": "2024-12-25T11:30:09.442Z"
   },
   {
    "duration": 17,
    "start_time": "2024-12-25T11:30:09.451Z"
   },
   {
    "duration": 19,
    "start_time": "2024-12-25T11:30:09.470Z"
   },
   {
    "duration": 28,
    "start_time": "2024-12-25T11:30:09.490Z"
   },
   {
    "duration": 13,
    "start_time": "2024-12-25T11:33:24.611Z"
   },
   {
    "duration": 10,
    "start_time": "2024-12-25T11:33:29.236Z"
   },
   {
    "duration": 56,
    "start_time": "2024-12-25T12:07:21.191Z"
   },
   {
    "duration": 1644,
    "start_time": "2024-12-25T12:07:27.925Z"
   },
   {
    "duration": 6,
    "start_time": "2024-12-25T12:07:29.572Z"
   },
   {
    "duration": 2135,
    "start_time": "2024-12-25T12:07:29.581Z"
   },
   {
    "duration": 167,
    "start_time": "2024-12-25T12:07:31.719Z"
   },
   {
    "duration": 5,
    "start_time": "2024-12-25T12:07:31.889Z"
   },
   {
    "duration": 185,
    "start_time": "2024-12-25T12:07:31.896Z"
   },
   {
    "duration": 12,
    "start_time": "2024-12-25T12:07:32.084Z"
   },
   {
    "duration": 22,
    "start_time": "2024-12-25T12:07:32.099Z"
   },
   {
    "duration": 26,
    "start_time": "2024-12-25T12:07:34.176Z"
   },
   {
    "duration": 73,
    "start_time": "2024-12-25T12:08:12.743Z"
   },
   {
    "duration": 77,
    "start_time": "2024-12-25T12:08:31.918Z"
   },
   {
    "duration": 4,
    "start_time": "2024-12-25T12:09:57.159Z"
   },
   {
    "duration": 11,
    "start_time": "2024-12-25T12:10:04.664Z"
   },
   {
    "duration": 69,
    "start_time": "2024-12-25T12:10:12.653Z"
   },
   {
    "duration": 4,
    "start_time": "2024-12-25T12:10:18.484Z"
   },
   {
    "duration": 77,
    "start_time": "2024-12-25T12:11:21.436Z"
   },
   {
    "duration": 4,
    "start_time": "2024-12-25T12:12:02.666Z"
   },
   {
    "duration": 106,
    "start_time": "2024-12-25T12:12:13.882Z"
   },
   {
    "duration": 91,
    "start_time": "2024-12-25T12:12:59.444Z"
   },
   {
    "duration": 76,
    "start_time": "2024-12-25T12:13:12.651Z"
   },
   {
    "duration": 1435,
    "start_time": "2024-12-25T12:14:19.152Z"
   },
   {
    "duration": 4,
    "start_time": "2024-12-25T12:14:20.589Z"
   },
   {
    "duration": 1845,
    "start_time": "2024-12-25T12:14:20.596Z"
   },
   {
    "duration": 123,
    "start_time": "2024-12-25T12:14:22.443Z"
   },
   {
    "duration": 5,
    "start_time": "2024-12-25T12:14:22.569Z"
   },
   {
    "duration": 172,
    "start_time": "2024-12-25T12:14:22.576Z"
   },
   {
    "duration": 17,
    "start_time": "2024-12-25T12:14:22.750Z"
   },
   {
    "duration": 75,
    "start_time": "2024-12-25T12:14:22.769Z"
   },
   {
    "duration": 71,
    "start_time": "2024-12-25T12:14:35.628Z"
   },
   {
    "duration": 6,
    "start_time": "2024-12-25T12:16:10.338Z"
   },
   {
    "duration": 6,
    "start_time": "2024-12-25T12:18:18.816Z"
   },
   {
    "duration": 127,
    "start_time": "2024-12-25T12:23:53.340Z"
   },
   {
    "duration": 16,
    "start_time": "2024-12-25T12:24:03.181Z"
   },
   {
    "duration": 23,
    "start_time": "2024-12-25T12:24:35.796Z"
   },
   {
    "duration": 71,
    "start_time": "2024-12-25T12:25:45.379Z"
   },
   {
    "duration": 75,
    "start_time": "2024-12-25T12:26:24.979Z"
   },
   {
    "duration": 85,
    "start_time": "2024-12-25T12:26:49.364Z"
   },
   {
    "duration": 90,
    "start_time": "2024-12-25T12:27:32.506Z"
   },
   {
    "duration": 8,
    "start_time": "2024-12-25T12:28:10.775Z"
   },
   {
    "duration": 4,
    "start_time": "2024-12-25T12:28:35.310Z"
   },
   {
    "duration": 26,
    "start_time": "2024-12-25T12:28:35.316Z"
   },
   {
    "duration": 2011,
    "start_time": "2024-12-25T12:28:35.344Z"
   },
   {
    "duration": 115,
    "start_time": "2024-12-25T12:28:37.357Z"
   },
   {
    "duration": 7,
    "start_time": "2024-12-25T12:28:37.474Z"
   },
   {
    "duration": 154,
    "start_time": "2024-12-25T12:28:37.484Z"
   },
   {
    "duration": 32,
    "start_time": "2024-12-25T12:28:37.640Z"
   },
   {
    "duration": 7,
    "start_time": "2024-12-25T12:28:37.675Z"
   },
   {
    "duration": 36,
    "start_time": "2024-12-25T12:28:37.684Z"
   },
   {
    "duration": 33,
    "start_time": "2024-12-25T12:28:37.724Z"
   },
   {
    "duration": 28,
    "start_time": "2024-12-25T12:28:37.759Z"
   },
   {
    "duration": 9,
    "start_time": "2024-12-25T12:28:37.789Z"
   },
   {
    "duration": 106,
    "start_time": "2024-12-25T12:28:37.800Z"
   },
   {
    "duration": 99,
    "start_time": "2024-12-25T12:28:37.909Z"
   },
   {
    "duration": 10,
    "start_time": "2024-12-25T12:28:38.011Z"
   },
   {
    "duration": 458,
    "start_time": "2024-12-25T12:28:38.024Z"
   },
   {
    "duration": 99,
    "start_time": "2024-12-25T12:28:38.485Z"
   },
   {
    "duration": 21,
    "start_time": "2024-12-25T12:28:38.587Z"
   },
   {
    "duration": 113,
    "start_time": "2024-12-25T12:28:38.610Z"
   },
   {
    "duration": 244,
    "start_time": "2024-12-25T12:28:38.725Z"
   },
   {
    "duration": 45,
    "start_time": "2024-12-25T12:28:38.971Z"
   },
   {
    "duration": 234,
    "start_time": "2024-12-25T12:28:39.018Z"
   },
   {
    "duration": 72,
    "start_time": "2024-12-25T12:28:39.254Z"
   },
   {
    "duration": 341,
    "start_time": "2024-12-25T12:28:39.328Z"
   },
   {
    "duration": 8,
    "start_time": "2024-12-25T12:28:39.672Z"
   },
   {
    "duration": 166,
    "start_time": "2024-12-25T12:28:39.682Z"
   },
   {
    "duration": 28,
    "start_time": "2024-12-25T12:28:39.851Z"
   },
   {
    "duration": 17,
    "start_time": "2024-12-25T12:28:39.884Z"
   },
   {
    "duration": 21,
    "start_time": "2024-12-25T12:28:39.903Z"
   },
   {
    "duration": 39,
    "start_time": "2024-12-25T12:28:39.927Z"
   },
   {
    "duration": 20,
    "start_time": "2024-12-25T12:31:31.591Z"
   },
   {
    "duration": 16,
    "start_time": "2024-12-25T12:31:59.185Z"
   },
   {
    "duration": 17,
    "start_time": "2024-12-25T15:38:43.373Z"
   },
   {
    "duration": 15,
    "start_time": "2024-12-25T15:38:52.324Z"
   },
   {
    "duration": 183,
    "start_time": "2024-12-25T15:39:08.845Z"
   },
   {
    "duration": 191,
    "start_time": "2024-12-25T15:39:50.356Z"
   },
   {
    "duration": 170,
    "start_time": "2024-12-25T17:20:20.411Z"
   },
   {
    "duration": 230,
    "start_time": "2024-12-25T17:21:13.930Z"
   },
   {
    "duration": 248,
    "start_time": "2024-12-25T17:21:39.314Z"
   },
   {
    "duration": 267,
    "start_time": "2024-12-25T18:29:30.430Z"
   },
   {
    "duration": 12,
    "start_time": "2024-12-25T18:34:21.915Z"
   },
   {
    "duration": 43,
    "start_time": "2024-12-25T18:35:05.986Z"
   },
   {
    "duration": 10,
    "start_time": "2024-12-25T18:35:15.242Z"
   },
   {
    "duration": 38,
    "start_time": "2024-12-25T18:36:44.857Z"
   },
   {
    "duration": 9,
    "start_time": "2024-12-25T18:36:49.121Z"
   },
   {
    "duration": 5,
    "start_time": "2024-12-25T18:37:13.992Z"
   },
   {
    "duration": 6,
    "start_time": "2024-12-25T18:37:22.681Z"
   },
   {
    "duration": 6,
    "start_time": "2024-12-25T18:37:45.696Z"
   },
   {
    "duration": 11,
    "start_time": "2024-12-25T18:37:47.369Z"
   },
   {
    "duration": 4,
    "start_time": "2024-12-25T18:38:01.133Z"
   },
   {
    "duration": 16,
    "start_time": "2024-12-25T18:38:01.139Z"
   },
   {
    "duration": 1887,
    "start_time": "2024-12-25T18:38:01.157Z"
   },
   {
    "duration": 117,
    "start_time": "2024-12-25T18:38:03.048Z"
   },
   {
    "duration": 7,
    "start_time": "2024-12-25T18:38:03.167Z"
   },
   {
    "duration": 138,
    "start_time": "2024-12-25T18:38:03.176Z"
   },
   {
    "duration": 16,
    "start_time": "2024-12-25T18:38:03.316Z"
   },
   {
    "duration": 30,
    "start_time": "2024-12-25T18:38:03.334Z"
   },
   {
    "duration": 31,
    "start_time": "2024-12-25T18:38:03.366Z"
   },
   {
    "duration": 21,
    "start_time": "2024-12-25T18:38:03.400Z"
   },
   {
    "duration": 35,
    "start_time": "2024-12-25T18:38:03.424Z"
   },
   {
    "duration": 44,
    "start_time": "2024-12-25T18:38:03.461Z"
   },
   {
    "duration": 140,
    "start_time": "2024-12-25T18:38:03.507Z"
   },
   {
    "duration": 66,
    "start_time": "2024-12-25T18:38:03.649Z"
   },
   {
    "duration": 7,
    "start_time": "2024-12-25T18:38:03.717Z"
   },
   {
    "duration": 459,
    "start_time": "2024-12-25T18:38:03.726Z"
   },
   {
    "duration": 5,
    "start_time": "2024-12-25T18:38:07.504Z"
   },
   {
    "duration": 10,
    "start_time": "2024-12-25T18:38:10.224Z"
   },
   {
    "duration": 28,
    "start_time": "2024-12-25T18:38:23.121Z"
   },
   {
    "duration": 33,
    "start_time": "2024-12-25T18:39:35.536Z"
   },
   {
    "duration": 25,
    "start_time": "2024-12-25T18:40:08.822Z"
   },
   {
    "duration": 11,
    "start_time": "2024-12-25T18:40:15.358Z"
   },
   {
    "duration": 20,
    "start_time": "2024-12-25T18:40:25.983Z"
   },
   {
    "duration": 547,
    "start_time": "2024-12-25T18:43:25.917Z"
   },
   {
    "duration": 855,
    "start_time": "2024-12-25T18:43:50.485Z"
   },
   {
    "duration": 19,
    "start_time": "2024-12-25T18:44:37.036Z"
   },
   {
    "duration": 15,
    "start_time": "2024-12-25T18:44:50.748Z"
   },
   {
    "duration": 2654,
    "start_time": "2024-12-25T18:47:45.546Z"
   },
   {
    "duration": 21,
    "start_time": "2024-12-25T18:48:00.834Z"
   },
   {
    "duration": 17,
    "start_time": "2024-12-25T18:48:14.876Z"
   },
   {
    "duration": 1371,
    "start_time": "2024-12-25T19:11:31.267Z"
   },
   {
    "duration": 2,
    "start_time": "2024-12-25T19:11:32.641Z"
   },
   {
    "duration": 1693,
    "start_time": "2024-12-25T19:11:32.645Z"
   },
   {
    "duration": 141,
    "start_time": "2024-12-25T19:11:34.340Z"
   },
   {
    "duration": 6,
    "start_time": "2024-12-25T19:11:34.484Z"
   },
   {
    "duration": 166,
    "start_time": "2024-12-25T19:11:34.491Z"
   },
   {
    "duration": 11,
    "start_time": "2024-12-25T19:11:34.659Z"
   },
   {
    "duration": 41,
    "start_time": "2024-12-25T19:11:34.672Z"
   },
   {
    "duration": 8,
    "start_time": "2024-12-25T19:11:34.716Z"
   },
   {
    "duration": 26,
    "start_time": "2024-12-25T19:11:34.725Z"
   },
   {
    "duration": 15,
    "start_time": "2024-12-25T19:11:34.753Z"
   },
   {
    "duration": 15,
    "start_time": "2024-12-25T19:11:34.770Z"
   },
   {
    "duration": 101,
    "start_time": "2024-12-25T19:11:34.787Z"
   },
   {
    "duration": 38,
    "start_time": "2024-12-25T19:11:34.891Z"
   },
   {
    "duration": 47,
    "start_time": "2024-12-25T19:11:34.930Z"
   },
   {
    "duration": 419,
    "start_time": "2024-12-25T19:11:34.979Z"
   },
   {
    "duration": 6,
    "start_time": "2024-12-25T19:12:06.270Z"
   },
   {
    "duration": 7,
    "start_time": "2024-12-25T19:12:13.438Z"
   },
   {
    "duration": 9,
    "start_time": "2024-12-25T19:12:20.670Z"
   },
   {
    "duration": 272,
    "start_time": "2024-12-25T19:18:27.434Z"
   },
   {
    "duration": 159,
    "start_time": "2024-12-25T19:24:40.470Z"
   },
   {
    "duration": 20,
    "start_time": "2024-12-25T19:24:48.605Z"
   },
   {
    "duration": 172705,
    "start_time": "2024-12-25T19:33:57.455Z"
   },
   {
    "duration": 76,
    "start_time": "2024-12-25T19:37:34.133Z"
   },
   {
    "duration": 23,
    "start_time": "2024-12-25T19:37:56.644Z"
   },
   {
    "duration": 5957,
    "start_time": "2024-12-25T19:38:28.517Z"
   },
   {
    "duration": 14,
    "start_time": "2024-12-25T19:38:46.427Z"
   },
   {
    "duration": 9,
    "start_time": "2024-12-25T19:39:46.042Z"
   },
   {
    "duration": 24,
    "start_time": "2024-12-25T19:41:33.857Z"
   },
   {
    "duration": 14,
    "start_time": "2024-12-25T19:46:35.582Z"
   },
   {
    "duration": 77,
    "start_time": "2024-12-25T19:47:21.413Z"
   },
   {
    "duration": 104,
    "start_time": "2024-12-25T20:02:55.354Z"
   },
   {
    "duration": 71,
    "start_time": "2024-12-25T20:03:29.410Z"
   },
   {
    "duration": 90,
    "start_time": "2024-12-25T20:03:51.865Z"
   },
   {
    "duration": 72,
    "start_time": "2024-12-25T20:04:35.017Z"
   },
   {
    "duration": 1334,
    "start_time": "2024-12-25T20:05:07.701Z"
   },
   {
    "duration": 2,
    "start_time": "2024-12-25T20:05:09.038Z"
   },
   {
    "duration": 1633,
    "start_time": "2024-12-25T20:05:09.042Z"
   },
   {
    "duration": 124,
    "start_time": "2024-12-25T20:05:10.677Z"
   },
   {
    "duration": 5,
    "start_time": "2024-12-25T20:05:10.803Z"
   },
   {
    "duration": 163,
    "start_time": "2024-12-25T20:05:10.810Z"
   },
   {
    "duration": 11,
    "start_time": "2024-12-25T20:05:10.975Z"
   },
   {
    "duration": 4,
    "start_time": "2024-12-25T20:05:10.988Z"
   },
   {
    "duration": 9,
    "start_time": "2024-12-25T20:05:10.994Z"
   },
   {
    "duration": 6,
    "start_time": "2024-12-25T20:05:11.005Z"
   },
   {
    "duration": 48,
    "start_time": "2024-12-25T20:05:11.013Z"
   },
   {
    "duration": 7,
    "start_time": "2024-12-25T20:05:11.063Z"
   },
   {
    "duration": 96,
    "start_time": "2024-12-25T20:05:11.072Z"
   },
   {
    "duration": 36,
    "start_time": "2024-12-25T20:05:11.170Z"
   },
   {
    "duration": 6,
    "start_time": "2024-12-25T20:05:11.208Z"
   },
   {
    "duration": 401,
    "start_time": "2024-12-25T20:05:11.215Z"
   },
   {
    "duration": 70,
    "start_time": "2024-12-25T20:05:13.920Z"
   },
   {
    "duration": 4,
    "start_time": "2024-12-25T20:06:29.069Z"
   },
   {
    "duration": 8,
    "start_time": "2024-12-25T20:06:29.077Z"
   },
   {
    "duration": 1780,
    "start_time": "2024-12-25T20:06:29.087Z"
   },
   {
    "duration": 116,
    "start_time": "2024-12-25T20:06:30.870Z"
   },
   {
    "duration": 8,
    "start_time": "2024-12-25T20:06:30.989Z"
   },
   {
    "duration": 180,
    "start_time": "2024-12-25T20:06:30.999Z"
   },
   {
    "duration": 12,
    "start_time": "2024-12-25T20:06:31.181Z"
   },
   {
    "duration": 44,
    "start_time": "2024-12-25T20:06:31.194Z"
   },
   {
    "duration": 15,
    "start_time": "2024-12-25T20:06:31.240Z"
   },
   {
    "duration": 7,
    "start_time": "2024-12-25T20:06:31.257Z"
   },
   {
    "duration": 20,
    "start_time": "2024-12-25T20:06:31.266Z"
   },
   {
    "duration": 8,
    "start_time": "2024-12-25T20:06:31.288Z"
   },
   {
    "duration": 121,
    "start_time": "2024-12-25T20:06:31.299Z"
   },
   {
    "duration": 44,
    "start_time": "2024-12-25T20:06:31.423Z"
   },
   {
    "duration": 7,
    "start_time": "2024-12-25T20:06:31.469Z"
   },
   {
    "duration": 141,
    "start_time": "2024-12-25T20:06:31.478Z"
   },
   {
    "duration": 74,
    "start_time": "2024-12-25T20:06:35.016Z"
   },
   {
    "duration": 59,
    "start_time": "2024-12-25T20:06:50.887Z"
   },
   {
    "duration": 12,
    "start_time": "2024-12-25T20:07:31.063Z"
   },
   {
    "duration": 15,
    "start_time": "2024-12-25T20:07:38.102Z"
   },
   {
    "duration": 69,
    "start_time": "2024-12-25T20:08:05.495Z"
   },
   {
    "duration": 38,
    "start_time": "2024-12-25T20:08:11.055Z"
   },
   {
    "duration": 383,
    "start_time": "2024-12-25T20:08:22.279Z"
   },
   {
    "duration": 24,
    "start_time": "2024-12-25T20:08:42.757Z"
   },
   {
    "duration": 80,
    "start_time": "2024-12-25T20:09:46.981Z"
   },
   {
    "duration": 20,
    "start_time": "2024-12-25T20:09:54.645Z"
   },
   {
    "duration": 21,
    "start_time": "2024-12-25T20:10:48.462Z"
   },
   {
    "duration": 13,
    "start_time": "2024-12-25T20:11:08.140Z"
   },
   {
    "duration": 267,
    "start_time": "2024-12-25T20:12:06.340Z"
   },
   {
    "duration": 387,
    "start_time": "2024-12-25T20:12:21.539Z"
   },
   {
    "duration": 239,
    "start_time": "2024-12-25T20:12:39.907Z"
   },
   {
    "duration": 22,
    "start_time": "2024-12-25T20:13:42.074Z"
   },
   {
    "duration": 25,
    "start_time": "2024-12-25T20:13:57.146Z"
   },
   {
    "duration": 21,
    "start_time": "2024-12-25T20:14:26.075Z"
   },
   {
    "duration": 859,
    "start_time": "2024-12-25T20:16:30.465Z"
   },
   {
    "duration": 83,
    "start_time": "2024-12-25T20:16:56.448Z"
   },
   {
    "duration": 325,
    "start_time": "2024-12-25T20:17:53.268Z"
   },
   {
    "duration": 56,
    "start_time": "2024-12-25T20:18:10.264Z"
   },
   {
    "duration": 8,
    "start_time": "2024-12-25T20:18:54.223Z"
   },
   {
    "duration": 24,
    "start_time": "2024-12-25T20:19:02.941Z"
   },
   {
    "duration": 66,
    "start_time": "2024-12-25T20:19:14.264Z"
   },
   {
    "duration": 93,
    "start_time": "2024-12-25T20:20:13.455Z"
   },
   {
    "duration": 14,
    "start_time": "2024-12-25T20:20:43.693Z"
   },
   {
    "duration": 319,
    "start_time": "2024-12-25T20:21:20.468Z"
   },
   {
    "duration": 250,
    "start_time": "2024-12-25T20:21:34.885Z"
   },
   {
    "duration": 12,
    "start_time": "2024-12-25T20:24:13.773Z"
   },
   {
    "duration": 12,
    "start_time": "2024-12-25T20:24:26.483Z"
   },
   {
    "duration": 15,
    "start_time": "2024-12-25T20:24:59.668Z"
   },
   {
    "duration": 591,
    "start_time": "2024-12-25T20:25:14.794Z"
   },
   {
    "duration": 27,
    "start_time": "2024-12-25T20:32:46.492Z"
   },
   {
    "duration": 569,
    "start_time": "2024-12-25T20:36:33.171Z"
   },
   {
    "duration": 0,
    "start_time": "2024-12-25T20:37:23.278Z"
   },
   {
    "duration": 471,
    "start_time": "2024-12-25T20:37:25.272Z"
   },
   {
    "duration": 437,
    "start_time": "2024-12-25T20:37:52.577Z"
   },
   {
    "duration": 531,
    "start_time": "2024-12-25T20:39:42.551Z"
   },
   {
    "duration": 161,
    "start_time": "2024-12-25T20:46:40.595Z"
   },
   {
    "duration": 159,
    "start_time": "2024-12-25T20:46:56.730Z"
   },
   {
    "duration": 159,
    "start_time": "2024-12-25T20:47:13.594Z"
   },
   {
    "duration": 26,
    "start_time": "2024-12-25T20:47:20.650Z"
   },
   {
    "duration": 1438,
    "start_time": "2024-12-25T20:48:22.481Z"
   },
   {
    "duration": 327,
    "start_time": "2024-12-25T20:48:56.257Z"
   },
   {
    "duration": 79,
    "start_time": "2024-12-25T20:49:11.240Z"
   },
   {
    "duration": 329,
    "start_time": "2024-12-25T20:49:49.016Z"
   },
   {
    "duration": 331,
    "start_time": "2024-12-25T20:50:36.055Z"
   },
   {
    "duration": 329,
    "start_time": "2024-12-25T20:51:14.943Z"
   },
   {
    "duration": 310,
    "start_time": "2024-12-25T20:51:29.127Z"
   },
   {
    "duration": 914,
    "start_time": "2024-12-25T20:52:18.862Z"
   },
   {
    "duration": 321,
    "start_time": "2024-12-25T20:56:31.491Z"
   },
   {
    "duration": 528,
    "start_time": "2024-12-25T20:57:12.028Z"
   },
   {
    "duration": 289,
    "start_time": "2024-12-25T20:59:54.682Z"
   },
   {
    "duration": 255,
    "start_time": "2024-12-25T21:00:13.608Z"
   },
   {
    "duration": 345,
    "start_time": "2024-12-25T21:00:39.264Z"
   },
   {
    "duration": 165,
    "start_time": "2024-12-25T21:01:04.536Z"
   },
   {
    "duration": 171,
    "start_time": "2024-12-25T21:01:21.528Z"
   },
   {
    "duration": 168,
    "start_time": "2024-12-25T21:03:04.310Z"
   },
   {
    "duration": 1000,
    "start_time": "2024-12-25T21:04:26.565Z"
   },
   {
    "duration": 296,
    "start_time": "2024-12-25T21:04:55.494Z"
   },
   {
    "duration": 195,
    "start_time": "2024-12-25T21:15:50.702Z"
   },
   {
    "duration": 20,
    "start_time": "2024-12-25T21:21:05.819Z"
   },
   {
    "duration": 26,
    "start_time": "2024-12-25T21:21:16.467Z"
   },
   {
    "duration": 294,
    "start_time": "2024-12-25T21:21:41.602Z"
   },
   {
    "duration": 331,
    "start_time": "2024-12-25T21:26:08.368Z"
   },
   {
    "duration": 331,
    "start_time": "2024-12-25T21:26:41.127Z"
   },
   {
    "duration": 37,
    "start_time": "2024-12-25T21:27:17.063Z"
   },
   {
    "duration": 328,
    "start_time": "2024-12-25T21:27:27.927Z"
   },
   {
    "duration": 560,
    "start_time": "2024-12-25T21:27:43.622Z"
   },
   {
    "duration": 427,
    "start_time": "2024-12-25T21:28:44.166Z"
   },
   {
    "duration": 618,
    "start_time": "2024-12-25T21:30:01.493Z"
   },
   {
    "duration": 836,
    "start_time": "2024-12-25T21:30:19.972Z"
   },
   {
    "duration": 718,
    "start_time": "2024-12-25T21:30:36.380Z"
   },
   {
    "duration": 73,
    "start_time": "2024-12-25T21:31:56.228Z"
   },
   {
    "duration": 723,
    "start_time": "2024-12-25T21:32:15.539Z"
   },
   {
    "duration": 749,
    "start_time": "2024-12-25T21:32:26.163Z"
   },
   {
    "duration": 676,
    "start_time": "2024-12-25T21:33:17.435Z"
   },
   {
    "duration": 42,
    "start_time": "2024-12-25T21:34:01.658Z"
   },
   {
    "duration": 54,
    "start_time": "2024-12-25T21:34:13.961Z"
   },
   {
    "duration": 712,
    "start_time": "2024-12-25T21:34:50.097Z"
   },
   {
    "duration": 815,
    "start_time": "2024-12-25T21:34:58.089Z"
   },
   {
    "duration": 974,
    "start_time": "2024-12-25T21:35:17.817Z"
   },
   {
    "duration": 814,
    "start_time": "2024-12-25T21:35:26.073Z"
   },
   {
    "duration": 43,
    "start_time": "2024-12-25T21:41:22.700Z"
   },
   {
    "duration": 777,
    "start_time": "2024-12-25T21:43:22.603Z"
   },
   {
    "duration": 254,
    "start_time": "2024-12-25T21:49:08.599Z"
   },
   {
    "duration": 431,
    "start_time": "2024-12-25T21:49:45.559Z"
   },
   {
    "duration": 281,
    "start_time": "2024-12-25T21:50:34.054Z"
   },
   {
    "duration": 543,
    "start_time": "2024-12-25T21:55:42.330Z"
   },
   {
    "duration": 518,
    "start_time": "2024-12-25T21:55:54.921Z"
   },
   {
    "duration": 45,
    "start_time": "2024-12-25T21:57:53.088Z"
   },
   {
    "duration": 704,
    "start_time": "2024-12-25T21:58:04.968Z"
   },
   {
    "duration": 462,
    "start_time": "2024-12-25T21:58:58.679Z"
   },
   {
    "duration": 27,
    "start_time": "2024-12-25T21:59:27.936Z"
   },
   {
    "duration": 447,
    "start_time": "2024-12-25T21:59:31.904Z"
   },
   {
    "duration": 867,
    "start_time": "2024-12-25T22:00:39.350Z"
   },
   {
    "duration": 1062,
    "start_time": "2024-12-25T22:00:57.134Z"
   },
   {
    "duration": 71,
    "start_time": "2024-12-25T22:01:53.151Z"
   },
   {
    "duration": 7,
    "start_time": "2024-12-25T22:02:24.453Z"
   },
   {
    "duration": 332,
    "start_time": "2024-12-25T22:02:55.781Z"
   },
   {
    "duration": 79,
    "start_time": "2024-12-25T22:04:46.876Z"
   },
   {
    "duration": 245,
    "start_time": "2024-12-25T22:05:51.363Z"
   },
   {
    "duration": 557,
    "start_time": "2024-12-25T22:06:07.197Z"
   },
   {
    "duration": 7,
    "start_time": "2024-12-25T22:10:23.040Z"
   },
   {
    "duration": 16,
    "start_time": "2024-12-25T22:10:30.111Z"
   },
   {
    "duration": 93,
    "start_time": "2024-12-25T22:10:41.840Z"
   },
   {
    "duration": 97,
    "start_time": "2024-12-25T22:11:31.855Z"
   },
   {
    "duration": 224,
    "start_time": "2024-12-25T22:11:56.630Z"
   },
   {
    "duration": 68,
    "start_time": "2024-12-25T22:12:09.486Z"
   },
   {
    "duration": 20,
    "start_time": "2024-12-25T22:22:58.478Z"
   },
   {
    "duration": 19,
    "start_time": "2024-12-25T22:23:25.776Z"
   },
   {
    "duration": 22,
    "start_time": "2024-12-25T22:24:13.887Z"
   },
   {
    "duration": 18,
    "start_time": "2024-12-25T22:24:29.014Z"
   },
   {
    "duration": 18,
    "start_time": "2024-12-25T22:24:53.270Z"
   },
   {
    "duration": 300,
    "start_time": "2024-12-25T22:25:21.663Z"
   },
   {
    "duration": 401,
    "start_time": "2024-12-25T22:25:56.581Z"
   },
   {
    "duration": 403,
    "start_time": "2024-12-25T22:26:35.702Z"
   },
   {
    "duration": 408,
    "start_time": "2024-12-25T22:26:42.476Z"
   },
   {
    "duration": 275,
    "start_time": "2024-12-25T22:26:54.452Z"
   },
   {
    "duration": 69,
    "start_time": "2024-12-25T22:27:38.131Z"
   },
   {
    "duration": 57,
    "start_time": "2024-12-25T22:27:47.244Z"
   },
   {
    "duration": 351,
    "start_time": "2024-12-25T22:28:34.956Z"
   },
   {
    "duration": 351,
    "start_time": "2024-12-25T22:28:50.915Z"
   },
   {
    "duration": 350,
    "start_time": "2024-12-25T22:29:02.156Z"
   },
   {
    "duration": 249,
    "start_time": "2024-12-26T00:07:43.502Z"
   },
   {
    "duration": 415,
    "start_time": "2024-12-26T00:07:57.462Z"
   },
   {
    "duration": 251,
    "start_time": "2024-12-26T00:08:08.214Z"
   },
   {
    "duration": 261,
    "start_time": "2024-12-26T00:08:17.213Z"
   },
   {
    "duration": 200,
    "start_time": "2024-12-26T00:08:43.893Z"
   },
   {
    "duration": 242,
    "start_time": "2024-12-26T00:08:56.589Z"
   },
   {
    "duration": 264,
    "start_time": "2024-12-26T00:09:04.340Z"
   },
   {
    "duration": 562,
    "start_time": "2024-12-26T00:09:19.765Z"
   },
   {
    "duration": 278,
    "start_time": "2024-12-26T00:09:33.861Z"
   },
   {
    "duration": 211,
    "start_time": "2024-12-26T00:11:52.899Z"
   },
   {
    "duration": 211,
    "start_time": "2024-12-26T00:13:55.634Z"
   },
   {
    "duration": 305,
    "start_time": "2024-12-26T00:14:05.995Z"
   },
   {
    "duration": 304,
    "start_time": "2024-12-26T07:26:35.577Z"
   },
   {
    "duration": 408,
    "start_time": "2024-12-26T07:26:55.352Z"
   },
   {
    "duration": 676,
    "start_time": "2024-12-26T07:27:48.487Z"
   },
   {
    "duration": 708,
    "start_time": "2024-12-26T07:30:27.861Z"
   },
   {
    "duration": 544,
    "start_time": "2024-12-26T07:32:02.476Z"
   },
   {
    "duration": 1380,
    "start_time": "2024-12-26T07:36:25.059Z"
   },
   {
    "duration": 3,
    "start_time": "2024-12-26T07:36:26.441Z"
   },
   {
    "duration": 1707,
    "start_time": "2024-12-26T07:36:26.447Z"
   },
   {
    "duration": 161,
    "start_time": "2024-12-26T07:36:28.157Z"
   },
   {
    "duration": 5,
    "start_time": "2024-12-26T07:36:28.320Z"
   },
   {
    "duration": 169,
    "start_time": "2024-12-26T07:36:28.327Z"
   },
   {
    "duration": 11,
    "start_time": "2024-12-26T07:36:28.498Z"
   },
   {
    "duration": 24,
    "start_time": "2024-12-26T07:36:28.511Z"
   },
   {
    "duration": 24,
    "start_time": "2024-12-26T07:36:28.536Z"
   },
   {
    "duration": 13,
    "start_time": "2024-12-26T07:36:28.563Z"
   },
   {
    "duration": 18,
    "start_time": "2024-12-26T07:36:28.578Z"
   },
   {
    "duration": 14,
    "start_time": "2024-12-26T07:36:28.599Z"
   },
   {
    "duration": 99,
    "start_time": "2024-12-26T07:36:28.615Z"
   },
   {
    "duration": 46,
    "start_time": "2024-12-26T07:36:28.715Z"
   },
   {
    "duration": 11,
    "start_time": "2024-12-26T07:36:28.762Z"
   },
   {
    "duration": 417,
    "start_time": "2024-12-26T07:36:28.775Z"
   },
   {
    "duration": 799,
    "start_time": "2024-12-26T07:36:29.195Z"
   },
   {
    "duration": 80,
    "start_time": "2024-12-26T07:36:29.996Z"
   },
   {
    "duration": 43,
    "start_time": "2024-12-26T07:36:30.078Z"
   },
   {
    "duration": 143,
    "start_time": "2024-12-26T07:36:30.123Z"
   },
   {
    "duration": 234,
    "start_time": "2024-12-26T07:36:30.268Z"
   },
   {
    "duration": 36,
    "start_time": "2024-12-26T07:36:30.504Z"
   },
   {
    "duration": 295,
    "start_time": "2024-12-26T07:36:30.542Z"
   },
   {
    "duration": 63,
    "start_time": "2024-12-26T07:36:30.839Z"
   },
   {
    "duration": 238,
    "start_time": "2024-12-26T07:36:30.904Z"
   },
   {
    "duration": 5,
    "start_time": "2024-12-26T07:36:31.144Z"
   },
   {
    "duration": 81,
    "start_time": "2024-12-26T07:36:31.159Z"
   },
   {
    "duration": 17,
    "start_time": "2024-12-26T07:36:31.259Z"
   },
   {
    "duration": 53,
    "start_time": "2024-12-26T07:36:31.279Z"
   },
   {
    "duration": 33,
    "start_time": "2024-12-26T07:36:31.334Z"
   },
   {
    "duration": 52,
    "start_time": "2024-12-26T07:36:31.369Z"
   },
   {
    "duration": 23,
    "start_time": "2024-12-26T07:45:15.296Z"
   },
   {
    "duration": 150,
    "start_time": "2024-12-26T07:47:01.207Z"
   },
   {
    "duration": 76,
    "start_time": "2024-12-26T07:47:43.222Z"
   },
   {
    "duration": 119,
    "start_time": "2024-12-26T07:48:40.397Z"
   },
   {
    "duration": 133,
    "start_time": "2024-12-26T07:53:18.035Z"
   },
   {
    "duration": 70,
    "start_time": "2024-12-26T07:53:38.219Z"
   },
   {
    "duration": 22,
    "start_time": "2024-12-26T07:53:45.601Z"
   },
   {
    "duration": 960,
    "start_time": "2024-12-26T07:54:54.592Z"
   },
   {
    "duration": 25,
    "start_time": "2024-12-26T07:55:05.033Z"
   },
   {
    "duration": 4,
    "start_time": "2024-12-26T07:55:17.466Z"
   },
   {
    "duration": 26,
    "start_time": "2024-12-26T07:56:46.873Z"
   },
   {
    "duration": 4,
    "start_time": "2024-12-26T07:56:56.799Z"
   },
   {
    "duration": 78,
    "start_time": "2024-12-26T07:58:25.718Z"
   },
   {
    "duration": 3,
    "start_time": "2024-12-26T07:58:34.326Z"
   },
   {
    "duration": 33,
    "start_time": "2024-12-26T07:58:47.222Z"
   },
   {
    "duration": 4,
    "start_time": "2024-12-26T07:58:49.006Z"
   },
   {
    "duration": 4,
    "start_time": "2024-12-26T07:58:57.693Z"
   },
   {
    "duration": 4,
    "start_time": "2024-12-26T08:00:48.901Z"
   },
   {
    "duration": 5,
    "start_time": "2024-12-26T08:01:52.260Z"
   },
   {
    "duration": 3,
    "start_time": "2024-12-26T08:02:05.623Z"
   },
   {
    "duration": 4,
    "start_time": "2024-12-26T08:03:35.348Z"
   },
   {
    "duration": 4,
    "start_time": "2024-12-26T08:04:46.635Z"
   },
   {
    "duration": 5,
    "start_time": "2024-12-26T08:04:58.786Z"
   },
   {
    "duration": 4,
    "start_time": "2024-12-26T08:13:27.172Z"
   },
   {
    "duration": 301,
    "start_time": "2024-12-26T08:13:41.012Z"
   },
   {
    "duration": 3,
    "start_time": "2024-12-26T08:14:02.357Z"
   },
   {
    "duration": 4,
    "start_time": "2024-12-26T08:14:20.268Z"
   },
   {
    "duration": 4,
    "start_time": "2024-12-26T08:16:03.427Z"
   },
   {
    "duration": 4,
    "start_time": "2024-12-26T08:16:36.554Z"
   },
   {
    "duration": 96,
    "start_time": "2024-12-26T08:21:27.111Z"
   },
   {
    "duration": 71,
    "start_time": "2024-12-26T08:21:31.614Z"
   },
   {
    "duration": 4,
    "start_time": "2024-12-26T08:21:43.535Z"
   },
   {
    "duration": 5,
    "start_time": "2024-12-26T08:22:11.798Z"
   },
   {
    "duration": 1242,
    "start_time": "2024-12-26T08:30:38.576Z"
   },
   {
    "duration": 3,
    "start_time": "2024-12-26T08:30:39.820Z"
   },
   {
    "duration": 1536,
    "start_time": "2024-12-26T08:30:39.824Z"
   },
   {
    "duration": 130,
    "start_time": "2024-12-26T08:30:41.361Z"
   },
   {
    "duration": 5,
    "start_time": "2024-12-26T08:30:41.493Z"
   },
   {
    "duration": 161,
    "start_time": "2024-12-26T08:30:41.500Z"
   },
   {
    "duration": 18,
    "start_time": "2024-12-26T08:30:41.663Z"
   },
   {
    "duration": 6,
    "start_time": "2024-12-26T08:30:41.684Z"
   },
   {
    "duration": 12,
    "start_time": "2024-12-26T08:30:41.692Z"
   },
   {
    "duration": 37,
    "start_time": "2024-12-26T08:30:41.706Z"
   },
   {
    "duration": 38,
    "start_time": "2024-12-26T08:30:41.745Z"
   },
   {
    "duration": 22,
    "start_time": "2024-12-26T08:30:41.785Z"
   },
   {
    "duration": 79,
    "start_time": "2024-12-26T08:30:41.809Z"
   },
   {
    "duration": 36,
    "start_time": "2024-12-26T08:30:41.892Z"
   },
   {
    "duration": 8,
    "start_time": "2024-12-26T08:30:41.931Z"
   },
   {
    "duration": 377,
    "start_time": "2024-12-26T08:30:41.959Z"
   },
   {
    "duration": 656,
    "start_time": "2024-12-26T08:30:42.337Z"
   },
   {
    "duration": 41,
    "start_time": "2024-12-26T08:30:42.995Z"
   },
   {
    "duration": 22,
    "start_time": "2024-12-26T08:30:43.038Z"
   },
   {
    "duration": 41,
    "start_time": "2024-12-26T08:30:43.062Z"
   },
   {
    "duration": 106,
    "start_time": "2024-12-26T08:30:43.105Z"
   },
   {
    "duration": 209,
    "start_time": "2024-12-26T08:30:43.213Z"
   },
   {
    "duration": 51,
    "start_time": "2024-12-26T08:30:43.424Z"
   },
   {
    "duration": 267,
    "start_time": "2024-12-26T08:30:43.478Z"
   },
   {
    "duration": 62,
    "start_time": "2024-12-26T08:30:43.747Z"
   },
   {
    "duration": 244,
    "start_time": "2024-12-26T08:30:43.811Z"
   },
   {
    "duration": 7,
    "start_time": "2024-12-26T08:30:44.061Z"
   },
   {
    "duration": 102,
    "start_time": "2024-12-26T08:30:44.070Z"
   },
   {
    "duration": 12,
    "start_time": "2024-12-26T08:30:44.175Z"
   },
   {
    "duration": 13,
    "start_time": "2024-12-26T08:30:44.189Z"
   },
   {
    "duration": 33,
    "start_time": "2024-12-26T08:30:44.204Z"
   },
   {
    "duration": 22,
    "start_time": "2024-12-26T08:30:44.239Z"
   },
   {
    "duration": 1319,
    "start_time": "2024-12-26T09:29:05.139Z"
   },
   {
    "duration": 3,
    "start_time": "2024-12-26T09:29:06.460Z"
   },
   {
    "duration": 1856,
    "start_time": "2024-12-26T09:29:06.464Z"
   },
   {
    "duration": 92,
    "start_time": "2024-12-26T09:29:08.321Z"
   },
   {
    "duration": 4,
    "start_time": "2024-12-26T09:29:08.415Z"
   },
   {
    "duration": 134,
    "start_time": "2024-12-26T09:29:08.421Z"
   },
   {
    "duration": 9,
    "start_time": "2024-12-26T09:29:08.557Z"
   },
   {
    "duration": 19,
    "start_time": "2024-12-26T09:29:08.568Z"
   },
   {
    "duration": 7,
    "start_time": "2024-12-26T09:29:08.588Z"
   },
   {
    "duration": 5,
    "start_time": "2024-12-26T09:29:08.596Z"
   },
   {
    "duration": 9,
    "start_time": "2024-12-26T09:29:08.603Z"
   },
   {
    "duration": 6,
    "start_time": "2024-12-26T09:29:08.613Z"
   },
   {
    "duration": 81,
    "start_time": "2024-12-26T09:29:08.621Z"
   },
   {
    "duration": 42,
    "start_time": "2024-12-26T09:29:08.705Z"
   },
   {
    "duration": 7,
    "start_time": "2024-12-26T09:29:08.748Z"
   },
   {
    "duration": 329,
    "start_time": "2024-12-26T09:29:08.757Z"
   },
   {
    "duration": 484,
    "start_time": "2024-12-26T09:29:09.087Z"
   },
   {
    "duration": 31,
    "start_time": "2024-12-26T09:29:09.573Z"
   },
   {
    "duration": 3,
    "start_time": "2024-12-26T09:29:09.606Z"
   },
   {
    "duration": 37,
    "start_time": "2024-12-26T09:29:09.611Z"
   },
   {
    "duration": 60,
    "start_time": "2024-12-26T09:29:09.649Z"
   },
   {
    "duration": 184,
    "start_time": "2024-12-26T09:29:09.710Z"
   },
   {
    "duration": 30,
    "start_time": "2024-12-26T09:29:09.896Z"
   },
   {
    "duration": 225,
    "start_time": "2024-12-26T09:29:09.927Z"
   },
   {
    "duration": 40,
    "start_time": "2024-12-26T09:29:10.153Z"
   },
   {
    "duration": 207,
    "start_time": "2024-12-26T09:29:10.195Z"
   },
   {
    "duration": 3,
    "start_time": "2024-12-26T09:29:10.404Z"
   },
   {
    "duration": 85,
    "start_time": "2024-12-26T09:29:10.409Z"
   },
   {
    "duration": 10,
    "start_time": "2024-12-26T09:29:10.495Z"
   },
   {
    "duration": 137,
    "start_time": "2024-12-26T09:29:10.506Z"
   },
   {
    "duration": 12,
    "start_time": "2024-12-26T09:29:10.645Z"
   },
   {
    "duration": 30,
    "start_time": "2024-12-26T09:29:10.659Z"
   }
  ],
  "kernelspec": {
   "display_name": "Python 3 (ipykernel)",
   "language": "python",
   "name": "python3"
  },
  "language_info": {
   "codemirror_mode": {
    "name": "ipython",
    "version": 3
   },
   "file_extension": ".py",
   "mimetype": "text/x-python",
   "name": "python",
   "nbconvert_exporter": "python",
   "pygments_lexer": "ipython3",
   "version": "3.9.5"
  },
  "toc": {
   "base_numbering": 1,
   "nav_menu": {},
   "number_sections": true,
   "sideBar": true,
   "skip_h1_title": true,
   "title_cell": "Table of Contents",
   "title_sidebar": "Contents",
   "toc_cell": false,
   "toc_position": {},
   "toc_section_display": true,
   "toc_window_display": false
  }
 },
 "nbformat": 4,
 "nbformat_minor": 2
}
