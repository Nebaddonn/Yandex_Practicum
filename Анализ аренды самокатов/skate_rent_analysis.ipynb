{
 "cells": [
  {
   "cell_type": "markdown",
   "id": "3f730bd5",
   "metadata": {},
   "source": [
    "# Вступление\n",
    "\n",
    "**Задачей проекта является сведение в одну таблицу данных из трёх разных источников, приведение их в порядок - избавление от возможных пропусков, дубликатов и пр., при необходимости переформатирование данных и иную форму. Целью проекта является изучение рынка аренды самокатов по короткому срезу городов, поиск неявных закономерностей или выбивающихся из ряда явлений, составление клиентского портрета и проверка некоторых гипотез, которые могут улучшить сервис и повысить прибыльность бизнеса."
   ]
  },
  {
   "cell_type": "markdown",
   "id": "c42cbe00",
   "metadata": {},
   "source": [
    "# Шаг 1. Загрузка данных"
   ]
  },
  {
   "cell_type": "markdown",
   "id": "09136c95",
   "metadata": {},
   "source": [
    "## 1.1 Считайте CSV-файлы с данными с помощью библиотеки pandas и сохраните их в датафреймы"
   ]
  },
  {
   "cell_type": "code",
   "execution_count": 1,
   "id": "72576667",
   "metadata": {},
   "outputs": [],
   "source": [
    "import pandas as pd\n",
    "import matplotlib.pyplot as plt\n",
    "import numpy as np\n",
    "from scipy import stats as st\n",
    "from scipy.stats import binom, poisson, norm\n",
    "from math import sqrt, factorial"
   ]
  },
  {
   "cell_type": "code",
   "execution_count": 2,
   "id": "f753ec43",
   "metadata": {},
   "outputs": [],
   "source": [
    "# создание фреймов из предоставленных данных\n",
    "users = pd.read_csv('/datasets/users_go.csv')\n",
    "rides = pd.read_csv('/datasets/rides_go.csv')\n",
    "subscriptions = pd.read_csv('/datasets/subscriptions_go.csv')"
   ]
  },
  {
   "cell_type": "markdown",
   "id": "95d7c4a7",
   "metadata": {},
   "source": [
    "## 1.2 Выведите первые строки каждого набора данных. Изучите общую информацию о каждом датафрейме."
   ]
  },
  {
   "cell_type": "code",
   "execution_count": 3,
   "id": "29e6e077",
   "metadata": {},
   "outputs": [
    {
     "name": "stdout",
     "output_type": "stream",
     "text": [
      "<class 'pandas.core.frame.DataFrame'>\n",
      "RangeIndex: 1565 entries, 0 to 1564\n",
      "Data columns (total 5 columns):\n",
      " #   Column             Non-Null Count  Dtype \n",
      "---  ------             --------------  ----- \n",
      " 0   user_id            1565 non-null   int64 \n",
      " 1   name               1565 non-null   object\n",
      " 2   age                1565 non-null   int64 \n",
      " 3   city               1565 non-null   object\n",
      " 4   subscription_type  1565 non-null   object\n",
      "dtypes: int64(2), object(3)\n",
      "memory usage: 61.3+ KB\n"
     ]
    },
    {
     "data": {
      "text/html": [
       "<div>\n",
       "<style scoped>\n",
       "    .dataframe tbody tr th:only-of-type {\n",
       "        vertical-align: middle;\n",
       "    }\n",
       "\n",
       "    .dataframe tbody tr th {\n",
       "        vertical-align: top;\n",
       "    }\n",
       "\n",
       "    .dataframe thead th {\n",
       "        text-align: right;\n",
       "    }\n",
       "</style>\n",
       "<table border=\"1\" class=\"dataframe\">\n",
       "  <thead>\n",
       "    <tr style=\"text-align: right;\">\n",
       "      <th></th>\n",
       "      <th>user_id</th>\n",
       "      <th>name</th>\n",
       "      <th>age</th>\n",
       "      <th>city</th>\n",
       "      <th>subscription_type</th>\n",
       "    </tr>\n",
       "  </thead>\n",
       "  <tbody>\n",
       "    <tr>\n",
       "      <th>0</th>\n",
       "      <td>1</td>\n",
       "      <td>Кира</td>\n",
       "      <td>22</td>\n",
       "      <td>Тюмень</td>\n",
       "      <td>ultra</td>\n",
       "    </tr>\n",
       "    <tr>\n",
       "      <th>1</th>\n",
       "      <td>2</td>\n",
       "      <td>Станислав</td>\n",
       "      <td>31</td>\n",
       "      <td>Омск</td>\n",
       "      <td>ultra</td>\n",
       "    </tr>\n",
       "    <tr>\n",
       "      <th>2</th>\n",
       "      <td>3</td>\n",
       "      <td>Алексей</td>\n",
       "      <td>20</td>\n",
       "      <td>Москва</td>\n",
       "      <td>ultra</td>\n",
       "    </tr>\n",
       "    <tr>\n",
       "      <th>3</th>\n",
       "      <td>4</td>\n",
       "      <td>Константин</td>\n",
       "      <td>26</td>\n",
       "      <td>Ростов-на-Дону</td>\n",
       "      <td>ultra</td>\n",
       "    </tr>\n",
       "    <tr>\n",
       "      <th>4</th>\n",
       "      <td>5</td>\n",
       "      <td>Адель</td>\n",
       "      <td>28</td>\n",
       "      <td>Омск</td>\n",
       "      <td>ultra</td>\n",
       "    </tr>\n",
       "  </tbody>\n",
       "</table>\n",
       "</div>"
      ],
      "text/plain": [
       "   user_id        name  age            city subscription_type\n",
       "0        1        Кира   22          Тюмень             ultra\n",
       "1        2   Станислав   31            Омск             ultra\n",
       "2        3     Алексей   20          Москва             ultra\n",
       "3        4  Константин   26  Ростов-на-Дону             ultra\n",
       "4        5       Адель   28            Омск             ultra"
      ]
     },
     "execution_count": 3,
     "metadata": {},
     "output_type": "execute_result"
    }
   ],
   "source": [
    "users.info()\n",
    "users.head(5)"
   ]
  },
  {
   "cell_type": "markdown",
   "id": "22ebf5e4",
   "metadata": {},
   "source": [
    "* V1\n",
    "Фрейм users состоит из 5 столбцов, содержащих данные для построения портрета клиента - возраст, место проживания, наличие или отсутствие подписки и пр. Типы данных: строки для имён, названий городов и типа подписок, целочисленные для ИД и возраста, переформатирование не требуется."
   ]
  },
  {
   "cell_type": "code",
   "execution_count": 4,
   "id": "00a9d363",
   "metadata": {},
   "outputs": [
    {
     "name": "stdout",
     "output_type": "stream",
     "text": [
      "<class 'pandas.core.frame.DataFrame'>\n",
      "RangeIndex: 18068 entries, 0 to 18067\n",
      "Data columns (total 4 columns):\n",
      " #   Column    Non-Null Count  Dtype  \n",
      "---  ------    --------------  -----  \n",
      " 0   user_id   18068 non-null  int64  \n",
      " 1   distance  18068 non-null  float64\n",
      " 2   duration  18068 non-null  float64\n",
      " 3   date      18068 non-null  object \n",
      "dtypes: float64(2), int64(1), object(1)\n",
      "memory usage: 564.8+ KB\n"
     ]
    },
    {
     "data": {
      "text/html": [
       "<div>\n",
       "<style scoped>\n",
       "    .dataframe tbody tr th:only-of-type {\n",
       "        vertical-align: middle;\n",
       "    }\n",
       "\n",
       "    .dataframe tbody tr th {\n",
       "        vertical-align: top;\n",
       "    }\n",
       "\n",
       "    .dataframe thead th {\n",
       "        text-align: right;\n",
       "    }\n",
       "</style>\n",
       "<table border=\"1\" class=\"dataframe\">\n",
       "  <thead>\n",
       "    <tr style=\"text-align: right;\">\n",
       "      <th></th>\n",
       "      <th>user_id</th>\n",
       "      <th>distance</th>\n",
       "      <th>duration</th>\n",
       "      <th>date</th>\n",
       "    </tr>\n",
       "  </thead>\n",
       "  <tbody>\n",
       "    <tr>\n",
       "      <th>0</th>\n",
       "      <td>1</td>\n",
       "      <td>4409.919140</td>\n",
       "      <td>25.599769</td>\n",
       "      <td>2021-01-01</td>\n",
       "    </tr>\n",
       "    <tr>\n",
       "      <th>1</th>\n",
       "      <td>1</td>\n",
       "      <td>2617.592153</td>\n",
       "      <td>15.816871</td>\n",
       "      <td>2021-01-18</td>\n",
       "    </tr>\n",
       "    <tr>\n",
       "      <th>2</th>\n",
       "      <td>1</td>\n",
       "      <td>754.159807</td>\n",
       "      <td>6.232113</td>\n",
       "      <td>2021-04-20</td>\n",
       "    </tr>\n",
       "    <tr>\n",
       "      <th>3</th>\n",
       "      <td>1</td>\n",
       "      <td>2694.783254</td>\n",
       "      <td>18.511000</td>\n",
       "      <td>2021-08-11</td>\n",
       "    </tr>\n",
       "    <tr>\n",
       "      <th>4</th>\n",
       "      <td>1</td>\n",
       "      <td>4028.687306</td>\n",
       "      <td>26.265803</td>\n",
       "      <td>2021-08-28</td>\n",
       "    </tr>\n",
       "  </tbody>\n",
       "</table>\n",
       "</div>"
      ],
      "text/plain": [
       "   user_id     distance   duration        date\n",
       "0        1  4409.919140  25.599769  2021-01-01\n",
       "1        1  2617.592153  15.816871  2021-01-18\n",
       "2        1   754.159807   6.232113  2021-04-20\n",
       "3        1  2694.783254  18.511000  2021-08-11\n",
       "4        1  4028.687306  26.265803  2021-08-28"
      ]
     },
     "execution_count": 4,
     "metadata": {},
     "output_type": "execute_result"
    }
   ],
   "source": [
    "rides.info()\n",
    "rides.head(5)"
   ]
  },
  {
   "cell_type": "markdown",
   "id": "1d98d1b4",
   "metadata": {},
   "source": [
    "* V1\n",
    "Фрейм rides состоит из 4 столбцов, содержит данные о количестве и длительности поездок с привязкой к дате и идентификатору.\n",
    "Типы данных: целочисленные для ИД, дробные для дистанции и времени аренды, переформатирование требуется для столбца date, т.к. в текущем виде работать с ним как с источником даты-времени будет неудобно."
   ]
  },
  {
   "cell_type": "code",
   "execution_count": 5,
   "id": "86e522be",
   "metadata": {
    "scrolled": true
   },
   "outputs": [
    {
     "name": "stdout",
     "output_type": "stream",
     "text": [
      "<class 'pandas.core.frame.DataFrame'>\n",
      "RangeIndex: 2 entries, 0 to 1\n",
      "Data columns (total 4 columns):\n",
      " #   Column             Non-Null Count  Dtype \n",
      "---  ------             --------------  ----- \n",
      " 0   subscription_type  2 non-null      object\n",
      " 1   minute_price       2 non-null      int64 \n",
      " 2   start_ride_price   2 non-null      int64 \n",
      " 3   subscription_fee   2 non-null      int64 \n",
      "dtypes: int64(3), object(1)\n",
      "memory usage: 192.0+ bytes\n"
     ]
    },
    {
     "data": {
      "text/html": [
       "<div>\n",
       "<style scoped>\n",
       "    .dataframe tbody tr th:only-of-type {\n",
       "        vertical-align: middle;\n",
       "    }\n",
       "\n",
       "    .dataframe tbody tr th {\n",
       "        vertical-align: top;\n",
       "    }\n",
       "\n",
       "    .dataframe thead th {\n",
       "        text-align: right;\n",
       "    }\n",
       "</style>\n",
       "<table border=\"1\" class=\"dataframe\">\n",
       "  <thead>\n",
       "    <tr style=\"text-align: right;\">\n",
       "      <th></th>\n",
       "      <th>subscription_type</th>\n",
       "      <th>minute_price</th>\n",
       "      <th>start_ride_price</th>\n",
       "      <th>subscription_fee</th>\n",
       "    </tr>\n",
       "  </thead>\n",
       "  <tbody>\n",
       "    <tr>\n",
       "      <th>0</th>\n",
       "      <td>free</td>\n",
       "      <td>8</td>\n",
       "      <td>50</td>\n",
       "      <td>0</td>\n",
       "    </tr>\n",
       "    <tr>\n",
       "      <th>1</th>\n",
       "      <td>ultra</td>\n",
       "      <td>6</td>\n",
       "      <td>0</td>\n",
       "      <td>199</td>\n",
       "    </tr>\n",
       "  </tbody>\n",
       "</table>\n",
       "</div>"
      ],
      "text/plain": [
       "  subscription_type  minute_price  start_ride_price  subscription_fee\n",
       "0              free             8                50                 0\n",
       "1             ultra             6                 0               199"
      ]
     },
     "execution_count": 5,
     "metadata": {},
     "output_type": "execute_result"
    }
   ],
   "source": [
    "subscriptions.info()\n",
    "subscriptions.head(5)"
   ]
  },
  {
   "cell_type": "markdown",
   "id": "2550842b",
   "metadata": {},
   "source": [
    "* V1\n",
    "Фрейм subscriptions состоит также из 4 столбцов, содержит данные о типе подписки, цене за минуту, месячный тариф и за начало поездки. Типы данных: целочисленные для цен, строковый для типа подписки, переформатирование не требуется."
   ]
  },
  {
   "cell_type": "markdown",
   "id": "e95ebca7",
   "metadata": {},
   "source": [
    "# Шаг 2. Предобработка данных"
   ]
  },
  {
   "cell_type": "markdown",
   "id": "68a9687f",
   "metadata": {},
   "source": [
    "## 2.1 Приведите столбец date к типу даты pandas."
   ]
  },
  {
   "cell_type": "code",
   "execution_count": 6,
   "id": "af6d202c",
   "metadata": {},
   "outputs": [],
   "source": [
    "#переконвертация столбца date в удобоваримый формат datetime\n",
    "rides['date'] = pd.to_datetime(rides['date'], format='%Y.%m.%d')"
   ]
  },
  {
   "cell_type": "code",
   "execution_count": 7,
   "id": "deae236f",
   "metadata": {},
   "outputs": [
    {
     "data": {
      "text/plain": [
       "0       2021-01-01\n",
       "1       2021-01-18\n",
       "2       2021-04-20\n",
       "3       2021-08-11\n",
       "4       2021-08-28\n",
       "           ...    \n",
       "18063   2021-11-04\n",
       "18064   2021-11-16\n",
       "18065   2021-11-18\n",
       "18066   2021-11-27\n",
       "18067   2021-12-29\n",
       "Name: date, Length: 18068, dtype: datetime64[ns]"
      ]
     },
     "execution_count": 7,
     "metadata": {},
     "output_type": "execute_result"
    }
   ],
   "source": [
    "rides['date']"
   ]
  },
  {
   "cell_type": "markdown",
   "id": "b2e70ffb",
   "metadata": {},
   "source": [
    "## 2.2 Создайте новый столбец с номером месяца на основе столбца date."
   ]
  },
  {
   "cell_type": "code",
   "execution_count": 8,
   "id": "0925644b",
   "metadata": {},
   "outputs": [],
   "source": [
    "rides['month_num'] = pd.DatetimeIndex(rides['date']).month"
   ]
  },
  {
   "cell_type": "markdown",
   "id": "c76aa225",
   "metadata": {},
   "source": [
    "* V2\n",
    "* проверим, есть ли там другие значения, помимо 2021 года"
   ]
  },
  {
   "cell_type": "code",
   "execution_count": 9,
   "id": "bdebc1ee",
   "metadata": {},
   "outputs": [],
   "source": [
    "if '2021' in (rides['date'].dt.to_period('Y')).values:\n",
    "    print('В таблице данные больше, чем за 1 год!')"
   ]
  },
  {
   "cell_type": "markdown",
   "id": "24867550",
   "metadata": {},
   "source": [
    "* т.к. сообщения не было, делаем вывод, что в срезе данные всё же только за 2021 год."
   ]
  },
  {
   "cell_type": "markdown",
   "id": "83fe384d",
   "metadata": {},
   "source": [
    "## 2.3 Проверьте наличие пропущенных значений и дубликатов в датафреймах. Обработайте их, если такие значения присутствуют."
   ]
  },
  {
   "cell_type": "code",
   "execution_count": 10,
   "id": "94d0ffba",
   "metadata": {},
   "outputs": [
    {
     "data": {
      "text/plain": [
       "31"
      ]
     },
     "execution_count": 10,
     "metadata": {},
     "output_type": "execute_result"
    }
   ],
   "source": [
    "# проверка на дубликаты и неверные данные в ячейках\n",
    "users.isna().sum()\n",
    "users.duplicated().sum()"
   ]
  },
  {
   "cell_type": "markdown",
   "id": "d10958c6",
   "metadata": {},
   "source": [
    "Обнаружены дубликаты числом 31 шт, надо удалять"
   ]
  },
  {
   "cell_type": "code",
   "execution_count": 11,
   "id": "ab023473",
   "metadata": {},
   "outputs": [],
   "source": [
    "# удаление дублей\n",
    "users = users.drop_duplicates()"
   ]
  },
  {
   "cell_type": "code",
   "execution_count": 12,
   "id": "070c46e1",
   "metadata": {},
   "outputs": [
    {
     "data": {
      "text/plain": [
       "user_id      0\n",
       "distance     0\n",
       "duration     0\n",
       "date         0\n",
       "month_num    0\n",
       "dtype: int64"
      ]
     },
     "execution_count": 12,
     "metadata": {},
     "output_type": "execute_result"
    }
   ],
   "source": [
    "# проверка на дубликаты и неверные данные в ячейках\n",
    "rides.isna().sum()"
   ]
  },
  {
   "cell_type": "markdown",
   "id": "f5db683e",
   "metadata": {},
   "source": [
    "Всё в порядке, пропусков нет"
   ]
  },
  {
   "cell_type": "code",
   "execution_count": 13,
   "id": "4631ce45",
   "metadata": {},
   "outputs": [
    {
     "data": {
      "text/plain": [
       "0"
      ]
     },
     "execution_count": 13,
     "metadata": {},
     "output_type": "execute_result"
    }
   ],
   "source": [
    "rides.duplicated().sum()"
   ]
  },
  {
   "cell_type": "markdown",
   "id": "0185d51b",
   "metadata": {},
   "source": [
    "Всё в порядке, дублей нет"
   ]
  },
  {
   "cell_type": "code",
   "execution_count": 14,
   "id": "0bc8a413",
   "metadata": {
    "scrolled": true
   },
   "outputs": [
    {
     "data": {
      "text/plain": [
       "subscription_type    0\n",
       "minute_price         0\n",
       "start_ride_price     0\n",
       "subscription_fee     0\n",
       "dtype: int64"
      ]
     },
     "execution_count": 14,
     "metadata": {},
     "output_type": "execute_result"
    }
   ],
   "source": [
    "# проверка на дубликаты и неверные данные в ячейках\n",
    "subscriptions.isna().sum()"
   ]
  },
  {
   "cell_type": "markdown",
   "id": "80b9b7ba",
   "metadata": {},
   "source": [
    "Всё в порядке, пропусков нет"
   ]
  },
  {
   "cell_type": "code",
   "execution_count": 15,
   "id": "677b55f5",
   "metadata": {},
   "outputs": [
    {
     "data": {
      "text/plain": [
       "0"
      ]
     },
     "execution_count": 15,
     "metadata": {},
     "output_type": "execute_result"
    }
   ],
   "source": [
    "subscriptions.duplicated().sum()"
   ]
  },
  {
   "cell_type": "markdown",
   "id": "d7703ba7",
   "metadata": {},
   "source": [
    "Всё в порядке, дублей нет"
   ]
  },
  {
   "cell_type": "markdown",
   "id": "315c0f99",
   "metadata": {},
   "source": [
    "V2\n",
    "**Промежуточные итоги:\n",
    "Была проведена проверка фреймов на ошибки, NaN и неверные данные в ячейках, найден 31 дубль в ДФ users, лишние данные удалены."
   ]
  },
  {
   "cell_type": "markdown",
   "id": "212593c7",
   "metadata": {},
   "source": [
    "# Шаг 3. Исследовательский анализ данных"
   ]
  },
  {
   "cell_type": "markdown",
   "id": "902b5aa9",
   "metadata": {},
   "source": [
    "Опишите и визуализируйте общую информацию о пользователях и поездках:\n",
    "    частота встречаемости городов;\n",
    "    соотношение пользователей с подпиской и без подписки;\n",
    "    возраст пользователей;\n",
    "    расстояние, которое пользователь преодолел за одну поездку;\n",
    "    продолжительность поездок."
   ]
  },
  {
   "cell_type": "markdown",
   "id": "0976d20d",
   "metadata": {},
   "source": [
    "### 3.1 частота встречаемости городов"
   ]
  },
  {
   "cell_type": "code",
   "execution_count": 16,
   "id": "0429c4c6",
   "metadata": {},
   "outputs": [
    {
     "data": {
      "text/plain": [
       "Пятигорск         219\n",
       "Екатеринбург      204\n",
       "Ростов-на-Дону    198\n",
       "Краснодар         193\n",
       "Сочи              189\n",
       "Омск              183\n",
       "Тюмень            180\n",
       "Москва            168\n",
       "Name: city, dtype: int64"
      ]
     },
     "execution_count": 16,
     "metadata": {},
     "output_type": "execute_result"
    }
   ],
   "source": [
    "# подсчёт значений в столбце\n",
    "users['city'].value_counts()"
   ]
  },
  {
   "cell_type": "code",
   "execution_count": 17,
   "id": "2b83a9d7",
   "metadata": {},
   "outputs": [
    {
     "data": {
      "image/png": "[encoded data removed]",
      "text/plain": [
       "<Figure size 1080x360 with 1 Axes>"
      ]
     },
     "metadata": {
      "needs_background": "light"
     },
     "output_type": "display_data"
    }
   ],
   "source": [
    "# V1\n",
    "# построение графика частоты встречаемости городов с ранжиром по возрастанию\n",
    "df_users = users.pivot_table(index = 'city', values = 'user_id', aggfunc = 'count')\n",
    "df_users = df_users.sort_values(by='user_id', ascending = False)\n",
    "df_users.plot( kind='barh', figsize = (15,5), grid = True )\n",
    "plt.title('Частота встречаемости городов')\n",
    "plt.xlabel('Количество пользователей')\n",
    "plt.ylabel('Названия городов')\n",
    "plt.show()"
   ]
  },
  {
   "cell_type": "markdown",
   "id": "43447174",
   "metadata": {},
   "source": [
    "Всего 8 городов в списке, в каждом из них выборка примерно по 190 пользователей, наименьшее количество их - в Москве, наибольшее - в Пятигорске."
   ]
  },
  {
   "cell_type": "markdown",
   "id": "c56c8c2f",
   "metadata": {},
   "source": [
    "## 3.2 соотношение пользователей с подпиской и без подписки"
   ]
  },
  {
   "cell_type": "code",
   "execution_count": 18,
   "id": "9827451b",
   "metadata": {
    "scrolled": true
   },
   "outputs": [],
   "source": [
    "#V1\n",
    "# создание сводной таблицы, используя данные из ДФ rides, с группировкой по подписке\n",
    "df_users_subs = users.pivot_table(index = 'subscription_type', values = 'user_id', aggfunc = 'count').reset_index()"
   ]
  },
  {
   "cell_type": "code",
   "execution_count": 19,
   "id": "59629f47",
   "metadata": {},
   "outputs": [
    {
     "data": {
      "image/png": "[encoded data removed]",
      "text/plain": [
       "<Figure size 432x288 with 1 Axes>"
      ]
     },
     "metadata": {},
     "output_type": "display_data"
    }
   ],
   "source": [
    "#V1\n",
    "# отрисовка круговой диаграммы по типам подписки с указанием процентного соотношения\n",
    "fig, ax = plt.subplots()\n",
    "ax.pie(df_users_subs['user_id'], labels=df_users_subs['subscription_type'], autopct='%1.1f%%')\n",
    "plt.title('Соотношение пользователей с подпиской и без')\n",
    "plt.show()"
   ]
  },
  {
   "cell_type": "code",
   "execution_count": 20,
   "id": "0ac2a242",
   "metadata": {},
   "outputs": [
    {
     "data": {
      "text/plain": [
       "0.4556714471968709"
      ]
     },
     "execution_count": 20,
     "metadata": {},
     "output_type": "execute_result"
    }
   ],
   "source": [
    "users['subscription_type'].value_counts()['ultra'] / len(users['subscription_type'])"
   ]
  },
  {
   "cell_type": "markdown",
   "id": "d6c32ed0",
   "metadata": {},
   "source": [
    "* пользователи с подпиской составляют 45% от общего числа"
   ]
  },
  {
   "cell_type": "markdown",
   "id": "cb73c405",
   "metadata": {},
   "source": [
    "### 3.3 возраст пользователей"
   ]
  },
  {
   "cell_type": "code",
   "execution_count": 21,
   "id": "3f050f68",
   "metadata": {},
   "outputs": [
    {
     "data": {
      "text/plain": [
       "count    1534.000000\n",
       "mean       24.903520\n",
       "std         4.572367\n",
       "min        12.000000\n",
       "25%        22.000000\n",
       "50%        25.000000\n",
       "75%        28.000000\n",
       "max        43.000000\n",
       "Name: age, dtype: float64"
      ]
     },
     "execution_count": 21,
     "metadata": {},
     "output_type": "execute_result"
    }
   ],
   "source": [
    "users['age'].describe()"
   ]
  },
  {
   "cell_type": "markdown",
   "id": "a7fd585e",
   "metadata": {},
   "source": [
    "Наименьший возраст клиента - 12 лет, наибольший - 43 года, средний возраст - 24,9 лет."
   ]
  },
  {
   "cell_type": "code",
   "execution_count": 22,
   "id": "8a8e8d1f",
   "metadata": {},
   "outputs": [
    {
     "data": {
      "image/png": "[encoded data removed]",
      "text/plain": [
       "<Figure size 1080x360 with 1 Axes>"
      ]
     },
     "metadata": {
      "needs_background": "light"
     },
     "output_type": "display_data"
    }
   ],
   "source": [
    "#V2\n",
    "# построение гистограммы, отражающей кол-во пользователей в зависимости от возраста\n",
    "users_cut = users['age'].plot(kind='hist', histtype='bar',bins=100,grid=True,alpha=0.7, legend=True,\n",
    "    title='Возрастной срез пользователей', linewidth=5, figsize = (15, 5)  \n",
    "                 ).set(xlabel='возраст пользователей по годам', ylabel='количество пользователей')\n",
    "\n",
    "plt.show()"
   ]
  },
  {
   "cell_type": "markdown",
   "id": "5ea891e6",
   "metadata": {},
   "source": [
    "V2\n",
    "\n",
    "Как видно из гистограммы, основная масса клиентов расположена в промежутке от 21 до 28 лет, причем их количество снижается быстрее после промежутка, чем возрастает до. Самокат - дело молодых...."
   ]
  },
  {
   "cell_type": "markdown",
   "id": "00d63b84",
   "metadata": {},
   "source": [
    "### 3.4 расстояние, которое пользователь преодолел за одну поездку"
   ]
  },
  {
   "cell_type": "markdown",
   "id": "19c8ff6c",
   "metadata": {},
   "source": [
    "* Построим график для демонстрации дистанции, которую проезжают клиенты"
   ]
  },
  {
   "cell_type": "code",
   "execution_count": 23,
   "id": "3873b448",
   "metadata": {},
   "outputs": [
    {
     "data": {
      "image/png": "[encoded data removed]",
      "text/plain": [
       "<Figure size 1080x360 with 1 Axes>"
      ]
     },
     "metadata": {
      "needs_background": "light"
     },
     "output_type": "display_data"
    }
   ],
   "source": [
    "#rides['distance'].hist(bins = 25, figsize = (15, 5))\n",
    "rides_cut = rides['distance'].plot(kind='hist', histtype='bar',bins=100,grid=True,alpha=0.7, legend=True,\n",
    "    title='Расстояние поездок', linewidth=5, figsize = (15, 5)  \n",
    "                 ).set(xlabel='расстояние в м', ylabel='количество пользователей')\n",
    "\n",
    "plt.show()"
   ]
  },
  {
   "cell_type": "code",
   "execution_count": 24,
   "id": "c34e8b69",
   "metadata": {},
   "outputs": [
    {
     "data": {
      "text/plain": [
       "user_id\n",
       "1       2839.181839\n",
       "2       3087.641692\n",
       "3       3075.633155\n",
       "4       3202.656423\n",
       "5       3232.449968\n",
       "           ...     \n",
       "1530    2750.498225\n",
       "1531    2915.425836\n",
       "1532    2607.861784\n",
       "1533    2837.707093\n",
       "1534    3222.957142\n",
       "Name: distance, Length: 1534, dtype: float64"
      ]
     },
     "execution_count": 24,
     "metadata": {},
     "output_type": "execute_result"
    }
   ],
   "source": [
    "rides.groupby('user_id')['distance'].mean()"
   ]
  },
  {
   "cell_type": "markdown",
   "id": "d3402640",
   "metadata": {},
   "source": [
    "V2\n",
    "Судя по графику и по средним значениям, есть две группы наиболее востребованных поездок - в районе 1 и 3 км соотвественно, что условно можно отнести к внутриквартальным и межквартальным (средний предел границ квартала - 4 км), после чего частота резко падает. Некоторый всплеск в районе 600-700 метров можно отнести или к пробным поездкам (кружок-другой по площади), или к просто очень коротким поездкам (деньги есть, а пешком идти лень)."
   ]
  },
  {
   "cell_type": "markdown",
   "id": "9c5a3f22",
   "metadata": {},
   "source": [
    "### 3.5 продолжительность поездок"
   ]
  },
  {
   "cell_type": "markdown",
   "id": "e0c05d51",
   "metadata": {},
   "source": [
    "* Построим бокс-диаграмму для понимания продолжительности поездок"
   ]
  },
  {
   "cell_type": "code",
   "execution_count": 25,
   "id": "b5e33366",
   "metadata": {
    "scrolled": true
   },
   "outputs": [
    {
     "data": {
      "text/plain": [
       "<AxesSubplot:>"
      ]
     },
     "execution_count": 25,
     "metadata": {},
     "output_type": "execute_result"
    },
    {
     "data": {
      "image/png": "[encoded data removed]",
      "text/plain": [
       "<Figure size 1080x216 with 1 Axes>"
      ]
     },
     "metadata": {
      "needs_background": "light"
     },
     "output_type": "display_data"
    }
   ],
   "source": [
    "# V1\n",
    "rides.boxplot(column = 'duration', figsize = (15, 3), vert=False)"
   ]
  },
  {
   "cell_type": "markdown",
   "id": "aff5d9b9",
   "metadata": {},
   "source": [
    "* V1\n",
    "\n",
    "Как видно из распределения, среднее время поездки составляет от 14 до 22 минут, с медианой в районе 17 минут. Редкие выбросы менее 2 минут - это или ошибки аренды (не хватило денег, передумал, низкий заряд и пр), выбросы за границей 30 минут - это или случайные поездки, когда добиратьcя надо, а общественного транспорта или такси поймать не удалось, или аренда с прогулочной\\туристической целью."
   ]
  },
  {
   "cell_type": "code",
   "execution_count": 26,
   "id": "b42e3182",
   "metadata": {},
   "outputs": [
    {
     "data": {
      "text/plain": [
       "count    18068.000000\n",
       "mean        17.805011\n",
       "std          6.091051\n",
       "min          0.500000\n",
       "25%         13.597563\n",
       "50%         17.678395\n",
       "75%         21.724800\n",
       "max         40.823963\n",
       "Name: duration, dtype: float64"
      ]
     },
     "execution_count": 26,
     "metadata": {},
     "output_type": "execute_result"
    }
   ],
   "source": [
    "rides['duration'].describe()"
   ]
  },
  {
   "cell_type": "markdown",
   "id": "9d4d7761",
   "metadata": {},
   "source": [
    "* V2\n",
    "\n",
    "Судя по содержимому, самая короткая поездка составила 50 секунд - это, скорей всего, пробный заезд, сама длинная - почти 41 минуту, а в среднем пользователь проезжает чуть менее 18 минут за раз."
   ]
  },
  {
   "cell_type": "markdown",
   "id": "4ef51331",
   "metadata": {},
   "source": [
    "#### Шаг 4. Объединение данных"
   ]
  },
  {
   "cell_type": "markdown",
   "id": "12514b26",
   "metadata": {},
   "source": [
    "4.1 Объедините данные о пользователях, поездках и подписках в один датафрейм. Для этого воспользуйтесь методом merge()."
   ]
  },
  {
   "cell_type": "markdown",
   "id": "b90ae9f9",
   "metadata": {},
   "source": [
    "* Поочерёдно присоедненим таблицы на основе общих столбцов"
   ]
  },
  {
   "cell_type": "code",
   "execution_count": 27,
   "id": "6bf288b5",
   "metadata": {},
   "outputs": [],
   "source": [
    "df = users.merge(rides, on='user_id', how='left')"
   ]
  },
  {
   "cell_type": "code",
   "execution_count": 28,
   "id": "0541c530",
   "metadata": {},
   "outputs": [],
   "source": [
    "df = df.merge(subscriptions, on='subscription_type', how='left')"
   ]
  },
  {
   "cell_type": "code",
   "execution_count": 29,
   "id": "e6d90d1d",
   "metadata": {},
   "outputs": [
    {
     "data": {
      "text/html": [
       "<div>\n",
       "<style scoped>\n",
       "    .dataframe tbody tr th:only-of-type {\n",
       "        vertical-align: middle;\n",
       "    }\n",
       "\n",
       "    .dataframe tbody tr th {\n",
       "        vertical-align: top;\n",
       "    }\n",
       "\n",
       "    .dataframe thead th {\n",
       "        text-align: right;\n",
       "    }\n",
       "</style>\n",
       "<table border=\"1\" class=\"dataframe\">\n",
       "  <thead>\n",
       "    <tr style=\"text-align: right;\">\n",
       "      <th></th>\n",
       "      <th>user_id</th>\n",
       "      <th>name</th>\n",
       "      <th>age</th>\n",
       "      <th>city</th>\n",
       "      <th>subscription_type</th>\n",
       "      <th>distance</th>\n",
       "      <th>duration</th>\n",
       "      <th>date</th>\n",
       "      <th>month_num</th>\n",
       "      <th>minute_price</th>\n",
       "      <th>start_ride_price</th>\n",
       "      <th>subscription_fee</th>\n",
       "    </tr>\n",
       "  </thead>\n",
       "  <tbody>\n",
       "    <tr>\n",
       "      <th>0</th>\n",
       "      <td>1</td>\n",
       "      <td>Кира</td>\n",
       "      <td>22</td>\n",
       "      <td>Тюмень</td>\n",
       "      <td>ultra</td>\n",
       "      <td>4409.919140</td>\n",
       "      <td>25.599769</td>\n",
       "      <td>2021-01-01</td>\n",
       "      <td>1</td>\n",
       "      <td>6</td>\n",
       "      <td>0</td>\n",
       "      <td>199</td>\n",
       "    </tr>\n",
       "    <tr>\n",
       "      <th>1</th>\n",
       "      <td>1</td>\n",
       "      <td>Кира</td>\n",
       "      <td>22</td>\n",
       "      <td>Тюмень</td>\n",
       "      <td>ultra</td>\n",
       "      <td>2617.592153</td>\n",
       "      <td>15.816871</td>\n",
       "      <td>2021-01-18</td>\n",
       "      <td>1</td>\n",
       "      <td>6</td>\n",
       "      <td>0</td>\n",
       "      <td>199</td>\n",
       "    </tr>\n",
       "    <tr>\n",
       "      <th>2</th>\n",
       "      <td>1</td>\n",
       "      <td>Кира</td>\n",
       "      <td>22</td>\n",
       "      <td>Тюмень</td>\n",
       "      <td>ultra</td>\n",
       "      <td>754.159807</td>\n",
       "      <td>6.232113</td>\n",
       "      <td>2021-04-20</td>\n",
       "      <td>4</td>\n",
       "      <td>6</td>\n",
       "      <td>0</td>\n",
       "      <td>199</td>\n",
       "    </tr>\n",
       "    <tr>\n",
       "      <th>3</th>\n",
       "      <td>1</td>\n",
       "      <td>Кира</td>\n",
       "      <td>22</td>\n",
       "      <td>Тюмень</td>\n",
       "      <td>ultra</td>\n",
       "      <td>2694.783254</td>\n",
       "      <td>18.511000</td>\n",
       "      <td>2021-08-11</td>\n",
       "      <td>8</td>\n",
       "      <td>6</td>\n",
       "      <td>0</td>\n",
       "      <td>199</td>\n",
       "    </tr>\n",
       "    <tr>\n",
       "      <th>4</th>\n",
       "      <td>1</td>\n",
       "      <td>Кира</td>\n",
       "      <td>22</td>\n",
       "      <td>Тюмень</td>\n",
       "      <td>ultra</td>\n",
       "      <td>4028.687306</td>\n",
       "      <td>26.265803</td>\n",
       "      <td>2021-08-28</td>\n",
       "      <td>8</td>\n",
       "      <td>6</td>\n",
       "      <td>0</td>\n",
       "      <td>199</td>\n",
       "    </tr>\n",
       "    <tr>\n",
       "      <th>...</th>\n",
       "      <td>...</td>\n",
       "      <td>...</td>\n",
       "      <td>...</td>\n",
       "      <td>...</td>\n",
       "      <td>...</td>\n",
       "      <td>...</td>\n",
       "      <td>...</td>\n",
       "      <td>...</td>\n",
       "      <td>...</td>\n",
       "      <td>...</td>\n",
       "      <td>...</td>\n",
       "      <td>...</td>\n",
       "    </tr>\n",
       "    <tr>\n",
       "      <th>18063</th>\n",
       "      <td>1534</td>\n",
       "      <td>Альберт</td>\n",
       "      <td>25</td>\n",
       "      <td>Краснодар</td>\n",
       "      <td>free</td>\n",
       "      <td>3781.098080</td>\n",
       "      <td>19.822962</td>\n",
       "      <td>2021-11-04</td>\n",
       "      <td>11</td>\n",
       "      <td>8</td>\n",
       "      <td>50</td>\n",
       "      <td>0</td>\n",
       "    </tr>\n",
       "    <tr>\n",
       "      <th>18064</th>\n",
       "      <td>1534</td>\n",
       "      <td>Альберт</td>\n",
       "      <td>25</td>\n",
       "      <td>Краснодар</td>\n",
       "      <td>free</td>\n",
       "      <td>2840.423057</td>\n",
       "      <td>21.409799</td>\n",
       "      <td>2021-11-16</td>\n",
       "      <td>11</td>\n",
       "      <td>8</td>\n",
       "      <td>50</td>\n",
       "      <td>0</td>\n",
       "    </tr>\n",
       "    <tr>\n",
       "      <th>18065</th>\n",
       "      <td>1534</td>\n",
       "      <td>Альберт</td>\n",
       "      <td>25</td>\n",
       "      <td>Краснодар</td>\n",
       "      <td>free</td>\n",
       "      <td>3826.185507</td>\n",
       "      <td>18.435051</td>\n",
       "      <td>2021-11-18</td>\n",
       "      <td>11</td>\n",
       "      <td>8</td>\n",
       "      <td>50</td>\n",
       "      <td>0</td>\n",
       "    </tr>\n",
       "    <tr>\n",
       "      <th>18066</th>\n",
       "      <td>1534</td>\n",
       "      <td>Альберт</td>\n",
       "      <td>25</td>\n",
       "      <td>Краснодар</td>\n",
       "      <td>free</td>\n",
       "      <td>2902.308661</td>\n",
       "      <td>16.674362</td>\n",
       "      <td>2021-11-27</td>\n",
       "      <td>11</td>\n",
       "      <td>8</td>\n",
       "      <td>50</td>\n",
       "      <td>0</td>\n",
       "    </tr>\n",
       "    <tr>\n",
       "      <th>18067</th>\n",
       "      <td>1534</td>\n",
       "      <td>Альберт</td>\n",
       "      <td>25</td>\n",
       "      <td>Краснодар</td>\n",
       "      <td>free</td>\n",
       "      <td>2371.711192</td>\n",
       "      <td>15.893917</td>\n",
       "      <td>2021-12-29</td>\n",
       "      <td>12</td>\n",
       "      <td>8</td>\n",
       "      <td>50</td>\n",
       "      <td>0</td>\n",
       "    </tr>\n",
       "  </tbody>\n",
       "</table>\n",
       "<p>18068 rows × 12 columns</p>\n",
       "</div>"
      ],
      "text/plain": [
       "       user_id     name  age       city subscription_type     distance  \\\n",
       "0            1     Кира   22     Тюмень             ultra  4409.919140   \n",
       "1            1     Кира   22     Тюмень             ultra  2617.592153   \n",
       "2            1     Кира   22     Тюмень             ultra   754.159807   \n",
       "3            1     Кира   22     Тюмень             ultra  2694.783254   \n",
       "4            1     Кира   22     Тюмень             ultra  4028.687306   \n",
       "...        ...      ...  ...        ...               ...          ...   \n",
       "18063     1534  Альберт   25  Краснодар              free  3781.098080   \n",
       "18064     1534  Альберт   25  Краснодар              free  2840.423057   \n",
       "18065     1534  Альберт   25  Краснодар              free  3826.185507   \n",
       "18066     1534  Альберт   25  Краснодар              free  2902.308661   \n",
       "18067     1534  Альберт   25  Краснодар              free  2371.711192   \n",
       "\n",
       "        duration       date  month_num  minute_price  start_ride_price  \\\n",
       "0      25.599769 2021-01-01          1             6                 0   \n",
       "1      15.816871 2021-01-18          1             6                 0   \n",
       "2       6.232113 2021-04-20          4             6                 0   \n",
       "3      18.511000 2021-08-11          8             6                 0   \n",
       "4      26.265803 2021-08-28          8             6                 0   \n",
       "...          ...        ...        ...           ...               ...   \n",
       "18063  19.822962 2021-11-04         11             8                50   \n",
       "18064  21.409799 2021-11-16         11             8                50   \n",
       "18065  18.435051 2021-11-18         11             8                50   \n",
       "18066  16.674362 2021-11-27         11             8                50   \n",
       "18067  15.893917 2021-12-29         12             8                50   \n",
       "\n",
       "       subscription_fee  \n",
       "0                   199  \n",
       "1                   199  \n",
       "2                   199  \n",
       "3                   199  \n",
       "4                   199  \n",
       "...                 ...  \n",
       "18063                 0  \n",
       "18064                 0  \n",
       "18065                 0  \n",
       "18066                 0  \n",
       "18067                 0  \n",
       "\n",
       "[18068 rows x 12 columns]"
      ]
     },
     "execution_count": 29,
     "metadata": {},
     "output_type": "execute_result"
    }
   ],
   "source": [
    "#V1 просмотр столбцов на наличие после переноса\n",
    "df"
   ]
  },
  {
   "cell_type": "code",
   "execution_count": 30,
   "id": "9f49f4ec",
   "metadata": {},
   "outputs": [
    {
     "name": "stdout",
     "output_type": "stream",
     "text": [
      "<class 'pandas.core.frame.DataFrame'>\n",
      "Int64Index: 18068 entries, 0 to 18067\n",
      "Data columns (total 12 columns):\n",
      " #   Column             Non-Null Count  Dtype         \n",
      "---  ------             --------------  -----         \n",
      " 0   user_id            18068 non-null  int64         \n",
      " 1   name               18068 non-null  object        \n",
      " 2   age                18068 non-null  int64         \n",
      " 3   city               18068 non-null  object        \n",
      " 4   subscription_type  18068 non-null  object        \n",
      " 5   distance           18068 non-null  float64       \n",
      " 6   duration           18068 non-null  float64       \n",
      " 7   date               18068 non-null  datetime64[ns]\n",
      " 8   month_num          18068 non-null  int64         \n",
      " 9   minute_price       18068 non-null  int64         \n",
      " 10  start_ride_price   18068 non-null  int64         \n",
      " 11  subscription_fee   18068 non-null  int64         \n",
      "dtypes: datetime64[ns](1), float64(2), int64(6), object(3)\n",
      "memory usage: 1.8+ MB\n"
     ]
    }
   ],
   "source": [
    "#V1 описание и типы данных в столбцах\n",
    "df.info()"
   ]
  },
  {
   "cell_type": "markdown",
   "id": "4c1512db",
   "metadata": {},
   "source": [
    "* V2\n",
    "* Объединённая таблца состоит из 11 столбцов, строковые параметры - имена пользователей и городов, типы подписок, параметр даты применён именно к столбцу дат, прочие параметры приведены в числовой формат."
   ]
  },
  {
   "cell_type": "code",
   "execution_count": 31,
   "id": "daa83aa5",
   "metadata": {},
   "outputs": [
    {
     "data": {
      "text/plain": [
       "user_id              0\n",
       "name                 0\n",
       "age                  0\n",
       "city                 0\n",
       "subscription_type    0\n",
       "distance             0\n",
       "duration             0\n",
       "date                 0\n",
       "month_num            0\n",
       "minute_price         0\n",
       "start_ride_price     0\n",
       "subscription_fee     0\n",
       "dtype: int64"
      ]
     },
     "execution_count": 31,
     "metadata": {},
     "output_type": "execute_result"
    }
   ],
   "source": [
    "#V1\n",
    "# проверка фрейма на дубли и ошибки\n",
    "df.isna().sum()"
   ]
  },
  {
   "cell_type": "markdown",
   "id": "e69f04ff",
   "metadata": {},
   "source": [
    "Всё в порядке, дублей нет"
   ]
  },
  {
   "cell_type": "code",
   "execution_count": 32,
   "id": "d3cb9fe3",
   "metadata": {},
   "outputs": [
    {
     "data": {
      "text/plain": [
       "0"
      ]
     },
     "execution_count": 32,
     "metadata": {},
     "output_type": "execute_result"
    }
   ],
   "source": [
    "#V1\n",
    "df.duplicated().sum()"
   ]
  },
  {
   "cell_type": "markdown",
   "id": "69aab430",
   "metadata": {},
   "source": [
    "Всё в порядке, дублей нет"
   ]
  },
  {
   "cell_type": "markdown",
   "id": "bff84a54",
   "metadata": {},
   "source": [
    "### 4.2 Создайте ещё два датафрейма из датафрейма - c данными о пользователях без подписки; с данными о пользователях с подпиской."
   ]
  },
  {
   "cell_type": "code",
   "execution_count": 33,
   "id": "97e9f90a",
   "metadata": {},
   "outputs": [],
   "source": [
    "# с подпиской\n",
    "df_ult = df[df['subscription_type'] == 'ultra']"
   ]
  },
  {
   "cell_type": "code",
   "execution_count": 34,
   "id": "9ae4dc40",
   "metadata": {},
   "outputs": [],
   "source": [
    "# без подписки\n",
    "df_free = df[df['subscription_type'] == 'free']"
   ]
  },
  {
   "cell_type": "code",
   "execution_count": 35,
   "id": "e646dc7d",
   "metadata": {
    "scrolled": true
   },
   "outputs": [
    {
     "data": {
      "text/plain": [
       "6500     14.944286\n",
       "6501     16.234663\n",
       "6502     20.016628\n",
       "6503      9.782872\n",
       "6504     17.427673\n",
       "           ...    \n",
       "18063    19.822962\n",
       "18064    21.409799\n",
       "18065    18.435051\n",
       "18066    16.674362\n",
       "18067    15.893917\n",
       "Name: duration, Length: 11568, dtype: float64"
      ]
     },
     "execution_count": 35,
     "metadata": {},
     "output_type": "execute_result"
    }
   ],
   "source": [
    "df_free['duration']"
   ]
  },
  {
   "cell_type": "markdown",
   "id": "5a87d0c9",
   "metadata": {},
   "source": [
    "### 4.3 Визуализируйте информацию о расстоянии и времени поездок для пользователей обеих категорий."
   ]
  },
  {
   "cell_type": "code",
   "execution_count": 36,
   "id": "1df11c1e",
   "metadata": {
    "scrolled": true
   },
   "outputs": [
    {
     "data": {
      "image/png": "[encoded data removed]",
      "text/plain": [
       "<Figure size 1080x360 with 1 Axes>"
      ]
     },
     "metadata": {
      "needs_background": "light"
     },
     "output_type": "display_data"
    }
   ],
   "source": [
    "df_ult_hist = df_ult['distance'].plot(kind='hist', y='distance', \n",
    "                histtype='step',bins=100,grid=True, legend=True, label='Ultra', alpha=1,\n",
    "                linewidth=5, figsize = (15, 5)                         \n",
    "                )\n",
    "df_free_hist = df_free['distance'].plot(kind='hist', y='distance',\n",
    "                histtype='step',bins=100,grid=True,alpha=0.7, legend=True, label='Free',\n",
    "                title='Расстояние поездок', linewidth=5, ax=df_ult_hist, figsize = (15, 5)  \n",
    "                 ).set(xlabel='дистанция', ylabel='количество пользователей')\n",
    "plt.show()"
   ]
  },
  {
   "cell_type": "markdown",
   "id": "c16d3fed",
   "metadata": {},
   "source": [
    "* можно предположить, что случайные пользователи предпочитают очень короткие и очень длинные поездки, подписчики же на постоянной основе колесят по одним и тем же маршрутам"
   ]
  },
  {
   "cell_type": "markdown",
   "id": "982af712",
   "metadata": {},
   "source": [
    "* V1\n",
    "\n",
    "Подписчики категории FREE имеют самый большой разброс в дальности поездок, самые дальние лежат за пределами 7 км. Имеются характерные накопления в районе 500 метров и плато в районе 2.5-3.5 км, из чего можно предположить, что в первом случае спонтанные поездки совершаются, например, до остановок транспорта под влиянием настроения или в случае опозданий, а также до объектов общепита или развлечений, во втором случае расстояние более характерно для внутриквартальных поездок до остановок ОТ.\n",
    "\n",
    "Подписчики категории ULTRA имеют меньший разброс с характерными пиками в районе 1 и 3 км, что свидетельствует об использовании самокатов для поездок к остановкам ОТ на учёбу или работу, т.к. они совершаются на постоянной основе на одни и те же дистанции, подразумевая рациональное использование платного сервиса. Третий пик в районе 4 км подтверждает это, т.к. за его пределами количество поездок быстро стремится к нулю, а эти 4 км и составляют средний размер одного городского квартала.\n",
    "\n",
    "Графики весьма сильно отличаются, и, несмотря на схожие пики в районе 1 и 3 км, график FREE имеет большую площадь и большее количество покрываемых вариантов."
   ]
  },
  {
   "cell_type": "code",
   "execution_count": 37,
   "id": "aed45fe1",
   "metadata": {},
   "outputs": [
    {
     "data": {
      "image/png": "[encoded data removed]",
      "text/plain": [
       "<Figure size 1080x360 with 1 Axes>"
      ]
     },
     "metadata": {
      "needs_background": "light"
     },
     "output_type": "display_data"
    }
   ],
   "source": [
    "df_ult_hist = df_ult['duration'].plot(kind='hist', y='duration', \n",
    "                histtype='step',bins=100,grid=True, legend=True, label='Ultra', alpha=1,\n",
    "                linewidth=5, figsize = (15, 5)                         \n",
    "                )\n",
    "df_free_hist = df_free['duration'].plot(kind='hist', y='duration',\n",
    "                histtype='step',bins=100,grid=True,alpha=0.7, legend=True, label='Free',\n",
    "                title='Длительность поездок', linewidth=5, ax=df_ult_hist, figsize = (15, 5)  \n",
    "                 ).set(xlabel='время', ylabel='количество пользователей')\n",
    "plt.show()"
   ]
  },
  {
   "cell_type": "markdown",
   "id": "184d3299",
   "metadata": {},
   "source": [
    "* V1\n",
    "Подписчики категории FREE не имеют большого разброса, основная группа сосредоточена в промежутке от 10 до 20 минут (что составляет психологически комфортный диапазон цены \"примерно 200 руб\") Выброс в диапазоне 0-1 минуты, возможно, свидетельствует об отказе от поездки сразу после регистрации по эмоциональным мотивам (\"слишком дорого\"). Максимальная длительность поездки - 35 минут.\n",
    "\n",
    "Подпичики категории ULTRA имеют меньший разброс с характерным плато в районе 15-20 минут,  что свидетельствует об использовании самокатов для поездок к остановкам ОТ на учёбу или работу, т.к. они совершаются на постоянной основе на одни и те же дистанции, и составляют психологически комфортный диапазон цена \"примерно 100 руб\", при этом они же совершают более длительные  поездки до 45 минут, исходя из принципа \"уплачено - должно быть потрачено\". \n",
    "\n",
    "Графики весьма сильно отличаются, график платной подписки смещён в сторону большей максимальной длительности, но меньшей средней."
   ]
  },
  {
   "cell_type": "markdown",
   "id": "402d620f",
   "metadata": {},
   "source": [
    "#### Шаг 5. Подсчёт выручки"
   ]
  },
  {
   "cell_type": "markdown",
   "id": "e9f4b975",
   "metadata": {},
   "source": [
    "### 5.1 Создайте датафрейм с агрегированными данными о поездках на основе датафрейма с объединёнными данными из шага 4: найдите суммарное расстояние, количество поездок и суммарное время для каждого пользователя за каждый месяц."
   ]
  },
  {
   "cell_type": "code",
   "execution_count": 38,
   "id": "53049e0a",
   "metadata": {},
   "outputs": [],
   "source": [
    "# продолжительность поездки лучше округлить до целых значений, чем считать сотые доли секунды лишний раз\n",
    "df['duration'] = np.ceil(df['duration'])\n",
    "df['duration'] = df['duration'].astype('int')"
   ]
  },
  {
   "cell_type": "code",
   "execution_count": 39,
   "id": "76879787",
   "metadata": {},
   "outputs": [],
   "source": [
    "# а дистанцию - до десятков метров\n",
    "df['distance'] = df['distance'].round(2)"
   ]
  },
  {
   "cell_type": "code",
   "execution_count": 40,
   "id": "a5082a93",
   "metadata": {},
   "outputs": [
    {
     "data": {
      "text/html": [
       "<div>\n",
       "<style scoped>\n",
       "    .dataframe tbody tr th:only-of-type {\n",
       "        vertical-align: middle;\n",
       "    }\n",
       "\n",
       "    .dataframe tbody tr th {\n",
       "        vertical-align: top;\n",
       "    }\n",
       "\n",
       "    .dataframe thead th {\n",
       "        text-align: right;\n",
       "    }\n",
       "</style>\n",
       "<table border=\"1\" class=\"dataframe\">\n",
       "  <thead>\n",
       "    <tr style=\"text-align: right;\">\n",
       "      <th></th>\n",
       "      <th>user_id</th>\n",
       "      <th>name</th>\n",
       "      <th>month_num</th>\n",
       "      <th>count_distance</th>\n",
       "      <th>sum_distance</th>\n",
       "      <th>sum_duration</th>\n",
       "    </tr>\n",
       "  </thead>\n",
       "  <tbody>\n",
       "    <tr>\n",
       "      <th>0</th>\n",
       "      <td>1</td>\n",
       "      <td>Кира</td>\n",
       "      <td>1</td>\n",
       "      <td>2</td>\n",
       "      <td>7027.51</td>\n",
       "      <td>42</td>\n",
       "    </tr>\n",
       "    <tr>\n",
       "      <th>1</th>\n",
       "      <td>1</td>\n",
       "      <td>Кира</td>\n",
       "      <td>4</td>\n",
       "      <td>1</td>\n",
       "      <td>754.16</td>\n",
       "      <td>7</td>\n",
       "    </tr>\n",
       "    <tr>\n",
       "      <th>2</th>\n",
       "      <td>1</td>\n",
       "      <td>Кира</td>\n",
       "      <td>8</td>\n",
       "      <td>2</td>\n",
       "      <td>6723.47</td>\n",
       "      <td>46</td>\n",
       "    </tr>\n",
       "    <tr>\n",
       "      <th>3</th>\n",
       "      <td>1</td>\n",
       "      <td>Кира</td>\n",
       "      <td>10</td>\n",
       "      <td>2</td>\n",
       "      <td>5809.91</td>\n",
       "      <td>32</td>\n",
       "    </tr>\n",
       "    <tr>\n",
       "      <th>4</th>\n",
       "      <td>1</td>\n",
       "      <td>Кира</td>\n",
       "      <td>11</td>\n",
       "      <td>3</td>\n",
       "      <td>7003.50</td>\n",
       "      <td>56</td>\n",
       "    </tr>\n",
       "    <tr>\n",
       "      <th>...</th>\n",
       "      <td>...</td>\n",
       "      <td>...</td>\n",
       "      <td>...</td>\n",
       "      <td>...</td>\n",
       "      <td>...</td>\n",
       "      <td>...</td>\n",
       "    </tr>\n",
       "    <tr>\n",
       "      <th>11326</th>\n",
       "      <td>1534</td>\n",
       "      <td>Альберт</td>\n",
       "      <td>6</td>\n",
       "      <td>2</td>\n",
       "      <td>3409.47</td>\n",
       "      <td>26</td>\n",
       "    </tr>\n",
       "    <tr>\n",
       "      <th>11327</th>\n",
       "      <td>1534</td>\n",
       "      <td>Альберт</td>\n",
       "      <td>8</td>\n",
       "      <td>2</td>\n",
       "      <td>7622.45</td>\n",
       "      <td>48</td>\n",
       "    </tr>\n",
       "    <tr>\n",
       "      <th>11328</th>\n",
       "      <td>1534</td>\n",
       "      <td>Альберт</td>\n",
       "      <td>9</td>\n",
       "      <td>1</td>\n",
       "      <td>4928.17</td>\n",
       "      <td>23</td>\n",
       "    </tr>\n",
       "    <tr>\n",
       "      <th>11329</th>\n",
       "      <td>1534</td>\n",
       "      <td>Альберт</td>\n",
       "      <td>11</td>\n",
       "      <td>4</td>\n",
       "      <td>13350.02</td>\n",
       "      <td>78</td>\n",
       "    </tr>\n",
       "    <tr>\n",
       "      <th>11330</th>\n",
       "      <td>1534</td>\n",
       "      <td>Альберт</td>\n",
       "      <td>12</td>\n",
       "      <td>1</td>\n",
       "      <td>2371.71</td>\n",
       "      <td>16</td>\n",
       "    </tr>\n",
       "  </tbody>\n",
       "</table>\n",
       "<p>11331 rows × 6 columns</p>\n",
       "</div>"
      ],
      "text/plain": [
       "       user_id     name  month_num  count_distance  sum_distance  sum_duration\n",
       "0            1     Кира          1               2       7027.51            42\n",
       "1            1     Кира          4               1        754.16             7\n",
       "2            1     Кира          8               2       6723.47            46\n",
       "3            1     Кира         10               2       5809.91            32\n",
       "4            1     Кира         11               3       7003.50            56\n",
       "...        ...      ...        ...             ...           ...           ...\n",
       "11326     1534  Альберт          6               2       3409.47            26\n",
       "11327     1534  Альберт          8               2       7622.45            48\n",
       "11328     1534  Альберт          9               1       4928.17            23\n",
       "11329     1534  Альберт         11               4      13350.02            78\n",
       "11330     1534  Альберт         12               1       2371.71            16\n",
       "\n",
       "[11331 rows x 6 columns]"
      ]
     },
     "metadata": {},
     "output_type": "display_data"
    }
   ],
   "source": [
    "# создание объединённой таблицы по заданным выше параметрам\n",
    "df_combo = df.pivot_table(index= ['user_id','name','month_num'], values = ['distance', 'duration'], aggfunc = ['count', 'sum'])\n",
    "df_combo.columns = ['_'.join(col) for col in df_combo.columns.values]\n",
    "df_combo = df_combo.drop(columns=['count_duration'])\n",
    "df_combo = df_combo.reset_index()\n",
    "display(df_combo)"
   ]
  },
  {
   "cell_type": "markdown",
   "id": "b8f2dc3e",
   "metadata": {},
   "source": [
    "* count_distance - количество поездок за месяц\n",
    "* sum_distance - суммарное расстояние, которое пользователь проехал за месяц\n",
    "* sum_duration - суммарная продолжительность поездок за месяц (в минутах)"
   ]
  },
  {
   "cell_type": "markdown",
   "id": "d424bd70",
   "metadata": {},
   "source": [
    "### Добавьте столбец с помесячной выручкой, которую принёс каждый пользователь. Для этого обратитесь к информации об условиях оплаты для подписчиков и тех, у кого нет подписки. Продолжительность каждой поездки в каждой строке исходного датафрейма для подсчёта стоимости округляется до следующего целого числа: например, значения 25.3, 25.5 и 26.0 должны быть преобразованы к 26."
   ]
  },
  {
   "cell_type": "code",
   "execution_count": 41,
   "id": "5f6324ed",
   "metadata": {
    "scrolled": false
   },
   "outputs": [
    {
     "data": {
      "text/html": [
       "<div>\n",
       "<style scoped>\n",
       "    .dataframe tbody tr th:only-of-type {\n",
       "        vertical-align: middle;\n",
       "    }\n",
       "\n",
       "    .dataframe tbody tr th {\n",
       "        vertical-align: top;\n",
       "    }\n",
       "\n",
       "    .dataframe thead th {\n",
       "        text-align: right;\n",
       "    }\n",
       "</style>\n",
       "<table border=\"1\" class=\"dataframe\">\n",
       "  <thead>\n",
       "    <tr style=\"text-align: right;\">\n",
       "      <th></th>\n",
       "      <th>user_id</th>\n",
       "      <th>name_x</th>\n",
       "      <th>month_num</th>\n",
       "      <th>count_distance</th>\n",
       "      <th>sum_distance</th>\n",
       "      <th>sum_duration</th>\n",
       "      <th>name_y</th>\n",
       "      <th>age</th>\n",
       "      <th>city</th>\n",
       "      <th>subscription_type</th>\n",
       "      <th>minute_price</th>\n",
       "      <th>start_ride_price</th>\n",
       "      <th>subscription_fee</th>\n",
       "    </tr>\n",
       "  </thead>\n",
       "  <tbody>\n",
       "    <tr>\n",
       "      <th>0</th>\n",
       "      <td>1</td>\n",
       "      <td>Кира</td>\n",
       "      <td>1</td>\n",
       "      <td>2</td>\n",
       "      <td>7027.51</td>\n",
       "      <td>42</td>\n",
       "      <td>Кира</td>\n",
       "      <td>22</td>\n",
       "      <td>Тюмень</td>\n",
       "      <td>ultra</td>\n",
       "      <td>6</td>\n",
       "      <td>0</td>\n",
       "      <td>199</td>\n",
       "    </tr>\n",
       "    <tr>\n",
       "      <th>1</th>\n",
       "      <td>1</td>\n",
       "      <td>Кира</td>\n",
       "      <td>4</td>\n",
       "      <td>1</td>\n",
       "      <td>754.16</td>\n",
       "      <td>7</td>\n",
       "      <td>Кира</td>\n",
       "      <td>22</td>\n",
       "      <td>Тюмень</td>\n",
       "      <td>ultra</td>\n",
       "      <td>6</td>\n",
       "      <td>0</td>\n",
       "      <td>199</td>\n",
       "    </tr>\n",
       "    <tr>\n",
       "      <th>2</th>\n",
       "      <td>1</td>\n",
       "      <td>Кира</td>\n",
       "      <td>8</td>\n",
       "      <td>2</td>\n",
       "      <td>6723.47</td>\n",
       "      <td>46</td>\n",
       "      <td>Кира</td>\n",
       "      <td>22</td>\n",
       "      <td>Тюмень</td>\n",
       "      <td>ultra</td>\n",
       "      <td>6</td>\n",
       "      <td>0</td>\n",
       "      <td>199</td>\n",
       "    </tr>\n",
       "    <tr>\n",
       "      <th>3</th>\n",
       "      <td>1</td>\n",
       "      <td>Кира</td>\n",
       "      <td>10</td>\n",
       "      <td>2</td>\n",
       "      <td>5809.91</td>\n",
       "      <td>32</td>\n",
       "      <td>Кира</td>\n",
       "      <td>22</td>\n",
       "      <td>Тюмень</td>\n",
       "      <td>ultra</td>\n",
       "      <td>6</td>\n",
       "      <td>0</td>\n",
       "      <td>199</td>\n",
       "    </tr>\n",
       "    <tr>\n",
       "      <th>4</th>\n",
       "      <td>1</td>\n",
       "      <td>Кира</td>\n",
       "      <td>11</td>\n",
       "      <td>3</td>\n",
       "      <td>7003.50</td>\n",
       "      <td>56</td>\n",
       "      <td>Кира</td>\n",
       "      <td>22</td>\n",
       "      <td>Тюмень</td>\n",
       "      <td>ultra</td>\n",
       "      <td>6</td>\n",
       "      <td>0</td>\n",
       "      <td>199</td>\n",
       "    </tr>\n",
       "    <tr>\n",
       "      <th>...</th>\n",
       "      <td>...</td>\n",
       "      <td>...</td>\n",
       "      <td>...</td>\n",
       "      <td>...</td>\n",
       "      <td>...</td>\n",
       "      <td>...</td>\n",
       "      <td>...</td>\n",
       "      <td>...</td>\n",
       "      <td>...</td>\n",
       "      <td>...</td>\n",
       "      <td>...</td>\n",
       "      <td>...</td>\n",
       "      <td>...</td>\n",
       "    </tr>\n",
       "    <tr>\n",
       "      <th>11326</th>\n",
       "      <td>1534</td>\n",
       "      <td>Альберт</td>\n",
       "      <td>6</td>\n",
       "      <td>2</td>\n",
       "      <td>3409.47</td>\n",
       "      <td>26</td>\n",
       "      <td>Альберт</td>\n",
       "      <td>25</td>\n",
       "      <td>Краснодар</td>\n",
       "      <td>free</td>\n",
       "      <td>8</td>\n",
       "      <td>50</td>\n",
       "      <td>0</td>\n",
       "    </tr>\n",
       "    <tr>\n",
       "      <th>11327</th>\n",
       "      <td>1534</td>\n",
       "      <td>Альберт</td>\n",
       "      <td>8</td>\n",
       "      <td>2</td>\n",
       "      <td>7622.45</td>\n",
       "      <td>48</td>\n",
       "      <td>Альберт</td>\n",
       "      <td>25</td>\n",
       "      <td>Краснодар</td>\n",
       "      <td>free</td>\n",
       "      <td>8</td>\n",
       "      <td>50</td>\n",
       "      <td>0</td>\n",
       "    </tr>\n",
       "    <tr>\n",
       "      <th>11328</th>\n",
       "      <td>1534</td>\n",
       "      <td>Альберт</td>\n",
       "      <td>9</td>\n",
       "      <td>1</td>\n",
       "      <td>4928.17</td>\n",
       "      <td>23</td>\n",
       "      <td>Альберт</td>\n",
       "      <td>25</td>\n",
       "      <td>Краснодар</td>\n",
       "      <td>free</td>\n",
       "      <td>8</td>\n",
       "      <td>50</td>\n",
       "      <td>0</td>\n",
       "    </tr>\n",
       "    <tr>\n",
       "      <th>11329</th>\n",
       "      <td>1534</td>\n",
       "      <td>Альберт</td>\n",
       "      <td>11</td>\n",
       "      <td>4</td>\n",
       "      <td>13350.02</td>\n",
       "      <td>78</td>\n",
       "      <td>Альберт</td>\n",
       "      <td>25</td>\n",
       "      <td>Краснодар</td>\n",
       "      <td>free</td>\n",
       "      <td>8</td>\n",
       "      <td>50</td>\n",
       "      <td>0</td>\n",
       "    </tr>\n",
       "    <tr>\n",
       "      <th>11330</th>\n",
       "      <td>1534</td>\n",
       "      <td>Альберт</td>\n",
       "      <td>12</td>\n",
       "      <td>1</td>\n",
       "      <td>2371.71</td>\n",
       "      <td>16</td>\n",
       "      <td>Альберт</td>\n",
       "      <td>25</td>\n",
       "      <td>Краснодар</td>\n",
       "      <td>free</td>\n",
       "      <td>8</td>\n",
       "      <td>50</td>\n",
       "      <td>0</td>\n",
       "    </tr>\n",
       "  </tbody>\n",
       "</table>\n",
       "<p>11331 rows × 13 columns</p>\n",
       "</div>"
      ],
      "text/plain": [
       "       user_id   name_x  month_num  count_distance  sum_distance  \\\n",
       "0            1     Кира          1               2       7027.51   \n",
       "1            1     Кира          4               1        754.16   \n",
       "2            1     Кира          8               2       6723.47   \n",
       "3            1     Кира         10               2       5809.91   \n",
       "4            1     Кира         11               3       7003.50   \n",
       "...        ...      ...        ...             ...           ...   \n",
       "11326     1534  Альберт          6               2       3409.47   \n",
       "11327     1534  Альберт          8               2       7622.45   \n",
       "11328     1534  Альберт          9               1       4928.17   \n",
       "11329     1534  Альберт         11               4      13350.02   \n",
       "11330     1534  Альберт         12               1       2371.71   \n",
       "\n",
       "       sum_duration   name_y  age       city subscription_type  minute_price  \\\n",
       "0                42     Кира   22     Тюмень             ultra             6   \n",
       "1                 7     Кира   22     Тюмень             ultra             6   \n",
       "2                46     Кира   22     Тюмень             ultra             6   \n",
       "3                32     Кира   22     Тюмень             ultra             6   \n",
       "4                56     Кира   22     Тюмень             ultra             6   \n",
       "...             ...      ...  ...        ...               ...           ...   \n",
       "11326            26  Альберт   25  Краснодар              free             8   \n",
       "11327            48  Альберт   25  Краснодар              free             8   \n",
       "11328            23  Альберт   25  Краснодар              free             8   \n",
       "11329            78  Альберт   25  Краснодар              free             8   \n",
       "11330            16  Альберт   25  Краснодар              free             8   \n",
       "\n",
       "       start_ride_price  subscription_fee  \n",
       "0                     0               199  \n",
       "1                     0               199  \n",
       "2                     0               199  \n",
       "3                     0               199  \n",
       "4                     0               199  \n",
       "...                 ...               ...  \n",
       "11326                50                 0  \n",
       "11327                50                 0  \n",
       "11328                50                 0  \n",
       "11329                50                 0  \n",
       "11330                50                 0  \n",
       "\n",
       "[11331 rows x 13 columns]"
      ]
     },
     "metadata": {},
     "output_type": "display_data"
    }
   ],
   "source": [
    "df_combo = df_combo.merge(users, how='left', on='user_id')\n",
    "df_combo = df_combo.merge(subscriptions, how = 'left', on='subscription_type')\n",
    "display(df_combo)"
   ]
  },
  {
   "cell_type": "code",
   "execution_count": 42,
   "id": "1895979a",
   "metadata": {
    "scrolled": false
   },
   "outputs": [
    {
     "data": {
      "text/html": [
       "<div>\n",
       "<style scoped>\n",
       "    .dataframe tbody tr th:only-of-type {\n",
       "        vertical-align: middle;\n",
       "    }\n",
       "\n",
       "    .dataframe tbody tr th {\n",
       "        vertical-align: top;\n",
       "    }\n",
       "\n",
       "    .dataframe thead th {\n",
       "        text-align: right;\n",
       "    }\n",
       "</style>\n",
       "<table border=\"1\" class=\"dataframe\">\n",
       "  <thead>\n",
       "    <tr style=\"text-align: right;\">\n",
       "      <th></th>\n",
       "      <th>user_id</th>\n",
       "      <th>name_x</th>\n",
       "      <th>month_num</th>\n",
       "      <th>profit</th>\n",
       "    </tr>\n",
       "  </thead>\n",
       "  <tbody>\n",
       "    <tr>\n",
       "      <th>0</th>\n",
       "      <td>1</td>\n",
       "      <td>Кира</td>\n",
       "      <td>1</td>\n",
       "      <td>451</td>\n",
       "    </tr>\n",
       "    <tr>\n",
       "      <th>1</th>\n",
       "      <td>1</td>\n",
       "      <td>Кира</td>\n",
       "      <td>4</td>\n",
       "      <td>241</td>\n",
       "    </tr>\n",
       "    <tr>\n",
       "      <th>2</th>\n",
       "      <td>1</td>\n",
       "      <td>Кира</td>\n",
       "      <td>8</td>\n",
       "      <td>475</td>\n",
       "    </tr>\n",
       "    <tr>\n",
       "      <th>3</th>\n",
       "      <td>1</td>\n",
       "      <td>Кира</td>\n",
       "      <td>10</td>\n",
       "      <td>391</td>\n",
       "    </tr>\n",
       "    <tr>\n",
       "      <th>4</th>\n",
       "      <td>1</td>\n",
       "      <td>Кира</td>\n",
       "      <td>11</td>\n",
       "      <td>535</td>\n",
       "    </tr>\n",
       "    <tr>\n",
       "      <th>...</th>\n",
       "      <td>...</td>\n",
       "      <td>...</td>\n",
       "      <td>...</td>\n",
       "      <td>...</td>\n",
       "    </tr>\n",
       "    <tr>\n",
       "      <th>11326</th>\n",
       "      <td>1534</td>\n",
       "      <td>Альберт</td>\n",
       "      <td>6</td>\n",
       "      <td>308</td>\n",
       "    </tr>\n",
       "    <tr>\n",
       "      <th>11327</th>\n",
       "      <td>1534</td>\n",
       "      <td>Альберт</td>\n",
       "      <td>8</td>\n",
       "      <td>484</td>\n",
       "    </tr>\n",
       "    <tr>\n",
       "      <th>11328</th>\n",
       "      <td>1534</td>\n",
       "      <td>Альберт</td>\n",
       "      <td>9</td>\n",
       "      <td>234</td>\n",
       "    </tr>\n",
       "    <tr>\n",
       "      <th>11329</th>\n",
       "      <td>1534</td>\n",
       "      <td>Альберт</td>\n",
       "      <td>11</td>\n",
       "      <td>824</td>\n",
       "    </tr>\n",
       "    <tr>\n",
       "      <th>11330</th>\n",
       "      <td>1534</td>\n",
       "      <td>Альберт</td>\n",
       "      <td>12</td>\n",
       "      <td>178</td>\n",
       "    </tr>\n",
       "  </tbody>\n",
       "</table>\n",
       "<p>11331 rows × 4 columns</p>\n",
       "</div>"
      ],
      "text/plain": [
       "       user_id   name_x  month_num  profit\n",
       "0            1     Кира          1     451\n",
       "1            1     Кира          4     241\n",
       "2            1     Кира          8     475\n",
       "3            1     Кира         10     391\n",
       "4            1     Кира         11     535\n",
       "...        ...      ...        ...     ...\n",
       "11326     1534  Альберт          6     308\n",
       "11327     1534  Альберт          8     484\n",
       "11328     1534  Альберт          9     234\n",
       "11329     1534  Альберт         11     824\n",
       "11330     1534  Альберт         12     178\n",
       "\n",
       "[11331 rows x 4 columns]"
      ]
     },
     "metadata": {},
     "output_type": "display_data"
    }
   ],
   "source": [
    "def profit(row):\n",
    "  profit_summary = 0\n",
    "  profit_summary = (row['start_ride_price'] * row['count_distance'] +\n",
    "              row['minute_price'] * row['sum_duration'] +\n",
    "              row['subscription_fee']\n",
    "              )\n",
    "  return profit_summary\n",
    "\n",
    "df_combo['profit'] = df_combo.apply(profit, axis=1)\n",
    "display(df_combo[['user_id', 'name_x', 'month_num', 'profit']])"
   ]
  },
  {
   "cell_type": "markdown",
   "id": "41545ac0",
   "metadata": {},
   "source": [
    "### Шаг 6. Проверка гипотез"
   ]
  },
  {
   "cell_type": "markdown",
   "id": "b778a929",
   "metadata": {},
   "source": [
    "## 6.1 Важно понять, тратят ли пользователи с подпиской больше времени на поездки? Если да, то пользователи с подпиской могут быть «выгоднее» для компании. Проверьте гипотезу. Используйте исходные данные о продолжительности каждой сессии — отдельно для подписчиков и тех, у кого нет подписки."
   ]
  },
  {
   "cell_type": "markdown",
   "id": "2a9114c2",
   "metadata": {},
   "source": [
    "Нужно будет сравнить две выборки, df_ult и df_free, и проверить две гипотезы:\n",
    "    1. Н0: среднее время поездок пользователей с подпиской и без равны\n",
    "    2. Н1: время поездок группы пользователей с подпиской больше, чем без подписки"
   ]
  },
  {
   "cell_type": "code",
   "execution_count": 43,
   "id": "11ed19af",
   "metadata": {},
   "outputs": [
    {
     "name": "stdout",
     "output_type": "stream",
     "text": [
      "p-значение: 1.2804098316645618e-34\n",
      "Нулевая гипотеза опровергнута\n"
     ]
    }
   ],
   "source": [
    "# уровень статистической значимости стандартный\n",
    "alpha = 0.05\n",
    "# т.к. принята правосторонняя альтернативная гипотеза, выбирается 'greater'\n",
    "results = st.ttest_ind(df_ult['duration'], df_free['duration'], alternative='greater')\n",
    "\n",
    "print('p-значение:', results.pvalue)\n",
    "\n",
    "if results.pvalue < alpha:\n",
    "    print('Нулевая гипотеза опровергнута')\n",
    "else:\n",
    "    print('Нулевая гипотеза не опровергнута')"
   ]
  },
  {
   "cell_type": "code",
   "execution_count": 44,
   "id": "386196d3",
   "metadata": {
    "scrolled": true
   },
   "outputs": [
    {
     "name": "stdout",
     "output_type": "stream",
     "text": [
      "Среднее время поездки пользователей c подпиской: 18.54\n",
      "Среднее время поездки пользователей без подписки: 17.39\n"
     ]
    }
   ],
   "source": [
    "print('Среднее время поездки пользователей c подпиской:', round(df_ult['duration'].mean(),2))\n",
    "print('Среднее время поездки пользователей без подписки:', round(df_free['duration'].mean(),2))"
   ]
  },
  {
   "cell_type": "markdown",
   "id": "70924cc9",
   "metadata": {},
   "source": [
    "* Согласно вычислениям, пользователи с подпиской тратят больше времени на поездки, что логично, т.к. при длительных и регулярных поездках абонентская плата оказывается выгоднее"
   ]
  },
  {
   "cell_type": "markdown",
   "id": "a8211fd7",
   "metadata": {},
   "source": [
    "## 6.2 Расстояние одной поездки в 3130 метров — оптимальное с точки зрения износа самоката. Можно ли сказать, что среднее расстояние, которое проезжают пользователи с подпиской за одну поездку, не превышает 3130 метров? Проверьте гипотезу и сделайте выводы."
   ]
  },
  {
   "cell_type": "markdown",
   "id": "cf302ba3",
   "metadata": {},
   "source": [
    "* V1\n",
    "Снова сравнение по двум выборкам и набору гипотез:\n",
    "    1. Н0: среднее расстояние поездок пользователей с подпиской равна 3130 метрам\n",
    "    2. Н1: среднее расстояние поездок пользователей с подпиской больше 3130 метров"
   ]
  },
  {
   "cell_type": "markdown",
   "id": "77fa5602",
   "metadata": {},
   "source": [
    "* альт гипотеза изменена исходя из условий, что нарушением является значение interested_value > 3130"
   ]
  },
  {
   "cell_type": "code",
   "execution_count": 45,
   "id": "797956f0",
   "metadata": {},
   "outputs": [
    {
     "name": "stdout",
     "output_type": "stream",
     "text": [
      "p-значение: 0.9195368847849785\n",
      "Нулевая гипотеза не опровергнута\n"
     ]
    }
   ],
   "source": [
    "# V1\n",
    "interested_value = 3130 # заданная граничная величина\n",
    "\n",
    "alpha = 0.05 # стандартный уровень статистической значимости\n",
    "\n",
    "results = st.ttest_1samp(df_ult['distance'], interested_value, alternative='greater')\n",
    "\n",
    "print('p-значение:', results.pvalue)\n",
    "\n",
    "if results.pvalue < alpha:\n",
    "    print('Нулевая гипотеза опровергнута')\n",
    "else:\n",
    "    print('Нулевая гипотеза не опровергнута')"
   ]
  },
  {
   "cell_type": "code",
   "execution_count": 46,
   "id": "27f5fdba",
   "metadata": {},
   "outputs": [
    {
     "name": "stdout",
     "output_type": "stream",
     "text": [
      "Среднее дистанция поездки пользователей c подпиской: 3115.0\n"
     ]
    }
   ],
   "source": [
    "print('Среднее дистанция поездки пользователей c подпиской:', round(df_ult['distance'].mean(),0))"
   ]
  },
  {
   "cell_type": "markdown",
   "id": "52f5b896",
   "metadata": {},
   "source": [
    "* V2\n",
    "\n",
    "Подтверждается, что средняя дистанция поездки пользователи с подпиской меньше 3130 метров."
   ]
  },
  {
   "cell_type": "markdown",
   "id": "ac962151",
   "metadata": {},
   "source": [
    "## 6.3 Проверьте гипотезу о том, будет ли помесячная выручка от пользователей с подпиской по месяцам выше, чем выручка от пользователей без подписки. Сделайте вывод."
   ]
  },
  {
   "cell_type": "markdown",
   "id": "6788d43e",
   "metadata": {},
   "source": [
    "Аналогичные гипотезы и выборки:\n",
    "    1. Н0: ежемесячная выручка от пользователей с подпиской и без равны.\n",
    "    2. Н1: ежемесячная выручка от пользователей с подпиской выше, чем от пользователей без подписки"
   ]
  },
  {
   "cell_type": "code",
   "execution_count": 47,
   "id": "296f207d",
   "metadata": {},
   "outputs": [
    {
     "name": "stdout",
     "output_type": "stream",
     "text": [
      "p-значение: 1.8850394384715216e-31\n",
      "Нулевая гипотеза опровергнута\n"
     ]
    }
   ],
   "source": [
    "# отдельные сборки по критерию подписки, и проверка гипотезы по критерию прибыли ['profit']\n",
    "df_agg_ult = df_combo[df_combo['subscription_type'] == 'ultra']\n",
    "df_agg_free = df_combo[df_combo['subscription_type'] == 'free']\n",
    "\n",
    "alpha = 0.05 \n",
    "\n",
    "results = st.ttest_ind(df_agg_ult['profit'], df_agg_free['profit'], alternative='greater')\n",
    "\n",
    "print('p-значение:', results.pvalue)\n",
    "\n",
    "if results.pvalue < alpha:\n",
    "    print('Нулевая гипотеза опровергнута')\n",
    "else:\n",
    "    print('Нулевая гипотеза не опровергнута')"
   ]
  },
  {
   "cell_type": "code",
   "execution_count": 48,
   "id": "c208bee5",
   "metadata": {},
   "outputs": [
    {
     "name": "stdout",
     "output_type": "stream",
     "text": [
      "Средняя помесячная выручка от пользователи с подпиской: 362.79\n",
      "Средняя помесячная выручка от пользователи без подписки: 328.64\n"
     ]
    }
   ],
   "source": [
    "print('Средняя помесячная выручка от пользователи с подпиской:', round(df_agg_ult['profit'].mean(),2))\n",
    "print('Средняя помесячная выручка от пользователи без подписки:', round(df_agg_free['profit'].mean(),2))"
   ]
  },
  {
   "cell_type": "markdown",
   "id": "58bdea45",
   "metadata": {},
   "source": [
    "* Согласно вычислениям, помесячная выручка от подписчиков выше, причём на значиную величину - примерно 10%"
   ]
  },
  {
   "cell_type": "markdown",
   "id": "60774c14",
   "metadata": {},
   "source": [
    "## 6.4 Представьте такую ситуацию: техническая команда сервиса обновила сервера, с которыми взаимодействует мобильное приложение. Она надеется, что из-за этого количество обращений в техподдержку значимо снизилось. Некоторый файл содержит для каждого пользователя данные о количестве обращений до обновления и после него. Какой тест вам понадобился бы для проверки этой гипотезы?"
   ]
  },
  {
   "cell_type": "markdown",
   "id": "1a8d77a0",
   "metadata": {},
   "source": [
    "Нужно будет написать обработку для проверки гипотезы о равенстве средних значений для зависимых выборок, для чего в метод scipy.stats.ttest_rel() передать два параметра: наборы данных до обновления и после"
   ]
  },
  {
   "cell_type": "markdown",
   "id": "6f409744",
   "metadata": {},
   "source": [
    "*V1\n",
    "\n",
    "Исходя из задачи, что кол-во должно снизиться значимо, в дело идёт одностороняя альтернативная гипотеза, о том, что истинное среднее генеральной совокупности до изменения больше, чем истинное среднее генеральной совокупности после изменения. Это правостороняя гипотеза, указывается атрибут alternative='greater', уровень статзначимость берётся за 5%, или alpha = 0.05."
   ]
  },
  {
   "cell_type": "markdown",
   "id": "61213c5e",
   "metadata": {},
   "source": [
    "#### Шаг 7. Распределения"
   ]
  },
  {
   "cell_type": "markdown",
   "id": "fd1db9c4",
   "metadata": {},
   "source": [
    "7.1 Отделу маркетинга GoFast поставили задачу: нужно провести акцию с раздачей промокодов на один бесплатный месяц подписки, в рамках которой как минимум 100 существующих клиентов должны продлить эту подписку. То есть по завершении периода действия подписки пользователь может либо отказаться от неё, либо продлить, совершив соответствующий платёж. \n",
    "Эта акция уже проводилась ранее и по итогу выяснилось, что после бесплатного пробного периода подписку продлевают 10% пользователей. Выясните, какое минимальное количество промокодов нужно разослать, чтобы вероятность не выполнить план была примерно 5%. Подберите параметры распределения, описывающего эту ситуацию, постройте график распределения и сформулируйте ответ на вопрос о количестве промокодов."
   ]
  },
  {
   "cell_type": "code",
   "execution_count": 49,
   "id": "96d1090c",
   "metadata": {},
   "outputs": [
    {
     "data": {
      "text/plain": [
       "<BarContainer object of 1001 artists>"
      ]
     },
     "execution_count": 49,
     "metadata": {},
     "output_type": "execute_result"
    },
    {
     "data": {
      "image/png": "[encoded data removed]",
      "text/plain": [
       "<Figure size 432x288 with 1 Axes>"
      ]
     },
     "metadata": {
      "needs_background": "light"
     },
     "output_type": "display_data"
    }
   ],
   "source": [
    "# определение примерного диапазона значений биномиального распределения графиком\n",
    "n = 1000\n",
    "p = 0.1\n",
    "distr = []\n",
    "\n",
    "for k in range(0, n + 1):\n",
    "    choose = factorial(n) / (factorial(k) * factorial(n - k))\n",
    "    prob = choose * p**k * (1 - p)**(n - k)\n",
    "    distr.append(prob)\n",
    "\n",
    "plt.bar(range(0, n + 1), distr)"
   ]
  },
  {
   "cell_type": "markdown",
   "id": "ed761186",
   "metadata": {},
   "source": [
    "В диапазоне (n-500, n+500) надо определить минимальное количество промокодов, чтобы вероятность провала была не больше 5%"
   ]
  },
  {
   "cell_type": "code",
   "execution_count": 50,
   "id": "3e5b9dad",
   "metadata": {},
   "outputs": [
    {
     "name": "stdout",
     "output_type": "stream",
     "text": [
      "Минимальное число промокодов: 1161\n"
     ]
    }
   ],
   "source": [
    "for n in range (500,1500):\n",
    "    if binom.cdf(99, n, p) < 0.05:\n",
    "        print(\"Минимальное число промокодов:\", n)\n",
    "        break"
   ]
  },
  {
   "cell_type": "markdown",
   "id": "91c1d31a",
   "metadata": {},
   "source": [
    "* Вывод: для получения не менее 100 продлений подписок нужно сделать рассылку 1161 промокодов, при стандартной вероятности ошибки в 5%"
   ]
  },
  {
   "cell_type": "markdown",
   "id": "6dec23a2",
   "metadata": {},
   "source": [
    "7.2 Отдел маркетинга рассылает клиентам push-уведомления в мобильном приложении. Клиенты могут открыть его или не открывать. Известно, что уведомления открывают около 40% получивших клиентов. Отдел планирует разослать 1 млн уведомлений. С помощью аппроксимации постройте примерный график распределения и оцените вероятность того, что уведомление откроют не более 399,5 тыс. пользователей."
   ]
  },
  {
   "cell_type": "code",
   "execution_count": 51,
   "id": "b70f1b21",
   "metadata": {
    "scrolled": true
   },
   "outputs": [
    {
     "name": "stdout",
     "output_type": "stream",
     "text": [
      "Вероятность того, что push-уведомления откроют не более 399,5 тыс. пользователей: 0.15\n"
     ]
    }
   ],
   "source": [
    "n = 1000000\n",
    "p = 0.4\n",
    "\n",
    "mu = n * p\n",
    "sigma = sqrt(n * p * (1 - p))\n",
    "\n",
    "distr = st.norm(mu, sigma)\n",
    "\n",
    "x = 399500\n",
    "\n",
    "result = distr.cdf(x)\n",
    "\n",
    "\n",
    "print('Вероятность того, что push-уведомления откроют не более 399,5 тыс. пользователей:',\n",
    "      round(result, 2))"
   ]
  },
  {
   "cell_type": "markdown",
   "id": "3fb25724",
   "metadata": {},
   "source": [
    "* При рассылке 1 млн сообщений вероятность того, что только 399,5 тыс пользователей (чуть меньше половины) откроют сообщение, составляет 15%, т.е. рекламную кампанию в большом приближении можно считать удавшейся"
   ]
  },
  {
   "cell_type": "markdown",
   "id": "e0170910",
   "metadata": {},
   "source": [
    "Общий вывод:\n",
    "    1. при анализе данных в выборке учавствуют всего 8 городов, больше всего пользователей из Пятигорска, меньше всего из Москвы. \n",
    "    2. средний возраст пользователя сервиса - 24.9 лет, среднее расстояние большинства поездок чуль больше 3-х километров. Есть небольшой всплеск поездок в райноне 600 метров, можно предположить, что эти поезки совершали пользователи, что бы добраться до станций метро или остановок общественного транспорта. \n",
    "    3. Пользователей сервиса аренды самокатов без подписки больше - 54,4%, чем пользователей с подпиской.\n",
    "\n",
    "В ходе исследования были подтверждены следующие гипотезы:\n",
    "    1. исходя из результатов проверки гипотезы, можно предположить, что пользователи с подпиской проезжают меньшую дистанцию, нежели пользователи без неё\n",
    "    2. средняя дистанция поездки пользователи с подпиской меньше 3130 метров (оптимальное расстояние с точки зрения износа самоката)\n",
    "    3. помесячная выручка от пользователей с подпиской выше чем выручка от пользователей без подписки\n",
    "\n",
    "Для отдела маркетинга были проведены следующие расчеты:\n",
    "    1. для акции раздачи промокодов с целью получения не менее 100 продлений подписок нужно сделать рассылку не менее 1161 промокодов\n",
    "    2. для акции рассылки 1 млн. push-уведомлений вероятность того, что их откроют не более 399,5 тыс. пользователей составляет  15%\n",
    "  \n",
    "*V1  \n",
    "  \n",
    "Исходя из сравнения графиков дальности поездок и времени поездок можно предположить:\n",
    "    1. подписчики категории FREE не придерживаются жёстких рамок при использовании ТС ни по дальности, ни по времени, а значительная часть их поездок совершается спонтанно, в т.ч. для развлечения.\n",
    "    2. подписчики категории ULTRA имеют меньший разброс по дальности и времени, из чего можно предположить, что поездки планируются и совершаются заранее, по одним и тем же маршрутам, на одно и то же расстояние за одно и то же время, т.е. используются именно как транспортное средство с наибольшей эффективностью из соотношения \"цена\\прибыль\" для пользователя, и являются более выгодным сегментом рынка с т.з. амортизации ТС, планирования нагрузки и поступления выручки."
   ]
  }
 ],
 "metadata": {
  "ExecuteTimeLog": [
   {
    "duration": 322,
    "start_time": "2024-09-07T09:29:58.397Z"
   },
   {
    "duration": 84,
    "start_time": "2024-09-07T09:30:15.606Z"
   },
   {
    "duration": 129,
    "start_time": "2024-09-07T09:30:55.101Z"
   },
   {
    "duration": 238,
    "start_time": "2024-09-07T09:31:10.526Z"
   },
   {
    "duration": 8,
    "start_time": "2024-09-07T09:31:21.796Z"
   },
   {
    "duration": 10,
    "start_time": "2024-09-07T09:31:39.828Z"
   },
   {
    "duration": 425,
    "start_time": "2024-09-11T07:36:23.977Z"
   },
   {
    "duration": 336,
    "start_time": "2024-09-11T07:36:26.215Z"
   },
   {
    "duration": 11,
    "start_time": "2024-09-11T07:36:28.570Z"
   },
   {
    "duration": 27,
    "start_time": "2024-09-11T07:36:52.942Z"
   },
   {
    "duration": 10,
    "start_time": "2024-09-11T07:37:21.855Z"
   },
   {
    "duration": 8,
    "start_time": "2024-09-11T07:38:18.405Z"
   },
   {
    "duration": 11,
    "start_time": "2024-09-11T07:38:51.445Z"
   },
   {
    "duration": 11,
    "start_time": "2024-09-11T07:42:43.322Z"
   },
   {
    "duration": 5,
    "start_time": "2024-09-11T07:42:57.610Z"
   },
   {
    "duration": 9,
    "start_time": "2024-09-11T07:43:08.698Z"
   },
   {
    "duration": 15,
    "start_time": "2024-09-11T07:43:15.899Z"
   },
   {
    "duration": 14,
    "start_time": "2024-09-11T07:43:38.850Z"
   },
   {
    "duration": 9,
    "start_time": "2024-09-11T07:43:40.905Z"
   },
   {
    "duration": 23,
    "start_time": "2024-09-11T07:51:30.638Z"
   },
   {
    "duration": 17,
    "start_time": "2024-09-11T07:51:50.357Z"
   },
   {
    "duration": 13,
    "start_time": "2024-09-11T07:52:50.564Z"
   },
   {
    "duration": 21,
    "start_time": "2024-09-11T08:38:31.065Z"
   },
   {
    "duration": 15,
    "start_time": "2024-09-11T08:38:43.453Z"
   },
   {
    "duration": 19,
    "start_time": "2024-09-11T08:39:06.717Z"
   },
   {
    "duration": 20,
    "start_time": "2024-09-11T08:40:10.900Z"
   },
   {
    "duration": 19,
    "start_time": "2024-09-11T08:49:24.158Z"
   },
   {
    "duration": 6,
    "start_time": "2024-09-11T08:49:40.269Z"
   },
   {
    "duration": 3,
    "start_time": "2024-09-11T09:01:06.336Z"
   },
   {
    "duration": 80,
    "start_time": "2024-09-11T09:01:06.340Z"
   },
   {
    "duration": 14,
    "start_time": "2024-09-11T09:01:06.422Z"
   },
   {
    "duration": 38,
    "start_time": "2024-09-11T09:01:06.438Z"
   },
   {
    "duration": 22,
    "start_time": "2024-09-11T09:01:06.478Z"
   },
   {
    "duration": 5,
    "start_time": "2024-09-11T09:01:09.517Z"
   },
   {
    "duration": 480,
    "start_time": "2024-09-11T09:06:15.682Z"
   },
   {
    "duration": 624,
    "start_time": "2024-09-11T09:06:35.602Z"
   },
   {
    "duration": 415,
    "start_time": "2024-09-11T09:07:52.703Z"
   },
   {
    "duration": 7,
    "start_time": "2024-09-11T09:08:12.352Z"
   },
   {
    "duration": 5,
    "start_time": "2024-09-11T09:08:15.545Z"
   },
   {
    "duration": 63,
    "start_time": "2024-09-11T09:08:27.368Z"
   },
   {
    "duration": 6,
    "start_time": "2024-09-11T09:08:29.936Z"
   },
   {
    "duration": 2,
    "start_time": "2024-09-11T09:09:31.601Z"
   },
   {
    "duration": 84,
    "start_time": "2024-09-11T09:09:31.605Z"
   },
   {
    "duration": 15,
    "start_time": "2024-09-11T09:09:31.690Z"
   },
   {
    "duration": 25,
    "start_time": "2024-09-11T09:09:31.707Z"
   },
   {
    "duration": 15,
    "start_time": "2024-09-11T09:09:31.734Z"
   },
   {
    "duration": 9,
    "start_time": "2024-09-11T09:09:31.750Z"
   },
   {
    "duration": 6,
    "start_time": "2024-09-11T09:09:41.728Z"
   },
   {
    "duration": 6,
    "start_time": "2024-09-11T09:18:58.874Z"
   },
   {
    "duration": 57,
    "start_time": "2024-09-11T10:12:53.653Z"
   },
   {
    "duration": 6,
    "start_time": "2024-09-11T10:15:52.609Z"
   },
   {
    "duration": 5,
    "start_time": "2024-09-11T10:16:03.938Z"
   },
   {
    "duration": 14,
    "start_time": "2024-09-11T10:16:58.880Z"
   },
   {
    "duration": 6,
    "start_time": "2024-09-11T10:17:05.977Z"
   },
   {
    "duration": 8,
    "start_time": "2024-09-11T10:17:33.680Z"
   },
   {
    "duration": 8,
    "start_time": "2024-09-11T10:17:51.471Z"
   },
   {
    "duration": 6,
    "start_time": "2024-09-11T10:18:00.519Z"
   },
   {
    "duration": 7,
    "start_time": "2024-09-11T10:18:09.112Z"
   },
   {
    "duration": 8,
    "start_time": "2024-09-11T10:18:17.200Z"
   },
   {
    "duration": 7,
    "start_time": "2024-09-11T10:18:23.664Z"
   },
   {
    "duration": 15,
    "start_time": "2024-09-11T10:19:06.272Z"
   },
   {
    "duration": 14,
    "start_time": "2024-09-11T10:19:41.886Z"
   },
   {
    "duration": 6,
    "start_time": "2024-09-11T10:20:33.014Z"
   },
   {
    "duration": 12,
    "start_time": "2024-09-11T10:20:40.503Z"
   },
   {
    "duration": 14,
    "start_time": "2024-09-11T10:22:04.294Z"
   },
   {
    "duration": 10,
    "start_time": "2024-09-11T10:35:46.452Z"
   },
   {
    "duration": 60,
    "start_time": "2024-09-11T10:37:16.747Z"
   },
   {
    "duration": 9,
    "start_time": "2024-09-11T10:37:22.407Z"
   },
   {
    "duration": 9,
    "start_time": "2024-09-11T10:38:12.938Z"
   },
   {
    "duration": 9,
    "start_time": "2024-09-11T10:38:18.889Z"
   },
   {
    "duration": 7,
    "start_time": "2024-09-11T10:38:27.233Z"
   },
   {
    "duration": 6,
    "start_time": "2024-09-11T10:38:38.025Z"
   },
   {
    "duration": 6,
    "start_time": "2024-09-11T10:38:50.793Z"
   },
   {
    "duration": 53,
    "start_time": "2024-09-11T10:38:59.817Z"
   },
   {
    "duration": 7,
    "start_time": "2024-09-11T10:39:03.528Z"
   },
   {
    "duration": 7,
    "start_time": "2024-09-11T10:39:12.584Z"
   },
   {
    "duration": 6,
    "start_time": "2024-09-11T10:39:22.489Z"
   },
   {
    "duration": 12,
    "start_time": "2024-09-11T10:40:16.216Z"
   },
   {
    "duration": 6,
    "start_time": "2024-09-11T10:40:30.087Z"
   },
   {
    "duration": 6,
    "start_time": "2024-09-11T10:41:14.648Z"
   },
   {
    "duration": 7,
    "start_time": "2024-09-11T10:41:16.823Z"
   },
   {
    "duration": 12,
    "start_time": "2024-09-11T10:43:16.166Z"
   },
   {
    "duration": 6,
    "start_time": "2024-09-11T10:43:30.589Z"
   },
   {
    "duration": 7,
    "start_time": "2024-09-11T10:44:21.093Z"
   },
   {
    "duration": 4,
    "start_time": "2024-09-11T10:44:30.077Z"
   },
   {
    "duration": 5,
    "start_time": "2024-09-11T10:45:21.716Z"
   },
   {
    "duration": 7,
    "start_time": "2024-09-11T10:46:02.180Z"
   },
   {
    "duration": 6,
    "start_time": "2024-09-11T10:48:20.842Z"
   },
   {
    "duration": 5,
    "start_time": "2024-09-11T10:49:54.313Z"
   },
   {
    "duration": 54,
    "start_time": "2024-09-11T10:51:59.695Z"
   },
   {
    "duration": 5,
    "start_time": "2024-09-11T10:53:19.663Z"
   },
   {
    "duration": 9,
    "start_time": "2024-09-11T11:00:07.859Z"
   },
   {
    "duration": 12,
    "start_time": "2024-09-11T11:06:28.190Z"
   },
   {
    "duration": 6,
    "start_time": "2024-09-11T11:08:12.821Z"
   },
   {
    "duration": 10,
    "start_time": "2024-09-11T11:08:28.485Z"
   },
   {
    "duration": 8,
    "start_time": "2024-09-11T11:08:39.308Z"
   },
   {
    "duration": 8,
    "start_time": "2024-09-11T11:08:47.108Z"
   },
   {
    "duration": 23,
    "start_time": "2024-09-11T11:09:09.077Z"
   },
   {
    "duration": 10,
    "start_time": "2024-09-11T11:09:23.788Z"
   },
   {
    "duration": 11,
    "start_time": "2024-09-11T11:10:59.587Z"
   },
   {
    "duration": 4,
    "start_time": "2024-09-11T11:19:35.190Z"
   },
   {
    "duration": 5,
    "start_time": "2024-09-11T11:19:43.188Z"
   },
   {
    "duration": 6,
    "start_time": "2024-09-11T11:25:38.689Z"
   },
   {
    "duration": 16,
    "start_time": "2024-09-11T11:48:36.890Z"
   },
   {
    "duration": 7,
    "start_time": "2024-09-11T11:48:47.795Z"
   },
   {
    "duration": 6,
    "start_time": "2024-09-11T11:49:33.201Z"
   },
   {
    "duration": 10,
    "start_time": "2024-09-11T12:13:07.826Z"
   },
   {
    "duration": 232,
    "start_time": "2024-09-11T12:13:39.993Z"
   },
   {
    "duration": 21,
    "start_time": "2024-09-11T12:14:31.161Z"
   },
   {
    "duration": 18,
    "start_time": "2024-09-11T12:15:02.889Z"
   },
   {
    "duration": 18,
    "start_time": "2024-09-11T12:15:33.462Z"
   },
   {
    "duration": 5,
    "start_time": "2024-09-11T12:18:59.038Z"
   },
   {
    "duration": 7,
    "start_time": "2024-09-11T12:19:10.197Z"
   },
   {
    "duration": 12,
    "start_time": "2024-09-11T12:21:04.060Z"
   },
   {
    "duration": 8,
    "start_time": "2024-09-11T12:21:17.100Z"
   },
   {
    "duration": 14,
    "start_time": "2024-09-11T12:23:09.642Z"
   },
   {
    "duration": 4,
    "start_time": "2024-09-11T12:34:12.677Z"
   },
   {
    "duration": 6,
    "start_time": "2024-09-11T12:34:23.420Z"
   },
   {
    "duration": 7,
    "start_time": "2024-09-11T12:42:21.694Z"
   },
   {
    "duration": 47,
    "start_time": "2024-09-12T13:13:55.623Z"
   },
   {
    "duration": 6,
    "start_time": "2024-09-12T13:14:36.278Z"
   },
   {
    "duration": 464,
    "start_time": "2024-09-12T13:15:35.889Z"
   },
   {
    "duration": 272,
    "start_time": "2024-09-12T13:15:36.355Z"
   },
   {
    "duration": 23,
    "start_time": "2024-09-12T13:15:36.629Z"
   },
   {
    "duration": 30,
    "start_time": "2024-09-12T13:15:36.654Z"
   },
   {
    "duration": 23,
    "start_time": "2024-09-12T13:15:36.686Z"
   },
   {
    "duration": 12,
    "start_time": "2024-09-12T13:15:36.711Z"
   },
   {
    "duration": 22,
    "start_time": "2024-09-12T13:15:36.724Z"
   },
   {
    "duration": 36,
    "start_time": "2024-09-12T13:15:36.748Z"
   },
   {
    "duration": 7,
    "start_time": "2024-09-12T13:15:36.786Z"
   },
   {
    "duration": 7,
    "start_time": "2024-09-12T13:15:36.795Z"
   },
   {
    "duration": 12,
    "start_time": "2024-09-12T13:15:36.804Z"
   },
   {
    "duration": 19,
    "start_time": "2024-09-12T13:15:36.817Z"
   },
   {
    "duration": 15,
    "start_time": "2024-09-12T13:15:36.838Z"
   },
   {
    "duration": 733,
    "start_time": "2024-09-12T13:15:39.095Z"
   },
   {
    "duration": 242,
    "start_time": "2024-09-12T13:15:54.390Z"
   },
   {
    "duration": 134,
    "start_time": "2024-09-12T13:24:25.089Z"
   },
   {
    "duration": 184,
    "start_time": "2024-09-12T13:25:45.382Z"
   },
   {
    "duration": 46,
    "start_time": "2024-09-12T13:25:56.062Z"
   },
   {
    "duration": 125,
    "start_time": "2024-09-12T13:26:08.102Z"
   },
   {
    "duration": 179,
    "start_time": "2024-09-12T13:26:14.422Z"
   },
   {
    "duration": 198,
    "start_time": "2024-09-12T13:26:27.630Z"
   },
   {
    "duration": 173,
    "start_time": "2024-09-12T13:29:40.181Z"
   },
   {
    "duration": 171,
    "start_time": "2024-09-12T13:29:50.108Z"
   },
   {
    "duration": 166,
    "start_time": "2024-09-12T13:30:05.620Z"
   },
   {
    "duration": 162,
    "start_time": "2024-09-12T13:32:24.316Z"
   },
   {
    "duration": 167,
    "start_time": "2024-09-12T13:36:05.601Z"
   },
   {
    "duration": 172,
    "start_time": "2024-09-12T16:03:33.514Z"
   },
   {
    "duration": 12,
    "start_time": "2024-09-13T08:02:39.096Z"
   },
   {
    "duration": 8,
    "start_time": "2024-09-13T08:02:46.885Z"
   },
   {
    "duration": 129,
    "start_time": "2024-09-13T08:04:37.845Z"
   },
   {
    "duration": 242,
    "start_time": "2024-09-13T08:05:10.515Z"
   },
   {
    "duration": 177,
    "start_time": "2024-09-13T08:06:42.547Z"
   },
   {
    "duration": 17,
    "start_time": "2024-09-13T08:41:49.666Z"
   },
   {
    "duration": 13,
    "start_time": "2024-09-13T08:43:10.777Z"
   },
   {
    "duration": 15,
    "start_time": "2024-09-13T08:43:23.872Z"
   },
   {
    "duration": 19,
    "start_time": "2024-09-13T08:43:30.945Z"
   },
   {
    "duration": 10,
    "start_time": "2024-09-13T09:44:34.274Z"
   },
   {
    "duration": 9,
    "start_time": "2024-09-13T09:44:54.768Z"
   },
   {
    "duration": 11,
    "start_time": "2024-09-13T09:45:05.131Z"
   },
   {
    "duration": 20,
    "start_time": "2024-09-13T09:45:18.920Z"
   },
   {
    "duration": 13,
    "start_time": "2024-09-13T09:45:24.808Z"
   },
   {
    "duration": 19,
    "start_time": "2024-09-13T09:45:30.480Z"
   },
   {
    "duration": 5,
    "start_time": "2024-09-13T09:46:19.455Z"
   },
   {
    "duration": 13,
    "start_time": "2024-09-13T09:46:28.104Z"
   },
   {
    "duration": 20,
    "start_time": "2024-09-13T09:46:38.321Z"
   },
   {
    "duration": 20,
    "start_time": "2024-09-13T09:57:27.768Z"
   },
   {
    "duration": 158,
    "start_time": "2024-09-13T09:58:57.000Z"
   },
   {
    "duration": 174,
    "start_time": "2024-09-13T09:59:30.038Z"
   },
   {
    "duration": 194,
    "start_time": "2024-09-13T09:59:45.654Z"
   },
   {
    "duration": 2,
    "start_time": "2024-09-13T10:01:47.365Z"
   },
   {
    "duration": 176,
    "start_time": "2024-09-13T10:01:53.366Z"
   },
   {
    "duration": 165,
    "start_time": "2024-09-13T10:04:20.099Z"
   },
   {
    "duration": 161,
    "start_time": "2024-09-13T10:05:03.725Z"
   },
   {
    "duration": 145,
    "start_time": "2024-09-13T10:06:45.698Z"
   },
   {
    "duration": 141,
    "start_time": "2024-09-13T10:06:52.161Z"
   },
   {
    "duration": 175,
    "start_time": "2024-09-13T10:21:48.195Z"
   },
   {
    "duration": 182,
    "start_time": "2024-09-13T10:23:40.272Z"
   },
   {
    "duration": 408,
    "start_time": "2024-09-13T10:27:05.933Z"
   },
   {
    "duration": 290,
    "start_time": "2024-09-13T10:27:48.772Z"
   },
   {
    "duration": 299,
    "start_time": "2024-09-13T10:28:26.918Z"
   },
   {
    "duration": 313,
    "start_time": "2024-09-13T10:29:00.740Z"
   },
   {
    "duration": 704,
    "start_time": "2024-09-13T10:29:23.448Z"
   },
   {
    "duration": 78,
    "start_time": "2024-09-13T10:29:24.154Z"
   },
   {
    "duration": 23,
    "start_time": "2024-09-13T10:29:24.233Z"
   },
   {
    "duration": 20,
    "start_time": "2024-09-13T10:29:24.258Z"
   },
   {
    "duration": 28,
    "start_time": "2024-09-13T10:29:24.281Z"
   },
   {
    "duration": 11,
    "start_time": "2024-09-13T10:29:24.312Z"
   },
   {
    "duration": 16,
    "start_time": "2024-09-13T10:29:24.325Z"
   },
   {
    "duration": 16,
    "start_time": "2024-09-13T10:29:24.342Z"
   },
   {
    "duration": 102,
    "start_time": "2024-09-13T10:29:24.359Z"
   },
   {
    "duration": 8,
    "start_time": "2024-09-13T10:29:24.462Z"
   },
   {
    "duration": 22,
    "start_time": "2024-09-13T10:29:24.471Z"
   },
   {
    "duration": 6,
    "start_time": "2024-09-13T10:29:24.495Z"
   },
   {
    "duration": 18,
    "start_time": "2024-09-13T10:29:24.502Z"
   },
   {
    "duration": 197,
    "start_time": "2024-09-13T10:29:24.523Z"
   },
   {
    "duration": 126,
    "start_time": "2024-09-13T10:29:24.724Z"
   },
   {
    "duration": 6,
    "start_time": "2024-09-13T10:29:24.853Z"
   },
   {
    "duration": 205,
    "start_time": "2024-09-13T10:29:24.861Z"
   },
   {
    "duration": 8,
    "start_time": "2024-09-13T10:29:25.068Z"
   },
   {
    "duration": 214,
    "start_time": "2024-09-13T10:29:25.078Z"
   },
   {
    "duration": 23,
    "start_time": "2024-09-13T10:29:25.293Z"
   },
   {
    "duration": 10,
    "start_time": "2024-09-13T10:29:25.319Z"
   },
   {
    "duration": 12,
    "start_time": "2024-09-13T10:29:25.331Z"
   },
   {
    "duration": 13,
    "start_time": "2024-09-13T10:29:25.345Z"
   },
   {
    "duration": 8,
    "start_time": "2024-09-13T10:29:25.360Z"
   },
   {
    "duration": 9,
    "start_time": "2024-09-13T10:29:25.370Z"
   },
   {
    "duration": 47,
    "start_time": "2024-09-13T10:29:25.381Z"
   },
   {
    "duration": 262,
    "start_time": "2024-09-13T10:29:25.429Z"
   },
   {
    "duration": 313,
    "start_time": "2024-09-13T10:29:44.197Z"
   },
   {
    "duration": 180,
    "start_time": "2024-09-13T10:31:42.417Z"
   },
   {
    "duration": 178,
    "start_time": "2024-09-13T10:33:37.682Z"
   },
   {
    "duration": 7,
    "start_time": "2024-09-13T10:34:19.822Z"
   },
   {
    "duration": 178,
    "start_time": "2024-09-13T10:36:41.089Z"
   },
   {
    "duration": 189,
    "start_time": "2024-09-13T10:37:57.432Z"
   },
   {
    "duration": 212,
    "start_time": "2024-09-13T10:38:41.200Z"
   },
   {
    "duration": 232,
    "start_time": "2024-09-13T10:40:56.123Z"
   },
   {
    "duration": 229,
    "start_time": "2024-09-13T10:41:24.325Z"
   },
   {
    "duration": 187,
    "start_time": "2024-09-13T10:42:47.332Z"
   },
   {
    "duration": 75,
    "start_time": "2024-09-13T10:47:10.715Z"
   },
   {
    "duration": 291,
    "start_time": "2024-09-13T10:47:29.145Z"
   },
   {
    "duration": 219,
    "start_time": "2024-09-13T10:51:40.494Z"
   },
   {
    "duration": 13,
    "start_time": "2024-09-13T10:58:36.084Z"
   },
   {
    "duration": 194,
    "start_time": "2024-09-13T10:58:44.562Z"
   },
   {
    "duration": 222,
    "start_time": "2024-09-13T11:04:43.198Z"
   },
   {
    "duration": 94,
    "start_time": "2024-09-13T11:05:05.970Z"
   },
   {
    "duration": 200,
    "start_time": "2024-09-13T11:05:11.296Z"
   },
   {
    "duration": 82,
    "start_time": "2024-09-13T11:05:31.957Z"
   },
   {
    "duration": 227,
    "start_time": "2024-09-13T11:05:41.222Z"
   },
   {
    "duration": 228,
    "start_time": "2024-09-13T11:08:27.963Z"
   },
   {
    "duration": 209,
    "start_time": "2024-09-13T11:18:24.672Z"
   },
   {
    "duration": 219,
    "start_time": "2024-09-13T11:22:33.697Z"
   },
   {
    "duration": 32,
    "start_time": "2024-09-14T10:25:03.339Z"
   },
   {
    "duration": 7,
    "start_time": "2024-09-14T10:25:21.729Z"
   },
   {
    "duration": 7,
    "start_time": "2024-09-14T10:25:29.888Z"
   },
   {
    "duration": 8,
    "start_time": "2024-09-14T10:26:50.992Z"
   },
   {
    "duration": 6,
    "start_time": "2024-09-14T10:27:32.270Z"
   },
   {
    "duration": 27,
    "start_time": "2024-09-14T10:31:31.949Z"
   },
   {
    "duration": 15,
    "start_time": "2024-09-14T10:35:50.858Z"
   },
   {
    "duration": 7,
    "start_time": "2024-09-14T10:36:18.913Z"
   },
   {
    "duration": 29,
    "start_time": "2024-09-14T10:37:15.953Z"
   },
   {
    "duration": 14,
    "start_time": "2024-09-14T10:38:40.920Z"
   },
   {
    "duration": 81,
    "start_time": "2024-09-14T10:40:10.127Z"
   },
   {
    "duration": 22,
    "start_time": "2024-09-14T10:40:17.814Z"
   },
   {
    "duration": 22,
    "start_time": "2024-09-14T10:40:37.967Z"
   },
   {
    "duration": 88,
    "start_time": "2024-09-14T10:40:46.238Z"
   },
   {
    "duration": 61,
    "start_time": "2024-09-14T10:40:52.413Z"
   },
   {
    "duration": 17,
    "start_time": "2024-09-14T10:40:59.125Z"
   },
   {
    "duration": 8,
    "start_time": "2024-09-14T10:42:12.878Z"
   },
   {
    "duration": 5,
    "start_time": "2024-09-14T10:42:18.357Z"
   },
   {
    "duration": 6,
    "start_time": "2024-09-14T10:42:32.284Z"
   },
   {
    "duration": 6,
    "start_time": "2024-09-14T10:42:42.790Z"
   },
   {
    "duration": 7,
    "start_time": "2024-09-14T10:42:44.557Z"
   },
   {
    "duration": 466,
    "start_time": "2024-09-14T10:44:45.477Z"
   },
   {
    "duration": 25,
    "start_time": "2024-09-14T10:44:47.611Z"
   },
   {
    "duration": 5,
    "start_time": "2024-09-14T10:46:20.714Z"
   },
   {
    "duration": 6,
    "start_time": "2024-09-14T10:46:22.370Z"
   },
   {
    "duration": 6,
    "start_time": "2024-09-14T10:50:31.529Z"
   },
   {
    "duration": 7,
    "start_time": "2024-09-14T10:50:33.991Z"
   },
   {
    "duration": 6,
    "start_time": "2024-09-14T10:50:54.486Z"
   },
   {
    "duration": 7,
    "start_time": "2024-09-14T10:50:56.479Z"
   },
   {
    "duration": 6,
    "start_time": "2024-09-14T10:51:17.966Z"
   },
   {
    "duration": 7,
    "start_time": "2024-09-14T10:51:26.463Z"
   },
   {
    "duration": 5,
    "start_time": "2024-09-14T10:51:55.070Z"
   },
   {
    "duration": 7,
    "start_time": "2024-09-14T10:52:10.430Z"
   },
   {
    "duration": 9,
    "start_time": "2024-09-14T10:52:28.038Z"
   },
   {
    "duration": 8,
    "start_time": "2024-09-14T10:52:45.525Z"
   },
   {
    "duration": 12,
    "start_time": "2024-09-14T10:54:13.701Z"
   },
   {
    "duration": 11,
    "start_time": "2024-09-14T10:54:26.061Z"
   },
   {
    "duration": 12,
    "start_time": "2024-09-14T10:54:36.629Z"
   },
   {
    "duration": 14,
    "start_time": "2024-09-14T10:54:56.661Z"
   },
   {
    "duration": 7,
    "start_time": "2024-09-14T10:55:24.292Z"
   },
   {
    "duration": 10,
    "start_time": "2024-09-14T10:55:37.820Z"
   },
   {
    "duration": 10,
    "start_time": "2024-09-14T10:55:48.483Z"
   },
   {
    "duration": 7,
    "start_time": "2024-09-14T10:56:01.060Z"
   },
   {
    "duration": 11,
    "start_time": "2024-09-14T10:56:32.795Z"
   },
   {
    "duration": 12,
    "start_time": "2024-09-14T11:46:56.971Z"
   },
   {
    "duration": 3,
    "start_time": "2024-09-14T11:47:22.352Z"
   },
   {
    "duration": 6,
    "start_time": "2024-09-14T11:47:31.720Z"
   },
   {
    "duration": 23,
    "start_time": "2024-09-14T11:47:35.305Z"
   },
   {
    "duration": 20,
    "start_time": "2024-09-14T11:50:05.838Z"
   },
   {
    "duration": 41,
    "start_time": "2024-09-14T11:50:37.294Z"
   },
   {
    "duration": 637,
    "start_time": "2024-09-14T11:53:14.760Z"
   },
   {
    "duration": 71,
    "start_time": "2024-09-14T11:53:15.408Z"
   },
   {
    "duration": 23,
    "start_time": "2024-09-14T11:53:15.480Z"
   },
   {
    "duration": 50,
    "start_time": "2024-09-14T11:53:15.506Z"
   },
   {
    "duration": 19,
    "start_time": "2024-09-14T11:53:15.558Z"
   },
   {
    "duration": 8,
    "start_time": "2024-09-14T11:53:15.579Z"
   },
   {
    "duration": 12,
    "start_time": "2024-09-14T11:53:15.589Z"
   },
   {
    "duration": 5,
    "start_time": "2024-09-14T11:53:15.606Z"
   },
   {
    "duration": 9,
    "start_time": "2024-09-14T11:53:15.613Z"
   },
   {
    "duration": 6,
    "start_time": "2024-09-14T11:53:15.625Z"
   },
   {
    "duration": 18,
    "start_time": "2024-09-14T11:53:15.633Z"
   },
   {
    "duration": 29,
    "start_time": "2024-09-14T11:53:15.653Z"
   },
   {
    "duration": 7,
    "start_time": "2024-09-14T11:53:15.683Z"
   },
   {
    "duration": 213,
    "start_time": "2024-09-14T11:53:15.691Z"
   },
   {
    "duration": 143,
    "start_time": "2024-09-14T11:53:15.906Z"
   },
   {
    "duration": 7,
    "start_time": "2024-09-14T11:53:16.051Z"
   },
   {
    "duration": 187,
    "start_time": "2024-09-14T11:53:16.059Z"
   },
   {
    "duration": 9,
    "start_time": "2024-09-14T11:53:16.247Z"
   },
   {
    "duration": 198,
    "start_time": "2024-09-14T11:53:16.258Z"
   },
   {
    "duration": 8,
    "start_time": "2024-09-14T11:53:16.457Z"
   },
   {
    "duration": 44,
    "start_time": "2024-09-14T11:53:16.467Z"
   },
   {
    "duration": 13,
    "start_time": "2024-09-14T11:53:16.513Z"
   },
   {
    "duration": 14,
    "start_time": "2024-09-14T11:53:16.528Z"
   },
   {
    "duration": 10,
    "start_time": "2024-09-14T11:53:16.544Z"
   },
   {
    "duration": 5,
    "start_time": "2024-09-14T11:53:16.557Z"
   },
   {
    "duration": 22,
    "start_time": "2024-09-14T11:53:16.564Z"
   },
   {
    "duration": 432,
    "start_time": "2024-09-14T11:53:16.588Z"
   },
   {
    "duration": 214,
    "start_time": "2024-09-14T11:53:17.025Z"
   },
   {
    "duration": 26,
    "start_time": "2024-09-14T11:53:17.241Z"
   },
   {
    "duration": 10,
    "start_time": "2024-09-14T11:53:17.269Z"
   },
   {
    "duration": 5,
    "start_time": "2024-09-14T11:53:23.469Z"
   },
   {
    "duration": 4,
    "start_time": "2024-09-14T11:53:26.108Z"
   },
   {
    "duration": 38,
    "start_time": "2024-09-14T11:53:44.300Z"
   },
   {
    "duration": 53,
    "start_time": "2024-09-14T11:54:22.428Z"
   },
   {
    "duration": 36,
    "start_time": "2024-09-14T11:54:41.963Z"
   },
   {
    "duration": 46,
    "start_time": "2024-09-14T11:55:06.819Z"
   },
   {
    "duration": 74,
    "start_time": "2024-09-14T12:00:12.215Z"
   },
   {
    "duration": 16,
    "start_time": "2024-09-14T12:01:36.814Z"
   },
   {
    "duration": 10,
    "start_time": "2024-09-14T12:03:04.828Z"
   },
   {
    "duration": 10,
    "start_time": "2024-09-14T12:03:43.837Z"
   },
   {
    "duration": 24,
    "start_time": "2024-09-14T12:06:03.844Z"
   },
   {
    "duration": 648,
    "start_time": "2024-09-14T12:06:33.933Z"
   },
   {
    "duration": 68,
    "start_time": "2024-09-14T12:06:34.583Z"
   },
   {
    "duration": 21,
    "start_time": "2024-09-14T12:06:34.653Z"
   },
   {
    "duration": 21,
    "start_time": "2024-09-14T12:06:34.676Z"
   },
   {
    "duration": 14,
    "start_time": "2024-09-14T12:06:34.699Z"
   },
   {
    "duration": 7,
    "start_time": "2024-09-14T12:06:34.715Z"
   },
   {
    "duration": 6,
    "start_time": "2024-09-14T12:06:34.724Z"
   },
   {
    "duration": 16,
    "start_time": "2024-09-14T12:06:34.731Z"
   },
   {
    "duration": 10,
    "start_time": "2024-09-14T12:06:34.748Z"
   },
   {
    "duration": 25,
    "start_time": "2024-09-14T12:06:34.760Z"
   },
   {
    "duration": 11,
    "start_time": "2024-09-14T12:06:34.787Z"
   },
   {
    "duration": 14,
    "start_time": "2024-09-14T12:06:34.804Z"
   },
   {
    "duration": 19,
    "start_time": "2024-09-14T12:06:34.820Z"
   },
   {
    "duration": 200,
    "start_time": "2024-09-14T12:06:34.842Z"
   },
   {
    "duration": 140,
    "start_time": "2024-09-14T12:06:35.044Z"
   },
   {
    "duration": 19,
    "start_time": "2024-09-14T12:06:35.186Z"
   },
   {
    "duration": 183,
    "start_time": "2024-09-14T12:06:35.208Z"
   },
   {
    "duration": 18,
    "start_time": "2024-09-14T12:06:35.393Z"
   },
   {
    "duration": 201,
    "start_time": "2024-09-14T12:06:35.413Z"
   },
   {
    "duration": 7,
    "start_time": "2024-09-14T12:06:35.616Z"
   },
   {
    "duration": 43,
    "start_time": "2024-09-14T12:06:35.625Z"
   },
   {
    "duration": 23,
    "start_time": "2024-09-14T12:06:35.670Z"
   },
   {
    "duration": 10,
    "start_time": "2024-09-14T12:06:35.694Z"
   },
   {
    "duration": 25,
    "start_time": "2024-09-14T12:06:35.706Z"
   },
   {
    "duration": 11,
    "start_time": "2024-09-14T12:06:35.732Z"
   },
   {
    "duration": 42,
    "start_time": "2024-09-14T12:06:35.745Z"
   },
   {
    "duration": 272,
    "start_time": "2024-09-14T12:06:35.789Z"
   },
   {
    "duration": 202,
    "start_time": "2024-09-14T12:06:36.063Z"
   },
   {
    "duration": 19,
    "start_time": "2024-09-14T12:06:36.267Z"
   },
   {
    "duration": 20,
    "start_time": "2024-09-14T12:06:36.288Z"
   },
   {
    "duration": 21,
    "start_time": "2024-09-14T12:06:36.309Z"
   },
   {
    "duration": 53,
    "start_time": "2024-09-14T12:06:36.332Z"
   },
   {
    "duration": 29,
    "start_time": "2024-09-14T12:06:45.672Z"
   },
   {
    "duration": 78,
    "start_time": "2024-09-14T12:09:11.670Z"
   },
   {
    "duration": 12,
    "start_time": "2024-09-14T12:09:30.846Z"
   },
   {
    "duration": 200,
    "start_time": "2024-09-14T12:09:53.222Z"
   },
   {
    "duration": 215,
    "start_time": "2024-09-14T12:10:34.310Z"
   },
   {
    "duration": 651,
    "start_time": "2024-09-14T12:10:54.724Z"
   },
   {
    "duration": 68,
    "start_time": "2024-09-14T12:10:55.377Z"
   },
   {
    "duration": 22,
    "start_time": "2024-09-14T12:10:55.447Z"
   },
   {
    "duration": 20,
    "start_time": "2024-09-14T12:10:55.472Z"
   },
   {
    "duration": 15,
    "start_time": "2024-09-14T12:10:55.494Z"
   },
   {
    "duration": 11,
    "start_time": "2024-09-14T12:10:55.511Z"
   },
   {
    "duration": 7,
    "start_time": "2024-09-14T12:10:55.524Z"
   },
   {
    "duration": 7,
    "start_time": "2024-09-14T12:10:55.532Z"
   },
   {
    "duration": 10,
    "start_time": "2024-09-14T12:10:55.541Z"
   },
   {
    "duration": 8,
    "start_time": "2024-09-14T12:10:55.554Z"
   },
   {
    "duration": 54,
    "start_time": "2024-09-14T12:10:55.564Z"
   },
   {
    "duration": 22,
    "start_time": "2024-09-14T12:10:55.621Z"
   },
   {
    "duration": 14,
    "start_time": "2024-09-14T12:10:55.645Z"
   },
   {
    "duration": 235,
    "start_time": "2024-09-14T12:10:55.661Z"
   },
   {
    "duration": 147,
    "start_time": "2024-09-14T12:10:55.898Z"
   },
   {
    "duration": 7,
    "start_time": "2024-09-14T12:10:56.047Z"
   },
   {
    "duration": 168,
    "start_time": "2024-09-14T12:10:56.056Z"
   },
   {
    "duration": 8,
    "start_time": "2024-09-14T12:10:56.226Z"
   },
   {
    "duration": 186,
    "start_time": "2024-09-14T12:10:56.236Z"
   },
   {
    "duration": 7,
    "start_time": "2024-09-14T12:10:56.424Z"
   },
   {
    "duration": 6,
    "start_time": "2024-09-14T12:10:56.433Z"
   },
   {
    "duration": 9,
    "start_time": "2024-09-14T12:10:56.441Z"
   },
   {
    "duration": 11,
    "start_time": "2024-09-14T12:10:56.452Z"
   },
   {
    "duration": 7,
    "start_time": "2024-09-14T12:10:56.465Z"
   },
   {
    "duration": 36,
    "start_time": "2024-09-14T12:10:56.474Z"
   },
   {
    "duration": 7,
    "start_time": "2024-09-14T12:10:56.511Z"
   },
   {
    "duration": 273,
    "start_time": "2024-09-14T12:10:56.520Z"
   },
   {
    "duration": 202,
    "start_time": "2024-09-14T12:10:56.805Z"
   },
   {
    "duration": 20,
    "start_time": "2024-09-14T12:10:57.009Z"
   },
   {
    "duration": 5,
    "start_time": "2024-09-14T12:10:57.031Z"
   },
   {
    "duration": 4,
    "start_time": "2024-09-14T12:10:57.039Z"
   },
   {
    "duration": 79,
    "start_time": "2024-09-14T12:10:57.045Z"
   },
   {
    "duration": 31,
    "start_time": "2024-09-14T12:11:00.320Z"
   },
   {
    "duration": 238,
    "start_time": "2024-09-14T12:11:03.673Z"
   },
   {
    "duration": 799,
    "start_time": "2024-09-15T10:11:47.878Z"
   },
   {
    "duration": 302,
    "start_time": "2024-09-15T10:11:48.679Z"
   },
   {
    "duration": 22,
    "start_time": "2024-09-15T10:11:48.983Z"
   },
   {
    "duration": 18,
    "start_time": "2024-09-15T10:11:49.008Z"
   },
   {
    "duration": 15,
    "start_time": "2024-09-15T10:11:49.027Z"
   },
   {
    "duration": 24,
    "start_time": "2024-09-15T10:11:49.043Z"
   },
   {
    "duration": 6,
    "start_time": "2024-09-15T10:11:49.068Z"
   },
   {
    "duration": 6,
    "start_time": "2024-09-15T10:11:49.075Z"
   },
   {
    "duration": 7,
    "start_time": "2024-09-15T10:11:49.083Z"
   },
   {
    "duration": 11,
    "start_time": "2024-09-15T10:11:49.092Z"
   },
   {
    "duration": 9,
    "start_time": "2024-09-15T10:11:49.104Z"
   },
   {
    "duration": 5,
    "start_time": "2024-09-15T10:11:49.115Z"
   },
   {
    "duration": 9,
    "start_time": "2024-09-15T10:11:49.122Z"
   },
   {
    "duration": 229,
    "start_time": "2024-09-15T10:11:49.132Z"
   },
   {
    "duration": 117,
    "start_time": "2024-09-15T10:11:49.364Z"
   },
   {
    "duration": 5,
    "start_time": "2024-09-15T10:11:49.483Z"
   },
   {
    "duration": 145,
    "start_time": "2024-09-15T10:11:49.489Z"
   },
   {
    "duration": 9,
    "start_time": "2024-09-15T10:11:49.635Z"
   },
   {
    "duration": 186,
    "start_time": "2024-09-15T10:11:49.645Z"
   },
   {
    "duration": 7,
    "start_time": "2024-09-15T10:11:49.833Z"
   },
   {
    "duration": 24,
    "start_time": "2024-09-15T10:11:49.842Z"
   },
   {
    "duration": 10,
    "start_time": "2024-09-15T10:11:49.868Z"
   },
   {
    "duration": 14,
    "start_time": "2024-09-15T10:11:49.879Z"
   },
   {
    "duration": 27,
    "start_time": "2024-09-15T10:11:49.895Z"
   },
   {
    "duration": 5,
    "start_time": "2024-09-15T10:11:49.924Z"
   },
   {
    "duration": 12,
    "start_time": "2024-09-15T10:11:49.931Z"
   },
   {
    "duration": 246,
    "start_time": "2024-09-15T10:11:49.945Z"
   },
   {
    "duration": 200,
    "start_time": "2024-09-15T10:11:50.196Z"
   },
   {
    "duration": 18,
    "start_time": "2024-09-15T10:11:50.398Z"
   },
   {
    "duration": 17,
    "start_time": "2024-09-15T10:11:50.418Z"
   },
   {
    "duration": 5,
    "start_time": "2024-09-15T10:11:50.437Z"
   },
   {
    "duration": 49,
    "start_time": "2024-09-15T10:11:50.444Z"
   },
   {
    "duration": 34,
    "start_time": "2024-09-15T10:11:50.494Z"
   },
   {
    "duration": 253,
    "start_time": "2024-09-15T10:11:50.531Z"
   },
   {
    "duration": 75,
    "start_time": "2024-09-15T10:11:57.251Z"
   },
   {
    "duration": 473,
    "start_time": "2024-09-15T10:12:27.266Z"
   },
   {
    "duration": 54,
    "start_time": "2024-09-15T10:12:36.291Z"
   },
   {
    "duration": 5,
    "start_time": "2024-09-15T10:12:45.091Z"
   },
   {
    "duration": 5,
    "start_time": "2024-09-15T10:15:59.184Z"
   },
   {
    "duration": 6,
    "start_time": "2024-09-15T10:19:11.846Z"
   },
   {
    "duration": 4,
    "start_time": "2024-09-15T10:20:33.812Z"
   },
   {
    "duration": 1106,
    "start_time": "2024-09-15T10:26:54.129Z"
   },
   {
    "duration": 28,
    "start_time": "2024-09-15T10:27:19.033Z"
   },
   {
    "duration": 20,
    "start_time": "2024-09-15T10:27:51.522Z"
   },
   {
    "duration": 7,
    "start_time": "2024-09-15T10:28:37.216Z"
   },
   {
    "duration": 10,
    "start_time": "2024-09-15T10:29:44.783Z"
   },
   {
    "duration": 6,
    "start_time": "2024-09-15T10:32:19.565Z"
   },
   {
    "duration": 11,
    "start_time": "2024-09-15T10:37:05.306Z"
   },
   {
    "duration": 3,
    "start_time": "2024-09-15T10:37:44.803Z"
   },
   {
    "duration": 1502,
    "start_time": "2024-09-15T10:37:50.057Z"
   },
   {
    "duration": 88,
    "start_time": "2024-09-15T10:39:02.361Z"
   },
   {
    "duration": 6,
    "start_time": "2024-09-15T10:42:39.390Z"
   },
   {
    "duration": 247,
    "start_time": "2024-09-15T10:46:55.259Z"
   },
   {
    "duration": 6,
    "start_time": "2024-09-15T10:47:55.468Z"
   },
   {
    "duration": 234,
    "start_time": "2024-09-15T11:23:16.790Z"
   },
   {
    "duration": 11,
    "start_time": "2024-09-15T11:23:39.761Z"
   },
   {
    "duration": 242,
    "start_time": "2024-09-15T11:24:05.437Z"
   },
   {
    "duration": 113,
    "start_time": "2024-09-15T11:24:22.153Z"
   },
   {
    "duration": 128,
    "start_time": "2024-09-15T11:24:30.682Z"
   },
   {
    "duration": 11,
    "start_time": "2024-09-15T11:24:39.489Z"
   },
   {
    "duration": 84,
    "start_time": "2024-09-15T11:25:06.049Z"
   },
   {
    "duration": 13,
    "start_time": "2024-09-15T11:37:43.333Z"
   },
   {
    "duration": 155,
    "start_time": "2024-09-15T11:38:21.617Z"
   },
   {
    "duration": 139,
    "start_time": "2024-09-15T11:38:31.672Z"
   },
   {
    "duration": 144,
    "start_time": "2024-09-15T11:38:46.417Z"
   },
   {
    "duration": 118,
    "start_time": "2024-09-15T11:43:43.180Z"
   },
   {
    "duration": 120,
    "start_time": "2024-09-15T11:43:54.756Z"
   },
   {
    "duration": 244,
    "start_time": "2024-09-15T11:44:39.531Z"
   },
   {
    "duration": 112,
    "start_time": "2024-09-15T11:56:05.294Z"
   },
   {
    "duration": 115,
    "start_time": "2024-09-15T11:56:34.716Z"
   },
   {
    "duration": 5,
    "start_time": "2024-09-15T11:56:52.459Z"
   },
   {
    "duration": 1042,
    "start_time": "2024-09-15T12:08:39.019Z"
   },
   {
    "duration": 77,
    "start_time": "2024-09-15T12:08:40.063Z"
   },
   {
    "duration": 21,
    "start_time": "2024-09-15T12:08:40.141Z"
   },
   {
    "duration": 28,
    "start_time": "2024-09-15T12:08:40.164Z"
   },
   {
    "duration": 19,
    "start_time": "2024-09-15T12:08:40.194Z"
   },
   {
    "duration": 42,
    "start_time": "2024-09-15T12:08:40.214Z"
   },
   {
    "duration": 50,
    "start_time": "2024-09-15T12:08:40.257Z"
   },
   {
    "duration": 24,
    "start_time": "2024-09-15T12:08:40.309Z"
   },
   {
    "duration": 27,
    "start_time": "2024-09-15T12:08:40.335Z"
   },
   {
    "duration": 23,
    "start_time": "2024-09-15T12:08:40.365Z"
   },
   {
    "duration": 21,
    "start_time": "2024-09-15T12:08:40.390Z"
   },
   {
    "duration": 19,
    "start_time": "2024-09-15T12:08:40.413Z"
   },
   {
    "duration": 29,
    "start_time": "2024-09-15T12:08:40.433Z"
   },
   {
    "duration": 184,
    "start_time": "2024-09-15T12:08:40.464Z"
   },
   {
    "duration": 122,
    "start_time": "2024-09-15T12:08:40.649Z"
   },
   {
    "duration": 4,
    "start_time": "2024-09-15T12:08:40.773Z"
   },
   {
    "duration": 141,
    "start_time": "2024-09-15T12:08:40.779Z"
   },
   {
    "duration": 8,
    "start_time": "2024-09-15T12:08:40.921Z"
   },
   {
    "duration": 173,
    "start_time": "2024-09-15T12:08:40.930Z"
   },
   {
    "duration": 6,
    "start_time": "2024-09-15T12:08:41.105Z"
   },
   {
    "duration": 6,
    "start_time": "2024-09-15T12:08:41.113Z"
   },
   {
    "duration": 10,
    "start_time": "2024-09-15T12:08:41.120Z"
   },
   {
    "duration": 15,
    "start_time": "2024-09-15T12:08:41.131Z"
   },
   {
    "duration": 7,
    "start_time": "2024-09-15T12:08:41.147Z"
   },
   {
    "duration": 4,
    "start_time": "2024-09-15T12:08:41.156Z"
   },
   {
    "duration": 6,
    "start_time": "2024-09-15T12:08:41.161Z"
   },
   {
    "duration": 218,
    "start_time": "2024-09-15T12:08:41.168Z"
   },
   {
    "duration": 187,
    "start_time": "2024-09-15T12:08:41.389Z"
   },
   {
    "duration": 17,
    "start_time": "2024-09-15T12:08:41.577Z"
   },
   {
    "duration": 4,
    "start_time": "2024-09-15T12:08:41.607Z"
   },
   {
    "duration": 4,
    "start_time": "2024-09-15T12:08:41.612Z"
   },
   {
    "duration": 42,
    "start_time": "2024-09-15T12:08:41.618Z"
   },
   {
    "duration": 47,
    "start_time": "2024-09-15T12:08:41.661Z"
   },
   {
    "duration": 205,
    "start_time": "2024-09-15T12:08:41.709Z"
   },
   {
    "duration": 5,
    "start_time": "2024-09-15T12:08:41.915Z"
   },
   {
    "duration": 7,
    "start_time": "2024-09-15T12:08:41.922Z"
   },
   {
    "duration": 33,
    "start_time": "2024-09-15T12:08:41.930Z"
   },
   {
    "duration": 8,
    "start_time": "2024-09-15T12:08:41.964Z"
   },
   {
    "duration": 9,
    "start_time": "2024-09-15T12:08:41.973Z"
   },
   {
    "duration": 6,
    "start_time": "2024-09-15T12:08:41.983Z"
   },
   {
    "duration": 1393,
    "start_time": "2024-09-15T12:08:41.990Z"
   },
   {
    "duration": 92,
    "start_time": "2024-09-15T12:08:43.384Z"
   },
   {
    "duration": 6,
    "start_time": "2024-09-15T12:08:43.478Z"
   },
   {
    "duration": 18,
    "start_time": "2024-09-15T12:13:40.925Z"
   },
   {
    "duration": 103,
    "start_time": "2024-09-15T12:23:33.592Z"
   },
   {
    "duration": 10,
    "start_time": "2024-09-15T12:24:22.984Z"
   },
   {
    "duration": 213,
    "start_time": "2024-09-15T12:24:41.877Z"
   },
   {
    "duration": 10,
    "start_time": "2024-09-15T12:24:49.307Z"
   },
   {
    "duration": 1092,
    "start_time": "2024-09-15T12:31:03.067Z"
   },
   {
    "duration": 80,
    "start_time": "2024-09-15T12:31:04.161Z"
   },
   {
    "duration": 22,
    "start_time": "2024-09-15T12:31:04.242Z"
   },
   {
    "duration": 17,
    "start_time": "2024-09-15T12:31:04.265Z"
   },
   {
    "duration": 14,
    "start_time": "2024-09-15T12:31:04.285Z"
   },
   {
    "duration": 8,
    "start_time": "2024-09-15T12:31:04.308Z"
   },
   {
    "duration": 6,
    "start_time": "2024-09-15T12:31:04.317Z"
   },
   {
    "duration": 29,
    "start_time": "2024-09-15T12:31:04.324Z"
   },
   {
    "duration": 11,
    "start_time": "2024-09-15T12:31:04.355Z"
   },
   {
    "duration": 5,
    "start_time": "2024-09-15T12:31:04.367Z"
   },
   {
    "duration": 16,
    "start_time": "2024-09-15T12:31:04.373Z"
   },
   {
    "duration": 6,
    "start_time": "2024-09-15T12:31:04.390Z"
   },
   {
    "duration": 11,
    "start_time": "2024-09-15T12:31:04.397Z"
   },
   {
    "duration": 197,
    "start_time": "2024-09-15T12:31:04.411Z"
   },
   {
    "duration": 123,
    "start_time": "2024-09-15T12:31:04.609Z"
   },
   {
    "duration": 6,
    "start_time": "2024-09-15T12:31:04.734Z"
   },
   {
    "duration": 155,
    "start_time": "2024-09-15T12:31:04.741Z"
   },
   {
    "duration": 12,
    "start_time": "2024-09-15T12:31:04.898Z"
   },
   {
    "duration": 177,
    "start_time": "2024-09-15T12:31:04.911Z"
   },
   {
    "duration": 6,
    "start_time": "2024-09-15T12:31:05.090Z"
   },
   {
    "duration": 14,
    "start_time": "2024-09-15T12:31:05.097Z"
   },
   {
    "duration": 9,
    "start_time": "2024-09-15T12:31:05.113Z"
   },
   {
    "duration": 9,
    "start_time": "2024-09-15T12:31:05.124Z"
   },
   {
    "duration": 15,
    "start_time": "2024-09-15T12:31:05.134Z"
   },
   {
    "duration": 16,
    "start_time": "2024-09-15T12:31:05.151Z"
   },
   {
    "duration": 17,
    "start_time": "2024-09-15T12:31:05.168Z"
   },
   {
    "duration": 216,
    "start_time": "2024-09-15T12:31:05.186Z"
   },
   {
    "duration": 197,
    "start_time": "2024-09-15T12:31:05.404Z"
   },
   {
    "duration": 19,
    "start_time": "2024-09-15T12:31:05.607Z"
   },
   {
    "duration": 19,
    "start_time": "2024-09-15T12:31:05.627Z"
   },
   {
    "duration": 13,
    "start_time": "2024-09-15T12:31:05.648Z"
   },
   {
    "duration": 57,
    "start_time": "2024-09-15T12:31:05.662Z"
   },
   {
    "duration": 28,
    "start_time": "2024-09-15T12:31:05.720Z"
   },
   {
    "duration": 223,
    "start_time": "2024-09-15T12:31:05.749Z"
   },
   {
    "duration": 6,
    "start_time": "2024-09-15T12:31:05.973Z"
   },
   {
    "duration": 6,
    "start_time": "2024-09-15T12:31:05.980Z"
   },
   {
    "duration": 20,
    "start_time": "2024-09-15T12:31:05.988Z"
   },
   {
    "duration": 7,
    "start_time": "2024-09-15T12:31:06.010Z"
   },
   {
    "duration": 9,
    "start_time": "2024-09-15T12:31:06.018Z"
   },
   {
    "duration": 23,
    "start_time": "2024-09-15T12:31:06.028Z"
   },
   {
    "duration": 1495,
    "start_time": "2024-09-15T12:31:06.055Z"
   },
   {
    "duration": 99,
    "start_time": "2024-09-15T12:31:07.552Z"
   },
   {
    "duration": 6,
    "start_time": "2024-09-15T12:31:07.652Z"
   },
   {
    "duration": 9,
    "start_time": "2024-09-15T12:39:04.597Z"
   },
   {
    "duration": 47,
    "start_time": "2024-09-16T13:06:58.175Z"
   },
   {
    "duration": 1245,
    "start_time": "2024-09-16T13:07:04.241Z"
   },
   {
    "duration": 341,
    "start_time": "2024-09-16T13:07:05.862Z"
   },
   {
    "duration": 17,
    "start_time": "2024-09-16T13:07:07.621Z"
   },
   {
    "duration": 81,
    "start_time": "2024-09-16T13:07:27.150Z"
   },
   {
    "duration": 17,
    "start_time": "2024-09-16T13:07:39.045Z"
   },
   {
    "duration": 13,
    "start_time": "2024-09-16T13:07:49.285Z"
   },
   {
    "duration": 5,
    "start_time": "2024-09-16T13:08:16.093Z"
   },
   {
    "duration": 12,
    "start_time": "2024-09-16T13:08:20.253Z"
   },
   {
    "duration": 6,
    "start_time": "2024-09-16T13:08:36.796Z"
   },
   {
    "duration": 14,
    "start_time": "2024-09-16T13:09:48.172Z"
   },
   {
    "duration": 18,
    "start_time": "2024-09-16T13:11:25.434Z"
   },
   {
    "duration": 14,
    "start_time": "2024-09-16T13:12:12.482Z"
   },
   {
    "duration": 24,
    "start_time": "2024-09-16T13:33:49.003Z"
   },
   {
    "duration": 3,
    "start_time": "2024-09-16T13:33:59.721Z"
   },
   {
    "duration": 70,
    "start_time": "2024-09-16T13:33:59.726Z"
   },
   {
    "duration": 16,
    "start_time": "2024-09-16T13:33:59.798Z"
   },
   {
    "duration": 21,
    "start_time": "2024-09-16T13:33:59.816Z"
   },
   {
    "duration": 14,
    "start_time": "2024-09-16T13:33:59.839Z"
   },
   {
    "duration": 6,
    "start_time": "2024-09-16T13:33:59.861Z"
   },
   {
    "duration": 6,
    "start_time": "2024-09-16T13:33:59.869Z"
   },
   {
    "duration": 16,
    "start_time": "2024-09-16T13:33:59.889Z"
   },
   {
    "duration": 6,
    "start_time": "2024-09-16T13:33:59.937Z"
   },
   {
    "duration": 71,
    "start_time": "2024-09-16T13:33:59.962Z"
   },
   {
    "duration": 47,
    "start_time": "2024-09-16T13:34:00.034Z"
   },
   {
    "duration": 40,
    "start_time": "2024-09-16T13:34:00.083Z"
   },
   {
    "duration": 22,
    "start_time": "2024-09-16T13:34:00.125Z"
   },
   {
    "duration": 13,
    "start_time": "2024-09-16T13:34:03.138Z"
   },
   {
    "duration": 0,
    "start_time": "2024-09-16T13:34:33.725Z"
   },
   {
    "duration": 19699,
    "start_time": "2024-09-16T13:35:22.081Z"
   },
   {
    "duration": 154,
    "start_time": "2024-09-16T13:38:41.407Z"
   },
   {
    "duration": 19897,
    "start_time": "2024-09-16T13:39:49.758Z"
   },
   {
    "duration": 24332,
    "start_time": "2024-09-16T13:40:53.653Z"
   },
   {
    "duration": 166,
    "start_time": "2024-09-16T13:42:49.340Z"
   },
   {
    "duration": 205,
    "start_time": "2024-09-16T13:43:00.124Z"
   },
   {
    "duration": 173,
    "start_time": "2024-09-16T13:43:12.276Z"
   },
   {
    "duration": 173,
    "start_time": "2024-09-16T13:43:22.068Z"
   },
   {
    "duration": 169,
    "start_time": "2024-09-16T13:43:46.147Z"
   },
   {
    "duration": 185,
    "start_time": "2024-09-16T13:44:27.538Z"
   },
   {
    "duration": 186,
    "start_time": "2024-09-16T13:44:45.627Z"
   },
   {
    "duration": 173,
    "start_time": "2024-09-16T13:46:18.545Z"
   },
   {
    "duration": 3,
    "start_time": "2024-09-16T13:48:48.063Z"
   },
   {
    "duration": 4,
    "start_time": "2024-09-16T13:48:54.263Z"
   },
   {
    "duration": 217,
    "start_time": "2024-09-16T13:50:11.501Z"
   },
   {
    "duration": 19308,
    "start_time": "2024-09-16T14:16:25.198Z"
   },
   {
    "duration": 49,
    "start_time": "2024-09-17T10:48:33.802Z"
   },
   {
    "duration": 1305,
    "start_time": "2024-09-17T10:48:39.337Z"
   },
   {
    "duration": 287,
    "start_time": "2024-09-17T10:48:40.644Z"
   },
   {
    "duration": 21,
    "start_time": "2024-09-17T10:48:40.933Z"
   },
   {
    "duration": 18,
    "start_time": "2024-09-17T10:48:40.955Z"
   },
   {
    "duration": 14,
    "start_time": "2024-09-17T10:48:40.975Z"
   },
   {
    "duration": 18,
    "start_time": "2024-09-17T10:48:40.991Z"
   },
   {
    "duration": 11,
    "start_time": "2024-09-17T10:48:41.011Z"
   },
   {
    "duration": 6,
    "start_time": "2024-09-17T10:48:41.023Z"
   },
   {
    "duration": 13,
    "start_time": "2024-09-17T10:48:41.031Z"
   },
   {
    "duration": 19,
    "start_time": "2024-09-17T10:48:41.046Z"
   },
   {
    "duration": 12,
    "start_time": "2024-09-17T10:48:41.066Z"
   },
   {
    "duration": 7,
    "start_time": "2024-09-17T10:48:41.079Z"
   },
   {
    "duration": 19,
    "start_time": "2024-09-17T10:48:41.087Z"
   },
   {
    "duration": 230,
    "start_time": "2024-09-17T10:48:41.108Z"
   },
   {
    "duration": 9,
    "start_time": "2024-09-17T10:48:44.857Z"
   },
   {
    "duration": 7,
    "start_time": "2024-09-17T10:49:23.889Z"
   },
   {
    "duration": 68,
    "start_time": "2024-09-17T10:50:04.185Z"
   },
   {
    "duration": 6,
    "start_time": "2024-09-17T10:50:15.881Z"
   },
   {
    "duration": 14,
    "start_time": "2024-09-17T10:50:32.273Z"
   },
   {
    "duration": 8,
    "start_time": "2024-09-17T10:50:43.095Z"
   },
   {
    "duration": 10,
    "start_time": "2024-09-17T10:51:29.112Z"
   },
   {
    "duration": 7,
    "start_time": "2024-09-17T10:51:42.447Z"
   },
   {
    "duration": 115,
    "start_time": "2024-09-17T10:53:11.455Z"
   },
   {
    "duration": 1134,
    "start_time": "2024-09-17T10:53:25.782Z"
   },
   {
    "duration": 13,
    "start_time": "2024-09-17T10:56:38.749Z"
   },
   {
    "duration": 9,
    "start_time": "2024-09-17T10:57:19.323Z"
   },
   {
    "duration": 13,
    "start_time": "2024-09-17T10:58:37.507Z"
   },
   {
    "duration": 7,
    "start_time": "2024-09-17T10:58:53.827Z"
   },
   {
    "duration": 12,
    "start_time": "2024-09-17T10:59:53.513Z"
   },
   {
    "duration": 9,
    "start_time": "2024-09-17T11:00:00.970Z"
   },
   {
    "duration": 76,
    "start_time": "2024-09-17T11:00:05.650Z"
   },
   {
    "duration": 653,
    "start_time": "2024-09-17T11:11:16.770Z"
   },
   {
    "duration": 208,
    "start_time": "2024-09-17T11:12:18.617Z"
   },
   {
    "duration": 192,
    "start_time": "2024-09-17T11:13:03.680Z"
   },
   {
    "duration": 28956,
    "start_time": "2024-09-17T11:13:46.688Z"
   },
   {
    "duration": 133,
    "start_time": "2024-09-17T11:15:22.258Z"
   },
   {
    "duration": 139,
    "start_time": "2024-09-17T11:16:09.790Z"
   },
   {
    "duration": 166,
    "start_time": "2024-09-17T11:16:15.974Z"
   },
   {
    "duration": 124,
    "start_time": "2024-09-17T11:16:24.341Z"
   },
   {
    "duration": 127,
    "start_time": "2024-09-17T11:16:30.470Z"
   },
   {
    "duration": 128,
    "start_time": "2024-09-17T11:16:35.613Z"
   },
   {
    "duration": 126,
    "start_time": "2024-09-17T11:16:43.094Z"
   },
   {
    "duration": 126,
    "start_time": "2024-09-17T11:17:34.421Z"
   },
   {
    "duration": 136,
    "start_time": "2024-09-17T11:17:42.157Z"
   },
   {
    "duration": 137,
    "start_time": "2024-09-17T11:18:27.413Z"
   },
   {
    "duration": 148,
    "start_time": "2024-09-17T11:23:22.145Z"
   },
   {
    "duration": 133,
    "start_time": "2024-09-17T11:24:10.993Z"
   },
   {
    "duration": 123,
    "start_time": "2024-09-17T11:24:33.648Z"
   },
   {
    "duration": 12,
    "start_time": "2024-09-17T11:26:07.895Z"
   },
   {
    "duration": 1208,
    "start_time": "2024-09-17T11:26:20.130Z"
   },
   {
    "duration": 69,
    "start_time": "2024-09-17T11:26:21.340Z"
   },
   {
    "duration": 22,
    "start_time": "2024-09-17T11:26:21.410Z"
   },
   {
    "duration": 18,
    "start_time": "2024-09-17T11:26:21.436Z"
   },
   {
    "duration": 16,
    "start_time": "2024-09-17T11:26:21.456Z"
   },
   {
    "duration": 7,
    "start_time": "2024-09-17T11:26:21.474Z"
   },
   {
    "duration": 20,
    "start_time": "2024-09-17T11:26:21.482Z"
   },
   {
    "duration": 7,
    "start_time": "2024-09-17T11:26:21.504Z"
   },
   {
    "duration": 22,
    "start_time": "2024-09-17T11:26:21.513Z"
   },
   {
    "duration": 10,
    "start_time": "2024-09-17T11:26:21.539Z"
   },
   {
    "duration": 20,
    "start_time": "2024-09-17T11:26:21.551Z"
   },
   {
    "duration": 6,
    "start_time": "2024-09-17T11:26:21.573Z"
   },
   {
    "duration": 22,
    "start_time": "2024-09-17T11:26:21.581Z"
   },
   {
    "duration": 235,
    "start_time": "2024-09-17T11:26:21.605Z"
   },
   {
    "duration": 11,
    "start_time": "2024-09-17T11:26:21.843Z"
   },
   {
    "duration": 103,
    "start_time": "2024-09-17T11:26:21.866Z"
   },
   {
    "duration": 6,
    "start_time": "2024-09-17T11:26:21.972Z"
   },
   {
    "duration": 170,
    "start_time": "2024-09-17T11:26:21.980Z"
   },
   {
    "duration": 8,
    "start_time": "2024-09-17T11:26:22.151Z"
   },
   {
    "duration": 174,
    "start_time": "2024-09-17T11:26:22.160Z"
   },
   {
    "duration": 6,
    "start_time": "2024-09-17T11:26:22.336Z"
   },
   {
    "duration": 142,
    "start_time": "2024-09-17T11:26:22.344Z"
   },
   {
    "duration": 9,
    "start_time": "2024-09-17T11:26:22.488Z"
   },
   {
    "duration": 9,
    "start_time": "2024-09-17T11:26:22.498Z"
   },
   {
    "duration": 22,
    "start_time": "2024-09-17T11:26:24.874Z"
   },
   {
    "duration": 10,
    "start_time": "2024-09-17T11:26:40.674Z"
   },
   {
    "duration": 20,
    "start_time": "2024-09-17T11:27:03.409Z"
   },
   {
    "duration": 10,
    "start_time": "2024-09-17T11:27:16.065Z"
   },
   {
    "duration": 13,
    "start_time": "2024-09-17T11:27:18.449Z"
   },
   {
    "duration": 10,
    "start_time": "2024-09-17T11:27:39.457Z"
   },
   {
    "duration": 22,
    "start_time": "2024-09-17T11:27:46.169Z"
   },
   {
    "duration": 36,
    "start_time": "2024-09-17T11:28:30.465Z"
   },
   {
    "duration": 45,
    "start_time": "2024-09-17T11:28:41.801Z"
   },
   {
    "duration": 9,
    "start_time": "2024-09-17T11:28:47.672Z"
   },
   {
    "duration": 17,
    "start_time": "2024-09-17T11:29:26.304Z"
   },
   {
    "duration": 21,
    "start_time": "2024-09-17T11:30:13.808Z"
   },
   {
    "duration": 5,
    "start_time": "2024-09-17T11:30:50.206Z"
   },
   {
    "duration": 5,
    "start_time": "2024-09-17T11:30:51.903Z"
   },
   {
    "duration": 6,
    "start_time": "2024-09-17T11:30:54.615Z"
   },
   {
    "duration": 199,
    "start_time": "2024-09-17T11:30:58.302Z"
   },
   {
    "duration": 214,
    "start_time": "2024-09-17T11:31:13.591Z"
   },
   {
    "duration": 125,
    "start_time": "2024-09-17T11:57:03.422Z"
   },
   {
    "duration": 125,
    "start_time": "2024-09-17T11:57:14.884Z"
   },
   {
    "duration": 204,
    "start_time": "2024-09-17T11:57:50.076Z"
   },
   {
    "duration": 130,
    "start_time": "2024-09-17T11:58:14.844Z"
   },
   {
    "duration": 124,
    "start_time": "2024-09-17T11:58:25.635Z"
   },
   {
    "duration": 203,
    "start_time": "2024-09-17T12:02:03.826Z"
   },
   {
    "duration": 139,
    "start_time": "2024-09-17T12:02:14.585Z"
   },
   {
    "duration": 158,
    "start_time": "2024-09-17T12:02:50.129Z"
   },
   {
    "duration": 123,
    "start_time": "2024-09-17T12:03:43.825Z"
   },
   {
    "duration": 146,
    "start_time": "2024-09-17T12:03:59.473Z"
   },
   {
    "duration": 116,
    "start_time": "2024-09-17T12:04:39.928Z"
   },
   {
    "duration": 8,
    "start_time": "2024-09-17T12:05:50.639Z"
   },
   {
    "duration": 12,
    "start_time": "2024-09-17T12:07:05.454Z"
   },
   {
    "duration": 6,
    "start_time": "2024-09-17T12:28:16.984Z"
   },
   {
    "duration": 4,
    "start_time": "2024-09-17T12:28:22.648Z"
   },
   {
    "duration": 15,
    "start_time": "2024-09-17T12:29:15.685Z"
   },
   {
    "duration": 5,
    "start_time": "2024-09-17T12:29:26.590Z"
   },
   {
    "duration": 1316,
    "start_time": "2024-09-18T14:10:06.587Z"
   },
   {
    "duration": 342,
    "start_time": "2024-09-18T14:10:07.905Z"
   },
   {
    "duration": 21,
    "start_time": "2024-09-18T14:10:08.249Z"
   },
   {
    "duration": 32,
    "start_time": "2024-09-18T14:10:08.272Z"
   },
   {
    "duration": 14,
    "start_time": "2024-09-18T14:10:08.306Z"
   },
   {
    "duration": 11,
    "start_time": "2024-09-18T14:10:08.322Z"
   },
   {
    "duration": 11,
    "start_time": "2024-09-18T14:10:08.335Z"
   },
   {
    "duration": 7,
    "start_time": "2024-09-18T14:10:08.348Z"
   },
   {
    "duration": 8,
    "start_time": "2024-09-18T14:10:08.356Z"
   },
   {
    "duration": 5,
    "start_time": "2024-09-18T14:10:08.368Z"
   },
   {
    "duration": 13,
    "start_time": "2024-09-18T14:10:08.375Z"
   },
   {
    "duration": 7,
    "start_time": "2024-09-18T14:10:08.390Z"
   },
   {
    "duration": 7,
    "start_time": "2024-09-18T14:10:08.425Z"
   },
   {
    "duration": 234,
    "start_time": "2024-09-18T14:10:08.434Z"
   },
   {
    "duration": 9,
    "start_time": "2024-09-18T14:10:08.669Z"
   },
   {
    "duration": 96,
    "start_time": "2024-09-18T14:10:08.679Z"
   },
   {
    "duration": 5,
    "start_time": "2024-09-18T14:10:08.776Z"
   },
   {
    "duration": 156,
    "start_time": "2024-09-18T14:10:08.783Z"
   },
   {
    "duration": 8,
    "start_time": "2024-09-18T14:10:08.940Z"
   },
   {
    "duration": 197,
    "start_time": "2024-09-18T14:10:08.950Z"
   },
   {
    "duration": 8,
    "start_time": "2024-09-18T14:10:09.148Z"
   },
   {
    "duration": 150,
    "start_time": "2024-09-18T14:10:09.158Z"
   },
   {
    "duration": 19,
    "start_time": "2024-09-18T14:10:09.309Z"
   },
   {
    "duration": 10,
    "start_time": "2024-09-18T14:10:09.330Z"
   },
   {
    "duration": 18,
    "start_time": "2024-09-18T14:10:09.342Z"
   },
   {
    "duration": 15,
    "start_time": "2024-09-18T14:10:09.362Z"
   },
   {
    "duration": 9,
    "start_time": "2024-09-18T14:10:09.378Z"
   },
   {
    "duration": 41,
    "start_time": "2024-09-18T14:10:09.391Z"
   },
   {
    "duration": 6,
    "start_time": "2024-09-18T14:10:09.433Z"
   },
   {
    "duration": 6,
    "start_time": "2024-09-18T14:10:09.441Z"
   },
   {
    "duration": 6,
    "start_time": "2024-09-18T14:10:09.449Z"
   },
   {
    "duration": 254,
    "start_time": "2024-09-18T14:10:09.457Z"
   },
   {
    "duration": 201,
    "start_time": "2024-09-18T14:10:09.712Z"
   },
   {
    "duration": 5,
    "start_time": "2024-09-18T14:10:09.915Z"
   },
   {
    "duration": 36,
    "start_time": "2024-09-18T14:10:09.925Z"
   },
   {
    "duration": 64,
    "start_time": "2024-09-18T14:10:09.962Z"
   },
   {
    "duration": 43,
    "start_time": "2024-09-18T14:10:10.027Z"
   },
   {
    "duration": 278,
    "start_time": "2024-09-18T14:10:10.072Z"
   },
   {
    "duration": 5,
    "start_time": "2024-09-18T14:10:10.352Z"
   },
   {
    "duration": 6,
    "start_time": "2024-09-18T14:10:10.359Z"
   },
   {
    "duration": 7,
    "start_time": "2024-09-18T14:10:10.367Z"
   },
   {
    "duration": 4,
    "start_time": "2024-09-18T14:10:10.376Z"
   },
   {
    "duration": 9,
    "start_time": "2024-09-18T14:10:10.381Z"
   },
   {
    "duration": 36,
    "start_time": "2024-09-18T14:10:10.392Z"
   },
   {
    "duration": 1507,
    "start_time": "2024-09-18T14:10:10.429Z"
   },
   {
    "duration": 208,
    "start_time": "2024-09-18T14:10:11.938Z"
   },
   {
    "duration": 6,
    "start_time": "2024-09-18T14:10:12.147Z"
   },
   {
    "duration": 1006,
    "start_time": "2024-09-18T15:31:16.075Z"
   },
   {
    "duration": 67,
    "start_time": "2024-09-18T15:31:17.083Z"
   },
   {
    "duration": 19,
    "start_time": "2024-09-18T15:31:17.151Z"
   },
   {
    "duration": 15,
    "start_time": "2024-09-18T15:31:17.172Z"
   },
   {
    "duration": 13,
    "start_time": "2024-09-18T15:31:17.188Z"
   },
   {
    "duration": 6,
    "start_time": "2024-09-18T15:31:17.202Z"
   },
   {
    "duration": 6,
    "start_time": "2024-09-18T15:31:17.225Z"
   },
   {
    "duration": 6,
    "start_time": "2024-09-18T15:31:17.232Z"
   },
   {
    "duration": 6,
    "start_time": "2024-09-18T15:31:17.239Z"
   },
   {
    "duration": 3,
    "start_time": "2024-09-18T15:31:17.248Z"
   },
   {
    "duration": 9,
    "start_time": "2024-09-18T15:31:17.252Z"
   },
   {
    "duration": 5,
    "start_time": "2024-09-18T15:31:17.262Z"
   },
   {
    "duration": 7,
    "start_time": "2024-09-18T15:31:17.268Z"
   },
   {
    "duration": 206,
    "start_time": "2024-09-18T15:31:17.276Z"
   },
   {
    "duration": 9,
    "start_time": "2024-09-18T15:31:17.483Z"
   },
   {
    "duration": 78,
    "start_time": "2024-09-18T15:31:17.493Z"
   },
   {
    "duration": 4,
    "start_time": "2024-09-18T15:31:17.573Z"
   },
   {
    "duration": 121,
    "start_time": "2024-09-18T15:31:17.578Z"
   },
   {
    "duration": 7,
    "start_time": "2024-09-18T15:31:17.700Z"
   },
   {
    "duration": 168,
    "start_time": "2024-09-18T15:31:17.708Z"
   },
   {
    "duration": 6,
    "start_time": "2024-09-18T15:31:17.878Z"
   },
   {
    "duration": 125,
    "start_time": "2024-09-18T15:31:17.885Z"
   },
   {
    "duration": 17,
    "start_time": "2024-09-18T15:31:18.012Z"
   },
   {
    "duration": 9,
    "start_time": "2024-09-18T15:31:18.031Z"
   },
   {
    "duration": 17,
    "start_time": "2024-09-18T15:31:18.041Z"
   },
   {
    "duration": 12,
    "start_time": "2024-09-18T15:31:18.059Z"
   },
   {
    "duration": 7,
    "start_time": "2024-09-18T15:31:18.073Z"
   },
   {
    "duration": 45,
    "start_time": "2024-09-18T15:31:18.083Z"
   },
   {
    "duration": 6,
    "start_time": "2024-09-18T15:31:18.130Z"
   },
   {
    "duration": 5,
    "start_time": "2024-09-18T15:31:18.137Z"
   },
   {
    "duration": 5,
    "start_time": "2024-09-18T15:31:18.143Z"
   },
   {
    "duration": 196,
    "start_time": "2024-09-18T15:31:18.150Z"
   },
   {
    "duration": 188,
    "start_time": "2024-09-18T15:31:18.347Z"
   },
   {
    "duration": 4,
    "start_time": "2024-09-18T15:31:18.537Z"
   },
   {
    "duration": 5,
    "start_time": "2024-09-18T15:31:18.543Z"
   },
   {
    "duration": 44,
    "start_time": "2024-09-18T15:31:18.550Z"
   },
   {
    "duration": 39,
    "start_time": "2024-09-18T15:31:18.595Z"
   },
   {
    "duration": 209,
    "start_time": "2024-09-18T15:31:18.635Z"
   },
   {
    "duration": 5,
    "start_time": "2024-09-18T15:31:18.846Z"
   },
   {
    "duration": 4,
    "start_time": "2024-09-18T15:31:18.852Z"
   },
   {
    "duration": 11,
    "start_time": "2024-09-18T15:31:18.858Z"
   },
   {
    "duration": 12,
    "start_time": "2024-09-18T15:31:18.870Z"
   },
   {
    "duration": 9,
    "start_time": "2024-09-18T15:31:18.884Z"
   },
   {
    "duration": 31,
    "start_time": "2024-09-18T15:31:18.895Z"
   },
   {
    "duration": 1453,
    "start_time": "2024-09-18T15:31:18.927Z"
   },
   {
    "duration": 95,
    "start_time": "2024-09-18T15:31:20.382Z"
   },
   {
    "duration": 5,
    "start_time": "2024-09-18T15:31:20.479Z"
   },
   {
    "duration": 1084,
    "start_time": "2024-09-18T15:33:50.700Z"
   },
   {
    "duration": 68,
    "start_time": "2024-09-18T15:33:51.786Z"
   },
   {
    "duration": 19,
    "start_time": "2024-09-18T15:33:51.856Z"
   },
   {
    "duration": 17,
    "start_time": "2024-09-18T15:33:51.877Z"
   },
   {
    "duration": 12,
    "start_time": "2024-09-18T15:33:51.896Z"
   },
   {
    "duration": 20,
    "start_time": "2024-09-18T15:33:51.910Z"
   },
   {
    "duration": 16,
    "start_time": "2024-09-18T15:33:51.932Z"
   },
   {
    "duration": 23,
    "start_time": "2024-09-18T15:33:51.949Z"
   },
   {
    "duration": 22,
    "start_time": "2024-09-18T15:33:51.974Z"
   },
   {
    "duration": 19,
    "start_time": "2024-09-18T15:33:51.998Z"
   },
   {
    "duration": 15,
    "start_time": "2024-09-18T15:33:52.018Z"
   },
   {
    "duration": 5,
    "start_time": "2024-09-18T15:33:52.034Z"
   },
   {
    "duration": 5,
    "start_time": "2024-09-18T15:33:52.040Z"
   },
   {
    "duration": 197,
    "start_time": "2024-09-18T15:33:52.048Z"
   },
   {
    "duration": 8,
    "start_time": "2024-09-18T15:33:52.247Z"
   },
   {
    "duration": 103,
    "start_time": "2024-09-18T15:33:52.256Z"
   },
   {
    "duration": 5,
    "start_time": "2024-09-18T15:33:52.360Z"
   },
   {
    "duration": 206,
    "start_time": "2024-09-18T15:33:52.366Z"
   },
   {
    "duration": 7,
    "start_time": "2024-09-18T15:33:52.574Z"
   },
   {
    "duration": 168,
    "start_time": "2024-09-18T15:33:52.582Z"
   },
   {
    "duration": 6,
    "start_time": "2024-09-18T15:33:52.752Z"
   },
   {
    "duration": 133,
    "start_time": "2024-09-18T15:33:52.759Z"
   },
   {
    "duration": 10,
    "start_time": "2024-09-18T15:33:52.894Z"
   },
   {
    "duration": 22,
    "start_time": "2024-09-18T15:33:52.905Z"
   },
   {
    "duration": 16,
    "start_time": "2024-09-18T15:33:52.929Z"
   },
   {
    "duration": 55,
    "start_time": "2024-09-18T15:33:52.946Z"
   },
   {
    "duration": 12,
    "start_time": "2024-09-18T15:33:53.002Z"
   },
   {
    "duration": 64,
    "start_time": "2024-09-18T15:33:53.015Z"
   },
   {
    "duration": 7,
    "start_time": "2024-09-18T15:33:53.080Z"
   },
   {
    "duration": 7,
    "start_time": "2024-09-18T15:33:53.088Z"
   },
   {
    "duration": 5,
    "start_time": "2024-09-18T15:33:53.097Z"
   },
   {
    "duration": 176,
    "start_time": "2024-09-18T15:33:53.104Z"
   },
   {
    "duration": 187,
    "start_time": "2024-09-18T15:33:53.281Z"
   },
   {
    "duration": 4,
    "start_time": "2024-09-18T15:33:53.469Z"
   },
   {
    "duration": 3,
    "start_time": "2024-09-18T15:33:53.475Z"
   },
   {
    "duration": 61,
    "start_time": "2024-09-18T15:33:53.479Z"
   },
   {
    "duration": 28,
    "start_time": "2024-09-18T15:33:53.541Z"
   },
   {
    "duration": 211,
    "start_time": "2024-09-18T15:33:53.571Z"
   },
   {
    "duration": 5,
    "start_time": "2024-09-18T15:33:53.784Z"
   },
   {
    "duration": 4,
    "start_time": "2024-09-18T15:33:53.791Z"
   },
   {
    "duration": 4,
    "start_time": "2024-09-18T15:33:53.799Z"
   },
   {
    "duration": 25,
    "start_time": "2024-09-18T15:33:53.804Z"
   },
   {
    "duration": 10,
    "start_time": "2024-09-18T15:33:53.830Z"
   },
   {
    "duration": 13,
    "start_time": "2024-09-18T15:33:53.842Z"
   },
   {
    "duration": 1323,
    "start_time": "2024-09-18T15:33:53.857Z"
   },
   {
    "duration": 113,
    "start_time": "2024-09-18T15:33:55.182Z"
   },
   {
    "duration": 5,
    "start_time": "2024-09-18T15:33:55.297Z"
   },
   {
    "duration": 1240,
    "start_time": "2024-09-19T11:38:14.590Z"
   },
   {
    "duration": 369,
    "start_time": "2024-09-19T11:38:15.832Z"
   },
   {
    "duration": 21,
    "start_time": "2024-09-19T11:38:16.202Z"
   },
   {
    "duration": 30,
    "start_time": "2024-09-19T11:38:16.225Z"
   },
   {
    "duration": 32,
    "start_time": "2024-09-19T11:38:16.256Z"
   },
   {
    "duration": 15,
    "start_time": "2024-09-19T11:38:16.290Z"
   },
   {
    "duration": 6,
    "start_time": "2024-09-19T11:38:16.306Z"
   },
   {
    "duration": 28,
    "start_time": "2024-09-19T11:38:16.313Z"
   },
   {
    "duration": 13,
    "start_time": "2024-09-19T11:38:16.343Z"
   },
   {
    "duration": 4,
    "start_time": "2024-09-19T11:38:16.358Z"
   },
   {
    "duration": 25,
    "start_time": "2024-09-19T11:38:16.363Z"
   },
   {
    "duration": 9,
    "start_time": "2024-09-19T11:38:19.549Z"
   },
   {
    "duration": 5,
    "start_time": "2024-09-19T11:38:31.896Z"
   },
   {
    "duration": 5,
    "start_time": "2024-09-19T11:38:34.269Z"
   },
   {
    "duration": 163,
    "start_time": "2024-09-19T11:41:24.933Z"
   },
   {
    "duration": 103,
    "start_time": "2024-09-19T11:46:16.097Z"
   },
   {
    "duration": 152,
    "start_time": "2024-09-19T11:46:43.625Z"
   },
   {
    "duration": 161,
    "start_time": "2024-09-19T11:48:54.439Z"
   },
   {
    "duration": 186,
    "start_time": "2024-09-19T11:49:52.534Z"
   },
   {
    "duration": 156,
    "start_time": "2024-09-19T11:55:35.898Z"
   },
   {
    "duration": 325,
    "start_time": "2024-09-19T11:56:33.193Z"
   },
   {
    "duration": 317,
    "start_time": "2024-09-19T11:58:05.017Z"
   },
   {
    "duration": 10,
    "start_time": "2024-09-19T11:59:27.415Z"
   },
   {
    "duration": 392,
    "start_time": "2024-09-19T11:59:41.951Z"
   },
   {
    "duration": 313,
    "start_time": "2024-09-19T12:00:38.423Z"
   },
   {
    "duration": 330,
    "start_time": "2024-09-19T12:01:36.493Z"
   },
   {
    "duration": 339,
    "start_time": "2024-09-19T12:05:14.578Z"
   },
   {
    "duration": 331,
    "start_time": "2024-09-19T12:06:42.882Z"
   },
   {
    "duration": 453,
    "start_time": "2024-09-19T12:07:28.145Z"
   },
   {
    "duration": 21,
    "start_time": "2024-09-19T12:11:44.173Z"
   },
   {
    "duration": 9,
    "start_time": "2024-09-19T12:12:45.092Z"
   },
   {
    "duration": 324,
    "start_time": "2024-09-19T12:16:00.355Z"
   },
   {
    "duration": 351,
    "start_time": "2024-09-19T12:16:33.563Z"
   },
   {
    "duration": 337,
    "start_time": "2024-09-19T12:17:06.417Z"
   },
   {
    "duration": 359,
    "start_time": "2024-09-19T12:17:32.354Z"
   },
   {
    "duration": 12,
    "start_time": "2024-09-19T12:26:21.720Z"
   },
   {
    "duration": 8,
    "start_time": "2024-09-19T12:27:42.010Z"
   },
   {
    "duration": 8,
    "start_time": "2024-09-19T12:28:13.073Z"
   },
   {
    "duration": 7,
    "start_time": "2024-09-19T12:28:25.017Z"
   },
   {
    "duration": 7,
    "start_time": "2024-09-19T12:28:42.345Z"
   },
   {
    "duration": 7,
    "start_time": "2024-09-19T12:28:49.953Z"
   },
   {
    "duration": 4,
    "start_time": "2024-09-19T12:29:44.369Z"
   },
   {
    "duration": 5,
    "start_time": "2024-09-19T12:30:01.385Z"
   },
   {
    "duration": 4,
    "start_time": "2024-09-19T12:32:12.199Z"
   },
   {
    "duration": 5,
    "start_time": "2024-09-19T12:32:43.029Z"
   },
   {
    "duration": 127,
    "start_time": "2024-09-19T12:34:37.029Z"
   },
   {
    "duration": 30,
    "start_time": "2024-09-19T12:35:05.580Z"
   },
   {
    "duration": 1270,
    "start_time": "2024-09-19T19:29:46.851Z"
   },
   {
    "duration": 350,
    "start_time": "2024-09-19T19:29:48.123Z"
   },
   {
    "duration": 20,
    "start_time": "2024-09-19T19:29:48.475Z"
   },
   {
    "duration": 17,
    "start_time": "2024-09-19T19:29:48.496Z"
   },
   {
    "duration": 62,
    "start_time": "2024-09-19T19:29:48.515Z"
   },
   {
    "duration": 8,
    "start_time": "2024-09-19T19:29:48.578Z"
   },
   {
    "duration": 5,
    "start_time": "2024-09-19T19:29:48.588Z"
   },
   {
    "duration": 83,
    "start_time": "2024-09-19T19:29:48.594Z"
   },
   {
    "duration": 28,
    "start_time": "2024-09-19T19:29:48.678Z"
   },
   {
    "duration": 6,
    "start_time": "2024-09-19T19:29:48.709Z"
   },
   {
    "duration": 4,
    "start_time": "2024-09-19T19:29:48.717Z"
   },
   {
    "duration": 6,
    "start_time": "2024-09-19T19:29:48.722Z"
   },
   {
    "duration": 8,
    "start_time": "2024-09-19T19:29:48.729Z"
   },
   {
    "duration": 14,
    "start_time": "2024-09-19T19:29:48.739Z"
   },
   {
    "duration": 5,
    "start_time": "2024-09-19T19:29:48.754Z"
   },
   {
    "duration": 75,
    "start_time": "2024-09-19T19:29:48.760Z"
   },
   {
    "duration": 196,
    "start_time": "2024-09-19T19:29:48.836Z"
   },
   {
    "duration": 18,
    "start_time": "2024-09-19T19:29:49.034Z"
   },
   {
    "duration": 73,
    "start_time": "2024-09-19T19:29:49.054Z"
   },
   {
    "duration": 5,
    "start_time": "2024-09-19T19:29:49.128Z"
   },
   {
    "duration": 22,
    "start_time": "2024-09-19T19:29:49.135Z"
   },
   {
    "duration": 326,
    "start_time": "2024-09-19T19:29:49.158Z"
   },
   {
    "duration": 328,
    "start_time": "2024-09-19T19:29:49.485Z"
   },
   {
    "duration": 7,
    "start_time": "2024-09-19T19:29:49.815Z"
   },
   {
    "duration": 211,
    "start_time": "2024-09-19T19:29:49.823Z"
   },
   {
    "duration": 20,
    "start_time": "2024-09-19T19:29:50.035Z"
   },
   {
    "duration": 8,
    "start_time": "2024-09-19T19:29:50.057Z"
   },
   {
    "duration": 9,
    "start_time": "2024-09-19T19:29:50.068Z"
   },
   {
    "duration": 17,
    "start_time": "2024-09-19T19:29:50.079Z"
   },
   {
    "duration": 13,
    "start_time": "2024-09-19T19:29:50.097Z"
   },
   {
    "duration": 8,
    "start_time": "2024-09-19T19:29:50.111Z"
   },
   {
    "duration": 55,
    "start_time": "2024-09-19T19:29:50.121Z"
   },
   {
    "duration": 6,
    "start_time": "2024-09-19T19:29:50.177Z"
   },
   {
    "duration": 5,
    "start_time": "2024-09-19T19:29:50.185Z"
   },
   {
    "duration": 10,
    "start_time": "2024-09-19T19:29:50.191Z"
   },
   {
    "duration": 201,
    "start_time": "2024-09-19T19:29:50.202Z"
   },
   {
    "duration": 198,
    "start_time": "2024-09-19T19:29:50.405Z"
   },
   {
    "duration": 5,
    "start_time": "2024-09-19T19:29:50.604Z"
   },
   {
    "duration": 69,
    "start_time": "2024-09-19T19:29:50.610Z"
   },
   {
    "duration": 44,
    "start_time": "2024-09-19T19:29:50.680Z"
   },
   {
    "duration": 28,
    "start_time": "2024-09-19T19:29:50.726Z"
   },
   {
    "duration": 202,
    "start_time": "2024-09-19T19:29:50.756Z"
   },
   {
    "duration": 5,
    "start_time": "2024-09-19T19:29:50.960Z"
   },
   {
    "duration": 42,
    "start_time": "2024-09-19T19:29:50.966Z"
   },
   {
    "duration": 15,
    "start_time": "2024-09-19T19:29:51.010Z"
   },
   {
    "duration": 9,
    "start_time": "2024-09-19T19:29:51.027Z"
   },
   {
    "duration": 10,
    "start_time": "2024-09-19T19:29:51.038Z"
   },
   {
    "duration": 6,
    "start_time": "2024-09-19T19:29:51.049Z"
   },
   {
    "duration": 1452,
    "start_time": "2024-09-19T19:29:51.056Z"
   },
   {
    "duration": 94,
    "start_time": "2024-09-19T19:29:52.509Z"
   },
   {
    "duration": 5,
    "start_time": "2024-09-19T19:29:52.604Z"
   },
   {
    "duration": 1132,
    "start_time": "2024-09-19T19:58:35.838Z"
   },
   {
    "duration": 72,
    "start_time": "2024-09-19T19:58:36.972Z"
   },
   {
    "duration": 20,
    "start_time": "2024-09-19T19:58:37.045Z"
   },
   {
    "duration": 17,
    "start_time": "2024-09-19T19:58:37.067Z"
   },
   {
    "duration": 15,
    "start_time": "2024-09-19T19:58:37.085Z"
   },
   {
    "duration": 8,
    "start_time": "2024-09-19T19:58:37.102Z"
   },
   {
    "duration": 18,
    "start_time": "2024-09-19T19:58:37.112Z"
   },
   {
    "duration": 24,
    "start_time": "2024-09-19T19:58:37.131Z"
   },
   {
    "duration": 27,
    "start_time": "2024-09-19T19:58:37.157Z"
   },
   {
    "duration": 10,
    "start_time": "2024-09-19T19:58:37.187Z"
   },
   {
    "duration": 5,
    "start_time": "2024-09-19T19:58:37.198Z"
   },
   {
    "duration": 6,
    "start_time": "2024-09-19T19:58:37.204Z"
   },
   {
    "duration": 8,
    "start_time": "2024-09-19T19:58:37.211Z"
   },
   {
    "duration": 34,
    "start_time": "2024-09-19T19:58:37.221Z"
   },
   {
    "duration": 5,
    "start_time": "2024-09-19T19:58:37.257Z"
   },
   {
    "duration": 8,
    "start_time": "2024-09-19T19:58:37.263Z"
   },
   {
    "duration": 211,
    "start_time": "2024-09-19T19:58:37.272Z"
   },
   {
    "duration": 8,
    "start_time": "2024-09-19T19:58:37.485Z"
   },
   {
    "duration": 83,
    "start_time": "2024-09-19T19:58:37.495Z"
   },
   {
    "duration": 5,
    "start_time": "2024-09-19T19:58:37.580Z"
   },
   {
    "duration": 9,
    "start_time": "2024-09-19T19:58:37.586Z"
   },
   {
    "duration": 338,
    "start_time": "2024-09-19T19:58:37.596Z"
   },
   {
    "duration": 340,
    "start_time": "2024-09-19T19:58:37.935Z"
   },
   {
    "duration": 7,
    "start_time": "2024-09-19T19:58:38.277Z"
   },
   {
    "duration": 136,
    "start_time": "2024-09-19T19:58:38.285Z"
   },
   {
    "duration": 8,
    "start_time": "2024-09-19T19:58:38.423Z"
   },
   {
    "duration": 25,
    "start_time": "2024-09-19T19:58:38.432Z"
   },
   {
    "duration": 9,
    "start_time": "2024-09-19T19:58:38.461Z"
   },
   {
    "duration": 20,
    "start_time": "2024-09-19T19:58:38.471Z"
   },
   {
    "duration": 12,
    "start_time": "2024-09-19T19:58:38.493Z"
   },
   {
    "duration": 62,
    "start_time": "2024-09-19T19:58:38.507Z"
   },
   {
    "duration": 13,
    "start_time": "2024-09-19T19:58:38.571Z"
   },
   {
    "duration": 6,
    "start_time": "2024-09-19T19:58:38.585Z"
   },
   {
    "duration": 52,
    "start_time": "2024-09-19T19:58:38.592Z"
   },
   {
    "duration": 5,
    "start_time": "2024-09-19T19:58:38.646Z"
   },
   {
    "duration": 260,
    "start_time": "2024-09-19T19:58:38.652Z"
   },
   {
    "duration": 190,
    "start_time": "2024-09-19T19:58:38.913Z"
   },
   {
    "duration": 5,
    "start_time": "2024-09-19T19:58:39.105Z"
   },
   {
    "duration": 4,
    "start_time": "2024-09-19T19:58:39.111Z"
   },
   {
    "duration": 62,
    "start_time": "2024-09-19T19:58:39.116Z"
   },
   {
    "duration": 28,
    "start_time": "2024-09-19T19:58:39.179Z"
   },
   {
    "duration": 214,
    "start_time": "2024-09-19T19:58:39.209Z"
   },
   {
    "duration": 5,
    "start_time": "2024-09-19T19:58:39.424Z"
   },
   {
    "duration": 26,
    "start_time": "2024-09-19T19:58:39.430Z"
   },
   {
    "duration": 5,
    "start_time": "2024-09-19T19:58:39.457Z"
   },
   {
    "duration": 5,
    "start_time": "2024-09-19T19:58:39.463Z"
   },
   {
    "duration": 9,
    "start_time": "2024-09-19T19:58:39.469Z"
   },
   {
    "duration": 4,
    "start_time": "2024-09-19T19:58:39.479Z"
   },
   {
    "duration": 1475,
    "start_time": "2024-09-19T19:58:39.485Z"
   },
   {
    "duration": 95,
    "start_time": "2024-09-19T19:58:40.961Z"
   },
   {
    "duration": 5,
    "start_time": "2024-09-19T19:58:41.058Z"
   }
  ],
  "kernelspec": {
   "display_name": "Python 3 (ipykernel)",
   "language": "python",
   "name": "python3"
  },
  "language_info": {
   "codemirror_mode": {
    "name": "ipython",
    "version": 3
   },
   "file_extension": ".py",
   "mimetype": "text/x-python",
   "name": "python",
   "nbconvert_exporter": "python",
   "pygments_lexer": "ipython3",
   "version": "3.9.5"
  },
  "toc": {
   "base_numbering": 1,
   "nav_menu": {},
   "number_sections": true,
   "sideBar": true,
   "skip_h1_title": true,
   "title_cell": "Table of Contents",
   "title_sidebar": "Contents",
   "toc_cell": false,
   "toc_position": {},
   "toc_section_display": true,
   "toc_window_display": false
  }
 },
 "nbformat": 4,
 "nbformat_minor": 5
}
