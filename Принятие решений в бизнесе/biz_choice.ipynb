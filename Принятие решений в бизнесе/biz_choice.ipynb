{
 "cells": [
  {
   "cell_type": "markdown",
   "metadata": {},
   "source": [
    "# Введение"
   ]
  },
  {
   "cell_type": "markdown",
   "metadata": {},
   "source": [
    "Перед нами, как аналитиком интернет-магазина, поставлена задача увеличить выручку. Для этого были выдвинуты несколько предложений, которые нужно рассмотреть, провести А/В тест и по результатам принять решение.\n",
    "\n",
    "    \n",
    "Для работы предоставлены выгрузки: \"/datasets/hypothesis.csv\", где лежат 9 гипотез по увеличению выручки интернет-магазина, \"/datasets/orders.csv\" - здесь лежат сведения о покупках, \"/datasets/visitors.csv\" - здесь о покупателях.\n",
    "    \n",
    "Для проведения анализа сперва нужно будет выгрузить файлы в рабочие фреймы, исследовать на наличие дублей и пропусков, ознакомиться со списком гипотез.\n",
    "    \n",
    "Затем нужно будет разбить данные по группам, соответственно А и В, и провести сравнительный анализ по обычным, средним и кумулятивным параметрам,как: вычисление выручки и относительного изменения её в группах относительно друг друга, заказов и опять же относительного изменения внутри групп, а также поиска выбросов и аномалий в данных.\n",
    "    \n",
    "Затем нужно будет посчитать перцентили, выяснить статистическую значимость различий в параметрах и рассмотреть последовательно несколько сравнений по группам.\n",
    "    \n",
    "В итоге нужно установить - стоит продолжать тест или нет, какая группа получила преимущество и какие варианты решений внутри матрицы гипотез RICE следует выбрать."
   ]
  },
  {
   "cell_type": "markdown",
   "metadata": {},
   "source": [
    "# Подготовка данных"
   ]
  },
  {
   "cell_type": "code",
   "execution_count": 1,
   "metadata": {},
   "outputs": [],
   "source": [
    "# импорт рабочих модулей\n",
    "import pandas as pd\n",
    "import numpy as np\n",
    "import datetime as dt\n",
    "import matplotlib.pyplot as plt\n",
    "import scipy.stats as stats"
   ]
  },
  {
   "cell_type": "code",
   "execution_count": 2,
   "metadata": {},
   "outputs": [],
   "source": [
    "# зададим единый размер для всех графиков\n",
    "plt.rcParams['figure.figsize'] = [20, 8]"
   ]
  },
  {
   "cell_type": "code",
   "execution_count": 3,
   "metadata": {},
   "outputs": [],
   "source": [
    "# импорт датасетов в рабочие фреймы\n",
    "\n",
    "#список гипотез с номером и удельными весами\n",
    "hypo = pd.read_csv('/datasets/hypothesis.csv', sep=',')\n",
    "\n",
    "#список заказов\n",
    "orders = pd.read_csv('/datasets/orders.csv', sep=',')\n",
    "\n",
    "#список покупателей\n",
    "visitors = pd.read_csv('/datasets/visitors.csv', sep=',')"
   ]
  },
  {
   "cell_type": "markdown",
   "metadata": {},
   "source": [
    "<div class=\"alert alert-block alert-info\">\n",
    "<b>V1</b>\n",
    "Рассмотрим получившиеся фреймы, проверим на пропуски и ошибки.  \n",
    "</div>"
   ]
  },
  {
   "cell_type": "code",
   "execution_count": 4,
   "metadata": {},
   "outputs": [
    {
     "data": {
      "text/html": [
       "<div>\n",
       "<style scoped>\n",
       "    .dataframe tbody tr th:only-of-type {\n",
       "        vertical-align: middle;\n",
       "    }\n",
       "\n",
       "    .dataframe tbody tr th {\n",
       "        vertical-align: top;\n",
       "    }\n",
       "\n",
       "    .dataframe thead th {\n",
       "        text-align: right;\n",
       "    }\n",
       "</style>\n",
       "<table border=\"1\" class=\"dataframe\">\n",
       "  <thead>\n",
       "    <tr style=\"text-align: right;\">\n",
       "      <th></th>\n",
       "      <th>Hypothesis</th>\n",
       "      <th>Reach</th>\n",
       "      <th>Impact</th>\n",
       "      <th>Confidence</th>\n",
       "      <th>Efforts</th>\n",
       "    </tr>\n",
       "  </thead>\n",
       "  <tbody>\n",
       "    <tr>\n",
       "      <th>0</th>\n",
       "      <td>Добавить два новых канала привлечения трафика,...</td>\n",
       "      <td>3</td>\n",
       "      <td>10</td>\n",
       "      <td>8</td>\n",
       "      <td>6</td>\n",
       "    </tr>\n",
       "    <tr>\n",
       "      <th>1</th>\n",
       "      <td>Запустить собственную службу доставки, что сок...</td>\n",
       "      <td>2</td>\n",
       "      <td>5</td>\n",
       "      <td>4</td>\n",
       "      <td>10</td>\n",
       "    </tr>\n",
       "    <tr>\n",
       "      <th>2</th>\n",
       "      <td>Добавить блоки рекомендаций товаров на сайт ин...</td>\n",
       "      <td>8</td>\n",
       "      <td>3</td>\n",
       "      <td>7</td>\n",
       "      <td>3</td>\n",
       "    </tr>\n",
       "  </tbody>\n",
       "</table>\n",
       "</div>"
      ],
      "text/plain": [
       "                                          Hypothesis  Reach  Impact  \\\n",
       "0  Добавить два новых канала привлечения трафика,...      3      10   \n",
       "1  Запустить собственную службу доставки, что сок...      2       5   \n",
       "2  Добавить блоки рекомендаций товаров на сайт ин...      8       3   \n",
       "\n",
       "   Confidence  Efforts  \n",
       "0           8        6  \n",
       "1           4       10  \n",
       "2           7        3  "
      ]
     },
     "metadata": {},
     "output_type": "display_data"
    },
    {
     "name": "stdout",
     "output_type": "stream",
     "text": [
      "<class 'pandas.core.frame.DataFrame'>\n",
      "RangeIndex: 9 entries, 0 to 8\n",
      "Data columns (total 5 columns):\n",
      " #   Column      Non-Null Count  Dtype \n",
      "---  ------      --------------  ----- \n",
      " 0   Hypothesis  9 non-null      object\n",
      " 1   Reach       9 non-null      int64 \n",
      " 2   Impact      9 non-null      int64 \n",
      " 3   Confidence  9 non-null      int64 \n",
      " 4   Efforts     9 non-null      int64 \n",
      "dtypes: int64(4), object(1)\n",
      "memory usage: 488.0+ bytes\n"
     ]
    },
    {
     "data": {
      "text/plain": [
       "None"
      ]
     },
     "metadata": {},
     "output_type": "display_data"
    },
    {
     "name": "stdout",
     "output_type": "stream",
     "text": [
      "0 Hypothesis    0\n",
      "Reach         0\n",
      "Impact        0\n",
      "Confidence    0\n",
      "Efforts       0\n",
      "dtype: int64\n"
     ]
    },
    {
     "data": {
      "text/html": [
       "<div>\n",
       "<style scoped>\n",
       "    .dataframe tbody tr th:only-of-type {\n",
       "        vertical-align: middle;\n",
       "    }\n",
       "\n",
       "    .dataframe tbody tr th {\n",
       "        vertical-align: top;\n",
       "    }\n",
       "\n",
       "    .dataframe thead th {\n",
       "        text-align: right;\n",
       "    }\n",
       "</style>\n",
       "<table border=\"1\" class=\"dataframe\">\n",
       "  <thead>\n",
       "    <tr style=\"text-align: right;\">\n",
       "      <th></th>\n",
       "      <th>transactionId</th>\n",
       "      <th>visitorId</th>\n",
       "      <th>date</th>\n",
       "      <th>revenue</th>\n",
       "      <th>group</th>\n",
       "    </tr>\n",
       "  </thead>\n",
       "  <tbody>\n",
       "    <tr>\n",
       "      <th>0</th>\n",
       "      <td>3667963787</td>\n",
       "      <td>3312258926</td>\n",
       "      <td>2019-08-15</td>\n",
       "      <td>1650</td>\n",
       "      <td>B</td>\n",
       "    </tr>\n",
       "    <tr>\n",
       "      <th>1</th>\n",
       "      <td>2804400009</td>\n",
       "      <td>3642806036</td>\n",
       "      <td>2019-08-15</td>\n",
       "      <td>730</td>\n",
       "      <td>B</td>\n",
       "    </tr>\n",
       "    <tr>\n",
       "      <th>2</th>\n",
       "      <td>2961555356</td>\n",
       "      <td>4069496402</td>\n",
       "      <td>2019-08-15</td>\n",
       "      <td>400</td>\n",
       "      <td>A</td>\n",
       "    </tr>\n",
       "  </tbody>\n",
       "</table>\n",
       "</div>"
      ],
      "text/plain": [
       "   transactionId   visitorId        date  revenue group\n",
       "0     3667963787  3312258926  2019-08-15     1650     B\n",
       "1     2804400009  3642806036  2019-08-15      730     B\n",
       "2     2961555356  4069496402  2019-08-15      400     A"
      ]
     },
     "metadata": {},
     "output_type": "display_data"
    },
    {
     "name": "stdout",
     "output_type": "stream",
     "text": [
      "<class 'pandas.core.frame.DataFrame'>\n",
      "RangeIndex: 1197 entries, 0 to 1196\n",
      "Data columns (total 5 columns):\n",
      " #   Column         Non-Null Count  Dtype \n",
      "---  ------         --------------  ----- \n",
      " 0   transactionId  1197 non-null   int64 \n",
      " 1   visitorId      1197 non-null   int64 \n",
      " 2   date           1197 non-null   object\n",
      " 3   revenue        1197 non-null   int64 \n",
      " 4   group          1197 non-null   object\n",
      "dtypes: int64(3), object(2)\n",
      "memory usage: 46.9+ KB\n"
     ]
    },
    {
     "data": {
      "text/plain": [
       "None"
      ]
     },
     "metadata": {},
     "output_type": "display_data"
    },
    {
     "name": "stdout",
     "output_type": "stream",
     "text": [
      "0 transactionId    0\n",
      "visitorId        0\n",
      "date             0\n",
      "revenue          0\n",
      "group            0\n",
      "dtype: int64\n"
     ]
    },
    {
     "data": {
      "text/html": [
       "<div>\n",
       "<style scoped>\n",
       "    .dataframe tbody tr th:only-of-type {\n",
       "        vertical-align: middle;\n",
       "    }\n",
       "\n",
       "    .dataframe tbody tr th {\n",
       "        vertical-align: top;\n",
       "    }\n",
       "\n",
       "    .dataframe thead th {\n",
       "        text-align: right;\n",
       "    }\n",
       "</style>\n",
       "<table border=\"1\" class=\"dataframe\">\n",
       "  <thead>\n",
       "    <tr style=\"text-align: right;\">\n",
       "      <th></th>\n",
       "      <th>date</th>\n",
       "      <th>group</th>\n",
       "      <th>visitors</th>\n",
       "    </tr>\n",
       "  </thead>\n",
       "  <tbody>\n",
       "    <tr>\n",
       "      <th>0</th>\n",
       "      <td>2019-08-01</td>\n",
       "      <td>A</td>\n",
       "      <td>719</td>\n",
       "    </tr>\n",
       "    <tr>\n",
       "      <th>1</th>\n",
       "      <td>2019-08-02</td>\n",
       "      <td>A</td>\n",
       "      <td>619</td>\n",
       "    </tr>\n",
       "    <tr>\n",
       "      <th>2</th>\n",
       "      <td>2019-08-03</td>\n",
       "      <td>A</td>\n",
       "      <td>507</td>\n",
       "    </tr>\n",
       "  </tbody>\n",
       "</table>\n",
       "</div>"
      ],
      "text/plain": [
       "         date group  visitors\n",
       "0  2019-08-01     A       719\n",
       "1  2019-08-02     A       619\n",
       "2  2019-08-03     A       507"
      ]
     },
     "metadata": {},
     "output_type": "display_data"
    },
    {
     "name": "stdout",
     "output_type": "stream",
     "text": [
      "<class 'pandas.core.frame.DataFrame'>\n",
      "RangeIndex: 62 entries, 0 to 61\n",
      "Data columns (total 3 columns):\n",
      " #   Column    Non-Null Count  Dtype \n",
      "---  ------    --------------  ----- \n",
      " 0   date      62 non-null     object\n",
      " 1   group     62 non-null     object\n",
      " 2   visitors  62 non-null     int64 \n",
      "dtypes: int64(1), object(2)\n",
      "memory usage: 1.6+ KB\n"
     ]
    },
    {
     "data": {
      "text/plain": [
       "None"
      ]
     },
     "metadata": {},
     "output_type": "display_data"
    },
    {
     "name": "stdout",
     "output_type": "stream",
     "text": [
      "0 date        0\n",
      "group       0\n",
      "visitors    0\n",
      "dtype: int64\n"
     ]
    }
   ],
   "source": [
    "# V1\n",
    "# просмотр информации о таблицах и проверка наличия дубликатов и пустот\n",
    "for i in [hypo, orders, visitors]:\n",
    "    display(i.head(3))\n",
    "    display(i.info())\n",
    "    print(i.duplicated().sum(), i.isnull().sum())"
   ]
  },
  {
   "cell_type": "code",
   "execution_count": 5,
   "metadata": {},
   "outputs": [
    {
     "data": {
      "text/plain": [
       "group    58\n",
       "dtype: int64"
      ]
     },
     "execution_count": 5,
     "metadata": {},
     "output_type": "execute_result"
    }
   ],
   "source": [
    "# Проверка общего числа амбивалентных покупателей:\n",
    "orders.groupby('visitorId').agg({'group' : 'nunique'}).query('group>1').count()"
   ]
  },
  {
   "cell_type": "markdown",
   "metadata": {},
   "source": [
    "58 штук, из общего числа в 1197 - около 4%. Данную последовательность, как пренебрежительно малую, можно удалить."
   ]
  },
  {
   "cell_type": "code",
   "execution_count": 6,
   "metadata": {},
   "outputs": [],
   "source": [
    "#Далее создаем список наших Фигаро:\n",
    "Figaro = orders.groupby('visitorId').agg({'group' : 'nunique'}).reset_index().query('group>1')['visitorId'].unique()\n",
    "\n",
    "#И удаляем их из таблицы orders:\n",
    "orders = orders.query('visitorId not in @Figaro')"
   ]
  },
  {
   "cell_type": "markdown",
   "metadata": {},
   "source": [
    "Согласно документации к данным:\n",
    "\n",
    "1.Файл \"/datasets/hypothesis.csv\" содержит список гипотез и их атрибуты:\n",
    "- Hypothesis — краткое описание гипотезы;\n",
    "- Reach — охват пользователей по 10-балльной шкале;\n",
    "- Impact — влияние на пользователей по 10-балльной шкале;\n",
    "- Confidence — уверенность в гипотезе по 10-балльной шкале;\n",
    "- Efforts — затраты ресурсов на проверку гипотезы по 10-балльной шкале, чем больше значение - тем дороже проверка гипотезы.\n",
    "\n",
    "2.Файл \"/datasets/orders.csv\" содержит список заказов и атрибуты:\n",
    "- transactionId — идентификатор заказа;\n",
    "- visitorId — идентификатор пользователя, совершившего заказ;\n",
    "- date — дата, когда был совершён заказ;\n",
    "- revenue — выручка заказа;\n",
    "- group — группа A/B-теста, в которую попал заказ.\n",
    "\n",
    "3.Файл \"/datasets/visitors.csv\" содержит список покупателей и атрибуты:\n",
    "- date — дата;\n",
    "- group — группа A/B-теста;\n",
    "- visitors — количество пользователей в указанную дату в указанной группе A/B-теста."
   ]
  },
  {
   "cell_type": "markdown",
   "metadata": {},
   "source": [
    "# Часть 1. Приоритизация гипотез"
   ]
  },
  {
   "cell_type": "markdown",
   "metadata": {},
   "source": [
    "<div class=\"alert alert-block alert-info\">\n",
    "<b>V1</b>\n",
    "    \n",
    "Во фрейме \"hypo\" предложено 9 гипотез по увеличению выручки интернет-магазина с указанными параметрами Reach, Impact, Confidence, Effort.\n",
    "\n",
    "Список гипотез выглядит так:\n",
    "\t                                                                              \n",
    "- 0 Добавить два новых канала привлечения трафика, что позволит привлекать на 30% больше пользователей;\n",
    "\n",
    "- 1 Запустить собственную службу доставки, что сократит срок доставки заказов;\n",
    "\n",
    "- 2 Добавить блоки рекомендаций товаров на сайт интернет магазина, чтобы повысить конверсию и средний чек заказа;\n",
    "\n",
    "- 3 Изменить структура категорий, что увеличит конверсию, т.к. пользователи быстрее найдут нужный товар;\n",
    "\n",
    "- 4 Изменить цвет фона главной страницы, чтобы увеличить вовлеченность пользователей;\n",
    "\n",
    "- 5 Добавить страницу отзывов клиентов о магазине, что позволит увеличить количество заказов;\n",
    "\n",
    "- 6 Показать на главной странице баннеры с актуальными акциями и распродажами, чтобы увеличить конверсию;\n",
    "\n",
    "- 7 Добавить форму подписки на все основные страницы, чтобы собрать базу клиентов для email-рассылок;\n",
    "\n",
    "- 8 Запустить акцию, дающую скидку на товар в день рождения.\n",
    "</div>"
   ]
  },
  {
   "cell_type": "markdown",
   "metadata": {},
   "source": [
    "## Применим фреймворк ICE для приоритизации гипотез, отсортируем их по убыванию приоритета"
   ]
  },
  {
   "cell_type": "code",
   "execution_count": 7,
   "metadata": {},
   "outputs": [],
   "source": [
    "hypo['ICE'] = (hypo['Impact'] * hypo['Confidence']) / hypo['Efforts']"
   ]
  },
  {
   "cell_type": "code",
   "execution_count": 8,
   "metadata": {},
   "outputs": [
    {
     "name": "stdout",
     "output_type": "stream",
     "text": [
      "8    16.200000\n",
      "0    13.333333\n",
      "7    11.200000\n",
      "6     8.000000\n",
      "2     7.000000\n",
      "1     2.000000\n",
      "5     1.333333\n",
      "3     1.125000\n",
      "4     1.000000\n",
      "Name: ICE, dtype: float64\n"
     ]
    }
   ],
   "source": [
    "print(hypo['ICE'].sort_values(ascending=False))"
   ]
  },
  {
   "cell_type": "markdown",
   "metadata": {},
   "source": [
    "## Применим фреймворк RICE для приоритизации гипотез, отсортируем их по убыванию приоритета"
   ]
  },
  {
   "cell_type": "code",
   "execution_count": 9,
   "metadata": {},
   "outputs": [],
   "source": [
    "hypo['RICE'] = (hypo['Reach'] *hypo['Impact'] * hypo['Confidence']) / hypo['Efforts']"
   ]
  },
  {
   "cell_type": "code",
   "execution_count": 10,
   "metadata": {},
   "outputs": [
    {
     "name": "stdout",
     "output_type": "stream",
     "text": [
      "7    112.0\n",
      "2     56.0\n",
      "0     40.0\n",
      "6     40.0\n",
      "8     16.2\n",
      "3      9.0\n",
      "1      4.0\n",
      "5      4.0\n",
      "4      3.0\n",
      "Name: RICE, dtype: float64\n"
     ]
    }
   ],
   "source": [
    "print(hypo['RICE'].sort_values(ascending=False))"
   ]
  },
  {
   "cell_type": "markdown",
   "metadata": {},
   "source": [
    "## Отметим, как изменилась приоритизация гипотез при применении RICE вместо ICE, возможные причины произошедшего"
   ]
  },
  {
   "cell_type": "markdown",
   "metadata": {},
   "source": [
    "Согласно методике ICE троица лидеров - 8, 0, 7:\n",
    "\n",
    "- 8 Запустить акцию, дающую скидку на товар в день рождения - странное решение, сработает только раз в год, не имеет удержания и даже при наступлении условия не всегда задействуется.\n",
    "\n",
    "- 0 Добавить два новых канала привлечения трафика, что позволит привлекать на 30% больше пользователей - нет гарании, что придут именно 30%, а не 20 или 10. Опять же, привлечённых ещё надо сконвертировать в покупателей...\n",
    "\n",
    "- 7 Добавить форму подписки на все основные страницы, чтобы собрать базу клиентов для email-рассылок - аналогично предыдущему: неопределённый круг лиц в неопределённом количестве с неясными целями."
   ]
  },
  {
   "cell_type": "markdown",
   "metadata": {},
   "source": [
    "Согласно методике RICE троица лидеров - 7, 2, 0:\n",
    "\n",
    "Гипотеза 2 - добавить блоки рекомендаций товаров на сайт интернет магазина, чтобы повысить конверсию и средний чек заказа. Эта гипотеза выглядит более разумной - если 7 и 0 отработают штатно и привлекут некую массу новых посетителей, то конверсия их в уже покупателей повысит прибыльность бизнеса. Гипотеза 0 находится лишь на третьем месте, из чего можно сделать вывод, что даже эти добавочные +30% кратно, если не на порядки, уступают охвату методики из гипотезы 7."
   ]
  },
  {
   "cell_type": "markdown",
   "metadata": {},
   "source": [
    "Если рассмотреть первоначальную троицу лидеров, то гипотеза 8 упала на пятое место, 0 ушла на третье место, 7 ушла на первое место, гипотеза 2 воспряла на второе место. Так как в методике не менялись данные, кроме добавления параметра охвата (целевой аудитории), то изменения в весах гипотез, и, следовательно, в их рангах, связаны с влиянием охватываемой ими массы людей, или, метафорично говоря, \"Strength in numbers\"."
   ]
  },
  {
   "cell_type": "markdown",
   "metadata": {},
   "source": [
    "# Часть 2. Анализ A/B-теста "
   ]
  },
  {
   "cell_type": "markdown",
   "metadata": {},
   "source": [
    "## Построим график кумулятивной выручки по группам, изучим, сделаем выводы и предположения"
   ]
  },
  {
   "cell_type": "code",
   "execution_count": 11,
   "metadata": {},
   "outputs": [],
   "source": [
    "# сделаем подсчёт посетителей по дням для группы А\n",
    "visitorsADaily = visitors[visitors['group'] == 'A'][['date', 'visitors']]\n",
    "visitorsADaily.columns = ['date', 'visitorsPerDateA']"
   ]
  },
  {
   "cell_type": "code",
   "execution_count": 12,
   "metadata": {},
   "outputs": [],
   "source": [
    "# сделаем кумулятивное накопление по посетителям за день для группы А\n",
    "visitorsACummulative = visitorsADaily.apply(\n",
    "    lambda x: visitorsADaily[visitorsADaily['date'] <= x['date']].agg(\n",
    "        {'date': 'max', 'visitorsPerDateA': 'sum'}\n",
    "    ),\n",
    "    axis=1,\n",
    ")\n",
    "visitorsACummulative.columns = ['date', 'visitorsCummulativeA']"
   ]
  },
  {
   "cell_type": "code",
   "execution_count": 13,
   "metadata": {},
   "outputs": [],
   "source": [
    "# сделаем подсчёт посетителей по дням для группы В\n",
    "visitorsBDaily = visitors[visitors['group'] == 'B'][['date', 'visitors']]\n",
    "visitorsBDaily.columns = ['date', 'visitorsPerDateB']"
   ]
  },
  {
   "cell_type": "code",
   "execution_count": 14,
   "metadata": {},
   "outputs": [],
   "source": [
    "# сделаем кумулятивное накопление по посетителям за день для группы B\n",
    "visitorsBCummulative = visitorsBDaily.apply(\n",
    "    lambda x: visitorsBDaily[visitorsBDaily['date'] <= x['date']].agg(\n",
    "        {'date': 'max', 'visitorsPerDateB': 'sum'}\n",
    "    ),\n",
    "    axis=1,\n",
    ")\n",
    "visitorsBCummulative.columns = ['date', 'visitorsCummulativeB']"
   ]
  },
  {
   "cell_type": "code",
   "execution_count": 15,
   "metadata": {},
   "outputs": [],
   "source": [
    "# сделаем подсчёт заказов по дням для группы А\n",
    "ordersADaily = (\n",
    "    orders[orders['group'] == 'A'][['date', 'transactionId', 'visitorId', 'revenue']]\n",
    "    .groupby('date', as_index=False)\n",
    "    .agg({'transactionId': pd.Series.nunique, 'revenue': 'sum'})\n",
    ")\n",
    "ordersADaily.columns = ['date', 'ordersPerDateA', 'revenuePerDateA']"
   ]
  },
  {
   "cell_type": "code",
   "execution_count": 16,
   "metadata": {},
   "outputs": [],
   "source": [
    "# сделаем кумулятивное накопление по заказам за день для группы А\n",
    "ordersACummulative = ordersADaily.apply(\n",
    "    lambda x: ordersADaily[ordersADaily['date'] <= x['date']].agg(\n",
    "        {'date': 'max', 'ordersPerDateA': 'sum', 'revenuePerDateA': 'sum'}\n",
    "    ),\n",
    "    axis=1,\n",
    ").sort_values(by=['date'])\n",
    "ordersACummulative.columns = [\n",
    "    'date',\n",
    "    'ordersCummulativeA',\n",
    "    'revenueCummulativeA',\n",
    "]"
   ]
  },
  {
   "cell_type": "code",
   "execution_count": 17,
   "metadata": {},
   "outputs": [],
   "source": [
    "ordersBDaily = (\n",
    "    orders[orders['group'] == 'B'][['date', 'transactionId', 'visitorId', 'revenue']]\n",
    "    .groupby('date', as_index=False)\n",
    "    .agg({'transactionId': pd.Series.nunique, 'revenue': 'sum'})\n",
    ")\n",
    "ordersBDaily.columns = ['date', 'ordersPerDateB', 'revenuePerDateB']"
   ]
  },
  {
   "cell_type": "code",
   "execution_count": 18,
   "metadata": {},
   "outputs": [],
   "source": [
    "ordersBCummulative = ordersBDaily.apply(\n",
    "    lambda x: ordersBDaily[ordersBDaily['date'] <= x['date']].agg(\n",
    "        {'date': 'max', 'ordersPerDateB': 'sum', 'revenuePerDateB': 'sum'}\n",
    "    ),\n",
    "    axis=1,\n",
    ").sort_values(by=['date'])\n",
    "ordersBCummulative.columns = [\n",
    "    'date',\n",
    "    'ordersCummulativeB',\n",
    "    'revenueCummulativeB',\n",
    "]"
   ]
  },
  {
   "cell_type": "code",
   "execution_count": 19,
   "metadata": {},
   "outputs": [],
   "source": [
    "# общая склеенная таблица по группам А и В\n",
    "data = (\n",
    "    ordersADaily.merge(\n",
    "        ordersBDaily, left_on='date', right_on='date', how='left'\n",
    "    )\n",
    "    .merge(ordersACummulative, left_on='date', right_on='date', how='left')\n",
    "    .merge(ordersBCummulative, left_on='date', right_on='date', how='left')\n",
    "    .merge(visitorsADaily, left_on='date', right_on='date', how='left')\n",
    "    .merge(visitorsBDaily, left_on='date', right_on='date', how='left')\n",
    "    .merge(visitorsACummulative, left_on='date', right_on='date', how='left')\n",
    "    .merge(visitorsBCummulative, left_on='date', right_on='date', how='left')\n",
    ")"
   ]
  },
  {
   "cell_type": "code",
   "execution_count": 20,
   "metadata": {},
   "outputs": [
    {
     "data": {
      "image/png": "[encoded data removed]",
      "text/plain": [
       "<Figure size 1440x576 with 1 Axes>"
      ]
     },
     "metadata": {
      "needs_background": "light"
     },
     "output_type": "display_data"
    }
   ],
   "source": [
    "# Строим график выручки группы А\n",
    "plt.plot(data['date'], data['revenueCummulativeA'], label='Выручка группы A')\n",
    "# Строим график выручки группы B\n",
    "plt.plot(data['date'], data['revenueCummulativeB'], label='Bыручка группы В')\n",
    "plt.xticks(rotation=55)\n",
    "plt.title('График изменения выручки по группам')\n",
    "plt.ylabel('Уровень выручки')\n",
    "plt.grid()\n",
    "plt.legend()\n",
    "plt.show()"
   ]
  },
  {
   "cell_type": "markdown",
   "metadata": {},
   "source": [
    "### Выводы и предположения\n",
    "\n",
    "Исходя из графика, группы А и Б по выручке не имели значимых расхождений, периодически сходясь в точках 5 и 13 августа, но после 13 августа группа Б стала несколько отрываться, 18 числа группа Б резко нарастила отрыв и уже не вернулась в прежние уровни, стабильно превосходя группу А примерно на 50%.\n",
    "\n",
    "В силу того, что группа Б не имеет эсконенциального роста, я предполгагаю, что была привлечена некая новая, но ограниченная группа покупателей, либо прежней группе покупателей был предложен новый вид товаров, и данные новые группы отразились в графике увеличением денежного потока."
   ]
  },
  {
   "cell_type": "markdown",
   "metadata": {},
   "source": [
    "## Построим график кумулятивного среднего чека по группам, изучим, сделаем выводы и предположения"
   ]
  },
  {
   "cell_type": "code",
   "execution_count": 21,
   "metadata": {},
   "outputs": [
    {
     "data": {
      "image/png": "[encoded data removed]",
      "text/plain": [
       "<Figure size 1440x576 with 1 Axes>"
      ]
     },
     "metadata": {
      "needs_background": "light"
     },
     "output_type": "display_data"
    }
   ],
   "source": [
    "plt.plot(data['date'], data['revenueCummulativeA']/data['ordersCummulativeA'], label='СКЧ по группе A')\n",
    "plt.plot(data['date'], data['revenueCummulativeB']/data['ordersCummulativeB'], label='СКЧ по группе В')\n",
    "plt.xticks(rotation=55)     \n",
    "plt.grid()\n",
    "plt.title('График кумулятивного среднего чека по группам')\n",
    "plt.ylabel('Размер кумулятивного среднего чека в тыс руб')\n",
    "plt.legend()\n",
    "plt.show()"
   ]
  },
  {
   "cell_type": "markdown",
   "metadata": {},
   "source": [
    "### Выводы и предположения\n",
    "\n",
    "Исходя из графика, группа А начала со снижения спроса, со значительным ростом ото дна 6 до пика 13 числа, после чего график стал плоским со слабой тенденцией к падению.\n",
    "\n",
    "Группа Б начала с самых низких позиций, со слабыми провалами от вершин в точках 5 и 8 числа, с 15 числа перейдя в накопление и резко выстрелив 18 числа, со слабой тенденцией к снижению.\n",
    "\n",
    "Исходя из графиков можно предположить, что на группу В повлияло некоторое событие, которое привлекло, а затем удержало значительную часть новых клиентов."
   ]
  },
  {
   "cell_type": "markdown",
   "metadata": {},
   "source": [
    "## Построим график относительного изменения кумулятивного среднего чека группы B к группе A, изучим, сделаем выводы и предположения"
   ]
  },
  {
   "cell_type": "code",
   "execution_count": 22,
   "metadata": {},
   "outputs": [
    {
     "data": {
      "image/png": "[encoded data removed]",
      "text/plain": [
       "<Figure size 1440x576 with 1 Axes>"
      ]
     },
     "metadata": {
      "needs_background": "light"
     },
     "output_type": "display_data"
    }
   ],
   "source": [
    "# собираем данные в одном датафрейме\n",
    "mergedCumulativeRevenue = ordersACummulative.merge(ordersBCummulative, left_on='date', right_on='date', how='left', suffixes=['A', 'B'])\n",
    "\n",
    "# cтроим отношение средних чеков\n",
    "plt.plot(mergedCumulativeRevenue['date'], \n",
    "         (mergedCumulativeRevenue['revenueCummulativeB']/mergedCumulativeRevenue['ordersCummulativeB'])/\n",
    "         (mergedCumulativeRevenue['revenueCummulativeA']/mergedCumulativeRevenue['ordersCummulativeA'])-1,\n",
    "         label=\"Относительное превосходство группы В\")\n",
    "\n",
    "# добавляем ось X\n",
    "plt.axhline(y=0, color='black', linestyle='--')\n",
    "plt.xticks(rotation=55)\n",
    "plt.title('График превосходства кумулятивного среднего чека')\n",
    "plt.legend()\n",
    "plt.grid()"
   ]
  },
  {
   "cell_type": "markdown",
   "metadata": {},
   "source": [
    "### Выводы и предположения\n",
    "\n",
    "Есть две группы сильных выбросов с пиком в районе 7 и 19 чисел, и если первое не смогло устоять и падало ниже нулевого уровня, то второе удержало, пусть и с тенденцией к снижению. Существуют выбросы в виде новых покупаетелей, поднявших средний чек в группе В, и\\или новые крупные заказы от старых покупателей, так же поднявшие средний чек. Нужно будет отсеять выбросы в дальнейшем."
   ]
  },
  {
   "cell_type": "markdown",
   "metadata": {},
   "source": [
    "## Построим график кумулятивного среднего количества заказов на посетителя по группам, изучим, сделаем выводы и предположения"
   ]
  },
  {
   "cell_type": "code",
   "execution_count": 23,
   "metadata": {},
   "outputs": [],
   "source": [
    "# создаем массив уникальных пар значений дат и групп теста\n",
    "datesGroups = orders[['date','group']].drop_duplicates() "
   ]
  },
  {
   "cell_type": "code",
   "execution_count": 24,
   "metadata": {},
   "outputs": [],
   "source": [
    "# агрегируем значения, вычислим максимальную дату, для группы тоже рассчитаем максимум, и хотя она будет определённой, \n",
    "# сделаем это, чтобы столбец 'group' не пропал из итогового вывода. Найдём число уникальных ID заказов и пользователей, \n",
    "# подсчитаем сумму средних чеков:\n",
    "ordersAggregated = datesGroups.apply(lambda x: orders[np.logical_and(orders['date'] <= x['date'], orders['group'] == x['group'])]\\\n",
    ".agg({'date' : 'max', 'group' : 'max', 'transactionId' : 'nunique', 'visitorId' : 'nunique', 'revenue' : 'sum'}), axis=1).sort_values(by=['date','group'])"
   ]
  },
  {
   "cell_type": "code",
   "execution_count": 25,
   "metadata": {},
   "outputs": [],
   "source": [
    "# аналогично получим агрегированные кумулятивные по дням данные о посетителях интернет-магазина: \n",
    "visitorsAggregated = datesGroups.apply(lambda x: visitors[np.logical_and(visitors['date'] <= x['date'], visitors['group'] == x['group'])].agg({'date' : 'max', 'group' : 'max', 'visitors' : 'sum'}), axis=1).sort_values(by=['date','group'])"
   ]
  },
  {
   "cell_type": "markdown",
   "metadata": {},
   "source": [
    "### Объединим обе таблицы в одну и переименуем столбцы для большего удобства:"
   ]
  },
  {
   "cell_type": "code",
   "execution_count": 26,
   "metadata": {},
   "outputs": [],
   "source": [
    "# создаем массив уникальных пар значений дат и групп теста\n",
    "datesGroups = orders[['date','group']].drop_duplicates()\n",
    "\n",
    "# получаем агрегированные кумулятивные по дням данные о заказах \n",
    "ordersAggregated = datesGroups.apply(lambda x: orders[np.logical_and(orders['date'] <= x['date'], orders['group'] == x['group'])].agg({'date' : 'max', 'group' : 'max', 'transactionId' : 'nunique', 'visitorId' : 'nunique', 'revenue' : 'sum'}), axis=1).sort_values(by=['date','group'])\n",
    "\n",
    "# получаем агрегированные кумулятивные по дням данные о посетителях интернет-магазина \n",
    "visitorsAggregated = datesGroups.apply(lambda x: visitors[np.logical_and(visitors['date'] <= x['date'], visitors['group'] == x['group'])].agg({'date' : 'max', 'group' : 'max', 'visitors' : 'sum'}), axis=1).sort_values(by=['date','group'])\n",
    "\n",
    "# объединяем кумулятивные данные в одной таблице и присваиваем ее столбцам понятные названия\n",
    "cumulativeData = ordersAggregated.merge(visitorsAggregated, left_on=['date', 'group'], right_on=['date', 'group'])\n",
    "cumulativeData.columns = ['date', 'group', 'orders', 'buyers', 'revenue', 'visitors']"
   ]
  },
  {
   "cell_type": "markdown",
   "metadata": {},
   "source": [
    "### Строим графики кумулятивных средних:"
   ]
  },
  {
   "cell_type": "code",
   "execution_count": 27,
   "metadata": {},
   "outputs": [
    {
     "data": {
      "image/png": "[encoded data removed]",
      "text/plain": [
       "<Figure size 1440x576 with 1 Axes>"
      ]
     },
     "metadata": {
      "needs_background": "light"
     },
     "output_type": "display_data"
    }
   ],
   "source": [
    "# считаем среднее количество заказов на посетителя\n",
    "cumulativeData['conversion'] = cumulativeData['orders']/cumulativeData['visitors']\n",
    "\n",
    "# отделяем данные по группе A\n",
    "cumulativeDataA = cumulativeData[cumulativeData['group']=='A']\n",
    "\n",
    "# отделяем данные по группе B\n",
    "cumulativeDataB = cumulativeData[cumulativeData['group']=='B']\n",
    "\n",
    "# строим графики\n",
    "plt.plot(cumulativeDataA['date'], cumulativeDataA['conversion'], label=\"Кумулятивная СКЗ на посетителя группы A\" )\n",
    "plt.plot(cumulativeDataB['date'], cumulativeDataB['conversion'], label='Кумулятивная СКЗ на посетителя группы B')\n",
    "plt.xticks(rotation=55)\n",
    "plt.title('Графики кумулятивных средних заказов')\n",
    "plt.ylabel('Кумулятивная средняя заказов')\n",
    "plt.legend()\n",
    "plt.grid()"
   ]
  },
  {
   "cell_type": "markdown",
   "metadata": {},
   "source": [
    "### Выводы и предположения\n",
    "\n",
    "График среднего кумулятивного заказа (далее - СКЗ) группы А демонстрирует прежнее поведение - начало с лучших позиций, пик 3 числа, затем резкое и неуклонное падение с переходом в боковик после 10 числа с дальнейшей тенденцией к снижению.\n",
    "СКЗ группы Б по-прежнему начинал с худших позиций, прошёл два пика в районе 10 и 17 числа (разница в неделю - привязка к выходным дням?), но не смог удержаться и тоже начал плавно падать. \n",
    "\n",
    "Так как пики и провалы двух групп асинхронны, рискну предположить, что продажи не были привязаны к датам, а привязаны к разным группам потребителей, отличающихся по полу и/или возрасту и/или материальному положению etc.\n",
    "\n",
    "Настораживает, что во всех случаях обороты падают..."
   ]
  },
  {
   "cell_type": "markdown",
   "metadata": {},
   "source": [
    "## Построим график относительного изменения кумулятивного среднего количества заказов на посетителя группы B к группе A, изучим, сделаем выводы и предположения"
   ]
  },
  {
   "cell_type": "code",
   "execution_count": 28,
   "metadata": {},
   "outputs": [
    {
     "data": {
      "image/png": "[encoded data removed]",
      "text/plain": [
       "<Figure size 1440x576 with 1 Axes>"
      ]
     },
     "metadata": {
      "needs_background": "light"
     },
     "output_type": "display_data"
    }
   ],
   "source": [
    "mergedCumulativeConversions = cumulativeDataA[['date','conversion']].merge(cumulativeDataB[['date','conversion']], left_on='date', right_on='date', how='left', suffixes=['A', 'B'])\n",
    "\n",
    "plt.plot(mergedCumulativeConversions['date'], mergedCumulativeConversions['conversionB']/mergedCumulativeConversions['conversionA']-1, label=\"Относительный прирост кумулятивного среднего количества заказов на посетителя группы B относительно группы A\")\n",
    "plt.axhline(y=0, color='black', linestyle='--')\n",
    "plt.axhline(y=-0.1, color='grey', linestyle='--')\n",
    "plt.xticks(rotation=55)\n",
    "plt.title('График превосходства кумулятивного среднего заказа')\n",
    "plt.legend()\n",
    "plt.grid()\n",
    "plt.show()"
   ]
  },
  {
   "cell_type": "markdown",
   "metadata": {},
   "source": [
    "### Выводы и предположения\n",
    "\n",
    "Та же картина, пусть график и рисует повышение в конце, но это всего лишь означает, что СКЗ группы Б падает медленнее, чем у группы А."
   ]
  },
  {
   "cell_type": "markdown",
   "metadata": {},
   "source": [
    "## Построим точечный график количества заказов по пользователям, изучим, сделаем выводы и предположения"
   ]
  },
  {
   "cell_type": "code",
   "execution_count": 29,
   "metadata": {},
   "outputs": [],
   "source": [
    "# подсчитаем количество заказов по всем пользователям\n",
    "orders['date'] = orders['date'].map(lambda x: dt.datetime.strptime(x, '%Y-%m-%d'))\n",
    "\n",
    "ordersByUsers = (\n",
    "    orders.groupby('visitorId', as_index=False)\n",
    "    .agg({'transactionId': 'nunique'})\n",
    ")\n",
    "\n",
    "ordersByUsers.columns = ['visitorId', 'orders']"
   ]
  },
  {
   "cell_type": "code",
   "execution_count": 30,
   "metadata": {},
   "outputs": [
    {
     "data": {
      "image/png": "[encoded data removed]",
      "text/plain": [
       "<Figure size 1440x576 with 1 Axes>"
      ]
     },
     "metadata": {
      "needs_background": "light"
     },
     "output_type": "display_data"
    }
   ],
   "source": [
    "# построим точечную диаграмму числа заказов на одного пользователя\n",
    "x_values = pd.Series(range(0,len(ordersByUsers)))\n",
    "plt.scatter(x_values, ordersByUsers['orders'])\n",
    "plt.title(\"Диаграмма заказов\")\n",
    "plt.xlabel(\"Количество покупателей\")\n",
    "plt.ylabel(\"Количество заказов\")\n",
    "plt.grid()"
   ]
  },
  {
   "cell_type": "markdown",
   "metadata": {},
   "source": [
    "Как видно из распределения, основная масса заказов приходится на единичные покупки, даже две и три составляют кратно меньшее количество."
   ]
  },
  {
   "cell_type": "markdown",
   "metadata": {},
   "source": [
    "### Выводы и предположения\n",
    "\n",
    "Дорогие и/или многочисленные заказы настолько редки, что напрашивается вывод - причины надо искать в поведении человеческих групп."
   ]
  },
  {
   "cell_type": "markdown",
   "metadata": {},
   "source": [
    "## Посчитаем 95-й и 99-й перцентили количества заказов на пользователя, выберем границу для определения аномальных пользователей"
   ]
  },
  {
   "cell_type": "code",
   "execution_count": 31,
   "metadata": {},
   "outputs": [
    {
     "name": "stdout",
     "output_type": "stream",
     "text": [
      "[1. 1. 2.]\n"
     ]
    }
   ],
   "source": [
    "# определим перцентили числа заказов\n",
    "print(np.percentile(ordersByUsers['orders'], [90, 95, 99]))"
   ]
  },
  {
   "cell_type": "markdown",
   "metadata": {},
   "source": [
    "## Построим точечный график стоимостей заказов"
   ]
  },
  {
   "cell_type": "code",
   "execution_count": 32,
   "metadata": {},
   "outputs": [
    {
     "data": {
      "image/png": "[encoded data removed]",
      "text/plain": [
       "<Figure size 1440x576 with 1 Axes>"
      ]
     },
     "metadata": {
      "needs_background": "light"
     },
     "output_type": "display_data"
    }
   ],
   "source": [
    "# строим график для изучения выбросов по исходным данным заказов и их стоимости\n",
    "x_values = pd.Series(range(0,len(orders['revenue'])))\n",
    "plt.scatter(x_values, orders['revenue'])\n",
    "plt.title(\"Диаграмма стоимости\")\n",
    "plt.xlabel(\"Количество покупателей\")\n",
    "plt.ylabel(\"Стоимость заказа\")\n",
    "plt.grid()"
   ]
  },
  {
   "cell_type": "markdown",
   "metadata": {},
   "source": [
    "Как видно из графика, по-настоящему большой и выгодный суммарный заказ всего один."
   ]
  },
  {
   "cell_type": "markdown",
   "metadata": {},
   "source": [
    "## Посчитаем 95-й и 99-й перцентили стоимости заказов, выберем границу для определения аномальных заказов"
   ]
  },
  {
   "cell_type": "code",
   "execution_count": 33,
   "metadata": {},
   "outputs": [
    {
     "name": "stdout",
     "output_type": "stream",
     "text": [
      "[17990. 26785. 53904.]\n"
     ]
    }
   ],
   "source": [
    "# определим перцентили среднего чека\n",
    "print(np.percentile(orders['revenue'], [90, 95, 99]))"
   ]
  },
  {
   "cell_type": "markdown",
   "metadata": {},
   "source": [
    "<div class=\"alert alert-block alert-info\">\n",
    "#V1\n",
    "    \n",
    "При основной массе заказов в 17990 рублей - не более 5% заказов дороже 26785 рублей и не более 1% заказов дороже 53904 рублей.\n",
    " \n",
    "Таким образом, границей отсечения является значение в 26785 рублей за один заказ.\n",
    "</div>"
   ]
  },
  {
   "cell_type": "markdown",
   "metadata": {},
   "source": [
    "## Посчитаем статистическую значимость различий в среднем количестве заказов на посетителя между группами по «сырым» данным, сделаем выводы и предположения"
   ]
  },
  {
   "cell_type": "code",
   "execution_count": 34,
   "metadata": {},
   "outputs": [],
   "source": [
    "# cоздадим переменные ordersByUsersA и ordersByUsersB со столбцами ['userId', 'orders'], где для пользователей, которые \n",
    "# заказывали хотя бы 1 раз, укажем число совершённых заказов\n",
    "\n",
    "ordersByUsersA = (\n",
    "    orders[orders['group'] == 'A']\n",
    "    .groupby('visitorId', as_index=False)\n",
    "    .agg({'transactionId': pd.Series.nunique})\n",
    ")\n",
    "ordersByUsersA.columns = ['visitorId', 'orders']\n",
    "\n",
    "ordersByUsersB = (\n",
    "    orders[orders['group'] == 'B']\n",
    "    .groupby('visitorId', as_index=False)\n",
    "    .agg({'transactionId': pd.Series.nunique})\n",
    ")\n",
    "ordersByUsersB.columns = ['visitorId', 'orders']"
   ]
  },
  {
   "cell_type": "code",
   "execution_count": 35,
   "metadata": {},
   "outputs": [
    {
     "data": {
      "text/plain": [
       "[0      1\n",
       " 1      1\n",
       " 2      1\n",
       " 3      1\n",
       " 4      1\n",
       "       ..\n",
       " 440    1\n",
       " 441    1\n",
       " 442    1\n",
       " 443    1\n",
       " 444    1\n",
       " Name: orders, Length: 445, dtype: int64,\n",
       " 0        0\n",
       " 1        0\n",
       " 2        0\n",
       " 3        0\n",
       " 4        0\n",
       "         ..\n",
       " 18286    0\n",
       " 18287    0\n",
       " 18288    0\n",
       " 18289    0\n",
       " 18290    0\n",
       " Name: orders, Length: 18291, dtype: int64]"
      ]
     },
     "execution_count": 35,
     "metadata": {},
     "output_type": "execute_result"
    }
   ],
   "source": [
    "# объявим переменные sampleA и sampleB, в которых пользователям из разных групп будет соответствовать количество заказов,\n",
    "# запишем в них данные из фреймов ordersByUsersA и ordersByUsersB соотвественно\n",
    "\n",
    "pd.Series(0, index=np.arange(data['visitorsPerDateA'].sum() - len(ordersByUsersA['orders'])), name='orders')\n",
    "\n",
    "[ordersByUsersA['orders'],pd.Series(0, index=np.arange(data['visitorsPerDateA'].sum() - len(ordersByUsersA['orders'])), name='orders')]"
   ]
  },
  {
   "cell_type": "code",
   "execution_count": 36,
   "metadata": {},
   "outputs": [
    {
     "data": {
      "text/plain": [
       "[0      1\n",
       " 1      1\n",
       " 2      1\n",
       " 3      1\n",
       " 4      1\n",
       "       ..\n",
       " 523    1\n",
       " 524    1\n",
       " 525    1\n",
       " 526    1\n",
       " 527    1\n",
       " Name: orders, Length: 528, dtype: int64,\n",
       " 0        0\n",
       " 1        0\n",
       " 2        0\n",
       " 3        0\n",
       " 4        0\n",
       "         ..\n",
       " 18383    0\n",
       " 18384    0\n",
       " 18385    0\n",
       " 18386    0\n",
       " 18387    0\n",
       " Name: orders, Length: 18388, dtype: int64]"
      ]
     },
     "execution_count": 36,
     "metadata": {},
     "output_type": "execute_result"
    }
   ],
   "source": [
    "pd.Series(0, index=np.arange(data['visitorsPerDateB'].sum() - len(ordersByUsersB['orders'])), name='orders')\n",
    "\n",
    "[ordersByUsersB['orders'],pd.Series(0, index=np.arange(data['visitorsPerDateB'].sum() - len(ordersByUsersB['orders'])), name='orders')]"
   ]
  },
  {
   "cell_type": "code",
   "execution_count": 37,
   "metadata": {},
   "outputs": [],
   "source": [
    "sampleA = pd.concat([ordersByUsersA['orders'],pd.Series(0, index=np.arange(data['visitorsPerDateA'].sum() - len(ordersByUsersA['orders'])), name='orders')],axis=0)\n",
    "\n",
    "sampleB = pd.concat([ordersByUsersB['orders'],pd.Series(0, index=np.arange(data['visitorsPerDateB'].sum() - len(ordersByUsersB['orders'])), name='orders')],axis=0)"
   ]
  },
  {
   "cell_type": "markdown",
   "metadata": {},
   "source": [
    "Сформулируем гипотезы:\n",
    "    \n",
    "Н0 - Нет различий в среднем количестве заказов между группами;\n",
    "Н1 - Есть различия в среднем количестве заказов между группами."
   ]
  },
  {
   "cell_type": "code",
   "execution_count": 38,
   "metadata": {},
   "outputs": [
    {
     "name": "stdout",
     "output_type": "stream",
     "text": [
      "Значение p-value: 0.011\n",
      "Относительное превосходство группы В: 0.160\n"
     ]
    }
   ],
   "source": [
    "# выведем относительный прирост среднего числа заказов группы B:\n",
    "# среднее число заказов группы B / среднее число заказов группы A - 1, округлим до трёх знаков после запятой\n",
    "\n",
    "print(f'Значение p-value: ' \"{0:.3f}\".format(stats.mannwhitneyu(sampleA, sampleB)[1]))\n",
    "\n",
    "print(f'Относительное превосходство группы В: ' \"{0:.3f}\".format(sampleB.mean() / sampleA.mean() - 1))"
   ]
  },
  {
   "cell_type": "markdown",
   "metadata": {},
   "source": [
    "**Значение p-value=0.01 меньше alpha=0.05 - отвергаем нулевую гипотезу.\n",
    "\n",
    "**Относительное превосходство группы B составляет 16%."
   ]
  },
  {
   "cell_type": "markdown",
   "metadata": {},
   "source": [
    "### Выводы и предположения\n",
    "\n",
    "Исходя из альтернативной гипотезы, делаем предположение, что группа В совершает большее количество покупок."
   ]
  },
  {
   "cell_type": "markdown",
   "metadata": {},
   "source": [
    "## Посчитаем статистическую значимость различий в среднем чеке заказа между группами по «сырым» данным"
   ]
  },
  {
   "cell_type": "code",
   "execution_count": 39,
   "metadata": {},
   "outputs": [
    {
     "name": "stdout",
     "output_type": "stream",
     "text": [
      "Значение p-value: 0.829\n",
      "Относительное превосходство группы В: 0.287\n"
     ]
    }
   ],
   "source": [
    "# Чтобы рассчитать статистическую значимость различий в среднем чеке, передадим критерию mannwhitneyu() данные о выручке\n",
    "print(f'Значение p-value: ''{0:.3f}'.format(stats.mannwhitneyu(orders[orders['group']=='A']['revenue'], orders[orders['group']=='B']['revenue'])[1]))\n",
    "print(f'Относительное превосходство группы В: ''{0:.3f}'.format(orders[orders['group']=='B']['revenue'].mean()/orders[orders['group']=='A']['revenue'].mean()-1))"
   ]
  },
  {
   "cell_type": "markdown",
   "metadata": {},
   "source": [
    "Сформулируем гипотезы:\n",
    "\n",
    "Н0 - Нет различий в среднем чеке между группами;\n",
    "Н1 - Есть различия в среднем чеке между группами."
   ]
  },
  {
   "cell_type": "markdown",
   "metadata": {},
   "source": [
    "**Значение p-value=0.82 больше alpha=0.05 - не отвергаем нулевую гипотезу.\n",
    "\n",
    "**Относительное превосходство группы B 28,7% не является значимым."
   ]
  },
  {
   "cell_type": "markdown",
   "metadata": {},
   "source": [
    "### Выводы и предположения\n",
    "\n",
    "Так как нулевая гипотеза не отвергнута, считатаем, что различий в среднем чеке нет.\n",
    "\n",
    "Отсюда можно предположить, что прирост выручки группы В произошёл за счёт количественного превосходства числа покупателей."
   ]
  },
  {
   "cell_type": "markdown",
   "metadata": {},
   "source": [
    "## Посчитаем статистическую значимость различий в среднем количестве заказов на посетителя между группами по «очищенным» данным"
   ]
  },
  {
   "cell_type": "markdown",
   "metadata": {},
   "source": [
    "* Примем за аномальных пользователей тех, кто более 2 заказов или совершил заказ дороже 26 785 рублей. Так мы уберём 5% пользователей с наибольшим числом заказов и от 1% до 5% пользователей с дорогими заказами. Сделаем срезы пользователей с числом заказов больше 2 — \"usersWithManyOrders\" и пользователей, совершивших заказы дороже 26 785 — \"usersWithExpensiveOrders\". Объединим их в таблице \"abnormalUsers\". Узнаем, сколько всего аномальных пользователей применением атрибута \"shape\"."
   ]
  },
  {
   "cell_type": "code",
   "execution_count": 40,
   "metadata": {},
   "outputs": [
    {
     "name": "stdout",
     "output_type": "stream",
     "text": [
      "568     113298937\n",
      "1099    148427295\n",
      "928     204675465\n",
      "33      249864742\n",
      "684     358944393\n",
      "Name: visitorId, dtype: int64\n",
      "58\n"
     ]
    }
   ],
   "source": [
    "usersWithManyOrders = pd.concat(\n",
    "    [\n",
    "        ordersByUsersA[ordersByUsersA['orders'] > 2]['visitorId'],\n",
    "        ordersByUsersB[ordersByUsersB['orders'] > 2]['visitorId'],\n",
    "    ],\n",
    "    axis=0,\n",
    ")\n",
    "usersWithExpensiveOrders = orders[orders['revenue'] > 26785]['visitorId']\n",
    "abnormalUsers = (\n",
    "    pd.concat([usersWithManyOrders, usersWithExpensiveOrders], axis=0)\n",
    "    .drop_duplicates()\n",
    "    .sort_values()\n",
    ")\n",
    "print(abnormalUsers.head(5))\n",
    "print(abnormalUsers.shape[0])"
   ]
  },
  {
   "cell_type": "markdown",
   "metadata": {},
   "source": [
    "Итого - 58 пользователей из покупающих часто и много."
   ]
  },
  {
   "cell_type": "code",
   "execution_count": 41,
   "metadata": {},
   "outputs": [],
   "source": [
    "# Посчитаем статистическую значимость различий в среднем количестве заказов между группами теста по очищенным данным,\n",
    "# подготовим выборки количества заказов по пользователям по группам теста:"
   ]
  },
  {
   "cell_type": "code",
   "execution_count": 42,
   "metadata": {},
   "outputs": [],
   "source": [
    "sampleAFiltered = pd.concat([ordersByUsersA[np.logical_not(ordersByUsersA['visitorId'].isin(abnormalUsers))]['orders'],\n",
    "pd.Series(0, index=np.arange(data['visitorsPerDateA'].sum() - len(ordersByUsersA['orders'])), name='orders',),], axis=0,)\n",
    "\n",
    "sampleBFiltered = pd.concat([ordersByUsersB[np.logical_not(ordersByUsersB['visitorId'].isin(abnormalUsers))]['orders'],\n",
    "pd.Series(0, index=np.arange(data['visitorsPerDateB'].sum() - len(ordersByUsersB['orders'])), name='orders',),], axis=0,)"
   ]
  },
  {
   "cell_type": "markdown",
   "metadata": {},
   "source": [
    "Сформулируем гипотезы:\n",
    "    \n",
    "Н0 - Нет различий в очищенном среднем количестве заказов между группами;\n",
    "Н1 - Есть различия в очищенном среднем количестве заказов между группами."
   ]
  },
  {
   "cell_type": "code",
   "execution_count": 43,
   "metadata": {},
   "outputs": [
    {
     "name": "stdout",
     "output_type": "stream",
     "text": [
      "Значение p-value: 0.012\n",
      "Относительное превосходство группы В: 0.182\n"
     ]
    }
   ],
   "source": [
    "# Чтобы рассчитать статистическую значимость различий в среднем количестве, передадим критерию mannwhitneyu() данные о заказах\n",
    "print(f'Значение p-value: ' '{0:.3f}'.format(stats.mannwhitneyu(sampleAFiltered, sampleBFiltered)[1]))\n",
    "print(f'Относительное превосходство группы В: ' '{0:.3f}'.format(sampleBFiltered.mean()/sampleAFiltered.mean()-1))"
   ]
  },
  {
   "cell_type": "markdown",
   "metadata": {},
   "source": [
    "**Значение p-value=0.01 меньше alpha=0.05 - отвергаем нулевую гипотезу.\n",
    "\n",
    "**Относительное превосходство группы B 18,2% является значимым."
   ]
  },
  {
   "cell_type": "markdown",
   "metadata": {},
   "source": [
    "### Выводы и предположения\n",
    "\n",
    "По уточнённым данным, группа В превосходит группу А по среднему количеству заказов на 18,2%."
   ]
  },
  {
   "cell_type": "markdown",
   "metadata": {},
   "source": [
    "## Посчитаем статистическую значимость различий в среднем чеке заказа между группами по «очищенным» данным "
   ]
  },
  {
   "cell_type": "markdown",
   "metadata": {},
   "source": [
    "Сформулируем гипотезы:\n",
    "    \n",
    "Н0 - Нет различий в очищенном среднем чеке заказа между группами;\n",
    "Н1 - Есть различия в очищенном среднем чеке заказа между группами."
   ]
  },
  {
   "cell_type": "code",
   "execution_count": 44,
   "metadata": {},
   "outputs": [
    {
     "name": "stdout",
     "output_type": "stream",
     "text": [
      "Значение p-value: 0.646\n",
      "Относительное превосходство группы В: -0.048\n"
     ]
    }
   ],
   "source": [
    "print(f'Значение p-value: ' '{0:.3f}'.format(stats.mannwhitneyu(orders[\n",
    "np.logical_and(orders['group'] == 'A',\n",
    "np.logical_not(orders['visitorId'].isin(abnormalUsers)),)]['revenue'],orders[np.logical_and(orders['group'] == 'B',\n",
    "np.logical_not(orders['visitorId'].isin(abnormalUsers)),)]['revenue'],)[1]))\n",
    "\n",
    "print(f'Относительное превосходство группы В: ' \"{0:.3f}\".format( orders[\n",
    "np.logical_and(orders['group'] == 'B',              \n",
    "np.logical_not(orders['visitorId'].isin(abnormalUsers)),)]['revenue'].mean()/ orders[\n",
    "np.logical_and(orders['group'] == 'A',\n",
    "np.logical_not(orders['visitorId'].isin(abnormalUsers)),)]['revenue'].mean()- 1))"
   ]
  },
  {
   "cell_type": "markdown",
   "metadata": {},
   "source": [
    "**Значение p-value=0.73 больше alpha=0.05 - не отвергаем нулевую гипотезу.\n",
    "\n",
    "**Относительное превосходство в среднем чеке заказа группы А=0,04% не является значимым."
   ]
  },
  {
   "cell_type": "markdown",
   "metadata": {},
   "source": [
    "### Выводы и предположения\n",
    "\n",
    "Так как нулевая гипотеза не отвергнута, считатаем, что по уточнённым данным различий в среднем чеке заказа нет."
   ]
  },
  {
   "cell_type": "markdown",
   "metadata": {},
   "source": [
    "# Решение по результатам теста"
   ]
  },
  {
   "cell_type": "markdown",
   "metadata": {},
   "source": [
    "По \"сырым\" данным группа В превосходит группу А по количеству заказов, по уточнённым - также превосходит на приблизительные 18,2%.\n",
    "\n",
    "По \"сырым\" данным группа В не превосходит группу А по среднему чеку, по уточнённым - по-прежнему не превосходит.\n",
    "\n",
    "График различия СКЧ между группами сообщает, что результаты группы B лучше группы A: зафиксировались около среднего значения, но с лёгкой тенденцией к снижению.\n",
    "\n",
    "График конверсии демонстрирует превосходство группы Б, но исключительно относительное - в абсолютных значениях оба имеют  тенденцию к снижению.\n",
    "\n",
    "Тест остановлен, побеждает группа Б."
   ]
  },
  {
   "cell_type": "markdown",
   "metadata": {},
   "source": [
    "# Итоги"
   ]
  },
  {
   "cell_type": "markdown",
   "metadata": {},
   "source": [
    "Согласно методике RICE были выбраны гипотезы:\n",
    "\n",
    "7 - добавить форму подписки на все основные страницы, чтобы собрать базу клиентов для email-рассылок;\n",
    "2 - добавить блоки рекомендаций товаров на сайт интернет магазина, чтобы повысить конверсию и средний чек заказа;\n",
    "0 - добавить два новых канала привлечения трафика, что позволит привлекать на 30% больше пользователей.\n",
    "\n",
    "Так как во время тестирования было выявлено, что превосходства по среднему чеку между группами нет, но группа группа В превосходит группу А по количеству заказов, при том, что основное масса делает не более двух покупок внутри одного заказа, можно уверенно предположить, что преимущество обеспечено количественным превосходством членов группы В.\n",
    "\n",
    "Исходя из вышеперечисленного, можно уверенно предположить, что стратегия по привлечению новых покупаетелей в виде гипотез 7 и 0 полностью оправдалась, гипотеза 2 не получила выраженного подтверждения.\n",
    "\n",
    "Гипотезы проверялись на протяжении ограниченного количества времени - всего лишь 31 день, и говорить об устоявшейся тенденции нельзя.\n",
    "\n",
    "Поведение всех групп демонстрирует тенденцию к затуханию спроса, из-за чего стратегия нуждается в пересмотре в сторону большей конверсии посетителей и/или расширении предложения для выбирания всей доступной покупательской способности среди существующей аудитории."
   ]
  }
 ],
 "metadata": {
  "ExecuteTimeLog": [
   {
    "duration": 428,
    "start_time": "2024-12-16T15:38:25.845Z"
   },
   {
    "duration": 78,
    "start_time": "2024-12-16T15:38:27.773Z"
   },
   {
    "duration": 7,
    "start_time": "2024-12-16T15:38:29.701Z"
   },
   {
    "duration": 103,
    "start_time": "2024-12-16T15:39:52.618Z"
   },
   {
    "duration": 7,
    "start_time": "2024-12-16T15:39:59.012Z"
   },
   {
    "duration": 113,
    "start_time": "2024-12-16T15:42:35.434Z"
   },
   {
    "duration": 6,
    "start_time": "2024-12-16T15:42:37.562Z"
   },
   {
    "duration": 4,
    "start_time": "2024-12-17T07:12:55.461Z"
   },
   {
    "duration": 746,
    "start_time": "2024-12-17T07:13:12.421Z"
   },
   {
    "duration": 5,
    "start_time": "2024-12-17T07:13:27.703Z"
   },
   {
    "duration": 10,
    "start_time": "2024-12-17T07:13:59.831Z"
   },
   {
    "duration": 4,
    "start_time": "2024-12-17T07:14:58.222Z"
   },
   {
    "duration": 6,
    "start_time": "2024-12-17T07:15:09.037Z"
   },
   {
    "duration": 5,
    "start_time": "2024-12-17T07:19:40.064Z"
   },
   {
    "duration": 8,
    "start_time": "2024-12-17T07:20:07.058Z"
   },
   {
    "duration": 5,
    "start_time": "2024-12-17T07:21:23.449Z"
   },
   {
    "duration": 6,
    "start_time": "2024-12-17T07:21:41.929Z"
   },
   {
    "duration": 6,
    "start_time": "2024-12-17T07:22:10.704Z"
   },
   {
    "duration": 410,
    "start_time": "2024-12-17T07:23:18.635Z"
   },
   {
    "duration": 71,
    "start_time": "2024-12-17T07:23:19.046Z"
   },
   {
    "duration": 7,
    "start_time": "2024-12-17T07:23:19.119Z"
   },
   {
    "duration": 4,
    "start_time": "2024-12-17T07:23:19.128Z"
   },
   {
    "duration": 4,
    "start_time": "2024-12-17T07:23:19.134Z"
   },
   {
    "duration": 4,
    "start_time": "2024-12-17T07:23:19.139Z"
   },
   {
    "duration": 5,
    "start_time": "2024-12-17T07:23:19.144Z"
   },
   {
    "duration": 64,
    "start_time": "2024-12-17T07:24:30.841Z"
   },
   {
    "duration": 6,
    "start_time": "2024-12-17T07:34:34.755Z"
   },
   {
    "duration": 11,
    "start_time": "2024-12-17T07:35:07.729Z"
   },
   {
    "duration": 387,
    "start_time": "2024-12-17T07:35:24.793Z"
   },
   {
    "duration": 3,
    "start_time": "2024-12-17T08:21:53.541Z"
   },
   {
    "duration": 77,
    "start_time": "2024-12-17T08:22:48.926Z"
   },
   {
    "duration": 51,
    "start_time": "2024-12-17T08:22:57.468Z"
   },
   {
    "duration": 40,
    "start_time": "2024-12-17T08:23:04.414Z"
   },
   {
    "duration": 7,
    "start_time": "2024-12-17T08:23:14.902Z"
   },
   {
    "duration": 10,
    "start_time": "2024-12-17T11:16:25.915Z"
   },
   {
    "duration": 11,
    "start_time": "2024-12-17T11:16:35.874Z"
   },
   {
    "duration": 10,
    "start_time": "2024-12-17T11:16:49.026Z"
   },
   {
    "duration": 10,
    "start_time": "2024-12-17T11:17:18.362Z"
   },
   {
    "duration": 11,
    "start_time": "2024-12-17T11:18:22.402Z"
   },
   {
    "duration": 7,
    "start_time": "2024-12-17T11:19:40.384Z"
   },
   {
    "duration": 71,
    "start_time": "2024-12-17T11:20:09.472Z"
   },
   {
    "duration": 12,
    "start_time": "2024-12-17T11:20:21.776Z"
   },
   {
    "duration": 17,
    "start_time": "2024-12-17T11:20:24.424Z"
   },
   {
    "duration": 6,
    "start_time": "2024-12-17T11:20:32.937Z"
   },
   {
    "duration": 3,
    "start_time": "2024-12-17T11:21:01.198Z"
   },
   {
    "duration": 93,
    "start_time": "2024-12-17T11:21:01.202Z"
   },
   {
    "duration": 13,
    "start_time": "2024-12-17T11:21:01.296Z"
   },
   {
    "duration": 12,
    "start_time": "2024-12-17T11:21:01.310Z"
   },
   {
    "duration": 4,
    "start_time": "2024-12-17T11:21:01.324Z"
   },
   {
    "duration": 12,
    "start_time": "2024-12-17T11:21:01.329Z"
   },
   {
    "duration": 25,
    "start_time": "2024-12-17T11:21:01.342Z"
   },
   {
    "duration": 15,
    "start_time": "2024-12-17T11:21:01.368Z"
   },
   {
    "duration": 5,
    "start_time": "2024-12-17T11:21:05.591Z"
   },
   {
    "duration": 4,
    "start_time": "2024-12-17T11:21:36.431Z"
   },
   {
    "duration": 5,
    "start_time": "2024-12-17T11:21:41.271Z"
   },
   {
    "duration": 9,
    "start_time": "2024-12-17T11:21:48.103Z"
   },
   {
    "duration": 7,
    "start_time": "2024-12-17T11:22:03.575Z"
   },
   {
    "duration": 39,
    "start_time": "2024-12-17T11:23:07.486Z"
   },
   {
    "duration": 7,
    "start_time": "2024-12-17T11:23:27.758Z"
   },
   {
    "duration": 6,
    "start_time": "2024-12-17T11:24:43.797Z"
   },
   {
    "duration": 9,
    "start_time": "2024-12-17T11:24:53.837Z"
   },
   {
    "duration": 38,
    "start_time": "2024-12-17T11:26:07.764Z"
   },
   {
    "duration": 8,
    "start_time": "2024-12-17T11:26:18.419Z"
   },
   {
    "duration": 11,
    "start_time": "2024-12-17T11:29:43.954Z"
   },
   {
    "duration": 11,
    "start_time": "2024-12-17T11:30:26.073Z"
   },
   {
    "duration": 9,
    "start_time": "2024-12-17T11:31:15.601Z"
   },
   {
    "duration": 11,
    "start_time": "2024-12-17T11:31:24.928Z"
   },
   {
    "duration": 6,
    "start_time": "2024-12-17T11:31:32.888Z"
   },
   {
    "duration": 11,
    "start_time": "2024-12-17T11:31:37.801Z"
   },
   {
    "duration": 10,
    "start_time": "2024-12-17T11:31:45.065Z"
   },
   {
    "duration": 14,
    "start_time": "2024-12-17T11:33:48.303Z"
   },
   {
    "duration": 43,
    "start_time": "2024-12-17T11:34:49.934Z"
   },
   {
    "duration": 379,
    "start_time": "2024-12-17T11:35:56.367Z"
   },
   {
    "duration": 73,
    "start_time": "2024-12-17T11:35:56.747Z"
   },
   {
    "duration": 63,
    "start_time": "2024-12-17T11:35:56.822Z"
   },
   {
    "duration": 0,
    "start_time": "2024-12-17T11:35:56.887Z"
   },
   {
    "duration": 0,
    "start_time": "2024-12-17T11:35:56.887Z"
   },
   {
    "duration": 0,
    "start_time": "2024-12-17T11:35:56.889Z"
   },
   {
    "duration": 0,
    "start_time": "2024-12-17T11:35:56.890Z"
   },
   {
    "duration": 0,
    "start_time": "2024-12-17T11:35:56.890Z"
   },
   {
    "duration": 0,
    "start_time": "2024-12-17T11:35:56.891Z"
   },
   {
    "duration": 0,
    "start_time": "2024-12-17T11:35:56.892Z"
   },
   {
    "duration": 0,
    "start_time": "2024-12-17T11:35:56.893Z"
   },
   {
    "duration": 0,
    "start_time": "2024-12-17T11:35:56.894Z"
   },
   {
    "duration": 0,
    "start_time": "2024-12-17T11:35:56.894Z"
   },
   {
    "duration": 0,
    "start_time": "2024-12-17T11:35:56.895Z"
   },
   {
    "duration": 0,
    "start_time": "2024-12-17T11:35:56.896Z"
   },
   {
    "duration": 0,
    "start_time": "2024-12-17T11:35:56.897Z"
   },
   {
    "duration": 3,
    "start_time": "2024-12-17T11:36:16.385Z"
   },
   {
    "duration": 90,
    "start_time": "2024-12-17T11:36:16.390Z"
   },
   {
    "duration": 5,
    "start_time": "2024-12-17T11:36:16.482Z"
   },
   {
    "duration": 13,
    "start_time": "2024-12-17T11:36:16.489Z"
   },
   {
    "duration": 4,
    "start_time": "2024-12-17T11:36:16.504Z"
   },
   {
    "duration": 5,
    "start_time": "2024-12-17T11:36:16.509Z"
   },
   {
    "duration": 19,
    "start_time": "2024-12-17T11:36:16.515Z"
   },
   {
    "duration": 4,
    "start_time": "2024-12-17T11:36:16.535Z"
   },
   {
    "duration": 54,
    "start_time": "2024-12-17T11:36:16.540Z"
   },
   {
    "duration": 4,
    "start_time": "2024-12-17T11:36:16.595Z"
   },
   {
    "duration": 48,
    "start_time": "2024-12-17T11:36:16.600Z"
   },
   {
    "duration": 13,
    "start_time": "2024-12-17T11:36:16.650Z"
   },
   {
    "duration": 11,
    "start_time": "2024-12-17T11:36:16.665Z"
   },
   {
    "duration": 41,
    "start_time": "2024-12-17T11:36:16.678Z"
   },
   {
    "duration": 34,
    "start_time": "2024-12-17T11:36:16.721Z"
   },
   {
    "duration": 43,
    "start_time": "2024-12-17T11:36:29.015Z"
   },
   {
    "duration": 20,
    "start_time": "2024-12-17T11:37:39.223Z"
   },
   {
    "duration": 72,
    "start_time": "2024-12-17T11:38:00.534Z"
   },
   {
    "duration": 14,
    "start_time": "2024-12-17T11:38:15.630Z"
   },
   {
    "duration": 379,
    "start_time": "2024-12-17T11:39:10.712Z"
   },
   {
    "duration": 80,
    "start_time": "2024-12-17T11:39:11.093Z"
   },
   {
    "duration": 5,
    "start_time": "2024-12-17T11:39:11.175Z"
   },
   {
    "duration": 7,
    "start_time": "2024-12-17T11:39:11.181Z"
   },
   {
    "duration": 5,
    "start_time": "2024-12-17T11:39:11.190Z"
   },
   {
    "duration": 4,
    "start_time": "2024-12-17T11:39:11.196Z"
   },
   {
    "duration": 4,
    "start_time": "2024-12-17T11:39:11.202Z"
   },
   {
    "duration": 57,
    "start_time": "2024-12-17T11:39:11.207Z"
   },
   {
    "duration": 3,
    "start_time": "2024-12-17T11:39:11.266Z"
   },
   {
    "duration": 40,
    "start_time": "2024-12-17T11:39:11.271Z"
   },
   {
    "duration": 13,
    "start_time": "2024-12-17T11:39:11.312Z"
   },
   {
    "duration": 59,
    "start_time": "2024-12-17T11:39:11.326Z"
   },
   {
    "duration": 12,
    "start_time": "2024-12-17T11:39:11.386Z"
   },
   {
    "duration": 58,
    "start_time": "2024-12-17T11:39:11.400Z"
   },
   {
    "duration": 18,
    "start_time": "2024-12-17T11:39:11.461Z"
   },
   {
    "duration": 19,
    "start_time": "2024-12-17T11:39:14.287Z"
   },
   {
    "duration": 423,
    "start_time": "2024-12-17T11:42:30.333Z"
   },
   {
    "duration": 74,
    "start_time": "2024-12-17T11:42:42.469Z"
   },
   {
    "duration": 867,
    "start_time": "2024-12-17T11:44:34.572Z"
   },
   {
    "duration": 9,
    "start_time": "2024-12-17T11:45:39.316Z"
   },
   {
    "duration": 1062,
    "start_time": "2024-12-17T11:46:28.483Z"
   },
   {
    "duration": 220,
    "start_time": "2024-12-17T11:46:45.682Z"
   },
   {
    "duration": 209,
    "start_time": "2024-12-17T11:47:05.778Z"
   },
   {
    "duration": 367,
    "start_time": "2024-12-17T11:47:58.017Z"
   },
   {
    "duration": 208,
    "start_time": "2024-12-17T11:48:13.913Z"
   },
   {
    "duration": 220,
    "start_time": "2024-12-17T11:48:26.401Z"
   },
   {
    "duration": 218,
    "start_time": "2024-12-17T11:48:32.152Z"
   },
   {
    "duration": 354,
    "start_time": "2024-12-17T11:49:25.552Z"
   },
   {
    "duration": 219,
    "start_time": "2024-12-17T11:50:20.720Z"
   },
   {
    "duration": 208,
    "start_time": "2024-12-17T11:52:18.430Z"
   },
   {
    "duration": 310,
    "start_time": "2024-12-17T11:53:40.181Z"
   },
   {
    "duration": 379,
    "start_time": "2024-12-17T11:53:46.037Z"
   },
   {
    "duration": 225,
    "start_time": "2024-12-17T11:53:52.421Z"
   },
   {
    "duration": 200,
    "start_time": "2024-12-17T11:54:17.493Z"
   },
   {
    "duration": 3,
    "start_time": "2024-12-17T11:55:13.836Z"
   },
   {
    "duration": 248,
    "start_time": "2024-12-17T11:55:19.276Z"
   },
   {
    "duration": 253,
    "start_time": "2024-12-17T11:55:37.588Z"
   },
   {
    "duration": 4,
    "start_time": "2024-12-17T11:55:59.891Z"
   },
   {
    "duration": 269,
    "start_time": "2024-12-17T11:56:04.331Z"
   },
   {
    "duration": 11,
    "start_time": "2024-12-17T11:57:34.883Z"
   },
   {
    "duration": 4,
    "start_time": "2024-12-17T11:58:11.122Z"
   },
   {
    "duration": 282,
    "start_time": "2024-12-17T11:58:15.363Z"
   },
   {
    "duration": 293,
    "start_time": "2024-12-17T11:59:38.313Z"
   },
   {
    "duration": 68,
    "start_time": "2024-12-17T12:00:15.169Z"
   },
   {
    "duration": 305,
    "start_time": "2024-12-17T12:00:25.498Z"
   },
   {
    "duration": 534,
    "start_time": "2024-12-17T12:00:38.400Z"
   },
   {
    "duration": 558,
    "start_time": "2024-12-17T12:00:46.673Z"
   },
   {
    "duration": 273,
    "start_time": "2024-12-17T12:00:59.576Z"
   },
   {
    "duration": 484,
    "start_time": "2024-12-17T12:01:12.280Z"
   },
   {
    "duration": 454,
    "start_time": "2024-12-17T12:01:44.143Z"
   },
   {
    "duration": 460,
    "start_time": "2024-12-17T12:01:53.568Z"
   },
   {
    "duration": 8,
    "start_time": "2024-12-17T12:27:25.613Z"
   },
   {
    "duration": 14,
    "start_time": "2024-12-17T12:27:55.037Z"
   },
   {
    "duration": 8,
    "start_time": "2024-12-17T12:30:01.397Z"
   },
   {
    "duration": 954,
    "start_time": "2024-12-17T12:30:55.419Z"
   },
   {
    "duration": 268,
    "start_time": "2024-12-17T12:31:35.491Z"
   },
   {
    "duration": 488,
    "start_time": "2024-12-17T12:32:02.947Z"
   },
   {
    "duration": 474,
    "start_time": "2024-12-17T12:32:44.962Z"
   },
   {
    "duration": 14,
    "start_time": "2024-12-17T17:21:41.255Z"
   },
   {
    "duration": 9,
    "start_time": "2024-12-17T17:21:56.385Z"
   },
   {
    "duration": 9,
    "start_time": "2024-12-17T17:23:00.038Z"
   },
   {
    "duration": 3,
    "start_time": "2024-12-17T17:23:51.621Z"
   },
   {
    "duration": 3,
    "start_time": "2024-12-17T17:23:51.627Z"
   },
   {
    "duration": 73,
    "start_time": "2024-12-17T17:23:51.631Z"
   },
   {
    "duration": 4,
    "start_time": "2024-12-17T17:23:51.706Z"
   },
   {
    "duration": 5,
    "start_time": "2024-12-17T17:23:51.712Z"
   },
   {
    "duration": 7,
    "start_time": "2024-12-17T17:23:51.718Z"
   },
   {
    "duration": 5,
    "start_time": "2024-12-17T17:23:51.726Z"
   },
   {
    "duration": 6,
    "start_time": "2024-12-17T17:23:51.732Z"
   },
   {
    "duration": 45,
    "start_time": "2024-12-17T17:23:51.739Z"
   },
   {
    "duration": 5,
    "start_time": "2024-12-17T17:23:51.786Z"
   },
   {
    "duration": 41,
    "start_time": "2024-12-17T17:23:51.792Z"
   },
   {
    "duration": 13,
    "start_time": "2024-12-17T17:23:51.835Z"
   },
   {
    "duration": 40,
    "start_time": "2024-12-17T17:23:51.850Z"
   },
   {
    "duration": 12,
    "start_time": "2024-12-17T17:23:51.892Z"
   },
   {
    "duration": 61,
    "start_time": "2024-12-17T17:23:51.906Z"
   },
   {
    "duration": 29,
    "start_time": "2024-12-17T17:23:51.969Z"
   },
   {
    "duration": 455,
    "start_time": "2024-12-17T17:23:51.999Z"
   },
   {
    "duration": 490,
    "start_time": "2024-12-17T17:23:52.456Z"
   },
   {
    "duration": 10,
    "start_time": "2024-12-17T17:23:52.947Z"
   },
   {
    "duration": 8,
    "start_time": "2024-12-17T17:23:55.606Z"
   },
   {
    "duration": 10,
    "start_time": "2024-12-17T17:25:37.541Z"
   },
   {
    "duration": 7,
    "start_time": "2024-12-17T17:27:53.787Z"
   },
   {
    "duration": 7,
    "start_time": "2024-12-17T17:28:25.339Z"
   },
   {
    "duration": 2,
    "start_time": "2024-12-17T17:29:02.363Z"
   },
   {
    "duration": 5,
    "start_time": "2024-12-17T17:29:14.779Z"
   },
   {
    "duration": 417,
    "start_time": "2024-12-17T17:30:03.290Z"
   },
   {
    "duration": 11,
    "start_time": "2024-12-17T17:30:21.170Z"
   },
   {
    "duration": 4,
    "start_time": "2024-12-17T17:30:30.418Z"
   },
   {
    "duration": 8,
    "start_time": "2024-12-17T17:30:33.033Z"
   },
   {
    "duration": 3,
    "start_time": "2024-12-17T17:31:00.658Z"
   },
   {
    "duration": 5,
    "start_time": "2024-12-17T17:31:05.266Z"
   },
   {
    "duration": 755,
    "start_time": "2024-12-17T17:31:12.009Z"
   },
   {
    "duration": 8,
    "start_time": "2024-12-17T17:32:00.320Z"
   },
   {
    "duration": 612,
    "start_time": "2024-12-17T17:33:08.421Z"
   },
   {
    "duration": 2,
    "start_time": "2024-12-17T17:33:09.035Z"
   },
   {
    "duration": 76,
    "start_time": "2024-12-17T17:33:09.039Z"
   },
   {
    "duration": 5,
    "start_time": "2024-12-17T17:33:09.117Z"
   },
   {
    "duration": 7,
    "start_time": "2024-12-17T17:33:09.123Z"
   },
   {
    "duration": 4,
    "start_time": "2024-12-17T17:33:09.131Z"
   },
   {
    "duration": 4,
    "start_time": "2024-12-17T17:33:09.137Z"
   },
   {
    "duration": 5,
    "start_time": "2024-12-17T17:33:09.143Z"
   },
   {
    "duration": 43,
    "start_time": "2024-12-17T17:33:09.149Z"
   },
   {
    "duration": 4,
    "start_time": "2024-12-17T17:33:09.194Z"
   },
   {
    "duration": 49,
    "start_time": "2024-12-17T17:33:09.199Z"
   },
   {
    "duration": 23,
    "start_time": "2024-12-17T17:33:09.249Z"
   },
   {
    "duration": 41,
    "start_time": "2024-12-17T17:33:09.274Z"
   },
   {
    "duration": 12,
    "start_time": "2024-12-17T17:33:09.316Z"
   },
   {
    "duration": 46,
    "start_time": "2024-12-17T17:33:09.330Z"
   },
   {
    "duration": 20,
    "start_time": "2024-12-17T17:33:09.378Z"
   },
   {
    "duration": 473,
    "start_time": "2024-12-17T17:33:09.399Z"
   },
   {
    "duration": 473,
    "start_time": "2024-12-17T17:33:09.874Z"
   },
   {
    "duration": 12,
    "start_time": "2024-12-17T17:33:10.348Z"
   },
   {
    "duration": 2,
    "start_time": "2024-12-17T17:33:10.361Z"
   },
   {
    "duration": 5,
    "start_time": "2024-12-17T17:33:10.365Z"
   },
   {
    "duration": 85,
    "start_time": "2024-12-17T17:33:10.372Z"
   },
   {
    "duration": 7,
    "start_time": "2024-12-17T17:36:18.812Z"
   },
   {
    "duration": 8,
    "start_time": "2024-12-17T17:39:08.122Z"
   },
   {
    "duration": 353,
    "start_time": "2024-12-17T17:39:34.778Z"
   },
   {
    "duration": 571,
    "start_time": "2024-12-17T17:40:09.753Z"
   },
   {
    "duration": 6,
    "start_time": "2024-12-17T17:48:09.116Z"
   },
   {
    "duration": 14,
    "start_time": "2024-12-17T17:48:15.620Z"
   },
   {
    "duration": 13,
    "start_time": "2024-12-17T17:51:25.794Z"
   },
   {
    "duration": 11,
    "start_time": "2024-12-17T17:51:34.346Z"
   },
   {
    "duration": 8,
    "start_time": "2024-12-17T17:51:45.401Z"
   },
   {
    "duration": 8,
    "start_time": "2024-12-17T17:52:14.393Z"
   },
   {
    "duration": 8,
    "start_time": "2024-12-17T17:52:25.617Z"
   },
   {
    "duration": 10,
    "start_time": "2024-12-17T17:53:17.880Z"
   },
   {
    "duration": 9,
    "start_time": "2024-12-17T17:55:16.310Z"
   },
   {
    "duration": 4,
    "start_time": "2024-12-17T17:56:14.886Z"
   },
   {
    "duration": 6,
    "start_time": "2024-12-17T17:56:20.414Z"
   },
   {
    "duration": 10,
    "start_time": "2024-12-17T17:56:29.774Z"
   },
   {
    "duration": 447,
    "start_time": "2024-12-18T10:41:03.344Z"
   },
   {
    "duration": 418,
    "start_time": "2024-12-18T10:41:09.629Z"
   },
   {
    "duration": 546,
    "start_time": "2024-12-18T10:41:16.581Z"
   },
   {
    "duration": 1079,
    "start_time": "2024-12-18T10:47:37.304Z"
   },
   {
    "duration": 8,
    "start_time": "2024-12-18T12:52:29.593Z"
   },
   {
    "duration": 5,
    "start_time": "2024-12-18T12:52:37.897Z"
   },
   {
    "duration": 8,
    "start_time": "2024-12-18T12:52:44.977Z"
   },
   {
    "duration": 21,
    "start_time": "2024-12-18T12:53:37.832Z"
   },
   {
    "duration": 10,
    "start_time": "2024-12-18T12:53:59.231Z"
   },
   {
    "duration": 15,
    "start_time": "2024-12-18T12:54:58.007Z"
   },
   {
    "duration": 144,
    "start_time": "2024-12-18T12:55:26.015Z"
   },
   {
    "duration": 10,
    "start_time": "2024-12-18T12:55:41.367Z"
   },
   {
    "duration": 111,
    "start_time": "2024-12-18T12:57:20.949Z"
   },
   {
    "duration": 10,
    "start_time": "2024-12-18T12:57:32.148Z"
   },
   {
    "duration": 21,
    "start_time": "2024-12-18T12:59:18.988Z"
   },
   {
    "duration": 231,
    "start_time": "2024-12-18T13:00:04.925Z"
   },
   {
    "duration": 12,
    "start_time": "2024-12-18T13:00:14.475Z"
   },
   {
    "duration": 276,
    "start_time": "2024-12-18T13:01:22.359Z"
   },
   {
    "duration": 442,
    "start_time": "2024-12-18T13:01:49.386Z"
   },
   {
    "duration": 440,
    "start_time": "2024-12-18T13:01:54.530Z"
   },
   {
    "duration": 462,
    "start_time": "2024-12-18T13:02:18.489Z"
   },
   {
    "duration": 336,
    "start_time": "2024-12-18T13:04:32.824Z"
   },
   {
    "duration": 507,
    "start_time": "2024-12-18T13:05:05.839Z"
   },
   {
    "duration": 412,
    "start_time": "2024-12-18T13:17:43.046Z"
   },
   {
    "duration": 514,
    "start_time": "2024-12-18T13:18:01.743Z"
   },
   {
    "duration": 481,
    "start_time": "2024-12-18T13:18:24.766Z"
   },
   {
    "duration": 265,
    "start_time": "2024-12-18T13:26:54.104Z"
   },
   {
    "duration": 285,
    "start_time": "2024-12-18T13:27:12.096Z"
   },
   {
    "duration": 470,
    "start_time": "2024-12-18T13:27:29.184Z"
   },
   {
    "duration": 11,
    "start_time": "2024-12-18T13:28:21.775Z"
   },
   {
    "duration": 14,
    "start_time": "2024-12-18T13:38:38.943Z"
   },
   {
    "duration": 1252,
    "start_time": "2024-12-18T13:39:02.072Z"
   },
   {
    "duration": 153,
    "start_time": "2024-12-18T13:39:56.407Z"
   },
   {
    "duration": 160,
    "start_time": "2024-12-18T13:40:41.310Z"
   },
   {
    "duration": 156,
    "start_time": "2024-12-18T13:40:58.358Z"
   },
   {
    "duration": 166,
    "start_time": "2024-12-18T13:42:13.525Z"
   },
   {
    "duration": 10,
    "start_time": "2024-12-18T13:43:27.332Z"
   },
   {
    "duration": 10,
    "start_time": "2024-12-18T13:43:53.890Z"
   },
   {
    "duration": 11,
    "start_time": "2024-12-18T13:51:06.975Z"
   },
   {
    "duration": 169,
    "start_time": "2024-12-18T13:52:04.094Z"
   },
   {
    "duration": 4,
    "start_time": "2024-12-18T13:56:52.386Z"
   },
   {
    "duration": 10,
    "start_time": "2024-12-18T14:05:49.956Z"
   },
   {
    "duration": 8,
    "start_time": "2024-12-18T14:06:43.220Z"
   },
   {
    "duration": 8,
    "start_time": "2024-12-18T14:07:02.488Z"
   },
   {
    "duration": 12,
    "start_time": "2024-12-18T14:11:21.553Z"
   },
   {
    "duration": 16,
    "start_time": "2024-12-18T14:12:03.281Z"
   },
   {
    "duration": 10,
    "start_time": "2024-12-18T14:12:13.733Z"
   },
   {
    "duration": 142,
    "start_time": "2024-12-18T14:14:16.510Z"
   },
   {
    "duration": 210,
    "start_time": "2024-12-18T14:14:39.711Z"
   },
   {
    "duration": 6,
    "start_time": "2024-12-18T14:17:36.188Z"
   },
   {
    "duration": 155,
    "start_time": "2024-12-18T14:31:50.225Z"
   },
   {
    "duration": 159,
    "start_time": "2024-12-18T14:34:14.334Z"
   },
   {
    "duration": 9,
    "start_time": "2024-12-18T14:38:47.178Z"
   },
   {
    "duration": 4,
    "start_time": "2024-12-18T14:45:05.853Z"
   },
   {
    "duration": 8,
    "start_time": "2024-12-18T14:49:51.177Z"
   },
   {
    "duration": 15,
    "start_time": "2024-12-18T14:50:24.801Z"
   },
   {
    "duration": 7,
    "start_time": "2024-12-18T14:50:45.945Z"
   },
   {
    "duration": 13,
    "start_time": "2024-12-18T14:52:13.199Z"
   },
   {
    "duration": 130,
    "start_time": "2024-12-18T14:53:38.246Z"
   },
   {
    "duration": 127,
    "start_time": "2024-12-18T14:54:23.518Z"
   },
   {
    "duration": 7,
    "start_time": "2024-12-18T14:57:23.947Z"
   },
   {
    "duration": 7,
    "start_time": "2024-12-18T14:57:40.875Z"
   },
   {
    "duration": 7,
    "start_time": "2024-12-18T14:58:06.307Z"
   },
   {
    "duration": 8,
    "start_time": "2024-12-18T14:59:09.922Z"
   },
   {
    "duration": 5,
    "start_time": "2024-12-18T15:00:14.953Z"
   },
   {
    "duration": 5,
    "start_time": "2024-12-18T15:00:24.561Z"
   },
   {
    "duration": 7,
    "start_time": "2024-12-18T15:03:50.511Z"
   },
   {
    "duration": 376,
    "start_time": "2024-12-18T15:04:39.567Z"
   },
   {
    "duration": 23,
    "start_time": "2024-12-18T15:04:54.590Z"
   },
   {
    "duration": 19,
    "start_time": "2024-12-18T15:05:19.606Z"
   },
   {
    "duration": 20,
    "start_time": "2024-12-18T15:59:00.321Z"
   },
   {
    "duration": 9,
    "start_time": "2024-12-18T16:45:58.504Z"
   },
   {
    "duration": 149,
    "start_time": "2024-12-18T16:56:52.926Z"
   },
   {
    "duration": 59,
    "start_time": "2024-12-18T16:57:16.062Z"
   },
   {
    "duration": 141,
    "start_time": "2024-12-18T16:57:29.614Z"
   },
   {
    "duration": 1091,
    "start_time": "2024-12-18T17:04:02.577Z"
   },
   {
    "duration": 9,
    "start_time": "2024-12-18T17:04:31.344Z"
   },
   {
    "duration": 8,
    "start_time": "2024-12-18T17:06:08.359Z"
   },
   {
    "duration": 8,
    "start_time": "2024-12-18T17:06:13.087Z"
   },
   {
    "duration": 4,
    "start_time": "2024-12-18T17:06:52.655Z"
   },
   {
    "duration": 4,
    "start_time": "2024-12-18T17:07:22.966Z"
   },
   {
    "duration": 4,
    "start_time": "2024-12-18T17:09:22.141Z"
   },
   {
    "duration": 1089,
    "start_time": "2024-12-18T17:14:00.201Z"
   },
   {
    "duration": 7,
    "start_time": "2024-12-18T17:14:21.233Z"
   },
   {
    "duration": 6,
    "start_time": "2024-12-18T17:14:30.104Z"
   },
   {
    "duration": 20,
    "start_time": "2024-12-18T17:16:57.655Z"
   },
   {
    "duration": 1015,
    "start_time": "2024-12-18T17:28:23.950Z"
   },
   {
    "duration": 11,
    "start_time": "2024-12-18T17:28:38.695Z"
   },
   {
    "duration": 144,
    "start_time": "2024-12-19T09:02:35.234Z"
   },
   {
    "duration": 237,
    "start_time": "2024-12-19T09:03:26.793Z"
   },
   {
    "duration": 147,
    "start_time": "2024-12-19T09:04:35.841Z"
   },
   {
    "duration": 158,
    "start_time": "2024-12-19T09:05:19.600Z"
   },
   {
    "duration": 233,
    "start_time": "2024-12-19T09:06:01.968Z"
   },
   {
    "duration": 469,
    "start_time": "2024-12-19T09:06:53.239Z"
   },
   {
    "duration": 495,
    "start_time": "2024-12-19T09:06:59.336Z"
   },
   {
    "duration": 485,
    "start_time": "2024-12-19T09:07:40.087Z"
   },
   {
    "duration": 85,
    "start_time": "2024-12-19T09:09:51.189Z"
   },
   {
    "duration": 479,
    "start_time": "2024-12-19T09:10:05.197Z"
   },
   {
    "duration": 486,
    "start_time": "2024-12-19T09:10:22.237Z"
   },
   {
    "duration": 526,
    "start_time": "2024-12-19T09:12:25.892Z"
   },
   {
    "duration": 559,
    "start_time": "2024-12-19T09:12:42.203Z"
   },
   {
    "duration": 431,
    "start_time": "2024-12-19T09:13:22.811Z"
   },
   {
    "duration": 607,
    "start_time": "2024-12-19T09:13:56.026Z"
   },
   {
    "duration": 451,
    "start_time": "2024-12-19T09:19:56.823Z"
   },
   {
    "duration": 485,
    "start_time": "2024-12-19T09:20:11.342Z"
   },
   {
    "duration": 458,
    "start_time": "2024-12-19T09:20:27.694Z"
   },
   {
    "duration": 263,
    "start_time": "2024-12-19T09:25:31.330Z"
   },
   {
    "duration": 446,
    "start_time": "2024-12-19T09:25:57.602Z"
   },
   {
    "duration": 259,
    "start_time": "2024-12-19T09:27:32.217Z"
   },
   {
    "duration": 438,
    "start_time": "2024-12-19T09:27:36.625Z"
   },
   {
    "duration": 477,
    "start_time": "2024-12-19T09:27:49.250Z"
   },
   {
    "duration": 367,
    "start_time": "2024-12-19T09:27:57.688Z"
   },
   {
    "duration": 457,
    "start_time": "2024-12-19T09:28:22.184Z"
   },
   {
    "duration": 394,
    "start_time": "2024-12-19T09:28:27.944Z"
   },
   {
    "duration": 424,
    "start_time": "2024-12-19T09:28:51.048Z"
   },
   {
    "duration": 330,
    "start_time": "2024-12-19T09:29:16.255Z"
   },
   {
    "duration": 440,
    "start_time": "2024-12-19T09:29:40.599Z"
   },
   {
    "duration": 1135,
    "start_time": "2024-12-19T09:30:13.962Z"
   },
   {
    "duration": 3,
    "start_time": "2024-12-19T09:30:15.099Z"
   },
   {
    "duration": 150,
    "start_time": "2024-12-19T09:30:15.103Z"
   },
   {
    "duration": 6,
    "start_time": "2024-12-19T09:30:15.255Z"
   },
   {
    "duration": 29,
    "start_time": "2024-12-19T09:30:15.263Z"
   },
   {
    "duration": 36,
    "start_time": "2024-12-19T09:30:15.294Z"
   },
   {
    "duration": 50,
    "start_time": "2024-12-19T09:30:15.332Z"
   },
   {
    "duration": 27,
    "start_time": "2024-12-19T09:30:15.383Z"
   },
   {
    "duration": 60,
    "start_time": "2024-12-19T09:30:15.412Z"
   },
   {
    "duration": 4,
    "start_time": "2024-12-19T09:30:15.473Z"
   },
   {
    "duration": 122,
    "start_time": "2024-12-19T09:30:15.479Z"
   },
   {
    "duration": 18,
    "start_time": "2024-12-19T09:30:15.603Z"
   },
   {
    "duration": 44,
    "start_time": "2024-12-19T09:30:15.623Z"
   },
   {
    "duration": 20,
    "start_time": "2024-12-19T09:30:15.670Z"
   },
   {
    "duration": 59,
    "start_time": "2024-12-19T09:30:15.692Z"
   },
   {
    "duration": 22,
    "start_time": "2024-12-19T09:30:15.752Z"
   },
   {
    "duration": 347,
    "start_time": "2024-12-19T09:30:15.776Z"
   },
   {
    "duration": 340,
    "start_time": "2024-12-19T09:30:16.124Z"
   },
   {
    "duration": 407,
    "start_time": "2024-12-19T09:30:16.465Z"
   },
   {
    "duration": 5,
    "start_time": "2024-12-19T09:30:16.874Z"
   },
   {
    "duration": 153,
    "start_time": "2024-12-19T09:30:16.880Z"
   },
   {
    "duration": 99,
    "start_time": "2024-12-19T09:30:17.035Z"
   },
   {
    "duration": 311,
    "start_time": "2024-12-19T09:30:17.135Z"
   },
   {
    "duration": 347,
    "start_time": "2024-12-19T09:30:17.447Z"
   },
   {
    "duration": 444,
    "start_time": "2024-12-19T09:30:17.796Z"
   },
   {
    "duration": 116,
    "start_time": "2024-12-19T09:30:18.241Z"
   },
   {
    "duration": 0,
    "start_time": "2024-12-19T09:30:18.359Z"
   },
   {
    "duration": 0,
    "start_time": "2024-12-19T09:30:18.360Z"
   },
   {
    "duration": 0,
    "start_time": "2024-12-19T09:30:18.361Z"
   },
   {
    "duration": 0,
    "start_time": "2024-12-19T09:30:18.362Z"
   },
   {
    "duration": 0,
    "start_time": "2024-12-19T09:30:18.363Z"
   },
   {
    "duration": 0,
    "start_time": "2024-12-19T09:30:18.364Z"
   },
   {
    "duration": 0,
    "start_time": "2024-12-19T09:30:18.365Z"
   },
   {
    "duration": 0,
    "start_time": "2024-12-19T09:30:18.366Z"
   },
   {
    "duration": 0,
    "start_time": "2024-12-19T09:30:18.367Z"
   },
   {
    "duration": 0,
    "start_time": "2024-12-19T09:30:18.368Z"
   },
   {
    "duration": 0,
    "start_time": "2024-12-19T09:30:18.369Z"
   },
   {
    "duration": 0,
    "start_time": "2024-12-19T09:30:18.370Z"
   },
   {
    "duration": 0,
    "start_time": "2024-12-19T09:30:18.371Z"
   },
   {
    "duration": 0,
    "start_time": "2024-12-19T09:30:18.372Z"
   },
   {
    "duration": 0,
    "start_time": "2024-12-19T09:30:18.373Z"
   },
   {
    "duration": 1010,
    "start_time": "2024-12-19T09:32:55.485Z"
   },
   {
    "duration": 3,
    "start_time": "2024-12-19T09:32:56.496Z"
   },
   {
    "duration": 79,
    "start_time": "2024-12-19T09:32:56.500Z"
   },
   {
    "duration": 6,
    "start_time": "2024-12-19T09:32:56.581Z"
   },
   {
    "duration": 9,
    "start_time": "2024-12-19T09:32:56.588Z"
   },
   {
    "duration": 25,
    "start_time": "2024-12-19T09:32:56.598Z"
   },
   {
    "duration": 11,
    "start_time": "2024-12-19T09:32:56.626Z"
   },
   {
    "duration": 5,
    "start_time": "2024-12-19T09:32:56.638Z"
   },
   {
    "duration": 41,
    "start_time": "2024-12-19T09:32:56.644Z"
   },
   {
    "duration": 3,
    "start_time": "2024-12-19T09:32:56.688Z"
   },
   {
    "duration": 36,
    "start_time": "2024-12-19T09:32:56.693Z"
   },
   {
    "duration": 25,
    "start_time": "2024-12-19T09:32:56.730Z"
   },
   {
    "duration": 47,
    "start_time": "2024-12-19T09:32:56.756Z"
   },
   {
    "duration": 33,
    "start_time": "2024-12-19T09:32:56.805Z"
   },
   {
    "duration": 48,
    "start_time": "2024-12-19T09:32:56.839Z"
   },
   {
    "duration": 24,
    "start_time": "2024-12-19T09:32:56.889Z"
   },
   {
    "duration": 336,
    "start_time": "2024-12-19T09:32:56.914Z"
   },
   {
    "duration": 324,
    "start_time": "2024-12-19T09:32:57.251Z"
   },
   {
    "duration": 405,
    "start_time": "2024-12-19T09:32:57.577Z"
   },
   {
    "duration": 5,
    "start_time": "2024-12-19T09:32:57.983Z"
   },
   {
    "duration": 153,
    "start_time": "2024-12-19T09:32:57.990Z"
   },
   {
    "duration": 122,
    "start_time": "2024-12-19T09:32:58.146Z"
   },
   {
    "duration": 243,
    "start_time": "2024-12-19T09:32:58.270Z"
   },
   {
    "duration": 364,
    "start_time": "2024-12-19T09:32:58.514Z"
   },
   {
    "duration": 438,
    "start_time": "2024-12-19T09:32:58.880Z"
   },
   {
    "duration": 29,
    "start_time": "2024-12-19T09:32:59.320Z"
   },
   {
    "duration": 175,
    "start_time": "2024-12-19T09:32:59.351Z"
   },
   {
    "duration": 4,
    "start_time": "2024-12-19T09:32:59.529Z"
   },
   {
    "duration": 239,
    "start_time": "2024-12-19T09:32:59.545Z"
   },
   {
    "duration": 4,
    "start_time": "2024-12-19T09:32:59.785Z"
   },
   {
    "duration": 146,
    "start_time": "2024-12-19T09:32:59.790Z"
   },
   {
    "duration": 13,
    "start_time": "2024-12-19T09:32:59.938Z"
   },
   {
    "duration": 9,
    "start_time": "2024-12-19T09:32:59.953Z"
   },
   {
    "duration": 6,
    "start_time": "2024-12-19T09:32:59.964Z"
   },
   {
    "duration": 21,
    "start_time": "2024-12-19T09:32:59.972Z"
   },
   {
    "duration": 12,
    "start_time": "2024-12-19T09:32:59.995Z"
   },
   {
    "duration": 53,
    "start_time": "2024-12-19T09:33:00.009Z"
   },
   {
    "duration": 23,
    "start_time": "2024-12-19T09:33:00.064Z"
   },
   {
    "duration": 37,
    "start_time": "2024-12-19T09:33:00.089Z"
   },
   {
    "duration": 82,
    "start_time": "2024-12-19T09:33:00.128Z"
   },
   {
    "duration": 11,
    "start_time": "2024-12-19T09:33:00.211Z"
   },
   {
    "duration": 1055,
    "start_time": "2024-12-19T09:50:43.825Z"
   },
   {
    "duration": 2,
    "start_time": "2024-12-19T09:50:44.882Z"
   },
   {
    "duration": 108,
    "start_time": "2024-12-19T09:50:44.886Z"
   },
   {
    "duration": 5,
    "start_time": "2024-12-19T09:50:44.996Z"
   },
   {
    "duration": 55,
    "start_time": "2024-12-19T09:50:45.002Z"
   },
   {
    "duration": 31,
    "start_time": "2024-12-19T09:50:45.058Z"
   },
   {
    "duration": 22,
    "start_time": "2024-12-19T09:50:45.091Z"
   },
   {
    "duration": 19,
    "start_time": "2024-12-19T09:50:45.114Z"
   },
   {
    "duration": 73,
    "start_time": "2024-12-19T09:50:45.135Z"
   },
   {
    "duration": 4,
    "start_time": "2024-12-19T09:50:45.210Z"
   },
   {
    "duration": 67,
    "start_time": "2024-12-19T09:50:45.215Z"
   },
   {
    "duration": 32,
    "start_time": "2024-12-19T09:50:45.283Z"
   },
   {
    "duration": 98,
    "start_time": "2024-12-19T09:50:45.316Z"
   },
   {
    "duration": 40,
    "start_time": "2024-12-19T09:50:45.417Z"
   },
   {
    "duration": 65,
    "start_time": "2024-12-19T09:50:45.458Z"
   },
   {
    "duration": 32,
    "start_time": "2024-12-19T09:50:45.524Z"
   },
   {
    "duration": 317,
    "start_time": "2024-12-19T09:50:45.558Z"
   },
   {
    "duration": 303,
    "start_time": "2024-12-19T09:50:45.876Z"
   },
   {
    "duration": 398,
    "start_time": "2024-12-19T09:50:46.180Z"
   },
   {
    "duration": 5,
    "start_time": "2024-12-19T09:50:46.579Z"
   },
   {
    "duration": 145,
    "start_time": "2024-12-19T09:50:46.585Z"
   },
   {
    "duration": 109,
    "start_time": "2024-12-19T09:50:46.732Z"
   },
   {
    "duration": 247,
    "start_time": "2024-12-19T09:50:46.853Z"
   },
   {
    "duration": 361,
    "start_time": "2024-12-19T09:50:47.101Z"
   },
   {
    "duration": 412,
    "start_time": "2024-12-19T09:50:47.464Z"
   },
   {
    "duration": 20,
    "start_time": "2024-12-19T09:50:47.878Z"
   },
   {
    "duration": 176,
    "start_time": "2024-12-19T09:50:47.900Z"
   },
   {
    "duration": 4,
    "start_time": "2024-12-19T09:50:48.078Z"
   },
   {
    "duration": 190,
    "start_time": "2024-12-19T09:50:48.083Z"
   },
   {
    "duration": 4,
    "start_time": "2024-12-19T09:50:48.275Z"
   },
   {
    "duration": 135,
    "start_time": "2024-12-19T09:50:48.280Z"
   },
   {
    "duration": 8,
    "start_time": "2024-12-19T09:50:48.417Z"
   },
   {
    "duration": 60,
    "start_time": "2024-12-19T09:50:48.427Z"
   },
   {
    "duration": 8,
    "start_time": "2024-12-19T09:50:48.489Z"
   },
   {
    "duration": 26,
    "start_time": "2024-12-19T09:50:48.498Z"
   },
   {
    "duration": 11,
    "start_time": "2024-12-19T09:50:48.526Z"
   },
   {
    "duration": 16,
    "start_time": "2024-12-19T09:50:48.538Z"
   },
   {
    "duration": 6,
    "start_time": "2024-12-19T09:50:48.556Z"
   },
   {
    "duration": 30,
    "start_time": "2024-12-19T09:50:48.564Z"
   },
   {
    "duration": 24,
    "start_time": "2024-12-19T09:50:48.596Z"
   },
   {
    "duration": 13,
    "start_time": "2024-12-19T09:50:48.623Z"
   },
   {
    "duration": 1065,
    "start_time": "2024-12-19T10:19:01.154Z"
   },
   {
    "duration": 3,
    "start_time": "2024-12-19T10:19:02.221Z"
   },
   {
    "duration": 106,
    "start_time": "2024-12-19T10:19:02.225Z"
   },
   {
    "duration": 5,
    "start_time": "2024-12-19T10:19:02.333Z"
   },
   {
    "duration": 36,
    "start_time": "2024-12-19T10:19:02.340Z"
   },
   {
    "duration": 43,
    "start_time": "2024-12-19T10:19:02.377Z"
   },
   {
    "duration": 112,
    "start_time": "2024-12-19T10:19:02.422Z"
   },
   {
    "duration": 45,
    "start_time": "2024-12-19T10:19:02.536Z"
   },
   {
    "duration": 93,
    "start_time": "2024-12-19T10:19:02.582Z"
   },
   {
    "duration": 95,
    "start_time": "2024-12-19T10:19:02.676Z"
   },
   {
    "duration": 90,
    "start_time": "2024-12-19T10:19:02.773Z"
   },
   {
    "duration": 16,
    "start_time": "2024-12-19T10:19:02.864Z"
   },
   {
    "duration": 111,
    "start_time": "2024-12-19T10:19:02.881Z"
   },
   {
    "duration": 69,
    "start_time": "2024-12-19T10:19:02.994Z"
   },
   {
    "duration": 97,
    "start_time": "2024-12-19T10:19:03.065Z"
   },
   {
    "duration": 42,
    "start_time": "2024-12-19T10:19:03.163Z"
   },
   {
    "duration": 479,
    "start_time": "2024-12-19T10:19:03.207Z"
   },
   {
    "duration": 331,
    "start_time": "2024-12-19T10:19:03.687Z"
   },
   {
    "duration": 516,
    "start_time": "2024-12-19T10:19:04.019Z"
   },
   {
    "duration": 5,
    "start_time": "2024-12-19T10:19:04.536Z"
   },
   {
    "duration": 163,
    "start_time": "2024-12-19T10:19:04.543Z"
   },
   {
    "duration": 112,
    "start_time": "2024-12-19T10:19:04.708Z"
   },
   {
    "duration": 250,
    "start_time": "2024-12-19T10:19:04.821Z"
   },
   {
    "duration": 349,
    "start_time": "2024-12-19T10:19:05.073Z"
   },
   {
    "duration": 458,
    "start_time": "2024-12-19T10:19:05.424Z"
   },
   {
    "duration": 26,
    "start_time": "2024-12-19T10:19:05.884Z"
   },
   {
    "duration": 188,
    "start_time": "2024-12-19T10:19:05.912Z"
   },
   {
    "duration": 6,
    "start_time": "2024-12-19T10:19:06.102Z"
   },
   {
    "duration": 197,
    "start_time": "2024-12-19T10:19:06.110Z"
   },
   {
    "duration": 5,
    "start_time": "2024-12-19T10:19:06.309Z"
   },
   {
    "duration": 141,
    "start_time": "2024-12-19T10:19:06.316Z"
   },
   {
    "duration": 9,
    "start_time": "2024-12-19T10:19:06.458Z"
   },
   {
    "duration": 83,
    "start_time": "2024-12-19T10:19:06.469Z"
   },
   {
    "duration": 21,
    "start_time": "2024-12-19T10:19:06.554Z"
   },
   {
    "duration": 28,
    "start_time": "2024-12-19T10:19:06.577Z"
   },
   {
    "duration": 10,
    "start_time": "2024-12-19T10:19:06.607Z"
   },
   {
    "duration": 21,
    "start_time": "2024-12-19T10:19:06.619Z"
   },
   {
    "duration": 16,
    "start_time": "2024-12-19T10:19:06.642Z"
   },
   {
    "duration": 35,
    "start_time": "2024-12-19T10:19:06.660Z"
   },
   {
    "duration": 42,
    "start_time": "2024-12-19T10:19:06.696Z"
   },
   {
    "duration": 12,
    "start_time": "2024-12-19T10:19:06.741Z"
   },
   {
    "duration": 9,
    "start_time": "2024-12-19T14:04:15.677Z"
   },
   {
    "duration": 109,
    "start_time": "2024-12-19T14:04:32.900Z"
   },
   {
    "duration": 9,
    "start_time": "2024-12-19T14:04:47.012Z"
   },
   {
    "duration": 44,
    "start_time": "2024-12-19T14:06:29.363Z"
   },
   {
    "duration": 44,
    "start_time": "2024-12-19T14:09:36.642Z"
   },
   {
    "duration": 44,
    "start_time": "2024-12-19T15:15:19.709Z"
   },
   {
    "duration": 66,
    "start_time": "2024-12-19T15:17:59.157Z"
   },
   {
    "duration": 8,
    "start_time": "2024-12-19T15:18:04.996Z"
   },
   {
    "duration": 125,
    "start_time": "2024-12-19T15:18:15.499Z"
   },
   {
    "duration": 8,
    "start_time": "2024-12-19T15:18:31.715Z"
   },
   {
    "duration": 5,
    "start_time": "2024-12-19T15:18:43.403Z"
   },
   {
    "duration": 3,
    "start_time": "2024-12-19T15:18:58.715Z"
   },
   {
    "duration": 10,
    "start_time": "2024-12-19T15:19:13.531Z"
   },
   {
    "duration": 5,
    "start_time": "2024-12-19T15:19:24.002Z"
   },
   {
    "duration": 3,
    "start_time": "2024-12-19T15:19:38.067Z"
   },
   {
    "duration": 4,
    "start_time": "2024-12-19T15:19:45.250Z"
   },
   {
    "duration": 306,
    "start_time": "2024-12-19T15:41:07.618Z"
   },
   {
    "duration": 370,
    "start_time": "2024-12-19T15:41:30.433Z"
   },
   {
    "duration": 453,
    "start_time": "2024-12-19T15:42:05.618Z"
   },
   {
    "duration": 495,
    "start_time": "2024-12-19T15:42:39.808Z"
   },
   {
    "duration": 12,
    "start_time": "2024-12-19T15:53:31.441Z"
   },
   {
    "duration": 10,
    "start_time": "2024-12-19T15:53:57.465Z"
   },
   {
    "duration": 12,
    "start_time": "2024-12-19T15:54:19.232Z"
   },
   {
    "duration": 4,
    "start_time": "2024-12-19T15:54:28.617Z"
   },
   {
    "duration": 8,
    "start_time": "2024-12-19T15:54:38.856Z"
   },
   {
    "duration": 8,
    "start_time": "2024-12-19T15:55:01.384Z"
   },
   {
    "duration": 10,
    "start_time": "2024-12-19T15:55:16.058Z"
   },
   {
    "duration": 13,
    "start_time": "2024-12-19T16:03:22.020Z"
   },
   {
    "duration": 28,
    "start_time": "2024-12-19T16:05:18.545Z"
   },
   {
    "duration": 9,
    "start_time": "2024-12-19T16:05:50.353Z"
   },
   {
    "duration": 8,
    "start_time": "2024-12-19T16:05:57.552Z"
   },
   {
    "duration": 1042,
    "start_time": "2024-12-19T16:06:54.235Z"
   },
   {
    "duration": 2,
    "start_time": "2024-12-19T16:06:55.279Z"
   },
   {
    "duration": 74,
    "start_time": "2024-12-19T16:06:55.282Z"
   },
   {
    "duration": 48,
    "start_time": "2024-12-19T16:06:55.358Z"
   },
   {
    "duration": 9,
    "start_time": "2024-12-19T16:06:55.408Z"
   },
   {
    "duration": 34,
    "start_time": "2024-12-19T16:06:55.418Z"
   },
   {
    "duration": 3,
    "start_time": "2024-12-19T16:06:55.454Z"
   },
   {
    "duration": 63,
    "start_time": "2024-12-19T16:06:55.459Z"
   },
   {
    "duration": 8,
    "start_time": "2024-12-19T16:06:55.523Z"
   },
   {
    "duration": 5,
    "start_time": "2024-12-19T16:06:55.532Z"
   },
   {
    "duration": 3,
    "start_time": "2024-12-19T16:07:27.485Z"
   },
   {
    "duration": 13,
    "start_time": "2024-12-19T16:07:27.489Z"
   },
   {
    "duration": 93,
    "start_time": "2024-12-19T16:07:27.504Z"
   },
   {
    "duration": 45,
    "start_time": "2024-12-19T16:07:27.599Z"
   },
   {
    "duration": 8,
    "start_time": "2024-12-19T16:07:27.646Z"
   },
   {
    "duration": 14,
    "start_time": "2024-12-19T16:07:27.655Z"
   },
   {
    "duration": 15,
    "start_time": "2024-12-19T16:07:27.670Z"
   },
   {
    "duration": 24,
    "start_time": "2024-12-19T16:07:27.686Z"
   },
   {
    "duration": 4,
    "start_time": "2024-12-19T16:07:27.712Z"
   },
   {
    "duration": 6,
    "start_time": "2024-12-19T16:07:27.717Z"
   },
   {
    "duration": 10,
    "start_time": "2024-12-19T16:07:27.725Z"
   },
   {
    "duration": 50,
    "start_time": "2024-12-19T16:07:27.736Z"
   },
   {
    "duration": 9,
    "start_time": "2024-12-19T16:07:27.787Z"
   },
   {
    "duration": 52,
    "start_time": "2024-12-19T16:07:27.798Z"
   },
   {
    "duration": 19,
    "start_time": "2024-12-19T16:07:27.851Z"
   },
   {
    "duration": 43,
    "start_time": "2024-12-19T16:07:27.872Z"
   },
   {
    "duration": 30,
    "start_time": "2024-12-19T16:07:27.916Z"
   },
   {
    "duration": 42,
    "start_time": "2024-12-19T16:07:27.947Z"
   },
   {
    "duration": 63,
    "start_time": "2024-12-19T16:07:27.990Z"
   },
   {
    "duration": 315,
    "start_time": "2024-12-19T16:07:28.055Z"
   },
   {
    "duration": 301,
    "start_time": "2024-12-19T16:08:35.387Z"
   },
   {
    "duration": 303,
    "start_time": "2024-12-19T16:08:57.793Z"
   },
   {
    "duration": 314,
    "start_time": "2024-12-19T16:09:53.863Z"
   },
   {
    "duration": 309,
    "start_time": "2024-12-19T16:10:45.808Z"
   },
   {
    "duration": 309,
    "start_time": "2024-12-19T16:12:13.067Z"
   },
   {
    "duration": 307,
    "start_time": "2024-12-19T16:12:19.479Z"
   },
   {
    "duration": 341,
    "start_time": "2024-12-19T16:13:22.550Z"
   },
   {
    "duration": 339,
    "start_time": "2024-12-19T16:13:36.084Z"
   },
   {
    "duration": 469,
    "start_time": "2024-12-19T16:14:28.436Z"
   },
   {
    "duration": 5,
    "start_time": "2024-12-19T16:22:25.336Z"
   },
   {
    "duration": 139,
    "start_time": "2024-12-19T16:22:28.312Z"
   },
   {
    "duration": 100,
    "start_time": "2024-12-19T16:22:30.711Z"
   },
   {
    "duration": 234,
    "start_time": "2024-12-19T16:22:33.015Z"
   },
   {
    "duration": 313,
    "start_time": "2024-12-19T16:23:37.487Z"
   },
   {
    "duration": 354,
    "start_time": "2024-12-19T16:25:00.703Z"
   },
   {
    "duration": 448,
    "start_time": "2024-12-19T16:25:12.422Z"
   },
   {
    "duration": 455,
    "start_time": "2024-12-19T16:26:52.727Z"
   },
   {
    "duration": 409,
    "start_time": "2024-12-19T16:27:41.310Z"
   },
   {
    "duration": 327,
    "start_time": "2024-12-19T16:27:55.134Z"
   },
   {
    "duration": 435,
    "start_time": "2024-12-19T16:28:03.236Z"
   },
   {
    "duration": 15,
    "start_time": "2024-12-19T16:28:07.556Z"
   },
   {
    "duration": 193,
    "start_time": "2024-12-19T16:28:14.547Z"
   },
   {
    "duration": 1076,
    "start_time": "2024-12-19T16:29:04.502Z"
   },
   {
    "duration": 3,
    "start_time": "2024-12-19T16:29:05.580Z"
   },
   {
    "duration": 107,
    "start_time": "2024-12-19T16:29:05.584Z"
   },
   {
    "duration": 57,
    "start_time": "2024-12-19T16:29:05.693Z"
   },
   {
    "duration": 13,
    "start_time": "2024-12-19T16:29:05.753Z"
   },
   {
    "duration": 63,
    "start_time": "2024-12-19T16:29:05.767Z"
   },
   {
    "duration": 18,
    "start_time": "2024-12-19T16:29:05.832Z"
   },
   {
    "duration": 23,
    "start_time": "2024-12-19T16:29:05.851Z"
   },
   {
    "duration": 20,
    "start_time": "2024-12-19T16:29:05.877Z"
   },
   {
    "duration": 23,
    "start_time": "2024-12-19T16:29:05.900Z"
   },
   {
    "duration": 4,
    "start_time": "2024-12-19T16:29:05.925Z"
   },
   {
    "duration": 54,
    "start_time": "2024-12-19T16:29:05.930Z"
   },
   {
    "duration": 4,
    "start_time": "2024-12-19T16:29:05.985Z"
   },
   {
    "duration": 46,
    "start_time": "2024-12-19T16:29:05.990Z"
   },
   {
    "duration": 37,
    "start_time": "2024-12-19T16:29:06.037Z"
   },
   {
    "duration": 51,
    "start_time": "2024-12-19T16:29:06.075Z"
   },
   {
    "duration": 58,
    "start_time": "2024-12-19T16:29:06.128Z"
   },
   {
    "duration": 52,
    "start_time": "2024-12-19T16:29:06.188Z"
   },
   {
    "duration": 118,
    "start_time": "2024-12-19T16:29:06.242Z"
   },
   {
    "duration": 339,
    "start_time": "2024-12-19T16:29:06.362Z"
   },
   {
    "duration": 352,
    "start_time": "2024-12-19T16:29:06.702Z"
   },
   {
    "duration": 420,
    "start_time": "2024-12-19T16:29:07.055Z"
   },
   {
    "duration": 5,
    "start_time": "2024-12-19T16:29:07.477Z"
   },
   {
    "duration": 158,
    "start_time": "2024-12-19T16:29:07.484Z"
   },
   {
    "duration": 115,
    "start_time": "2024-12-19T16:29:07.644Z"
   },
   {
    "duration": 241,
    "start_time": "2024-12-19T16:29:07.761Z"
   },
   {
    "duration": 347,
    "start_time": "2024-12-19T16:29:08.003Z"
   },
   {
    "duration": 431,
    "start_time": "2024-12-19T16:29:08.353Z"
   },
   {
    "duration": 15,
    "start_time": "2024-12-19T16:29:08.786Z"
   },
   {
    "duration": 195,
    "start_time": "2024-12-19T16:29:08.802Z"
   },
   {
    "duration": 4,
    "start_time": "2024-12-19T16:30:02.060Z"
   },
   {
    "duration": 182,
    "start_time": "2024-12-19T16:33:33.737Z"
   },
   {
    "duration": 4,
    "start_time": "2024-12-19T16:34:06.537Z"
   },
   {
    "duration": 117,
    "start_time": "2024-12-19T16:36:16.320Z"
   },
   {
    "duration": 8,
    "start_time": "2024-12-19T16:36:20.455Z"
   },
   {
    "duration": 8,
    "start_time": "2024-12-19T16:36:23.616Z"
   },
   {
    "duration": 6,
    "start_time": "2024-12-19T16:36:26.502Z"
   },
   {
    "duration": 22,
    "start_time": "2024-12-19T16:36:29.054Z"
   },
   {
    "duration": 4,
    "start_time": "2024-12-19T16:45:31.649Z"
   },
   {
    "duration": 76,
    "start_time": "2024-12-19T16:45:41.689Z"
   },
   {
    "duration": 21,
    "start_time": "2024-12-19T16:45:56.688Z"
   },
   {
    "duration": 21,
    "start_time": "2024-12-19T16:49:34.477Z"
   },
   {
    "duration": 22,
    "start_time": "2024-12-19T16:53:03.466Z"
   },
   {
    "duration": 10,
    "start_time": "2024-12-19T17:02:01.692Z"
   },
   {
    "duration": 9,
    "start_time": "2024-12-19T17:02:18.677Z"
   },
   {
    "duration": 10,
    "start_time": "2024-12-19T17:02:32.772Z"
   },
   {
    "duration": 9,
    "start_time": "2024-12-19T17:07:39.985Z"
   },
   {
    "duration": 8,
    "start_time": "2024-12-19T17:08:10.783Z"
   },
   {
    "duration": 20,
    "start_time": "2024-12-19T17:08:14.730Z"
   },
   {
    "duration": 20,
    "start_time": "2024-12-19T17:08:59.976Z"
   },
   {
    "duration": 12,
    "start_time": "2024-12-19T17:16:06.573Z"
   },
   {
    "duration": 13,
    "start_time": "2024-12-19T17:16:14.159Z"
   },
   {
    "duration": 986,
    "start_time": "2024-12-19T17:24:07.388Z"
   },
   {
    "duration": 2,
    "start_time": "2024-12-19T17:24:08.376Z"
   },
   {
    "duration": 104,
    "start_time": "2024-12-19T17:24:08.380Z"
   },
   {
    "duration": 45,
    "start_time": "2024-12-19T17:24:08.486Z"
   },
   {
    "duration": 13,
    "start_time": "2024-12-19T17:24:08.533Z"
   },
   {
    "duration": 8,
    "start_time": "2024-12-19T17:24:08.547Z"
   },
   {
    "duration": 3,
    "start_time": "2024-12-19T17:24:08.557Z"
   },
   {
    "duration": 5,
    "start_time": "2024-12-19T17:24:08.562Z"
   },
   {
    "duration": 5,
    "start_time": "2024-12-19T17:24:08.568Z"
   },
   {
    "duration": 4,
    "start_time": "2024-12-19T17:24:08.576Z"
   },
   {
    "duration": 5,
    "start_time": "2024-12-19T17:24:08.581Z"
   },
   {
    "duration": 76,
    "start_time": "2024-12-19T17:24:08.587Z"
   },
   {
    "duration": 7,
    "start_time": "2024-12-19T17:24:08.665Z"
   },
   {
    "duration": 44,
    "start_time": "2024-12-19T17:24:08.673Z"
   },
   {
    "duration": 12,
    "start_time": "2024-12-19T17:24:08.719Z"
   },
   {
    "duration": 51,
    "start_time": "2024-12-19T17:24:08.733Z"
   },
   {
    "duration": 24,
    "start_time": "2024-12-19T17:24:08.785Z"
   },
   {
    "duration": 47,
    "start_time": "2024-12-19T17:24:08.810Z"
   },
   {
    "duration": 24,
    "start_time": "2024-12-19T17:24:08.859Z"
   },
   {
    "duration": 325,
    "start_time": "2024-12-19T17:24:08.885Z"
   },
   {
    "duration": 339,
    "start_time": "2024-12-19T17:24:09.212Z"
   },
   {
    "duration": 419,
    "start_time": "2024-12-19T17:24:09.552Z"
   },
   {
    "duration": 6,
    "start_time": "2024-12-19T17:24:09.972Z"
   },
   {
    "duration": 154,
    "start_time": "2024-12-19T17:24:09.979Z"
   },
   {
    "duration": 113,
    "start_time": "2024-12-19T17:24:10.135Z"
   },
   {
    "duration": 235,
    "start_time": "2024-12-19T17:24:10.251Z"
   },
   {
    "duration": 362,
    "start_time": "2024-12-19T17:24:10.488Z"
   },
   {
    "duration": 433,
    "start_time": "2024-12-19T17:24:10.854Z"
   },
   {
    "duration": 15,
    "start_time": "2024-12-19T17:24:11.288Z"
   },
   {
    "duration": 194,
    "start_time": "2024-12-19T17:24:11.305Z"
   },
   {
    "duration": 4,
    "start_time": "2024-12-19T17:24:11.501Z"
   },
   {
    "duration": 191,
    "start_time": "2024-12-19T17:24:11.507Z"
   },
   {
    "duration": 3,
    "start_time": "2024-12-19T17:24:11.700Z"
   },
   {
    "duration": 128,
    "start_time": "2024-12-19T17:24:11.705Z"
   },
   {
    "duration": 14,
    "start_time": "2024-12-19T17:24:11.834Z"
   },
   {
    "duration": 76,
    "start_time": "2024-12-19T17:24:11.849Z"
   },
   {
    "duration": 15,
    "start_time": "2024-12-19T17:24:11.926Z"
   },
   {
    "duration": 20,
    "start_time": "2024-12-19T17:24:11.943Z"
   },
   {
    "duration": 9,
    "start_time": "2024-12-19T17:24:11.965Z"
   },
   {
    "duration": 9,
    "start_time": "2024-12-19T17:24:11.976Z"
   },
   {
    "duration": 7,
    "start_time": "2024-12-19T17:24:11.986Z"
   },
   {
    "duration": 12,
    "start_time": "2024-12-19T17:24:11.994Z"
   },
   {
    "duration": 40,
    "start_time": "2024-12-19T17:24:12.007Z"
   },
   {
    "duration": 14,
    "start_time": "2024-12-19T17:24:12.049Z"
   },
   {
    "duration": 1383,
    "start_time": "2024-12-20T09:24:28.555Z"
   },
   {
    "duration": 15,
    "start_time": "2024-12-20T09:24:29.941Z"
   },
   {
    "duration": 266,
    "start_time": "2024-12-20T09:24:29.961Z"
   },
   {
    "duration": 74,
    "start_time": "2024-12-20T09:24:30.228Z"
   },
   {
    "duration": 39,
    "start_time": "2024-12-20T09:24:30.304Z"
   },
   {
    "duration": 22,
    "start_time": "2024-12-20T09:24:30.345Z"
   },
   {
    "duration": 48,
    "start_time": "2024-12-20T09:24:30.369Z"
   },
   {
    "duration": 53,
    "start_time": "2024-12-20T09:24:30.419Z"
   },
   {
    "duration": 28,
    "start_time": "2024-12-20T09:24:30.473Z"
   },
   {
    "duration": 20,
    "start_time": "2024-12-20T09:24:30.503Z"
   },
   {
    "duration": 36,
    "start_time": "2024-12-20T09:24:30.525Z"
   },
   {
    "duration": 89,
    "start_time": "2024-12-20T09:24:30.562Z"
   },
   {
    "duration": 29,
    "start_time": "2024-12-20T09:24:30.653Z"
   },
   {
    "duration": 69,
    "start_time": "2024-12-20T09:24:30.685Z"
   },
   {
    "duration": 31,
    "start_time": "2024-12-20T09:24:30.756Z"
   },
   {
    "duration": 88,
    "start_time": "2024-12-20T09:24:30.789Z"
   },
   {
    "duration": 45,
    "start_time": "2024-12-20T09:24:30.879Z"
   },
   {
    "duration": 83,
    "start_time": "2024-12-20T09:24:30.926Z"
   },
   {
    "duration": 20,
    "start_time": "2024-12-20T09:24:31.011Z"
   },
   {
    "duration": 916,
    "start_time": "2024-12-20T09:24:31.037Z"
   },
   {
    "duration": 916,
    "start_time": "2024-12-20T09:24:31.955Z"
   },
   {
    "duration": 596,
    "start_time": "2024-12-20T09:24:32.873Z"
   },
   {
    "duration": 5,
    "start_time": "2024-12-20T09:24:33.471Z"
   },
   {
    "duration": 194,
    "start_time": "2024-12-20T09:24:33.478Z"
   },
   {
    "duration": 133,
    "start_time": "2024-12-20T09:24:33.674Z"
   },
   {
    "duration": 302,
    "start_time": "2024-12-20T09:24:33.808Z"
   },
   {
    "duration": 443,
    "start_time": "2024-12-20T09:24:34.112Z"
   },
   {
    "duration": 493,
    "start_time": "2024-12-20T09:24:34.557Z"
   },
   {
    "duration": 21,
    "start_time": "2024-12-20T09:24:35.056Z"
   },
   {
    "duration": 236,
    "start_time": "2024-12-20T09:24:35.079Z"
   },
   {
    "duration": 4,
    "start_time": "2024-12-20T09:24:35.316Z"
   },
   {
    "duration": 235,
    "start_time": "2024-12-20T09:24:35.322Z"
   },
   {
    "duration": 5,
    "start_time": "2024-12-20T09:24:35.559Z"
   },
   {
    "duration": 156,
    "start_time": "2024-12-20T09:24:35.566Z"
   },
   {
    "duration": 45,
    "start_time": "2024-12-20T09:24:35.724Z"
   },
   {
    "duration": 21,
    "start_time": "2024-12-20T09:24:35.771Z"
   },
   {
    "duration": 25,
    "start_time": "2024-12-20T09:24:35.794Z"
   },
   {
    "duration": 61,
    "start_time": "2024-12-20T09:24:35.821Z"
   },
   {
    "duration": 10,
    "start_time": "2024-12-20T09:24:35.884Z"
   },
   {
    "duration": 10,
    "start_time": "2024-12-20T09:24:35.896Z"
   },
   {
    "duration": 13,
    "start_time": "2024-12-20T09:24:35.909Z"
   },
   {
    "duration": 28,
    "start_time": "2024-12-20T09:24:35.924Z"
   },
   {
    "duration": 38,
    "start_time": "2024-12-20T09:24:35.959Z"
   },
   {
    "duration": 53,
    "start_time": "2024-12-20T09:24:35.999Z"
   },
   {
    "duration": 1110,
    "start_time": "2025-04-23T10:00:42.343Z"
   },
   {
    "duration": 3,
    "start_time": "2025-04-23T10:00:43.455Z"
   },
   {
    "duration": 75,
    "start_time": "2025-04-23T10:00:43.459Z"
   },
   {
    "duration": 52,
    "start_time": "2025-04-23T10:00:43.535Z"
   },
   {
    "duration": 10,
    "start_time": "2025-04-23T10:00:43.589Z"
   },
   {
    "duration": 9,
    "start_time": "2025-04-23T10:00:43.601Z"
   },
   {
    "duration": 4,
    "start_time": "2025-04-23T10:00:43.612Z"
   },
   {
    "duration": 6,
    "start_time": "2025-04-23T10:00:43.617Z"
   },
   {
    "duration": 4,
    "start_time": "2025-04-23T10:00:43.624Z"
   },
   {
    "duration": 41,
    "start_time": "2025-04-23T10:00:43.630Z"
   },
   {
    "duration": 4,
    "start_time": "2025-04-23T10:00:43.673Z"
   },
   {
    "duration": 44,
    "start_time": "2025-04-23T10:00:43.679Z"
   },
   {
    "duration": 4,
    "start_time": "2025-04-23T10:00:43.725Z"
   },
   {
    "duration": 60,
    "start_time": "2025-04-23T10:00:43.731Z"
   },
   {
    "duration": 14,
    "start_time": "2025-04-23T10:00:43.793Z"
   },
   {
    "duration": 64,
    "start_time": "2025-04-23T10:00:43.808Z"
   },
   {
    "duration": 15,
    "start_time": "2025-04-23T10:00:43.874Z"
   },
   {
    "duration": 47,
    "start_time": "2025-04-23T10:00:43.891Z"
   },
   {
    "duration": 42,
    "start_time": "2025-04-23T10:00:43.941Z"
   },
   {
    "duration": 370,
    "start_time": "2025-04-23T10:00:43.984Z"
   },
   {
    "duration": 361,
    "start_time": "2025-04-23T10:00:44.356Z"
   },
   {
    "duration": 457,
    "start_time": "2025-04-23T10:00:44.719Z"
   },
   {
    "duration": 6,
    "start_time": "2025-04-23T10:00:45.178Z"
   },
   {
    "duration": 175,
    "start_time": "2025-04-23T10:00:45.185Z"
   },
   {
    "duration": 128,
    "start_time": "2025-04-23T10:00:45.362Z"
   },
   {
    "duration": 260,
    "start_time": "2025-04-23T10:00:45.492Z"
   },
   {
    "duration": 367,
    "start_time": "2025-04-23T10:00:45.754Z"
   },
   {
    "duration": 480,
    "start_time": "2025-04-23T10:00:46.124Z"
   },
   {
    "duration": 15,
    "start_time": "2025-04-23T10:00:46.605Z"
   },
   {
    "duration": 336,
    "start_time": "2025-04-23T10:00:46.621Z"
   },
   {
    "duration": 5,
    "start_time": "2025-04-23T10:00:46.959Z"
   },
   {
    "duration": 216,
    "start_time": "2025-04-23T10:00:46.965Z"
   },
   {
    "duration": 5,
    "start_time": "2025-04-23T10:00:47.183Z"
   },
   {
    "duration": 142,
    "start_time": "2025-04-23T10:00:47.190Z"
   },
   {
    "duration": 11,
    "start_time": "2025-04-23T10:00:47.334Z"
   },
   {
    "duration": 25,
    "start_time": "2025-04-23T10:00:47.346Z"
   },
   {
    "duration": 6,
    "start_time": "2025-04-23T10:00:47.373Z"
   },
   {
    "duration": 25,
    "start_time": "2025-04-23T10:00:47.380Z"
   },
   {
    "duration": 9,
    "start_time": "2025-04-23T10:00:47.407Z"
   },
   {
    "duration": 73,
    "start_time": "2025-04-23T10:00:47.418Z"
   },
   {
    "duration": 3,
    "start_time": "2025-04-23T10:00:47.493Z"
   },
   {
    "duration": 7,
    "start_time": "2025-04-23T10:00:47.497Z"
   },
   {
    "duration": 26,
    "start_time": "2025-04-23T10:00:47.505Z"
   },
   {
    "duration": 12,
    "start_time": "2025-04-23T10:00:47.532Z"
   }
  ],
  "kernelspec": {
   "display_name": "Python 3 (ipykernel)",
   "language": "python",
   "name": "python3"
  },
  "language_info": {
   "codemirror_mode": {
    "name": "ipython",
    "version": 3
   },
   "file_extension": ".py",
   "mimetype": "text/x-python",
   "name": "python",
   "nbconvert_exporter": "python",
   "pygments_lexer": "ipython3",
   "version": "3.9.5"
  },
  "toc": {
   "base_numbering": 1,
   "nav_menu": {},
   "number_sections": true,
   "sideBar": true,
   "skip_h1_title": true,
   "title_cell": "Table of Contents",
   "title_sidebar": "Contents",
   "toc_cell": false,
   "toc_position": {
    "height": "calc(100% - 180px)",
    "left": "10px",
    "top": "150px",
    "width": "407.512512px"
   },
   "toc_section_display": true,
   "toc_window_display": true
  }
 },
 "nbformat": 4,
 "nbformat_minor": 2
}
